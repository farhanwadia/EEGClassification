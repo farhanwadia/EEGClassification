{
  "nbformat": 4,
  "nbformat_minor": 0,
  "metadata": {
    "colab": {
      "name": "EEG_Classification_Model_Testing.ipynb",
      "provenance": [],
      "collapsed_sections": [],
      "authorship_tag": "ABX9TyNIqjRPvrhzSVtsXsozx+YV",
      "include_colab_link": true
    },
    "kernelspec": {
      "name": "python3",
      "display_name": "Python 3"
    }
  },
  "cells": [
    {
      "cell_type": "markdown",
      "metadata": {
        "id": "view-in-github",
        "colab_type": "text"
      },
      "source": [
        "<a href=\"https://colab.research.google.com/github/farhanwadia/EEGClassification/blob/Farhan/EEG_Classification_Model_Testing.ipynb\" target=\"_parent\"><img src=\"https://colab.research.google.com/assets/colab-badge.svg\" alt=\"Open In Colab\"/></a>"
      ]
    },
    {
      "cell_type": "markdown",
      "metadata": {
        "id": "lNGbjcY_pmoW"
      },
      "source": [
        "# EEG Classification Model Testing"
      ]
    },
    {
      "cell_type": "markdown",
      "metadata": {
        "id": "4R2YgRFEXx6I"
      },
      "source": [
        "## 1. Clone the GitHub Repository"
      ]
    },
    {
      "cell_type": "code",
      "metadata": {
        "colab": {
          "base_uri": "https://localhost:8080/"
        },
        "id": "rXv7k4iwXM4j",
        "outputId": "a2ef6133-bbea-4a2e-f26e-4eed0ab448fd"
      },
      "source": [
        "!git clone https://github.com/farhanwadia/EEGClassification\r\n",
        "!cd EEGClassification && git checkout Farhan\r\n",
        "\r\n",
        "#Change the working directory to the EEGClassification folder \r\n",
        "%cd EEGClassification\r\n",
        "!pwd"
      ],
      "execution_count": 1,
      "outputs": [
        {
          "output_type": "stream",
          "text": [
            "Cloning into 'EEGClassification'...\n",
            "remote: Enumerating objects: 80, done.\u001b[K\n",
            "remote: Counting objects: 100% (80/80), done.\u001b[K\n",
            "remote: Compressing objects: 100% (72/72), done.\u001b[K\n",
            "remote: Total 10618 (delta 28), reused 24 (delta 8), pack-reused 10538\u001b[K\n",
            "Receiving objects: 100% (10618/10618), 4.00 GiB | 23.46 MiB/s, done.\n",
            "Resolving deltas: 100% (538/538), done.\n",
            "Checking out files: 100% (10468/10468), done.\n",
            "Branch 'Farhan' set up to track remote branch 'Farhan' from 'origin'.\n",
            "Switched to a new branch 'Farhan'\n",
            "/content/EEGClassification\n",
            "/content/EEGClassification\n"
          ],
          "name": "stdout"
        }
      ]
    },
    {
      "cell_type": "markdown",
      "metadata": {
        "id": "6-nWvGasqRnV"
      },
      "source": [
        "### Imports"
      ]
    },
    {
      "cell_type": "code",
      "metadata": {
        "id": "1J1KleV0pxZ8"
      },
      "source": [
        "#!pip install mne\r\n",
        "\r\n",
        "import numpy as np\r\n",
        "import os\r\n",
        "#import mne\r\n",
        "import matplotlib.pyplot as plt\r\n",
        "import matplotlib.animation as animation\r\n",
        "from sklearn import svm\r\n",
        "from sklearn.neural_network import MLPClassifier\r\n",
        "import pickle\r\n",
        "\r\n",
        "import csv\r\n",
        "import json\r\n",
        "from datetime import datetime\r\n",
        "import torch\r\n",
        "import torch.nn as nn\r\n",
        "import torch.nn.functional as F\r\n",
        "from torch.utils.data import TensorDataset, DataLoader\r\n",
        "import matplotlib.pyplot as plt\r\n",
        "import torch.optim as optim"
      ],
      "execution_count": 2,
      "outputs": []
    },
    {
      "cell_type": "markdown",
      "metadata": {
        "id": "VNa6GwZGrGil"
      },
      "source": [
        "## 2. Split data into training, validation, and test sets"
      ]
    },
    {
      "cell_type": "code",
      "metadata": {
        "id": "mub_0BwqqLoG"
      },
      "source": [
        "def loadCSV(filename):\r\n",
        "    # Takes in a string of the csv file name where the EEG data is (# of measurements by 4 channels)\r\n",
        "    # Returns the data as an np array, transposed, with all values /10**6\r\n",
        "    data = np.loadtxt(filename, delimiter=',')\r\n",
        "    data = data.T / 10**6\r\n",
        "    return data\r\n",
        "\r\n",
        "def jsonToNp(pathToJSON):\r\n",
        "    with open(pathToJSON, \"r\") as f:\r\n",
        "        data = np.array(json.load(f))\r\n",
        "    return data \r\n",
        "\r\n",
        "def getFiles(parentPath):\r\n",
        "    # Returns all files in the folder and its subfolders as a list\r\n",
        "    listOfFiles = list()\r\n",
        "    for (dirpath, dirnames, filenames) in os.walk(parentPath):\r\n",
        "        listOfFiles += [os.path.join(dirpath, file) for file in filenames]\r\n",
        "    return listOfFiles\r\n",
        "\r\n",
        "def createDataset(openFiles, closedFiles):\r\n",
        "    n = len(openFiles) + len(closedFiles)\r\n",
        "    w = loadCSV(openFiles[0]).shape[0]\r\n",
        "    h = loadCSV(openFiles[0]).shape[1]\r\n",
        "\r\n",
        "    X = np.zeros((n, w, h))\r\n",
        "    y = np.zeros((n))\r\n",
        "    filenames = []\r\n",
        "\r\n",
        "    # Put files into np arrays. \r\n",
        "    #Assumes all data has already been cut to correct lengths, with no inconsistincies in the numper of data points between files\r\n",
        "    i = 0\r\n",
        "    for lst in [openFiles, closedFiles]:\r\n",
        "        for file in lst:\r\n",
        "            data = loadCSV(file)\r\n",
        "            X[i] = data\r\n",
        "            if lst == openFiles:\r\n",
        "                y[i] = 1            #Label 1: Open\r\n",
        "            else:\r\n",
        "                y[i] = 0            #Label 0: Closed\r\n",
        "\r\n",
        "            name = file.split(r\"\\\\\")[-1].split(\".\")[0]\r\n",
        "            filenames.append(name)\r\n",
        "            i = i+1\r\n",
        "    return X, y, filenames\r\n",
        "\r\n",
        "def createDatasetFromJSON(openFiles, closedFiles):\r\n",
        "    n = len(openFiles) + len(closedFiles)\r\n",
        "    c = jsonToNp(openFiles[0]).shape[0]\r\n",
        "    h = jsonToNp(openFiles[0]).shape[1]\r\n",
        "    w = jsonToNp(openFiles[0]).shape[2]\r\n",
        "\r\n",
        "    X = np.zeros((n, c, h, w))\r\n",
        "    y = np.zeros((n))\r\n",
        "    filenames = []\r\n",
        "    \r\n",
        "    # Put files into np arrays.\r\n",
        "    i = 0\r\n",
        "    for lst in [openFiles, closedFiles]:\r\n",
        "        for file in lst:\r\n",
        "            data = jsonToNp(file)\r\n",
        "            X[i] = data\r\n",
        "            if lst == openFiles:\r\n",
        "                y[i] = 1            #Label 1: Open\r\n",
        "            else:\r\n",
        "                y[i] = 0            #Label 0: Closed\r\n",
        "\r\n",
        "            name = file.split(r\"\\\\\")[-1].split(\".\")[0]\r\n",
        "            filenames.append(name)\r\n",
        "            i = i+1\r\n",
        "    return X, y, filenames\r\n",
        "\r\n",
        "\r\n",
        "def shuffleDataset(X, y, filenames):\r\n",
        "    indices = np.arange(X.shape[0])\r\n",
        "    seed = 21 \r\n",
        "    np.random.seed(seed)\r\n",
        "    np.random.shuffle(indices)\r\n",
        "    X = X[indices]\r\n",
        "    y = y[indices]\r\n",
        "    filenames = np.array(filenames)\r\n",
        "    filenames = filenames[indices]\r\n",
        "    return X, y, filenames\r\n",
        "\r\n",
        "def splitDataset(X, y, filenames, percent_train):\r\n",
        "    n = X.shape[0]\r\n",
        "    X_train = X[:int(percent_train*n)]\r\n",
        "    X_val = X[int(percent_train*n):]\r\n",
        "    y_train = y[:int(percent_train*n)]\r\n",
        "    y_val = y[int(percent_train*n):]\r\n",
        "    filenames_train = filenames[:int(percent_train*n)]\r\n",
        "    filenames_val = filenames[int(percent_train*n):]\r\n",
        "    return X_train, y_train, filenames_train, X_val, y_val, filenames_val"
      ],
      "execution_count": 3,
      "outputs": []
    },
    {
      "cell_type": "markdown",
      "metadata": {
        "id": "WdgHI_1wU0dh"
      },
      "source": [
        "### Time Series"
      ]
    },
    {
      "cell_type": "code",
      "metadata": {
        "id": "2N55zzWQ5AKc"
      },
      "source": [
        "#Get the dataset split exactly as was from the training notebook\r\n",
        "#Need to do it this way because of reproducibility issues with np.random.seed (see here https://towardsdatascience.com/stop-using-numpy-random-seed-581a9972805f)\r\n",
        "filenames_train = ['/content/EEGClassification//Feb 2021 Filtered Data//5s//OPEN//SD_T5 Open (valve)_(1) - Filtered.csv',\r\n",
        " '/content/EEGClassification//Feb 2021 Filtered Data//5s//CLOSE//FW2_T38 Close (valve) - Filtered.csv',\r\n",
        " '/content/EEGClassification//Nov 2020 Filtered Data//5s//CLOSE//CJ_T9 Close (valve) - Filtered.csv',\r\n",
        " '/content/EEGClassification//Feb 2021 Filtered Data//5s//CLOSE//AZ_T38 Close (valve) - Filtered.csv',\r\n",
        " '/content/EEGClassification//Feb 2021 Filtered Data//5s//CLOSE//FW_T12 Close (valve) - Filtered.csv',\r\n",
        " '/content/EEGClassification//Feb 2021 Filtered Data//5s//CLOSE//CJ2_T2 Close (valve) - Filtered.csv',\r\n",
        " '/content/EEGClassification//Nov 2020 Filtered Data//5s//OPEN//AZ_T39 Open (valve) - Filtered.csv',\r\n",
        " '/content/EEGClassification//Feb 2021 Filtered Data//5s//CLOSE//FW3_T16 Close (valve) - Filtered.csv',\r\n",
        " '/content/EEGClassification//Feb 2021 Filtered Data//5s//OPEN//CJ_T35 Open (valve)_(2) - Filtered.csv',\r\n",
        " '/content/EEGClassification//Nov 2020 Filtered Data//5s//OPEN//FW_T75 Open (valve) - Filtered.csv',\r\n",
        " '/content/EEGClassification//Feb 2021 Filtered Data//5s//CLOSE//CJ_T26 Close (valve)_(1) - Filtered.csv',\r\n",
        " '/content/EEGClassification//Feb 2021 Filtered Data//5s//OPEN//CJ2_T1 Open (valve) - Filtered.csv',\r\n",
        " '/content/EEGClassification//Feb 2021 Filtered Data//5s//CLOSE//CJ_T18 Close (valve) - Filtered.csv',\r\n",
        " '/content/EEGClassification//Feb 2021 Filtered Data//5s//CLOSE//JP2_T4 Close (valve)_(1) - Filtered.csv',\r\n",
        " '/content/EEGClassification//Feb 2021 Filtered Data//5s//OPEN//FW_T27 Open (valve) - Filtered.csv',\r\n",
        " '/content/EEGClassification//Feb 2021 Filtered Data//5s//OPEN//CJ2_T3 Open (valve) - Filtered.csv',\r\n",
        " '/content/EEGClassification//Nov 2020 Filtered Data//5s//OPEN//SD_T15 Open (valve) - Filtered.csv',\r\n",
        " '/content/EEGClassification//Feb 2021 Filtered Data//5s//OPEN//JP2_T13 Open (valve)_(1) - Filtered.csv',\r\n",
        " '/content/EEGClassification//Nov 2020 Filtered Data//5s//OPEN//SD_T14 Open (valve) - Filtered.csv',\r\n",
        " '/content/EEGClassification//Nov 2020 Filtered Data//5s//OPEN//AZ_T75 Open (valve) - Filtered.csv',\r\n",
        " '/content/EEGClassification//Feb 2021 Filtered Data//5s//CLOSE//AZ_T40 Close (valve) - Filtered.csv',\r\n",
        " '/content/EEGClassification//Feb 2021 Filtered Data//5s//CLOSE//FW3_T14 Close (valve) - Filtered.csv',\r\n",
        " '/content/EEGClassification//Feb 2021 Filtered Data//5s//OPEN//AZ_T13 Open (valve) - Filtered.csv',\r\n",
        " '/content/EEGClassification//Feb 2021 Filtered Data//5s//OPEN//CJ_T21 Open (valve) - Filtered.csv',\r\n",
        " '/content/EEGClassification//Feb 2021 Filtered Data//5s//CLOSE//SD_T20 Close (valve) - Filtered.csv',\r\n",
        " '/content/EEGClassification//Feb 2021 Filtered Data//5s//CLOSE//FW2_T2 Close (valve) - Filtered.csv',\r\n",
        " '/content/EEGClassification//Nov 2020 Filtered Data//5s//OPEN//AZ_T55 Open (valve) - Filtered.csv',\r\n",
        " '/content/EEGClassification//Feb 2021 Filtered Data//5s//OPEN//CJ_T25 Open (valve)_(2) - Filtered.csv',\r\n",
        " '/content/EEGClassification//Nov 2020 Filtered Data//5s//OPEN//AZ_T57 Open (valve) - Filtered.csv',\r\n",
        " '/content/EEGClassification//Feb 2021 Filtered Data//5s//OPEN//CJ_T11 Open (valve) - Filtered.csv',\r\n",
        " '/content/EEGClassification//Feb 2021 Filtered Data//5s//CLOSE//FW3_T38 Close (valve) - Filtered.csv',\r\n",
        " '/content/EEGClassification//Nov 2020 Filtered Data//5s//OPEN//FW_T32 Open (valve) - Filtered.csv',\r\n",
        " '/content/EEGClassification//Feb 2021 Filtered Data//5s//OPEN//FW2_T37 Open (valve) - Filtered.csv',\r\n",
        " '/content/EEGClassification//Feb 2021 Filtered Data//5s//OPEN//CJ2_T9 Open (valve) - Filtered.csv',\r\n",
        " '/content/EEGClassification//Feb 2021 Filtered Data//5s//CLOSE//FW_T4 Close (valve) - Filtered.csv',\r\n",
        " '/content/EEGClassification//Feb 2021 Filtered Data//5s//CLOSE//CJ_T30 Close (valve)_(1) - Filtered.csv',\r\n",
        " '/content/EEGClassification//Nov 2020 Filtered Data//5s//CLOSE//FW_T70 Close (valve) - Filtered.csv',\r\n",
        " '/content/EEGClassification//Feb 2021 Filtered Data//5s//CLOSE//FW3_T22 Close (valve) - Filtered.csv',\r\n",
        " '/content/EEGClassification//Nov 2020 Filtered Data//5s//CLOSE//FW_T46 Close (valve) - Filtered.csv',\r\n",
        " '/content/EEGClassification//Feb 2021 Filtered Data//5s//CLOSE//CJ_T36 Close (valve)_(1) - Filtered.csv',\r\n",
        " '/content/EEGClassification//Feb 2021 Filtered Data//5s//OPEN//CJ_T39 Open (valve)_(1) - Filtered.csv',\r\n",
        " '/content/EEGClassification//Feb 2021 Filtered Data//5s//OPEN//FW_T35 Open (valve) - Filtered.csv',\r\n",
        " '/content/EEGClassification//Nov 2020 Filtered Data//5s//CLOSE//SD_T24 Close (valve) - Filtered.csv',\r\n",
        " '/content/EEGClassification//Feb 2021 Filtered Data//5s//CLOSE//CJ_T24 Close (valve)_(1) - Filtered.csv',\r\n",
        " '/content/EEGClassification//Nov 2020 Filtered Data//5s//OPEN//FW_T34 Open (valve) - Filtered.csv',\r\n",
        " '/content/EEGClassification//Nov 2020 Filtered Data//5s//CLOSE//FW_T84 Close (valve) - Filtered.csv',\r\n",
        " '/content/EEGClassification//Feb 2021 Filtered Data//5s//OPEN//SD_T17 Open (valve) - Filtered.csv',\r\n",
        " '/content/EEGClassification//Nov 2020 Filtered Data//5s//OPEN//AZ_T65 Open (valve) - Filtered.csv',\r\n",
        " '/content/EEGClassification//Nov 2020 Filtered Data//5s//OPEN//SD_T1 Open (valve)_(1) - Filtered.csv',\r\n",
        " '/content/EEGClassification//Feb 2021 Filtered Data//5s//CLOSE//CJ_T28 Close (valve)_(1) - Filtered.csv',\r\n",
        " '/content/EEGClassification//Feb 2021 Filtered Data//5s//OPEN//JP_T5 Open (valve) - Filtered.csv',\r\n",
        " '/content/EEGClassification//Nov 2020 Filtered Data//5s//OPEN//SD_T12 Open (valve)_(1) - Filtered.csv',\r\n",
        " '/content/EEGClassification//Feb 2021 Filtered Data//5s//CLOSE//JP_T28 Close (valve) - Filtered.csv',\r\n",
        " '/content/EEGClassification//Feb 2021 Filtered Data//5s//CLOSE//FW3_T20 Close (valve) - Filtered.csv',\r\n",
        " '/content/EEGClassification//Feb 2021 Filtered Data//5s//CLOSE//CJ_T20 Close (valve) - Filtered.csv',\r\n",
        " '/content/EEGClassification//Nov 2020 Filtered Data//5s//OPEN//CJ_T45 Open (valve) - Filtered.csv',\r\n",
        " '/content/EEGClassification//Nov 2020 Filtered Data//5s//CLOSE//CJ_T70 Close (valve) - Filtered.csv',\r\n",
        " '/content/EEGClassification//Feb 2021 Filtered Data//5s//OPEN//CJ_T35 Open (valve)_(1) - Filtered.csv',\r\n",
        " '/content/EEGClassification//Nov 2020 Filtered Data//5s//CLOSE//AZ_T70 Close (valve) - Filtered.csv',\r\n",
        " '/content/EEGClassification//Feb 2021 Filtered Data//5s//CLOSE//FW_T36 Close (valve) - Filtered.csv',\r\n",
        " '/content/EEGClassification//Nov 2020 Filtered Data//5s//OPEN//FW_T19 Open (valve) - Filtered.csv',\r\n",
        " '/content/EEGClassification//Nov 2020 Filtered Data//5s//OPEN//SD_T13 Open (valve) - Filtered.csv',\r\n",
        " '/content/EEGClassification//Feb 2021 Filtered Data//5s//OPEN//SD_T17 Open (valve)_(1) - Filtered.csv',\r\n",
        " '/content/EEGClassification//Nov 2020 Filtered Data//5s//OPEN//CJ_T58 Open (valve) - Filtered.csv',\r\n",
        " '/content/EEGClassification//Feb 2021 Filtered Data//5s//CLOSE//FW_T20 Close (valve) - Filtered.csv',\r\n",
        " '/content/EEGClassification//Nov 2020 Filtered Data//5s//OPEN//FW_T56 Open (valve) - Filtered.csv',\r\n",
        " '/content/EEGClassification//Nov 2020 Filtered Data//5s//CLOSE//CJ_T32 Close (valve) - Filtered.csv',\r\n",
        " '/content/EEGClassification//Nov 2020 Filtered Data//5s//CLOSE//FW_T30 Close (valve) - Filtered.csv',\r\n",
        " '/content/EEGClassification//Feb 2021 Filtered Data//5s//OPEN//FW_T29 Open (valve) - Filtered.csv',\r\n",
        " '/content/EEGClassification//Nov 2020 Filtered Data//5s//CLOSE//AZ_T48 Close (valve) - Filtered.csv',\r\n",
        " '/content/EEGClassification//Feb 2021 Filtered Data//5s//OPEN//CJ_T9 Open (valve) - Filtered.csv',\r\n",
        " '/content/EEGClassification//Nov 2020 Filtered Data//5s//OPEN//AZ_T62 Open (valve) - Filtered.csv',\r\n",
        " '/content/EEGClassification//Feb 2021 Filtered Data//5s//OPEN//CJ_T13 Open (valve)_(1) - Filtered.csv',\r\n",
        " '/content/EEGClassification//Feb 2021 Filtered Data//5s//OPEN//CJ_T7 Open (valve)_(2) - Filtered.csv',\r\n",
        " '/content/EEGClassification//Nov 2020 Filtered Data//5s//CLOSE//FW_T51 Close (valve) - Filtered.csv',\r\n",
        " '/content/EEGClassification//Feb 2021 Filtered Data//5s//CLOSE//FW3_T12 Close (valve) - Filtered.csv',\r\n",
        " '/content/EEGClassification//Feb 2021 Filtered Data//5s//OPEN//FW_T7 Open (valve) - Filtered.csv',\r\n",
        " '/content/EEGClassification//Feb 2021 Filtered Data//5s//CLOSE//CJ_T14 Close (valve)_(1) - Filtered.csv',\r\n",
        " '/content/EEGClassification//Feb 2021 Filtered Data//5s//CLOSE//SD_T24 Close (valve) - Filtered.csv',\r\n",
        " '/content/EEGClassification//Nov 2020 Filtered Data//5s//OPEN//CJ_T29 Open (valve) - Filtered.csv',\r\n",
        " '/content/EEGClassification//Feb 2021 Filtered Data//5s//CLOSE//CJ2_T6 Close (valve) - Filtered.csv',\r\n",
        " '/content/EEGClassification//Nov 2020 Filtered Data//5s//CLOSE//SD_T60 Close (valve) - Filtered.csv',\r\n",
        " '/content/EEGClassification//Feb 2021 Filtered Data//5s//OPEN//SD_T23 Open (valve) - Filtered.csv',\r\n",
        " '/content/EEGClassification//Nov 2020 Filtered Data//5s//CLOSE//FW_T76 Close (valve) - Filtered.csv',\r\n",
        " '/content/EEGClassification//Feb 2021 Filtered Data//5s//OPEN//CJ_T23 Open (valve)_(2) - Filtered.csv',\r\n",
        " '/content/EEGClassification//Nov 2020 Filtered Data//5s//CLOSE//SD_T25 Close (valve) - Filtered.csv',\r\n",
        " '/content/EEGClassification//Feb 2021 Filtered Data//5s//CLOSE//CJ_T38 Close (valve)_(1) - Filtered.csv',\r\n",
        " '/content/EEGClassification//Nov 2020 Filtered Data//5s//CLOSE//AZ_T43 Close (valve) - Filtered.csv',\r\n",
        " '/content/EEGClassification//Feb 2021 Filtered Data//5s//CLOSE//SD_T8 Close (valve) - Filtered.csv',\r\n",
        " '/content/EEGClassification//Feb 2021 Filtered Data//5s//OPEN//JP_T31 Open (valve) - Filtered.csv',\r\n",
        " '/content/EEGClassification//Feb 2021 Filtered Data//5s//OPEN//CJ_T37 Open (valve) - Filtered.csv',\r\n",
        " '/content/EEGClassification//Feb 2021 Filtered Data//5s//CLOSE//JP_T6 Close (valve) - Filtered.csv',\r\n",
        " '/content/EEGClassification//Feb 2021 Filtered Data//5s//OPEN//JP_T1 Open (valve) - Filtered.csv',\r\n",
        " '/content/EEGClassification//Nov 2020 Filtered Data//5s//CLOSE//CJ_T38 Close (valve) - Filtered.csv',\r\n",
        " '/content/EEGClassification//Nov 2020 Filtered Data//5s//CLOSE//AZ_T17 Close (valve) - Filtered.csv',\r\n",
        " '/content/EEGClassification//Feb 2021 Filtered Data//5s//CLOSE//FW2_T10 Close (valve) - Filtered.csv',\r\n",
        " '/content/EEGClassification//Nov 2020 Filtered Data//5s//CLOSE//CJ_T22 Close (valve) - Filtered.csv',\r\n",
        " '/content/EEGClassification//Feb 2021 Filtered Data//5s//CLOSE//JP_T32 Close (valve) - Filtered.csv',\r\n",
        " '/content/EEGClassification//Feb 2021 Filtered Data//5s//OPEN//FW2_T1 Open (valve) - Filtered.csv',\r\n",
        " '/content/EEGClassification//Nov 2020 Filtered Data//5s//OPEN//AZ_T24 Open (valve) - Filtered.csv',\r\n",
        " '/content/EEGClassification//Feb 2021 Filtered Data//5s//CLOSE//CJ_T2 Close (valve) - Filtered.csv',\r\n",
        " '/content/EEGClassification//Feb 2021 Filtered Data//5s//CLOSE//FW3_T40 Close (valve) - Filtered.csv',\r\n",
        " '/content/EEGClassification//Feb 2021 Filtered Data//5s//OPEN//JP2_T11 Open (valve)_(1) - Filtered.csv',\r\n",
        " '/content/EEGClassification//Nov 2020 Filtered Data//5s//CLOSE//FW_T24 Close (valve) - Filtered.csv',\r\n",
        " '/content/EEGClassification//Feb 2021 Filtered Data//5s//CLOSE//CJ_T14 Close (valve) - Filtered.csv',\r\n",
        " '/content/EEGClassification//Nov 2020 Filtered Data//5s//CLOSE//CJ_T43 Close (valve) - Filtered.csv',\r\n",
        " '/content/EEGClassification//Nov 2020 Filtered Data//5s//CLOSE//AZ_T23 Close (valve) - Filtered.csv',\r\n",
        " '/content/EEGClassification//Nov 2020 Filtered Data//5s//OPEN//AZ_T44 Open (valve) - Filtered.csv',\r\n",
        " '/content/EEGClassification//Feb 2021 Filtered Data//5s//CLOSE//SD_T2 Close (valve)_(1) - Filtered.csv',\r\n",
        " '/content/EEGClassification//Nov 2020 Filtered Data//5s//OPEN//CJ_T18 Open (valve) - Filtered.csv',\r\n",
        " '/content/EEGClassification//Feb 2021 Filtered Data//5s//OPEN//CJ_T39 Open (valve)_(2) - Filtered.csv',\r\n",
        " '/content/EEGClassification//Feb 2021 Filtered Data//5s//OPEN//JP_T35 Open (valve) - Filtered.csv',\r\n",
        " '/content/EEGClassification//Feb 2021 Filtered Data//5s//CLOSE//FW3_T34 Close (valve) - Filtered.csv',\r\n",
        " '/content/EEGClassification//Nov 2020 Filtered Data//5s//OPEN//SD_T26 Open (valve)_(1) - Filtered.csv',\r\n",
        " '/content/EEGClassification//Feb 2021 Filtered Data//5s//OPEN//CJ_T3 Open (valve)_(2) - Filtered.csv',\r\n",
        " '/content/EEGClassification//Feb 2021 Filtered Data//5s//CLOSE//SD_T6 Close (valve) - Filtered.csv',\r\n",
        " '/content/EEGClassification//Nov 2020 Filtered Data//5s//CLOSE//SD_T5 Close (valve)_(1) - Filtered.csv',\r\n",
        " '/content/EEGClassification//Nov 2020 Filtered Data//5s//OPEN//SD_T12 Open (valve)_(2) - Filtered.csv',\r\n",
        " '/content/EEGClassification//Nov 2020 Filtered Data//5s//OPEN//FW_T71 Open (valve) - Filtered.csv',\r\n",
        " '/content/EEGClassification//Feb 2021 Filtered Data//5s//CLOSE//FW3_T6 Close (valve) - Filtered.csv',\r\n",
        " '/content/EEGClassification//Feb 2021 Filtered Data//5s//CLOSE//FW2_T16 Close (valve) - Filtered.csv',\r\n",
        " '/content/EEGClassification//Nov 2020 Filtered Data//5s//CLOSE//SD_T3 Close (valve) - Filtered.csv',\r\n",
        " '/content/EEGClassification//Nov 2020 Filtered Data//5s//OPEN//CJ_T52 Open (valve) - Filtered.csv',\r\n",
        " '/content/EEGClassification//Feb 2021 Filtered Data//5s//OPEN//FW2_T31 Open (valve) - Filtered.csv',\r\n",
        " '/content/EEGClassification//Feb 2021 Filtered Data//5s//OPEN//FW3_T17 Open (valve) - Filtered.csv',\r\n",
        " '/content/EEGClassification//Feb 2021 Filtered Data//5s//CLOSE//AZ_T6 Close (valve) - Filtered.csv',\r\n",
        " '/content/EEGClassification//Nov 2020 Filtered Data//5s//CLOSE//SD_T14 Close (valve) - Filtered.csv',\r\n",
        " '/content/EEGClassification//Feb 2021 Filtered Data//5s//OPEN//JP_T9 Open (valve) - Filtered.csv',\r\n",
        " '/content/EEGClassification//Nov 2020 Filtered Data//5s//CLOSE//FW_T25 Close (valve) - Filtered.csv',\r\n",
        " '/content/EEGClassification//Feb 2021 Filtered Data//5s//CLOSE//JP2_T8 Close (valve)_(1) - Filtered.csv',\r\n",
        " '/content/EEGClassification//Nov 2020 Filtered Data//5s//OPEN//AZ_T8 Open (valve) - Filtered.csv',\r\n",
        " '/content/EEGClassification//Feb 2021 Filtered Data//5s//OPEN//FW3_T25 Open (valve) - Filtered.csv',\r\n",
        " '/content/EEGClassification//Feb 2021 Filtered Data//5s//OPEN//AZ_T25 Open (valve) - Filtered.csv',\r\n",
        " '/content/EEGClassification//Feb 2021 Filtered Data//5s//OPEN//FW3_T19 Open (valve) - Filtered.csv',\r\n",
        " '/content/EEGClassification//Feb 2021 Filtered Data//5s//OPEN//FW2_T13 Open (valve) - Filtered.csv',\r\n",
        " '/content/EEGClassification//Feb 2021 Filtered Data//5s//OPEN//SD_T11 Open (valve) - Filtered.csv',\r\n",
        " '/content/EEGClassification//Feb 2021 Filtered Data//5s//OPEN//JP_T21 Open (valve) - Filtered.csv',\r\n",
        " '/content/EEGClassification//Feb 2021 Filtered Data//5s//OPEN//CJ_T17 Open (valve)_(1) - Filtered.csv',\r\n",
        " '/content/EEGClassification//Feb 2021 Filtered Data//5s//CLOSE//FW3_T26 Close (valve) - Filtered.csv',\r\n",
        " '/content/EEGClassification//Nov 2020 Filtered Data//5s//CLOSE//SD_T30 Close (valve) - Filtered.csv',\r\n",
        " '/content/EEGClassification//Feb 2021 Filtered Data//5s//OPEN//FW_T13 Open (valve) - Filtered.csv',\r\n",
        " '/content/EEGClassification//Feb 2021 Filtered Data//5s//CLOSE//FW_T28 Close (valve) - Filtered.csv',\r\n",
        " '/content/EEGClassification//Nov 2020 Filtered Data//5s//CLOSE//SD_T8 Close (valve) - Filtered.csv',\r\n",
        " '/content/EEGClassification//Nov 2020 Filtered Data//5s//OPEN//AZ_T71 Open (valve) - Filtered.csv',\r\n",
        " '/content/EEGClassification//Feb 2021 Filtered Data//5s//CLOSE//SD_T6 Close (valve)_(1) - Filtered.csv',\r\n",
        " '/content/EEGClassification//Feb 2021 Filtered Data//5s//OPEN//JP_T39 Open (valve) - Filtered.csv',\r\n",
        " '/content/EEGClassification//Feb 2021 Filtered Data//5s//CLOSE//CJ_T26 Close (valve)_(2) - Filtered.csv',\r\n",
        " '/content/EEGClassification//Nov 2020 Filtered Data//5s//CLOSE//FW_T9 Close (valve) - Filtered.csv',\r\n",
        " '/content/EEGClassification//Feb 2021 Filtered Data//5s//OPEN//CJ_T15 Open (valve)_(1) - Filtered.csv',\r\n",
        " '/content/EEGClassification//Nov 2020 Filtered Data//5s//CLOSE//AZ_T66 Close (valve) - Filtered.csv',\r\n",
        " '/content/EEGClassification//Nov 2020 Filtered Data//5s//OPEN//FW_T44 Open (valve) - Filtered.csv',\r\n",
        " '/content/EEGClassification//Feb 2021 Filtered Data//5s//OPEN//FW2_T11 Open (valve) - Filtered.csv',\r\n",
        " '/content/EEGClassification//Feb 2021 Filtered Data//5s//CLOSE//FW3_T28 Close (valve) - Filtered.csv',\r\n",
        " '/content/EEGClassification//Nov 2020 Filtered Data//5s//CLOSE//CJ_T50 Close (valve) - Filtered.csv',\r\n",
        " '/content/EEGClassification//Nov 2020 Filtered Data//5s//OPEN//SD_T26 Open (valve)_(2) - Filtered.csv',\r\n",
        " '/content/EEGClassification//Feb 2021 Filtered Data//5s//OPEN//CJ_T23 Open (valve)_(1) - Filtered.csv',\r\n",
        " '/content/EEGClassification//Feb 2021 Filtered Data//5s//OPEN//SD_T3 Open (valve) - Filtered.csv',\r\n",
        " '/content/EEGClassification//Feb 2021 Filtered Data//5s//CLOSE//AZ_T8 Close (valve) - Filtered.csv',\r\n",
        " '/content/EEGClassification//Feb 2021 Filtered Data//5s//CLOSE//AZ_T14 Close (valve) - Filtered.csv',\r\n",
        " '/content/EEGClassification//Feb 2021 Filtered Data//5s//CLOSE//CJ_T12 Close (valve)_(1) - Filtered.csv',\r\n",
        " '/content/EEGClassification//Feb 2021 Filtered Data//5s//OPEN//CJ2_T11 Open (valve) - Filtered.csv',\r\n",
        " '/content/EEGClassification//Feb 2021 Filtered Data//5s//CLOSE//CJ_T24 Close (valve)_(2) - Filtered.csv',\r\n",
        " '/content/EEGClassification//Feb 2021 Filtered Data//5s//OPEN//AZ_T33 Open (valve) - Filtered.csv',\r\n",
        " '/content/EEGClassification//Feb 2021 Filtered Data//5s//OPEN//FW2_T5 Open (valve) - Filtered.csv',\r\n",
        " '/content/EEGClassification//Feb 2021 Filtered Data//5s//OPEN//AZ_T9 Open (valve) - Filtered.csv',\r\n",
        " '/content/EEGClassification//Feb 2021 Filtered Data//5s//CLOSE//CJ_T38 Close (valve) - Filtered.csv',\r\n",
        " '/content/EEGClassification//Nov 2020 Filtered Data//5s//OPEN//FW_T81 Open (valve) - Filtered.csv',\r\n",
        " '/content/EEGClassification//Feb 2021 Filtered Data//5s//OPEN//JP_T13 Open (valve) - Filtered.csv',\r\n",
        " '/content/EEGClassification//Nov 2020 Filtered Data//5s//OPEN//AZ_T20 Open (valve) - Filtered.csv',\r\n",
        " '/content/EEGClassification//Nov 2020 Filtered Data//5s//CLOSE//CJ_T65 Close (valve) - Filtered.csv',\r\n",
        " '/content/EEGClassification//Feb 2021 Filtered Data//5s//CLOSE//FW3_T10 Close (valve) - Filtered.csv',\r\n",
        " '/content/EEGClassification//Nov 2020 Filtered Data//5s//OPEN//FW_T37 Open (valve) - Filtered.csv',\r\n",
        " '/content/EEGClassification//Feb 2021 Filtered Data//5s//OPEN//CJ_T25 Open (valve) - Filtered.csv',\r\n",
        " '/content/EEGClassification//Nov 2020 Filtered Data//5s//CLOSE//SD_T17 Close (valve) - Filtered.csv',\r\n",
        " '/content/EEGClassification//Feb 2021 Filtered Data//5s//CLOSE//CJ2_T8 Close (valve) - Filtered.csv',\r\n",
        " '/content/EEGClassification//Feb 2021 Filtered Data//5s//OPEN//FW_T31 Open (valve) - Filtered.csv',\r\n",
        " '/content/EEGClassification//Feb 2021 Filtered Data//5s//OPEN//JP_T7 Open (valve) - Filtered.csv',\r\n",
        " '/content/EEGClassification//Feb 2021 Filtered Data//5s//OPEN//CJ_T3 Open (valve)_(1) - Filtered.csv',\r\n",
        " '/content/EEGClassification//Feb 2021 Filtered Data//5s//CLOSE//JP_T18 Close (valve) - Filtered.csv',\r\n",
        " '/content/EEGClassification//Feb 2021 Filtered Data//5s//OPEN//FW_T19 Open (valve) - Filtered.csv',\r\n",
        " '/content/EEGClassification//Feb 2021 Filtered Data//5s//OPEN//FW_T15 Open (valve) - Filtered.csv',\r\n",
        " '/content/EEGClassification//Feb 2021 Filtered Data//5s//OPEN//SD_T13 Open (valve)_(1) - Filtered.csv',\r\n",
        " '/content/EEGClassification//Feb 2021 Filtered Data//5s//OPEN//AZ_T5 Open (valve) - Filtered.csv',\r\n",
        " '/content/EEGClassification//Feb 2021 Filtered Data//5s//CLOSE//CJ_T14 Close (valve)_(2) - Filtered.csv',\r\n",
        " '/content/EEGClassification//Nov 2020 Filtered Data//5s//CLOSE//SD_T19 Close (valve) - Filtered.csv',\r\n",
        " '/content/EEGClassification//Feb 2021 Filtered Data//5s//OPEN//CJ_T7 Open (valve)_(1) - Filtered.csv',\r\n",
        " '/content/EEGClassification//Feb 2021 Filtered Data//5s//CLOSE//FW_T18 Close (valve) - Filtered.csv',\r\n",
        " '/content/EEGClassification//Feb 2021 Filtered Data//5s//CLOSE//SD_T10 Close (valve) - Filtered.csv',\r\n",
        " '/content/EEGClassification//Feb 2021 Filtered Data//5s//CLOSE//FW2_T8 Close (valve) - Filtered.csv',\r\n",
        " '/content/EEGClassification//Feb 2021 Filtered Data//5s//CLOSE//CJ2_T4 Close (valve) - Filtered.csv',\r\n",
        " '/content/EEGClassification//Feb 2021 Filtered Data//5s//OPEN//CJ2_T7 Open (valve) - Filtered.csv',\r\n",
        " '/content/EEGClassification//Nov 2020 Filtered Data//5s//CLOSE//FW_T1 Close (valve) - Filtered.csv',\r\n",
        " '/content/EEGClassification//Nov 2020 Filtered Data//5s//OPEN//SD_T7 Open (valve)_(2) - Filtered.csv',\r\n",
        " '/content/EEGClassification//Feb 2021 Filtered Data//5s//CLOSE//FW2_T22 Close (valve) - Filtered.csv',\r\n",
        " '/content/EEGClassification//Feb 2021 Filtered Data//5s//CLOSE//FW2_T12 Close (valve) - Filtered.csv',\r\n",
        " '/content/EEGClassification//Nov 2020 Filtered Data//5s//CLOSE//AZ_T61 Close (valve) - Filtered.csv',\r\n",
        " '/content/EEGClassification//Feb 2021 Filtered Data//5s//CLOSE//CJ_T28 Close (valve) - Filtered.csv',\r\n",
        " '/content/EEGClassification//Feb 2021 Filtered Data//5s//CLOSE//FW3_T18 Close (valve) - Filtered.csv',\r\n",
        " '/content/EEGClassification//Feb 2021 Filtered Data//5s//CLOSE//CJ_T40 Close (valve)_(2) - Filtered.csv',\r\n",
        " '/content/EEGClassification//Feb 2021 Filtered Data//5s//OPEN//CJ_T39 Open (valve) - Filtered.csv',\r\n",
        " '/content/EEGClassification//Nov 2020 Filtered Data//5s//OPEN//FW_T22 Open (valve) - Filtered.csv',\r\n",
        " '/content/EEGClassification//Feb 2021 Filtered Data//5s//OPEN//SD_T9 Open (valve)_(1) - Filtered.csv',\r\n",
        " '/content/EEGClassification//Feb 2021 Filtered Data//5s//CLOSE//JP_T4 Close (valve) - Filtered.csv',\r\n",
        " '/content/EEGClassification//Feb 2021 Filtered Data//5s//CLOSE//AZ_T24 Close (valve) - Filtered.csv',\r\n",
        " '/content/EEGClassification//Nov 2020 Filtered Data//5s//OPEN//AZ_T10 Open (valve) - Filtered.csv',\r\n",
        " '/content/EEGClassification//Feb 2021 Filtered Data//5s//OPEN//CJ_T29 Open (valve)_(2) - Filtered.csv',\r\n",
        " '/content/EEGClassification//Nov 2020 Filtered Data//5s//OPEN//CJ_T41 Open (valve) - Filtered.csv',\r\n",
        " '/content/EEGClassification//Feb 2021 Filtered Data//5s//OPEN//SD_T7 Open (valve) - Filtered.csv',\r\n",
        " '/content/EEGClassification//Nov 2020 Filtered Data//5s//OPEN//CJ_T21 Open (valve) - Filtered.csv',\r\n",
        " '/content/EEGClassification//Nov 2020 Filtered Data//5s//CLOSE//CJ_T2 Close (valve) - Filtered.csv',\r\n",
        " '/content/EEGClassification//Nov 2020 Filtered Data//5s//CLOSE//CJ_T64 Close (valve) - Filtered.csv',\r\n",
        " '/content/EEGClassification//Feb 2021 Filtered Data//5s//OPEN//AZ_T15 Open (valve) - Filtered.csv',\r\n",
        " '/content/EEGClassification//Feb 2021 Filtered Data//5s//OPEN//FW2_T29 Open (valve) - Filtered.csv',\r\n",
        " '/content/EEGClassification//Nov 2020 Filtered Data//5s//OPEN//AZ_T51 Open (valve) - Filtered.csv',\r\n",
        " '/content/EEGClassification//Feb 2021 Filtered Data//5s//CLOSE//CJ_T8 Close (valve) - Filtered.csv',\r\n",
        " '/content/EEGClassification//Feb 2021 Filtered Data//5s//CLOSE//FW2_T24 Close (valve) - Filtered.csv',\r\n",
        " '/content/EEGClassification//Nov 2020 Filtered Data//5s//OPEN//CJ_T55 Open (valve) - Filtered.csv',\r\n",
        " '/content/EEGClassification//Feb 2021 Filtered Data//5s//CLOSE//FW2_T26 Close (valve) - Filtered.csv',\r\n",
        " '/content/EEGClassification//Feb 2021 Filtered Data//5s//CLOSE//CJ_T22 Close (valve)_(2) - Filtered.csv',\r\n",
        " '/content/EEGClassification//Feb 2021 Filtered Data//5s//OPEN//FW3_T31 Open (valve) - Filtered.csv',\r\n",
        " '/content/EEGClassification//Feb 2021 Filtered Data//5s//OPEN//CJ_T23 Open (valve) - Filtered.csv',\r\n",
        " '/content/EEGClassification//Feb 2021 Filtered Data//5s//OPEN//AZ_T23 Open (valve) - Filtered.csv',\r\n",
        " '/content/EEGClassification//Feb 2021 Filtered Data//5s//OPEN//FW_T1 Open (valve) - Filtered.csv',\r\n",
        " '/content/EEGClassification//Nov 2020 Filtered Data//5s//CLOSE//CJ_T17 Close (valve) - Filtered.csv',\r\n",
        " '/content/EEGClassification//Feb 2021 Filtered Data//5s//OPEN//CJ_T1 Open (valve)_(1) - Filtered.csv',\r\n",
        " '/content/EEGClassification//Feb 2021 Filtered Data//5s//CLOSE//SD_T2 Close (valve) - Filtered.csv',\r\n",
        " '/content/EEGClassification//Nov 2020 Filtered Data//5s//CLOSE//FW_T58 Close (valve) - Filtered.csv',\r\n",
        " '/content/EEGClassification//Nov 2020 Filtered Data//5s//OPEN//SD_T12 Open (valve) - Filtered.csv',\r\n",
        " '/content/EEGClassification//Nov 2020 Filtered Data//5s//CLOSE//FW_T54 Close (valve) - Filtered.csv',\r\n",
        " '/content/EEGClassification//Nov 2020 Filtered Data//5s//CLOSE//AZ_T9 Close (valve) - Filtered.csv',\r\n",
        " '/content/EEGClassification//Feb 2021 Filtered Data//5s//OPEN//CJ_T29 Open (valve) - Filtered.csv',\r\n",
        " '/content/EEGClassification//Feb 2021 Filtered Data//5s//OPEN//FW_T3 Open (valve) - Filtered.csv',\r\n",
        " '/content/EEGClassification//Feb 2021 Filtered Data//5s//CLOSE//SD_T18 Close (valve) - Filtered.csv',\r\n",
        " '/content/EEGClassification//Nov 2020 Filtered Data//5s//CLOSE//SD_T53 Close (valve) - Filtered.csv',\r\n",
        " '/content/EEGClassification//Feb 2021 Filtered Data//5s//OPEN//FW3_T29 Open (valve) - Filtered.csv',\r\n",
        " '/content/EEGClassification//Feb 2021 Filtered Data//5s//CLOSE//FW_T14 Close (valve) - Filtered.csv',\r\n",
        " '/content/EEGClassification//Feb 2021 Filtered Data//5s//OPEN//CJ_T27 Open (valve)_(1) - Filtered.csv',\r\n",
        " '/content/EEGClassification//Feb 2021 Filtered Data//5s//CLOSE//FW_T32 Close (valve) - Filtered.csv',\r\n",
        " '/content/EEGClassification//Feb 2021 Filtered Data//5s//CLOSE//SD_T26 Close (valve) - Filtered.csv',\r\n",
        " '/content/EEGClassification//Feb 2021 Filtered Data//5s//CLOSE//FW_T30 Close (valve) - Filtered.csv',\r\n",
        " '/content/EEGClassification//Feb 2021 Filtered Data//5s//CLOSE//AZ_T28 Close (valve) - Filtered.csv',\r\n",
        " '/content/EEGClassification//Feb 2021 Filtered Data//5s//CLOSE//JP_T24 Close (valve) - Filtered.csv',\r\n",
        " '/content/EEGClassification//Feb 2021 Filtered Data//5s//OPEN//CJ_T31 Open (valve)_(1) - Filtered.csv',\r\n",
        " '/content/EEGClassification//Feb 2021 Filtered Data//5s//CLOSE//JP_T26 Close (valve) - Filtered.csv',\r\n",
        " '/content/EEGClassification//Feb 2021 Filtered Data//5s//CLOSE//CJ_T22 Close (valve) - Filtered.csv',\r\n",
        " '/content/EEGClassification//Feb 2021 Filtered Data//5s//OPEN//JP2_T19 Open (valve)_(1) - Filtered.csv',\r\n",
        " '/content/EEGClassification//Feb 2021 Filtered Data//5s//CLOSE//JP_T20 Close (valve) - Filtered.csv',\r\n",
        " '/content/EEGClassification//Feb 2021 Filtered Data//5s//OPEN//JP2_T3 Open (valve)_(1) - Filtered.csv',\r\n",
        " '/content/EEGClassification//Nov 2020 Filtered Data//5s//CLOSE//FW_T8 Close (valve) - Filtered.csv',\r\n",
        " '/content/EEGClassification//Nov 2020 Filtered Data//5s//CLOSE//AZ_T53 Close (valve) - Filtered.csv',\r\n",
        " '/content/EEGClassification//Nov 2020 Filtered Data//5s//CLOSE//CJ_T26 Close (valve) - Filtered.csv',\r\n",
        " '/content/EEGClassification//Feb 2021 Filtered Data//5s//CLOSE//CJ_T18 Close (valve)_(2) - Filtered.csv',\r\n",
        " '/content/EEGClassification//Feb 2021 Filtered Data//5s//OPEN//CJ_T19 Open (valve) - Filtered.csv',\r\n",
        " '/content/EEGClassification//Feb 2021 Filtered Data//5s//CLOSE//FW_T22 Close (valve) - Filtered.csv',\r\n",
        " '/content/EEGClassification//Feb 2021 Filtered Data//5s//CLOSE//CJ2_T12 Close (valve) - Filtered.csv',\r\n",
        " '/content/EEGClassification//Feb 2021 Filtered Data//5s//CLOSE//JP_T34 Close (valve) - Filtered.csv',\r\n",
        " '/content/EEGClassification//Feb 2021 Filtered Data//5s//CLOSE//CJ_T16 Close (valve) - Filtered.csv',\r\n",
        " '/content/EEGClassification//Feb 2021 Filtered Data//5s//CLOSE//CJ_T32 Close (valve) - Filtered.csv',\r\n",
        " '/content/EEGClassification//Feb 2021 Filtered Data//5s//OPEN//CJ_T15 Open (valve) - Filtered.csv',\r\n",
        " '/content/EEGClassification//Feb 2021 Filtered Data//5s//OPEN//AZ_T39 Open (valve) - Filtered.csv',\r\n",
        " '/content/EEGClassification//Feb 2021 Filtered Data//5s//OPEN//SD_T13 Open (valve) - Filtered.csv',\r\n",
        " '/content/EEGClassification//Feb 2021 Filtered Data//5s//OPEN//CJ_T35 Open (valve) - Filtered.csv',\r\n",
        " '/content/EEGClassification//Nov 2020 Filtered Data//5s//OPEN//SD_T2 Open (valve) - Filtered.csv',\r\n",
        " '/content/EEGClassification//Nov 2020 Filtered Data//5s//OPEN//CJ_T1 Open (valve) - Filtered.csv',\r\n",
        " '/content/EEGClassification//Nov 2020 Filtered Data//5s//OPEN//SD_T26 Open (valve) - Filtered.csv',\r\n",
        " '/content/EEGClassification//Nov 2020 Filtered Data//5s//OPEN//SD_T17 Open (valve)_(1) - Filtered.csv',\r\n",
        " '/content/EEGClassification//Feb 2021 Filtered Data//5s//OPEN//FW3_T1 Open (valve) - Filtered.csv',\r\n",
        " '/content/EEGClassification//Feb 2021 Filtered Data//5s//OPEN//FW2_T33 Open (valve) - Filtered.csv',\r\n",
        " '/content/EEGClassification//Nov 2020 Filtered Data//5s//OPEN//FW_T87 Open (valve) - Filtered.csv',\r\n",
        " '/content/EEGClassification//Nov 2020 Filtered Data//5s//OPEN//SD_T21 Open (valve)_(1) - Filtered.csv',\r\n",
        " '/content/EEGClassification//Nov 2020 Filtered Data//5s//OPEN//CJ_T77 Open (valve) - Filtered.csv',\r\n",
        " '/content/EEGClassification//Feb 2021 Filtered Data//5s//OPEN//SD_T1 Open (valve) - Filtered.csv',\r\n",
        " '/content/EEGClassification//Nov 2020 Filtered Data//5s//CLOSE//SD_T28 Close (valve) - Filtered.csv',\r\n",
        " '/content/EEGClassification//Feb 2021 Filtered Data//5s//CLOSE//FW3_T36 Close (valve) - Filtered.csv',\r\n",
        " '/content/EEGClassification//Nov 2020 Filtered Data//5s//OPEN//AZ_T31 Open (valve) - Filtered.csv',\r\n",
        " '/content/EEGClassification//Feb 2021 Filtered Data//5s//OPEN//CJ_T1 Open (valve) - Filtered.csv',\r\n",
        " '/content/EEGClassification//Feb 2021 Filtered Data//5s//OPEN//FW3_T11 Open (valve) - Filtered.csv',\r\n",
        " '/content/EEGClassification//Nov 2020 Filtered Data//5s//OPEN//CJ_T10 Open (valve) - Filtered.csv',\r\n",
        " '/content/EEGClassification//Feb 2021 Filtered Data//5s//CLOSE//CJ_T8 Close (valve)_(2) - Filtered.csv',\r\n",
        " '/content/EEGClassification//Feb 2021 Filtered Data//5s//OPEN//CJ_T25 Open (valve)_(1) - Filtered.csv',\r\n",
        " '/content/EEGClassification//Feb 2021 Filtered Data//5s//OPEN//CJ_T3 Open (valve) - Filtered.csv',\r\n",
        " '/content/EEGClassification//Feb 2021 Filtered Data//5s//OPEN//AZ_T7 Open (valve) - Filtered.csv',\r\n",
        " '/content/EEGClassification//Nov 2020 Filtered Data//5s//OPEN//CJ_T39 Open (valve) - Filtered.csv',\r\n",
        " '/content/EEGClassification//Nov 2020 Filtered Data//5s//OPEN//CJ_T13 Open (valve) - Filtered.csv',\r\n",
        " '/content/EEGClassification//Feb 2021 Filtered Data//5s//CLOSE//FW2_T28 Close (valve) - Filtered.csv',\r\n",
        " '/content/EEGClassification//Feb 2021 Filtered Data//5s//OPEN//FW3_T35 Open (valve) - Filtered.csv',\r\n",
        " '/content/EEGClassification//Nov 2020 Filtered Data//5s//CLOSE//SD_T2 Close (valve) - Filtered.csv',\r\n",
        " '/content/EEGClassification//Nov 2020 Filtered Data//5s//OPEN//SD_T21 Open (valve) - Filtered.csv',\r\n",
        " '/content/EEGClassification//Feb 2021 Filtered Data//5s//CLOSE//CJ_T10 Close (valve) - Filtered.csv',\r\n",
        " '/content/EEGClassification//Nov 2020 Filtered Data//5s//OPEN//SD_T43 Open (valve) - Filtered.csv',\r\n",
        " '/content/EEGClassification//Feb 2021 Filtered Data//5s//OPEN//AZ_T27 Open (valve) - Filtered.csv',\r\n",
        " '/content/EEGClassification//Nov 2020 Filtered Data//5s//CLOSE//SD_T13 Close (valve) - Filtered.csv',\r\n",
        " '/content/EEGClassification//Feb 2021 Filtered Data//5s//OPEN//FW2_T25 Open (valve) - Filtered.csv',\r\n",
        " '/content/EEGClassification//Feb 2021 Filtered Data//5s//CLOSE//CJ_T32 Close (valve)_(1) - Filtered.csv',\r\n",
        " '/content/EEGClassification//Feb 2021 Filtered Data//5s//CLOSE//CJ_T40 Close (valve) - Filtered.csv',\r\n",
        " '/content/EEGClassification//Feb 2021 Filtered Data//5s//CLOSE//FW2_T14 Close (valve) - Filtered.csv',\r\n",
        " '/content/EEGClassification//Feb 2021 Filtered Data//5s//OPEN//CJ_T27 Open (valve) - Filtered.csv',\r\n",
        " '/content/EEGClassification//Feb 2021 Filtered Data//5s//CLOSE//FW2_T6 Close (valve) - Filtered.csv',\r\n",
        " '/content/EEGClassification//Feb 2021 Filtered Data//5s//CLOSE//CJ_T30 Close (valve)_(2) - Filtered.csv',\r\n",
        " '/content/EEGClassification//Feb 2021 Filtered Data//5s//OPEN//FW3_T13 Open (valve) - Filtered.csv',\r\n",
        " '/content/EEGClassification//Feb 2021 Filtered Data//5s//OPEN//CJ_T15 Open (valve)_(2) - Filtered.csv',\r\n",
        " '/content/EEGClassification//Feb 2021 Filtered Data//5s//CLOSE//FW_T16 Close (valve) - Filtered.csv',\r\n",
        " '/content/EEGClassification//Nov 2020 Filtered Data//5s//CLOSE//SD_T33 Close (valve) - Filtered.csv',\r\n",
        " '/content/EEGClassification//Feb 2021 Filtered Data//5s//CLOSE//CJ_T2 Close (valve)_(1) - Filtered.csv',\r\n",
        " '/content/EEGClassification//Feb 2021 Filtered Data//5s//OPEN//SD_T5 Open (valve) - Filtered.csv',\r\n",
        " '/content/EEGClassification//Nov 2020 Filtered Data//5s//CLOSE//AZ_T40 Close (valve) - Filtered.csv',\r\n",
        " '/content/EEGClassification//Feb 2021 Filtered Data//5s//CLOSE//SD_T14 Close (valve)_(1) - Filtered.csv',\r\n",
        " '/content/EEGClassification//Feb 2021 Filtered Data//5s//CLOSE//JP_T22 Close (valve) - Filtered.csv',\r\n",
        " '/content/EEGClassification//Feb 2021 Filtered Data//5s//CLOSE//JP2_T6 Close (valve)_(1) - Filtered.csv',\r\n",
        " '/content/EEGClassification//Feb 2021 Filtered Data//5s//OPEN//FW3_T23 Open (valve) - Filtered.csv',\r\n",
        " '/content/EEGClassification//Feb 2021 Filtered Data//5s//OPEN//FW_T39 Open (valve) - Filtered.csv',\r\n",
        " '/content/EEGClassification//Feb 2021 Filtered Data//5s//CLOSE//SD_T12 Close (valve) - Filtered.csv',\r\n",
        " '/content/EEGClassification//Nov 2020 Filtered Data//5s//CLOSE//SD_T22 Close (valve) - Filtered.csv',\r\n",
        " '/content/EEGClassification//Feb 2021 Filtered Data//5s//OPEN//FW2_T35 Open (valve) - Filtered.csv',\r\n",
        " '/content/EEGClassification//Feb 2021 Filtered Data//5s//OPEN//JP_T27 Open (valve) - Filtered.csv',\r\n",
        " '/content/EEGClassification//Feb 2021 Filtered Data//5s//CLOSE//AZ_T34 Close (valve) - Filtered.csv',\r\n",
        " '/content/EEGClassification//Feb 2021 Filtered Data//5s//CLOSE//JP_T14 Close (valve) - Filtered.csv',\r\n",
        " '/content/EEGClassification//Feb 2021 Filtered Data//5s//OPEN//SD_T9 Open (valve) - Filtered.csv',\r\n",
        " '/content/EEGClassification//Feb 2021 Filtered Data//5s//OPEN//FW2_T27 Open (valve) - Filtered.csv',\r\n",
        " '/content/EEGClassification//Feb 2021 Filtered Data//5s//OPEN//SD_T21 Open (valve)_(1) - Filtered.csv',\r\n",
        " '/content/EEGClassification//Feb 2021 Filtered Data//5s//CLOSE//JP2_T14 Close (valve)_(1) - Filtered.csv',\r\n",
        " '/content/EEGClassification//Feb 2021 Filtered Data//5s//CLOSE//CJ_T38 Close (valve)_(2) - Filtered.csv',\r\n",
        " '/content/EEGClassification//Nov 2020 Filtered Data//5s//CLOSE//SD_T11 Close (valve)_(1) - Filtered.csv',\r\n",
        " '/content/EEGClassification//Feb 2021 Filtered Data//5s//OPEN//FW3_T15 Open (valve) - Filtered.csv',\r\n",
        " '/content/EEGClassification//Feb 2021 Filtered Data//5s//CLOSE//CJ_T26 Close (valve) - Filtered.csv',\r\n",
        " '/content/EEGClassification//Feb 2021 Filtered Data//5s//CLOSE//AZ_T16 Close (valve) - Filtered.csv',\r\n",
        " '/content/EEGClassification//Feb 2021 Filtered Data//5s//CLOSE//FW3_T32 Close (valve) - Filtered.csv',\r\n",
        " '/content/EEGClassification//Feb 2021 Filtered Data//5s//CLOSE//CJ_T6 Close (valve)_(1) - Filtered.csv',\r\n",
        " '/content/EEGClassification//Nov 2020 Filtered Data//5s//CLOSE//AZ_T59 Close (valve) - Filtered.csv',\r\n",
        " '/content/EEGClassification//Nov 2020 Filtered Data//5s//CLOSE//AZ_T13 Close (valve) - Filtered.csv',\r\n",
        " '/content/EEGClassification//Feb 2021 Filtered Data//5s//CLOSE//FW2_T18 Close (valve) - Filtered.csv',\r\n",
        " '/content/EEGClassification//Feb 2021 Filtered Data//5s//CLOSE//JP_T12 Close (valve) - Filtered.csv',\r\n",
        " '/content/EEGClassification//Feb 2021 Filtered Data//5s//CLOSE//CJ_T6 Close (valve) - Filtered.csv',\r\n",
        " '/content/EEGClassification//Nov 2020 Filtered Data//5s//OPEN//FW_T15 Open (valve) - Filtered.csv',\r\n",
        " '/content/EEGClassification//Feb 2021 Filtered Data//5s//CLOSE//CJ_T34 Close (valve) - Filtered.csv',\r\n",
        " '/content/EEGClassification//Feb 2021 Filtered Data//5s//CLOSE//FW3_T2 Close (valve) - Filtered.csv',\r\n",
        " '/content/EEGClassification//Feb 2021 Filtered Data//5s//CLOSE//JP_T8 Close (valve) - Filtered.csv',\r\n",
        " '/content/EEGClassification//Feb 2021 Filtered Data//5s//OPEN//JP_T33 Open (valve) - Filtered.csv',\r\n",
        " '/content/EEGClassification//Feb 2021 Filtered Data//5s//CLOSE//CJ_T6 Close (valve)_(2) - Filtered.csv',\r\n",
        " '/content/EEGClassification//Nov 2020 Filtered Data//5s//OPEN//SD_T32 Open (valve) - Filtered.csv',\r\n",
        " '/content/EEGClassification//Nov 2020 Filtered Data//5s//OPEN//AZ_T78 Open (valve) - Filtered.csv',\r\n",
        " '/content/EEGClassification//Nov 2020 Filtered Data//5s//OPEN//SD_T7 Open (valve)_(1) - Filtered.csv',\r\n",
        " '/content/EEGClassification//Feb 2021 Filtered Data//5s//CLOSE//AZ_T10 Close (valve) - Filtered.csv',\r\n",
        " '/content/EEGClassification//Feb 2021 Filtered Data//5s//CLOSE//CJ_T20 Close (valve)_(2) - Filtered.csv',\r\n",
        " '/content/EEGClassification//Nov 2020 Filtered Data//5s//OPEN//CJ_T5 Open (valve) - Filtered.csv',\r\n",
        " '/content/EEGClassification//Feb 2021 Filtered Data//5s//CLOSE//CJ_T40 Close (valve)_(1) - Filtered.csv',\r\n",
        " '/content/EEGClassification//Nov 2020 Filtered Data//5s//OPEN//SD_T7 Open (valve) - Filtered.csv',\r\n",
        " '/content/EEGClassification//Feb 2021 Filtered Data//5s//CLOSE//CJ_T12 Close (valve) - Filtered.csv',\r\n",
        " '/content/EEGClassification//Feb 2021 Filtered Data//5s//CLOSE//CJ_T8 Close (valve)_(1) - Filtered.csv',\r\n",
        " '/content/EEGClassification//Feb 2021 Filtered Data//5s//OPEN//CJ_T31 Open (valve) - Filtered.csv']\r\n",
        "\r\n",
        "filenames_val = ['/content/EEGClassification//Feb 2021 Filtered Data//5s//OPEN//SD_T15 Open (valve) - Filtered.csv',\r\n",
        " '/content/EEGClassification//Feb 2021 Filtered Data//5s//CLOSE//CJ_T24 Close (valve) - Filtered.csv',\r\n",
        " '/content/EEGClassification//Feb 2021 Filtered Data//5s//CLOSE//FW2_T32 Close (valve) - Filtered.csv',\r\n",
        " '/content/EEGClassification//Nov 2020 Filtered Data//5s//CLOSE//SD_T15 Close (valve) - Filtered.csv',\r\n",
        " '/content/EEGClassification//Nov 2020 Filtered Data//5s//CLOSE//FW_T16 Close (valve) - Filtered.csv',\r\n",
        " '/content/EEGClassification//Feb 2021 Filtered Data//5s//OPEN//CJ_T17 Open (valve)_(2) - Filtered.csv',\r\n",
        " '/content/EEGClassification//Feb 2021 Filtered Data//5s//CLOSE//CJ_T34 Close (valve)_(1) - Filtered.csv',\r\n",
        " '/content/EEGClassification//Nov 2020 Filtered Data//5s//OPEN//AZ_T34 Open (valve) - Filtered.csv',\r\n",
        " '/content/EEGClassification//Feb 2021 Filtered Data//5s//OPEN//JP_T3 Open (valve) - Filtered.csv',\r\n",
        " '/content/EEGClassification//Nov 2020 Filtered Data//5s//OPEN//SD_T30 Open (valve) - Filtered.csv',\r\n",
        " '/content/EEGClassification//Feb 2021 Filtered Data//5s//CLOSE//SD_T22 Close (valve)_(1) - Filtered.csv',\r\n",
        " '/content/EEGClassification//Nov 2020 Filtered Data//5s//CLOSE//SD_T27 Close (valve) - Filtered.csv',\r\n",
        " '/content/EEGClassification//Feb 2021 Filtered Data//5s//OPEN//CJ_T33 Open (valve) - Filtered.csv',\r\n",
        " '/content/EEGClassification//Feb 2021 Filtered Data//5s//OPEN//FW_T37 Open (valve) - Filtered.csv',\r\n",
        " '/content/EEGClassification//Feb 2021 Filtered Data//5s//CLOSE//JP_T10 Close (valve) - Filtered.csv',\r\n",
        " '/content/EEGClassification//Feb 2021 Filtered Data//5s//OPEN//CJ_T33 Open (valve)_(1) - Filtered.csv',\r\n",
        " '/content/EEGClassification//Feb 2021 Filtered Data//5s//CLOSE//FW2_T34 Close (valve) - Filtered.csv',\r\n",
        " '/content/EEGClassification//Feb 2021 Filtered Data//5s//CLOSE//CJ_T12 Close (valve)_(2) - Filtered.csv',\r\n",
        " '/content/EEGClassification//Feb 2021 Filtered Data//5s//OPEN//FW3_T27 Open (valve) - Filtered.csv',\r\n",
        " '/content/EEGClassification//Feb 2021 Filtered Data//5s//CLOSE//CJ_T16 Close (valve)_(1) - Filtered.csv',\r\n",
        " '/content/EEGClassification//Nov 2020 Filtered Data//5s//CLOSE//SD_T41 Close (valve) - Filtered.csv',\r\n",
        " '/content/EEGClassification//Feb 2021 Filtered Data//5s//CLOSE//FW_T10 Close (valve) - Filtered.csv',\r\n",
        " '/content/EEGClassification//Nov 2020 Filtered Data//5s//OPEN//SD_T57 Open (valve) - Filtered.csv',\r\n",
        " '/content/EEGClassification//Feb 2021 Filtered Data//5s//CLOSE//CJ_T28 Close (valve)_(2) - Filtered.csv',\r\n",
        " '/content/EEGClassification//Feb 2021 Filtered Data//5s//CLOSE//SD_T4 Close (valve) - Filtered.csv',\r\n",
        " '/content/EEGClassification//Nov 2020 Filtered Data//5s//OPEN//FW_T4 Open (valve) - Filtered.csv',\r\n",
        " '/content/EEGClassification//Feb 2021 Filtered Data//5s//CLOSE//JP2_T18 Close (valve)_(1) - Filtered.csv',\r\n",
        " '/content/EEGClassification//Nov 2020 Filtered Data//5s//OPEN//SD_T21 Open (valve)_(2) - Filtered.csv',\r\n",
        " '/content/EEGClassification//Feb 2021 Filtered Data//5s//CLOSE//FW_T2 Close (valve) - Filtered.csv',\r\n",
        " '/content/EEGClassification//Feb 2021 Filtered Data//5s//CLOSE//AZ_T4 Close (valve) - Filtered.csv',\r\n",
        " '/content/EEGClassification//Feb 2021 Filtered Data//5s//OPEN//JP_T19 Open (valve) - Filtered.csv',\r\n",
        " '/content/EEGClassification//Feb 2021 Filtered Data//5s//CLOSE//FW3_T30 Close (valve) - Filtered.csv',\r\n",
        " '/content/EEGClassification//Feb 2021 Filtered Data//5s//CLOSE//CJ_T10 Close (valve)_(1) - Filtered.csv',\r\n",
        " '/content/EEGClassification//Feb 2021 Filtered Data//5s//OPEN//SD_T1 Open (valve)_(1) - Filtered.csv',\r\n",
        " '/content/EEGClassification//Nov 2020 Filtered Data//5s//CLOSE//FW_T38 Close (valve) - Filtered.csv',\r\n",
        " '/content/EEGClassification//Nov 2020 Filtered Data//5s//OPEN//AZ_T4 Open (valve) - Filtered.csv',\r\n",
        " '/content/EEGClassification//Feb 2021 Filtered Data//5s//CLOSE//AZ_T2 Close (valve) - Filtered.csv',\r\n",
        " '/content/EEGClassification//Feb 2021 Filtered Data//5s//OPEN//FW2_T17 Open (valve) - Filtered.csv',\r\n",
        " '/content/EEGClassification//Nov 2020 Filtered Data//5s//OPEN//FW_T12 Open (valve) - Filtered.csv',\r\n",
        " '/content/EEGClassification//Feb 2021 Filtered Data//5s//CLOSE//CJ_T4 Close (valve)_(2) - Filtered.csv',\r\n",
        " '/content/EEGClassification//Nov 2020 Filtered Data//5s//CLOSE//SD_T5 Close (valve) - Filtered.csv',\r\n",
        " '/content/EEGClassification//Nov 2020 Filtered Data//5s//OPEN//FW_T80 Open (valve) - Filtered.csv',\r\n",
        " '/content/EEGClassification//Feb 2021 Filtered Data//5s//OPEN//FW3_T3 Open (valve) - Filtered.csv',\r\n",
        " '/content/EEGClassification//Feb 2021 Filtered Data//5s//OPEN//CJ_T7 Open (valve) - Filtered.csv',\r\n",
        " '/content/EEGClassification//Feb 2021 Filtered Data//5s//CLOSE//AZ_T30 Close (valve) - Filtered.csv',\r\n",
        " '/content/EEGClassification//Nov 2020 Filtered Data//5s//CLOSE//SD_T52 Close (valve) - Filtered.csv',\r\n",
        " '/content/EEGClassification//Feb 2021 Filtered Data//5s//CLOSE//FW2_T40 Close (valve) - Filtered.csv',\r\n",
        " '/content/EEGClassification//Feb 2021 Filtered Data//5s//CLOSE//AZ_T12 Close (valve) - Filtered.csv',\r\n",
        " '/content/EEGClassification//Feb 2021 Filtered Data//5s//OPEN//FW_T23 Open (valve) - Filtered.csv',\r\n",
        " '/content/EEGClassification//Feb 2021 Filtered Data//5s//OPEN//AZ_T29 Open (valve) - Filtered.csv',\r\n",
        " '/content/EEGClassification//Feb 2021 Filtered Data//5s//CLOSE//CJ_T22 Close (valve)_(1) - Filtered.csv',\r\n",
        " '/content/EEGClassification//Nov 2020 Filtered Data//5s//CLOSE//AZ_T3 Close (valve) - Filtered.csv',\r\n",
        " '/content/EEGClassification//Nov 2020 Filtered Data//5s//CLOSE//FW_T78 Close (valve) - Filtered.csv',\r\n",
        " '/content/EEGClassification//Nov 2020 Filtered Data//5s//CLOSE//AZ_T50 Close (valve) - Filtered.csv',\r\n",
        " '/content/EEGClassification//Nov 2020 Filtered Data//5s//OPEN//FW_T62 Open (valve) - Filtered.csv',\r\n",
        " '/content/EEGClassification//Feb 2021 Filtered Data//5s//OPEN//FW_T33 Open (valve) - Filtered.csv',\r\n",
        " '/content/EEGClassification//Nov 2020 Filtered Data//5s//OPEN//AZ_T47 Open (valve) - Filtered.csv',\r\n",
        " '/content/EEGClassification//Nov 2020 Filtered Data//5s//CLOSE//SD_T29 Close (valve) - Filtered.csv',\r\n",
        " '/content/EEGClassification//Feb 2021 Filtered Data//5s//OPEN//FW2_T23 Open (valve) - Filtered.csv',\r\n",
        " '/content/EEGClassification//Feb 2021 Filtered Data//5s//OPEN//FW2_T7 Open (valve) - Filtered.csv',\r\n",
        " '/content/EEGClassification//Feb 2021 Filtered Data//5s//OPEN//FW2_T15 Open (valve) - Filtered.csv',\r\n",
        " '/content/EEGClassification//Nov 2020 Filtered Data//5s//OPEN//CJ_T27 Open (valve) - Filtered.csv',\r\n",
        " '/content/EEGClassification//Feb 2021 Filtered Data//5s//OPEN//AZ_T31 Open (valve) - Filtered.csv',\r\n",
        " '/content/EEGClassification//Feb 2021 Filtered Data//5s//OPEN//CJ_T37 Open (valve)_(2) - Filtered.csv',\r\n",
        " '/content/EEGClassification//Nov 2020 Filtered Data//5s//CLOSE//FW_T61 Close (valve) - Filtered.csv',\r\n",
        " '/content/EEGClassification//Nov 2020 Filtered Data//5s//CLOSE//SD_T23 Close (valve) - Filtered.csv',\r\n",
        " '/content/EEGClassification//Feb 2021 Filtered Data//5s//OPEN//FW2_T9 Open (valve) - Filtered.csv',\r\n",
        " '/content/EEGClassification//Nov 2020 Filtered Data//5s//OPEN//CJ_T61 Open (valve) - Filtered.csv',\r\n",
        " '/content/EEGClassification//Nov 2020 Filtered Data//5s//OPEN//AZ_T15 Open (valve) - Filtered.csv',\r\n",
        " '/content/EEGClassification//Nov 2020 Filtered Data//5s//OPEN//FW_T6 Open (valve) - Filtered.csv',\r\n",
        " '/content/EEGClassification//Nov 2020 Filtered Data//5s//OPEN//SD_T1 Open (valve) - Filtered.csv',\r\n",
        " '/content/EEGClassification//Feb 2021 Filtered Data//5s//OPEN//CJ2_T5 Open (valve) - Filtered.csv',\r\n",
        " '/content/EEGClassification//Nov 2020 Filtered Data//5s//CLOSE//CJ_T35 Close (valve) - Filtered.csv',\r\n",
        " '/content/EEGClassification//Feb 2021 Filtered Data//5s//OPEN//JP2_T1 Open (valve)_(1) - Filtered.csv',\r\n",
        " '/content/EEGClassification//Feb 2021 Filtered Data//5s//CLOSE//FW_T34 Close (valve) - Filtered.csv']\r\n",
        "\r\n",
        "filenames_test = ['/content/EEGClassification//Feb 2021 Filtered Data//5s//CLOSE//CJ_T36 Close (valve) - Filtered.csv',\r\n",
        " '/content/EEGClassification//Nov 2020 Filtered Data//5s//OPEN//SD_T17 Open (valve) - Filtered.csv',\r\n",
        " '/content/EEGClassification//Feb 2021 Filtered Data//5s//OPEN//JP_T15 Open (valve) - Filtered.csv',\r\n",
        " '/content/EEGClassification//Feb 2021 Filtered Data//5s//OPEN//FW3_T39 Open (valve) - Filtered.csv',\r\n",
        " '/content/EEGClassification//Feb 2021 Filtered Data//5s//CLOSE//FW2_T30 Close (valve) - Filtered.csv',\r\n",
        " '/content/EEGClassification//Feb 2021 Filtered Data//5s//OPEN//AZ_T35 Open (valve) - Filtered.csv',\r\n",
        " '/content/EEGClassification//Nov 2020 Filtered Data//5s//CLOSE//CJ_T75 Close (valve) - Filtered.csv',\r\n",
        " '/content/EEGClassification//Feb 2021 Filtered Data//5s//CLOSE//FW2_T20 Close (valve) - Filtered.csv',\r\n",
        " '/content/EEGClassification//Feb 2021 Filtered Data//5s//CLOSE//JP_T16 Close (valve) - Filtered.csv',\r\n",
        " '/content/EEGClassification//Feb 2021 Filtered Data//5s//OPEN//SD_T21 Open (valve) - Filtered.csv',\r\n",
        " '/content/EEGClassification//Feb 2021 Filtered Data//5s//CLOSE//CJ_T20 Close (valve)_(1) - Filtered.csv',\r\n",
        " '/content/EEGClassification//Nov 2020 Filtered Data//5s//CLOSE//SD_T11 Close (valve) - Filtered.csv',\r\n",
        " '/content/EEGClassification//Feb 2021 Filtered Data//5s//CLOSE//JP2_T2 Close (valve)_(1) - Filtered.csv',\r\n",
        " '/content/EEGClassification//Feb 2021 Filtered Data//5s//CLOSE//SD_T16 Close (valve) - Filtered.csv',\r\n",
        " '/content/EEGClassification//Feb 2021 Filtered Data//5s//OPEN//JP_T11 Open (valve) - Filtered.csv',\r\n",
        " '/content/EEGClassification//Feb 2021 Filtered Data//5s//OPEN//JP2_T7 Open (valve)_(1) - Filtered.csv',\r\n",
        " '/content/EEGClassification//Feb 2021 Filtered Data//5s//CLOSE//CJ2_T10 Close (valve) - Filtered.csv',\r\n",
        " '/content/EEGClassification//Feb 2021 Filtered Data//5s//CLOSE//CJ_T32 Close (valve)_(2) - Filtered.csv',\r\n",
        " '/content/EEGClassification//Feb 2021 Filtered Data//5s//CLOSE//CJ_T4 Close (valve) - Filtered.csv',\r\n",
        " '/content/EEGClassification//Feb 2021 Filtered Data//5s//CLOSE//AZ_T36 Close (valve) - Filtered.csv',\r\n",
        " '/content/EEGClassification//Feb 2021 Filtered Data//5s//OPEN//CJ_T29 Open (valve)_(1) - Filtered.csv',\r\n",
        " '/content/EEGClassification//Nov 2020 Filtered Data//5s//OPEN//CJ_T73 Open (valve) - Filtered.csv',\r\n",
        " '/content/EEGClassification//Feb 2021 Filtered Data//5s//CLOSE//AZ_T26 Close (valve) - Filtered.csv',\r\n",
        " '/content/EEGClassification//Feb 2021 Filtered Data//5s//CLOSE//SD_T22 Close (valve) - Filtered.csv',\r\n",
        " '/content/EEGClassification//Nov 2020 Filtered Data//5s//CLOSE//CJ_T78 Close (valve) - Filtered.csv',\r\n",
        " '/content/EEGClassification//Feb 2021 Filtered Data//5s//CLOSE//CJ_T36 Close (valve)_(2) - Filtered.csv',\r\n",
        " '/content/EEGClassification//Nov 2020 Filtered Data//5s//CLOSE//SD_T20 Close (valve) - Filtered.csv',\r\n",
        " '/content/EEGClassification//Nov 2020 Filtered Data//5s//CLOSE//AZ_T77 Close (valve) - Filtered.csv',\r\n",
        " '/content/EEGClassification//Feb 2021 Filtered Data//5s//CLOSE//AZ_T22 Close (valve) - Filtered.csv',\r\n",
        " '/content/EEGClassification//Nov 2020 Filtered Data//5s//CLOSE//AZ_T26 Close (valve) - Filtered.csv',\r\n",
        " '/content/EEGClassification//Feb 2021 Filtered Data//5s//CLOSE//FW2_T36 Close (valve) - Filtered.csv',\r\n",
        " '/content/EEGClassification//Nov 2020 Filtered Data//5s//CLOSE//AZ_T76 Close (valve) - Filtered.csv',\r\n",
        " '/content/EEGClassification//Feb 2021 Filtered Data//5s//OPEN//CJ_T37 Open (valve)_(1) - Filtered.csv',\r\n",
        " '/content/EEGClassification//Nov 2020 Filtered Data//5s//CLOSE//FW_T85 Close (valve) - Filtered.csv',\r\n",
        " '/content/EEGClassification//Nov 2020 Filtered Data//5s//CLOSE//SD_T46 Close (valve) - Filtered.csv',\r\n",
        " '/content/EEGClassification//Feb 2021 Filtered Data//5s//CLOSE//SD_T18 Close (valve)_(1) - Filtered.csv',\r\n",
        " '/content/EEGClassification//Feb 2021 Filtered Data//5s//OPEN//FW2_T39 Open (valve) - Filtered.csv',\r\n",
        " '/content/EEGClassification//Feb 2021 Filtered Data//5s//CLOSE//JP2_T12 Close (valve)_(1) - Filtered.csv',\r\n",
        " '/content/EEGClassification//Nov 2020 Filtered Data//5s//OPEN//CJ_T69 Open (valve) - Filtered.csv',\r\n",
        " '/content/EEGClassification//Feb 2021 Filtered Data//5s//CLOSE//AZ_T32 Close (valve) - Filtered.csv',\r\n",
        " '/content/EEGClassification//Nov 2020 Filtered Data//5s//CLOSE//FW_T18 Close (valve) - Filtered.csv',\r\n",
        " '/content/EEGClassification//Feb 2021 Filtered Data//5s//OPEN//FW_T17 Open (valve) - Filtered.csv',\r\n",
        " '/content/EEGClassification//Feb 2021 Filtered Data//5s//OPEN//JP2_T9 Open (valve)_(1) - Filtered.csv',\r\n",
        " '/content/EEGClassification//Feb 2021 Filtered Data//5s//OPEN//CJ_T11 Open (valve)_(1) - Filtered.csv',\r\n",
        " '/content/EEGClassification//Feb 2021 Filtered Data//5s//OPEN//SD_T19 Open (valve) - Filtered.csv',\r\n",
        " '/content/EEGClassification//Feb 2021 Filtered Data//5s//OPEN//CJ_T5 Open (valve) - Filtered.csv',\r\n",
        " '/content/EEGClassification//Feb 2021 Filtered Data//5s//CLOSE//CJ_T30 Close (valve) - Filtered.csv',\r\n",
        " '/content/EEGClassification//Feb 2021 Filtered Data//5s//OPEN//CJ_T11 Open (valve)_(2) - Filtered.csv',\r\n",
        " '/content/EEGClassification//Nov 2020 Filtered Data//5s//CLOSE//CJ_T15 Close (valve) - Filtered.csv',\r\n",
        " '/content/EEGClassification//Feb 2021 Filtered Data//5s//OPEN//JP_T17 Open (valve) - Filtered.csv',\r\n",
        " '/content/EEGClassification//Feb 2021 Filtered Data//5s//CLOSE//CJ_T4 Close (valve)_(1) - Filtered.csv',\r\n",
        " '/content/EEGClassification//Feb 2021 Filtered Data//5s//OPEN//CJ_T13 Open (valve) - Filtered.csv',\r\n",
        " '/content/EEGClassification//Nov 2020 Filtered Data//5s//CLOSE//AZ_T32 Close (valve) - Filtered.csv',\r\n",
        " '/content/EEGClassification//Feb 2021 Filtered Data//5s//OPEN//AZ_T11 Open (valve) - Filtered.csv',\r\n",
        " '/content/EEGClassification//Nov 2020 Filtered Data//5s//CLOSE//SD_T31 Close (valve) - Filtered.csv',\r\n",
        " '/content/EEGClassification//Feb 2021 Filtered Data//5s//CLOSE//JP_T2 Close (valve) - Filtered.csv',\r\n",
        " '/content/EEGClassification//Feb 2021 Filtered Data//5s//OPEN//CJ_T5 Open (valve)_(1) - Filtered.csv',\r\n",
        " '/content/EEGClassification//Nov 2020 Filtered Data//5s//CLOSE//FW_T43 Close (valve) - Filtered.csv',\r\n",
        " '/content/EEGClassification//Nov 2020 Filtered Data//5s//CLOSE//AZ_T33 Close (valve) - Filtered.csv',\r\n",
        " '/content/EEGClassification//Feb 2021 Filtered Data//5s//CLOSE//SD_T10 Close (valve)_(1) - Filtered.csv',\r\n",
        " '/content/EEGClassification//Feb 2021 Filtered Data//5s//CLOSE//FW_T24 Close (valve) - Filtered.csv',\r\n",
        " '/content/EEGClassification//Feb 2021 Filtered Data//5s//OPEN//CJ_T27 Open (valve)_(2) - Filtered.csv',\r\n",
        " '/content/EEGClassification//Feb 2021 Filtered Data//5s//CLOSE//SD_T14 Close (valve) - Filtered.csv',\r\n",
        " '/content/EEGClassification//Feb 2021 Filtered Data//5s//OPEN//CJ_T31 Open (valve)_(2) - Filtered.csv',\r\n",
        " '/content/EEGClassification//Nov 2020 Filtered Data//5s//CLOSE//AZ_T5 Close (valve) - Filtered.csv',\r\n",
        " '/content/EEGClassification//Feb 2021 Filtered Data//5s//OPEN//JP2_T17 Open (valve)_(1) - Filtered.csv',\r\n",
        " '/content/EEGClassification//Feb 2021 Filtered Data//5s//OPEN//SD_T25 Open (valve) - Filtered.csv',\r\n",
        " '/content/EEGClassification//Feb 2021 Filtered Data//5s//CLOSE//CJ_T18 Close (valve)_(1) - Filtered.csv',\r\n",
        " '/content/EEGClassification//Feb 2021 Filtered Data//5s//OPEN//CJ_T17 Open (valve) - Filtered.csv',\r\n",
        " '/content/EEGClassification//Feb 2021 Filtered Data//5s//CLOSE//JP_T40 Close (valve) - Filtered.csv',\r\n",
        " '/content/EEGClassification//Nov 2020 Filtered Data//5s//OPEN//SD_T19 Open (valve) - Filtered.csv',\r\n",
        " '/content/EEGClassification//Nov 2020 Filtered Data//5s//CLOSE//CJ_T53 Close (valve) - Filtered.csv',\r\n",
        " '/content/EEGClassification//Nov 2020 Filtered Data//5s//CLOSE//CJ_T7 Close (valve) - Filtered.csv',\r\n",
        " '/content/EEGClassification//Feb 2021 Filtered Data//5s//OPEN//JP2_T15 Open (valve)_(1) - Filtered.csv',\r\n",
        " '/content/EEGClassification//Feb 2021 Filtered Data//5s//CLOSE//FW2_T4 Close (valve) - Filtered.csv']"
      ],
      "execution_count": 4,
      "outputs": []
    },
    {
      "cell_type": "code",
      "metadata": {
        "colab": {
          "base_uri": "https://localhost:8080/"
        },
        "id": "YBLWqP6bYKW2",
        "outputId": "8e586105-bcfa-4a5b-9795-4eae7033f4d1"
      },
      "source": [
        "openPath = os.getcwd() + r\"//Nov 2020 Filtered Data//5s//OPEN//\"\r\n",
        "closedPath = os.getcwd() + r\"//Nov 2020 Filtered Data//5s//CLOSE//\"\r\n",
        "openPath2 = os.getcwd() + r\"//Feb 2021 Filtered Data//5s//OPEN//\"\r\n",
        "closedPath2 = os.getcwd() + r\"//Feb 2021 Filtered Data//5s//CLOSE//\"\r\n",
        "openFiles = getFiles(openPath) + getFiles(openPath2)\r\n",
        "closedFiles = getFiles(closedPath) + getFiles(closedPath2) \r\n",
        "\r\n",
        "open = [i for i in filenames_train if \"OPEN\" in i]\r\n",
        "close = [i for i in filenames_train if \"CLOSE\" in i]\r\n",
        "X_train, y_train, filenames_train = createDataset(open, close)\r\n",
        "\r\n",
        "open = [i for i in filenames_val if \"OPEN\" in i]\r\n",
        "close = [i for i in filenames_val if \"CLOSE\" in i]\r\n",
        "X_val, y_val, filenames_val = createDataset(open, close)\r\n",
        "\r\n",
        "open = [i for i in filenames_test if \"OPEN\" in i]\r\n",
        "close = [i for i in filenames_test if \"CLOSE\" in i]\r\n",
        "X_test, y_test, filenames_test = createDataset(open, close)\r\n",
        "\r\n",
        "#X, y, filenames = shuffleDataset(X, y, filenames)\r\n",
        "#X_train, y_train, filenames_train, X_other, y_other, filenames_other = splitDataset(X, y, filenames, percent_train=0.7)\r\n",
        "#X_val, y_val, filenames_val, X_test, y_test, filenames_test = splitDataset(X_other, y_other, filenames_other, percent_train=0.5) \r\n",
        "\r\n",
        "print(\"X_train Shape: \", X_train.shape)\r\n",
        "print(\"y_train Shape: \", y_train.shape)\r\n",
        "print(\"X_val Shape: \", X_val.shape)\r\n",
        "print(\"y_val Shape: \", y_val.shape)"
      ],
      "execution_count": 5,
      "outputs": [
        {
          "output_type": "stream",
          "text": [
            "X_train Shape:  (350, 4, 1280)\n",
            "y_train Shape:  (350,)\n",
            "X_val Shape:  (75, 4, 1280)\n",
            "y_val Shape:  (75,)\n"
          ],
          "name": "stdout"
        }
      ]
    },
    {
      "cell_type": "markdown",
      "metadata": {
        "id": "wU4GzciJSDMG"
      },
      "source": [
        "Print the filenames for the datasets (can verify with training notebook that all sets are the same and that test data wasn't used for training)"
      ]
    },
    {
      "cell_type": "code",
      "metadata": {
        "colab": {
          "base_uri": "https://localhost:8080/"
        },
        "id": "cBr-9gyWSLwt",
        "outputId": "f0e6d2a6-95ed-4a9d-d48f-d06e628ff613"
      },
      "source": [
        "for f in filenames_train:\r\n",
        "    print(f)"
      ],
      "execution_count": 6,
      "outputs": [
        {
          "output_type": "stream",
          "text": [
            "/content/EEGClassification//Feb 2021 Filtered Data//5s//OPEN//SD_T5 Open (valve)_(1) - Filtered\n",
            "/content/EEGClassification//Nov 2020 Filtered Data//5s//OPEN//AZ_T39 Open (valve) - Filtered\n",
            "/content/EEGClassification//Feb 2021 Filtered Data//5s//OPEN//CJ_T35 Open (valve)_(2) - Filtered\n",
            "/content/EEGClassification//Nov 2020 Filtered Data//5s//OPEN//FW_T75 Open (valve) - Filtered\n",
            "/content/EEGClassification//Feb 2021 Filtered Data//5s//OPEN//CJ2_T1 Open (valve) - Filtered\n",
            "/content/EEGClassification//Feb 2021 Filtered Data//5s//OPEN//FW_T27 Open (valve) - Filtered\n",
            "/content/EEGClassification//Feb 2021 Filtered Data//5s//OPEN//CJ2_T3 Open (valve) - Filtered\n",
            "/content/EEGClassification//Nov 2020 Filtered Data//5s//OPEN//SD_T15 Open (valve) - Filtered\n",
            "/content/EEGClassification//Feb 2021 Filtered Data//5s//OPEN//JP2_T13 Open (valve)_(1) - Filtered\n",
            "/content/EEGClassification//Nov 2020 Filtered Data//5s//OPEN//SD_T14 Open (valve) - Filtered\n",
            "/content/EEGClassification//Nov 2020 Filtered Data//5s//OPEN//AZ_T75 Open (valve) - Filtered\n",
            "/content/EEGClassification//Feb 2021 Filtered Data//5s//OPEN//AZ_T13 Open (valve) - Filtered\n",
            "/content/EEGClassification//Feb 2021 Filtered Data//5s//OPEN//CJ_T21 Open (valve) - Filtered\n",
            "/content/EEGClassification//Nov 2020 Filtered Data//5s//OPEN//AZ_T55 Open (valve) - Filtered\n",
            "/content/EEGClassification//Feb 2021 Filtered Data//5s//OPEN//CJ_T25 Open (valve)_(2) - Filtered\n",
            "/content/EEGClassification//Nov 2020 Filtered Data//5s//OPEN//AZ_T57 Open (valve) - Filtered\n",
            "/content/EEGClassification//Feb 2021 Filtered Data//5s//OPEN//CJ_T11 Open (valve) - Filtered\n",
            "/content/EEGClassification//Nov 2020 Filtered Data//5s//OPEN//FW_T32 Open (valve) - Filtered\n",
            "/content/EEGClassification//Feb 2021 Filtered Data//5s//OPEN//FW2_T37 Open (valve) - Filtered\n",
            "/content/EEGClassification//Feb 2021 Filtered Data//5s//OPEN//CJ2_T9 Open (valve) - Filtered\n",
            "/content/EEGClassification//Feb 2021 Filtered Data//5s//OPEN//CJ_T39 Open (valve)_(1) - Filtered\n",
            "/content/EEGClassification//Feb 2021 Filtered Data//5s//OPEN//FW_T35 Open (valve) - Filtered\n",
            "/content/EEGClassification//Nov 2020 Filtered Data//5s//OPEN//FW_T34 Open (valve) - Filtered\n",
            "/content/EEGClassification//Feb 2021 Filtered Data//5s//OPEN//SD_T17 Open (valve) - Filtered\n",
            "/content/EEGClassification//Nov 2020 Filtered Data//5s//OPEN//AZ_T65 Open (valve) - Filtered\n",
            "/content/EEGClassification//Nov 2020 Filtered Data//5s//OPEN//SD_T1 Open (valve)_(1) - Filtered\n",
            "/content/EEGClassification//Feb 2021 Filtered Data//5s//OPEN//JP_T5 Open (valve) - Filtered\n",
            "/content/EEGClassification//Nov 2020 Filtered Data//5s//OPEN//SD_T12 Open (valve)_(1) - Filtered\n",
            "/content/EEGClassification//Nov 2020 Filtered Data//5s//OPEN//CJ_T45 Open (valve) - Filtered\n",
            "/content/EEGClassification//Feb 2021 Filtered Data//5s//OPEN//CJ_T35 Open (valve)_(1) - Filtered\n",
            "/content/EEGClassification//Nov 2020 Filtered Data//5s//OPEN//FW_T19 Open (valve) - Filtered\n",
            "/content/EEGClassification//Nov 2020 Filtered Data//5s//OPEN//SD_T13 Open (valve) - Filtered\n",
            "/content/EEGClassification//Feb 2021 Filtered Data//5s//OPEN//SD_T17 Open (valve)_(1) - Filtered\n",
            "/content/EEGClassification//Nov 2020 Filtered Data//5s//OPEN//CJ_T58 Open (valve) - Filtered\n",
            "/content/EEGClassification//Nov 2020 Filtered Data//5s//OPEN//FW_T56 Open (valve) - Filtered\n",
            "/content/EEGClassification//Feb 2021 Filtered Data//5s//OPEN//FW_T29 Open (valve) - Filtered\n",
            "/content/EEGClassification//Feb 2021 Filtered Data//5s//OPEN//CJ_T9 Open (valve) - Filtered\n",
            "/content/EEGClassification//Nov 2020 Filtered Data//5s//OPEN//AZ_T62 Open (valve) - Filtered\n",
            "/content/EEGClassification//Feb 2021 Filtered Data//5s//OPEN//CJ_T13 Open (valve)_(1) - Filtered\n",
            "/content/EEGClassification//Feb 2021 Filtered Data//5s//OPEN//CJ_T7 Open (valve)_(2) - Filtered\n",
            "/content/EEGClassification//Feb 2021 Filtered Data//5s//OPEN//FW_T7 Open (valve) - Filtered\n",
            "/content/EEGClassification//Nov 2020 Filtered Data//5s//OPEN//CJ_T29 Open (valve) - Filtered\n",
            "/content/EEGClassification//Feb 2021 Filtered Data//5s//OPEN//SD_T23 Open (valve) - Filtered\n",
            "/content/EEGClassification//Feb 2021 Filtered Data//5s//OPEN//CJ_T23 Open (valve)_(2) - Filtered\n",
            "/content/EEGClassification//Feb 2021 Filtered Data//5s//OPEN//JP_T31 Open (valve) - Filtered\n",
            "/content/EEGClassification//Feb 2021 Filtered Data//5s//OPEN//CJ_T37 Open (valve) - Filtered\n",
            "/content/EEGClassification//Feb 2021 Filtered Data//5s//OPEN//JP_T1 Open (valve) - Filtered\n",
            "/content/EEGClassification//Feb 2021 Filtered Data//5s//OPEN//FW2_T1 Open (valve) - Filtered\n",
            "/content/EEGClassification//Nov 2020 Filtered Data//5s//OPEN//AZ_T24 Open (valve) - Filtered\n",
            "/content/EEGClassification//Feb 2021 Filtered Data//5s//OPEN//JP2_T11 Open (valve)_(1) - Filtered\n",
            "/content/EEGClassification//Nov 2020 Filtered Data//5s//OPEN//AZ_T44 Open (valve) - Filtered\n",
            "/content/EEGClassification//Nov 2020 Filtered Data//5s//OPEN//CJ_T18 Open (valve) - Filtered\n",
            "/content/EEGClassification//Feb 2021 Filtered Data//5s//OPEN//CJ_T39 Open (valve)_(2) - Filtered\n",
            "/content/EEGClassification//Feb 2021 Filtered Data//5s//OPEN//JP_T35 Open (valve) - Filtered\n",
            "/content/EEGClassification//Nov 2020 Filtered Data//5s//OPEN//SD_T26 Open (valve)_(1) - Filtered\n",
            "/content/EEGClassification//Feb 2021 Filtered Data//5s//OPEN//CJ_T3 Open (valve)_(2) - Filtered\n",
            "/content/EEGClassification//Nov 2020 Filtered Data//5s//OPEN//SD_T12 Open (valve)_(2) - Filtered\n",
            "/content/EEGClassification//Nov 2020 Filtered Data//5s//OPEN//FW_T71 Open (valve) - Filtered\n",
            "/content/EEGClassification//Nov 2020 Filtered Data//5s//OPEN//CJ_T52 Open (valve) - Filtered\n",
            "/content/EEGClassification//Feb 2021 Filtered Data//5s//OPEN//FW2_T31 Open (valve) - Filtered\n",
            "/content/EEGClassification//Feb 2021 Filtered Data//5s//OPEN//FW3_T17 Open (valve) - Filtered\n",
            "/content/EEGClassification//Feb 2021 Filtered Data//5s//OPEN//JP_T9 Open (valve) - Filtered\n",
            "/content/EEGClassification//Nov 2020 Filtered Data//5s//OPEN//AZ_T8 Open (valve) - Filtered\n",
            "/content/EEGClassification//Feb 2021 Filtered Data//5s//OPEN//FW3_T25 Open (valve) - Filtered\n",
            "/content/EEGClassification//Feb 2021 Filtered Data//5s//OPEN//AZ_T25 Open (valve) - Filtered\n",
            "/content/EEGClassification//Feb 2021 Filtered Data//5s//OPEN//FW3_T19 Open (valve) - Filtered\n",
            "/content/EEGClassification//Feb 2021 Filtered Data//5s//OPEN//FW2_T13 Open (valve) - Filtered\n",
            "/content/EEGClassification//Feb 2021 Filtered Data//5s//OPEN//SD_T11 Open (valve) - Filtered\n",
            "/content/EEGClassification//Feb 2021 Filtered Data//5s//OPEN//JP_T21 Open (valve) - Filtered\n",
            "/content/EEGClassification//Feb 2021 Filtered Data//5s//OPEN//CJ_T17 Open (valve)_(1) - Filtered\n",
            "/content/EEGClassification//Feb 2021 Filtered Data//5s//OPEN//FW_T13 Open (valve) - Filtered\n",
            "/content/EEGClassification//Nov 2020 Filtered Data//5s//OPEN//AZ_T71 Open (valve) - Filtered\n",
            "/content/EEGClassification//Feb 2021 Filtered Data//5s//OPEN//JP_T39 Open (valve) - Filtered\n",
            "/content/EEGClassification//Feb 2021 Filtered Data//5s//OPEN//CJ_T15 Open (valve)_(1) - Filtered\n",
            "/content/EEGClassification//Nov 2020 Filtered Data//5s//OPEN//FW_T44 Open (valve) - Filtered\n",
            "/content/EEGClassification//Feb 2021 Filtered Data//5s//OPEN//FW2_T11 Open (valve) - Filtered\n",
            "/content/EEGClassification//Nov 2020 Filtered Data//5s//OPEN//SD_T26 Open (valve)_(2) - Filtered\n",
            "/content/EEGClassification//Feb 2021 Filtered Data//5s//OPEN//CJ_T23 Open (valve)_(1) - Filtered\n",
            "/content/EEGClassification//Feb 2021 Filtered Data//5s//OPEN//SD_T3 Open (valve) - Filtered\n",
            "/content/EEGClassification//Feb 2021 Filtered Data//5s//OPEN//CJ2_T11 Open (valve) - Filtered\n",
            "/content/EEGClassification//Feb 2021 Filtered Data//5s//OPEN//AZ_T33 Open (valve) - Filtered\n",
            "/content/EEGClassification//Feb 2021 Filtered Data//5s//OPEN//FW2_T5 Open (valve) - Filtered\n",
            "/content/EEGClassification//Feb 2021 Filtered Data//5s//OPEN//AZ_T9 Open (valve) - Filtered\n",
            "/content/EEGClassification//Nov 2020 Filtered Data//5s//OPEN//FW_T81 Open (valve) - Filtered\n",
            "/content/EEGClassification//Feb 2021 Filtered Data//5s//OPEN//JP_T13 Open (valve) - Filtered\n",
            "/content/EEGClassification//Nov 2020 Filtered Data//5s//OPEN//AZ_T20 Open (valve) - Filtered\n",
            "/content/EEGClassification//Nov 2020 Filtered Data//5s//OPEN//FW_T37 Open (valve) - Filtered\n",
            "/content/EEGClassification//Feb 2021 Filtered Data//5s//OPEN//CJ_T25 Open (valve) - Filtered\n",
            "/content/EEGClassification//Feb 2021 Filtered Data//5s//OPEN//FW_T31 Open (valve) - Filtered\n",
            "/content/EEGClassification//Feb 2021 Filtered Data//5s//OPEN//JP_T7 Open (valve) - Filtered\n",
            "/content/EEGClassification//Feb 2021 Filtered Data//5s//OPEN//CJ_T3 Open (valve)_(1) - Filtered\n",
            "/content/EEGClassification//Feb 2021 Filtered Data//5s//OPEN//FW_T19 Open (valve) - Filtered\n",
            "/content/EEGClassification//Feb 2021 Filtered Data//5s//OPEN//FW_T15 Open (valve) - Filtered\n",
            "/content/EEGClassification//Feb 2021 Filtered Data//5s//OPEN//SD_T13 Open (valve)_(1) - Filtered\n",
            "/content/EEGClassification//Feb 2021 Filtered Data//5s//OPEN//AZ_T5 Open (valve) - Filtered\n",
            "/content/EEGClassification//Feb 2021 Filtered Data//5s//OPEN//CJ_T7 Open (valve)_(1) - Filtered\n",
            "/content/EEGClassification//Feb 2021 Filtered Data//5s//OPEN//CJ2_T7 Open (valve) - Filtered\n",
            "/content/EEGClassification//Nov 2020 Filtered Data//5s//OPEN//SD_T7 Open (valve)_(2) - Filtered\n",
            "/content/EEGClassification//Feb 2021 Filtered Data//5s//OPEN//CJ_T39 Open (valve) - Filtered\n",
            "/content/EEGClassification//Nov 2020 Filtered Data//5s//OPEN//FW_T22 Open (valve) - Filtered\n",
            "/content/EEGClassification//Feb 2021 Filtered Data//5s//OPEN//SD_T9 Open (valve)_(1) - Filtered\n",
            "/content/EEGClassification//Nov 2020 Filtered Data//5s//OPEN//AZ_T10 Open (valve) - Filtered\n",
            "/content/EEGClassification//Feb 2021 Filtered Data//5s//OPEN//CJ_T29 Open (valve)_(2) - Filtered\n",
            "/content/EEGClassification//Nov 2020 Filtered Data//5s//OPEN//CJ_T41 Open (valve) - Filtered\n",
            "/content/EEGClassification//Feb 2021 Filtered Data//5s//OPEN//SD_T7 Open (valve) - Filtered\n",
            "/content/EEGClassification//Nov 2020 Filtered Data//5s//OPEN//CJ_T21 Open (valve) - Filtered\n",
            "/content/EEGClassification//Feb 2021 Filtered Data//5s//OPEN//AZ_T15 Open (valve) - Filtered\n",
            "/content/EEGClassification//Feb 2021 Filtered Data//5s//OPEN//FW2_T29 Open (valve) - Filtered\n",
            "/content/EEGClassification//Nov 2020 Filtered Data//5s//OPEN//AZ_T51 Open (valve) - Filtered\n",
            "/content/EEGClassification//Nov 2020 Filtered Data//5s//OPEN//CJ_T55 Open (valve) - Filtered\n",
            "/content/EEGClassification//Feb 2021 Filtered Data//5s//OPEN//FW3_T31 Open (valve) - Filtered\n",
            "/content/EEGClassification//Feb 2021 Filtered Data//5s//OPEN//CJ_T23 Open (valve) - Filtered\n",
            "/content/EEGClassification//Feb 2021 Filtered Data//5s//OPEN//AZ_T23 Open (valve) - Filtered\n",
            "/content/EEGClassification//Feb 2021 Filtered Data//5s//OPEN//FW_T1 Open (valve) - Filtered\n",
            "/content/EEGClassification//Feb 2021 Filtered Data//5s//OPEN//CJ_T1 Open (valve)_(1) - Filtered\n",
            "/content/EEGClassification//Nov 2020 Filtered Data//5s//OPEN//SD_T12 Open (valve) - Filtered\n",
            "/content/EEGClassification//Feb 2021 Filtered Data//5s//OPEN//CJ_T29 Open (valve) - Filtered\n",
            "/content/EEGClassification//Feb 2021 Filtered Data//5s//OPEN//FW_T3 Open (valve) - Filtered\n",
            "/content/EEGClassification//Feb 2021 Filtered Data//5s//OPEN//FW3_T29 Open (valve) - Filtered\n",
            "/content/EEGClassification//Feb 2021 Filtered Data//5s//OPEN//CJ_T27 Open (valve)_(1) - Filtered\n",
            "/content/EEGClassification//Feb 2021 Filtered Data//5s//OPEN//CJ_T31 Open (valve)_(1) - Filtered\n",
            "/content/EEGClassification//Feb 2021 Filtered Data//5s//OPEN//JP2_T19 Open (valve)_(1) - Filtered\n",
            "/content/EEGClassification//Feb 2021 Filtered Data//5s//OPEN//JP2_T3 Open (valve)_(1) - Filtered\n",
            "/content/EEGClassification//Feb 2021 Filtered Data//5s//OPEN//CJ_T19 Open (valve) - Filtered\n",
            "/content/EEGClassification//Feb 2021 Filtered Data//5s//OPEN//CJ_T15 Open (valve) - Filtered\n",
            "/content/EEGClassification//Feb 2021 Filtered Data//5s//OPEN//AZ_T39 Open (valve) - Filtered\n",
            "/content/EEGClassification//Feb 2021 Filtered Data//5s//OPEN//SD_T13 Open (valve) - Filtered\n",
            "/content/EEGClassification//Feb 2021 Filtered Data//5s//OPEN//CJ_T35 Open (valve) - Filtered\n",
            "/content/EEGClassification//Nov 2020 Filtered Data//5s//OPEN//SD_T2 Open (valve) - Filtered\n",
            "/content/EEGClassification//Nov 2020 Filtered Data//5s//OPEN//CJ_T1 Open (valve) - Filtered\n",
            "/content/EEGClassification//Nov 2020 Filtered Data//5s//OPEN//SD_T26 Open (valve) - Filtered\n",
            "/content/EEGClassification//Nov 2020 Filtered Data//5s//OPEN//SD_T17 Open (valve)_(1) - Filtered\n",
            "/content/EEGClassification//Feb 2021 Filtered Data//5s//OPEN//FW3_T1 Open (valve) - Filtered\n",
            "/content/EEGClassification//Feb 2021 Filtered Data//5s//OPEN//FW2_T33 Open (valve) - Filtered\n",
            "/content/EEGClassification//Nov 2020 Filtered Data//5s//OPEN//FW_T87 Open (valve) - Filtered\n",
            "/content/EEGClassification//Nov 2020 Filtered Data//5s//OPEN//SD_T21 Open (valve)_(1) - Filtered\n",
            "/content/EEGClassification//Nov 2020 Filtered Data//5s//OPEN//CJ_T77 Open (valve) - Filtered\n",
            "/content/EEGClassification//Feb 2021 Filtered Data//5s//OPEN//SD_T1 Open (valve) - Filtered\n",
            "/content/EEGClassification//Nov 2020 Filtered Data//5s//OPEN//AZ_T31 Open (valve) - Filtered\n",
            "/content/EEGClassification//Feb 2021 Filtered Data//5s//OPEN//CJ_T1 Open (valve) - Filtered\n",
            "/content/EEGClassification//Feb 2021 Filtered Data//5s//OPEN//FW3_T11 Open (valve) - Filtered\n",
            "/content/EEGClassification//Nov 2020 Filtered Data//5s//OPEN//CJ_T10 Open (valve) - Filtered\n",
            "/content/EEGClassification//Feb 2021 Filtered Data//5s//OPEN//CJ_T25 Open (valve)_(1) - Filtered\n",
            "/content/EEGClassification//Feb 2021 Filtered Data//5s//OPEN//CJ_T3 Open (valve) - Filtered\n",
            "/content/EEGClassification//Feb 2021 Filtered Data//5s//OPEN//AZ_T7 Open (valve) - Filtered\n",
            "/content/EEGClassification//Nov 2020 Filtered Data//5s//OPEN//CJ_T39 Open (valve) - Filtered\n",
            "/content/EEGClassification//Nov 2020 Filtered Data//5s//OPEN//CJ_T13 Open (valve) - Filtered\n",
            "/content/EEGClassification//Feb 2021 Filtered Data//5s//OPEN//FW3_T35 Open (valve) - Filtered\n",
            "/content/EEGClassification//Nov 2020 Filtered Data//5s//OPEN//SD_T21 Open (valve) - Filtered\n",
            "/content/EEGClassification//Nov 2020 Filtered Data//5s//OPEN//SD_T43 Open (valve) - Filtered\n",
            "/content/EEGClassification//Feb 2021 Filtered Data//5s//OPEN//AZ_T27 Open (valve) - Filtered\n",
            "/content/EEGClassification//Feb 2021 Filtered Data//5s//OPEN//FW2_T25 Open (valve) - Filtered\n",
            "/content/EEGClassification//Feb 2021 Filtered Data//5s//OPEN//CJ_T27 Open (valve) - Filtered\n",
            "/content/EEGClassification//Feb 2021 Filtered Data//5s//OPEN//FW3_T13 Open (valve) - Filtered\n",
            "/content/EEGClassification//Feb 2021 Filtered Data//5s//OPEN//CJ_T15 Open (valve)_(2) - Filtered\n",
            "/content/EEGClassification//Feb 2021 Filtered Data//5s//OPEN//SD_T5 Open (valve) - Filtered\n",
            "/content/EEGClassification//Feb 2021 Filtered Data//5s//OPEN//FW3_T23 Open (valve) - Filtered\n",
            "/content/EEGClassification//Feb 2021 Filtered Data//5s//OPEN//FW_T39 Open (valve) - Filtered\n",
            "/content/EEGClassification//Feb 2021 Filtered Data//5s//OPEN//FW2_T35 Open (valve) - Filtered\n",
            "/content/EEGClassification//Feb 2021 Filtered Data//5s//OPEN//JP_T27 Open (valve) - Filtered\n",
            "/content/EEGClassification//Feb 2021 Filtered Data//5s//OPEN//SD_T9 Open (valve) - Filtered\n",
            "/content/EEGClassification//Feb 2021 Filtered Data//5s//OPEN//FW2_T27 Open (valve) - Filtered\n",
            "/content/EEGClassification//Feb 2021 Filtered Data//5s//OPEN//SD_T21 Open (valve)_(1) - Filtered\n",
            "/content/EEGClassification//Feb 2021 Filtered Data//5s//OPEN//FW3_T15 Open (valve) - Filtered\n",
            "/content/EEGClassification//Nov 2020 Filtered Data//5s//OPEN//FW_T15 Open (valve) - Filtered\n",
            "/content/EEGClassification//Feb 2021 Filtered Data//5s//OPEN//JP_T33 Open (valve) - Filtered\n",
            "/content/EEGClassification//Nov 2020 Filtered Data//5s//OPEN//SD_T32 Open (valve) - Filtered\n",
            "/content/EEGClassification//Nov 2020 Filtered Data//5s//OPEN//AZ_T78 Open (valve) - Filtered\n",
            "/content/EEGClassification//Nov 2020 Filtered Data//5s//OPEN//SD_T7 Open (valve)_(1) - Filtered\n",
            "/content/EEGClassification//Nov 2020 Filtered Data//5s//OPEN//CJ_T5 Open (valve) - Filtered\n",
            "/content/EEGClassification//Nov 2020 Filtered Data//5s//OPEN//SD_T7 Open (valve) - Filtered\n",
            "/content/EEGClassification//Feb 2021 Filtered Data//5s//OPEN//CJ_T31 Open (valve) - Filtered\n",
            "/content/EEGClassification//Feb 2021 Filtered Data//5s//CLOSE//FW2_T38 Close (valve) - Filtered\n",
            "/content/EEGClassification//Nov 2020 Filtered Data//5s//CLOSE//CJ_T9 Close (valve) - Filtered\n",
            "/content/EEGClassification//Feb 2021 Filtered Data//5s//CLOSE//AZ_T38 Close (valve) - Filtered\n",
            "/content/EEGClassification//Feb 2021 Filtered Data//5s//CLOSE//FW_T12 Close (valve) - Filtered\n",
            "/content/EEGClassification//Feb 2021 Filtered Data//5s//CLOSE//CJ2_T2 Close (valve) - Filtered\n",
            "/content/EEGClassification//Feb 2021 Filtered Data//5s//CLOSE//FW3_T16 Close (valve) - Filtered\n",
            "/content/EEGClassification//Feb 2021 Filtered Data//5s//CLOSE//CJ_T26 Close (valve)_(1) - Filtered\n",
            "/content/EEGClassification//Feb 2021 Filtered Data//5s//CLOSE//CJ_T18 Close (valve) - Filtered\n",
            "/content/EEGClassification//Feb 2021 Filtered Data//5s//CLOSE//JP2_T4 Close (valve)_(1) - Filtered\n",
            "/content/EEGClassification//Feb 2021 Filtered Data//5s//CLOSE//AZ_T40 Close (valve) - Filtered\n",
            "/content/EEGClassification//Feb 2021 Filtered Data//5s//CLOSE//FW3_T14 Close (valve) - Filtered\n",
            "/content/EEGClassification//Feb 2021 Filtered Data//5s//CLOSE//SD_T20 Close (valve) - Filtered\n",
            "/content/EEGClassification//Feb 2021 Filtered Data//5s//CLOSE//FW2_T2 Close (valve) - Filtered\n",
            "/content/EEGClassification//Feb 2021 Filtered Data//5s//CLOSE//FW3_T38 Close (valve) - Filtered\n",
            "/content/EEGClassification//Feb 2021 Filtered Data//5s//CLOSE//FW_T4 Close (valve) - Filtered\n",
            "/content/EEGClassification//Feb 2021 Filtered Data//5s//CLOSE//CJ_T30 Close (valve)_(1) - Filtered\n",
            "/content/EEGClassification//Nov 2020 Filtered Data//5s//CLOSE//FW_T70 Close (valve) - Filtered\n",
            "/content/EEGClassification//Feb 2021 Filtered Data//5s//CLOSE//FW3_T22 Close (valve) - Filtered\n",
            "/content/EEGClassification//Nov 2020 Filtered Data//5s//CLOSE//FW_T46 Close (valve) - Filtered\n",
            "/content/EEGClassification//Feb 2021 Filtered Data//5s//CLOSE//CJ_T36 Close (valve)_(1) - Filtered\n",
            "/content/EEGClassification//Nov 2020 Filtered Data//5s//CLOSE//SD_T24 Close (valve) - Filtered\n",
            "/content/EEGClassification//Feb 2021 Filtered Data//5s//CLOSE//CJ_T24 Close (valve)_(1) - Filtered\n",
            "/content/EEGClassification//Nov 2020 Filtered Data//5s//CLOSE//FW_T84 Close (valve) - Filtered\n",
            "/content/EEGClassification//Feb 2021 Filtered Data//5s//CLOSE//CJ_T28 Close (valve)_(1) - Filtered\n",
            "/content/EEGClassification//Feb 2021 Filtered Data//5s//CLOSE//JP_T28 Close (valve) - Filtered\n",
            "/content/EEGClassification//Feb 2021 Filtered Data//5s//CLOSE//FW3_T20 Close (valve) - Filtered\n",
            "/content/EEGClassification//Feb 2021 Filtered Data//5s//CLOSE//CJ_T20 Close (valve) - Filtered\n",
            "/content/EEGClassification//Nov 2020 Filtered Data//5s//CLOSE//CJ_T70 Close (valve) - Filtered\n",
            "/content/EEGClassification//Nov 2020 Filtered Data//5s//CLOSE//AZ_T70 Close (valve) - Filtered\n",
            "/content/EEGClassification//Feb 2021 Filtered Data//5s//CLOSE//FW_T36 Close (valve) - Filtered\n",
            "/content/EEGClassification//Feb 2021 Filtered Data//5s//CLOSE//FW_T20 Close (valve) - Filtered\n",
            "/content/EEGClassification//Nov 2020 Filtered Data//5s//CLOSE//CJ_T32 Close (valve) - Filtered\n",
            "/content/EEGClassification//Nov 2020 Filtered Data//5s//CLOSE//FW_T30 Close (valve) - Filtered\n",
            "/content/EEGClassification//Nov 2020 Filtered Data//5s//CLOSE//AZ_T48 Close (valve) - Filtered\n",
            "/content/EEGClassification//Nov 2020 Filtered Data//5s//CLOSE//FW_T51 Close (valve) - Filtered\n",
            "/content/EEGClassification//Feb 2021 Filtered Data//5s//CLOSE//FW3_T12 Close (valve) - Filtered\n",
            "/content/EEGClassification//Feb 2021 Filtered Data//5s//CLOSE//CJ_T14 Close (valve)_(1) - Filtered\n",
            "/content/EEGClassification//Feb 2021 Filtered Data//5s//CLOSE//SD_T24 Close (valve) - Filtered\n",
            "/content/EEGClassification//Feb 2021 Filtered Data//5s//CLOSE//CJ2_T6 Close (valve) - Filtered\n",
            "/content/EEGClassification//Nov 2020 Filtered Data//5s//CLOSE//SD_T60 Close (valve) - Filtered\n",
            "/content/EEGClassification//Nov 2020 Filtered Data//5s//CLOSE//FW_T76 Close (valve) - Filtered\n",
            "/content/EEGClassification//Nov 2020 Filtered Data//5s//CLOSE//SD_T25 Close (valve) - Filtered\n",
            "/content/EEGClassification//Feb 2021 Filtered Data//5s//CLOSE//CJ_T38 Close (valve)_(1) - Filtered\n",
            "/content/EEGClassification//Nov 2020 Filtered Data//5s//CLOSE//AZ_T43 Close (valve) - Filtered\n",
            "/content/EEGClassification//Feb 2021 Filtered Data//5s//CLOSE//SD_T8 Close (valve) - Filtered\n",
            "/content/EEGClassification//Feb 2021 Filtered Data//5s//CLOSE//JP_T6 Close (valve) - Filtered\n",
            "/content/EEGClassification//Nov 2020 Filtered Data//5s//CLOSE//CJ_T38 Close (valve) - Filtered\n",
            "/content/EEGClassification//Nov 2020 Filtered Data//5s//CLOSE//AZ_T17 Close (valve) - Filtered\n",
            "/content/EEGClassification//Feb 2021 Filtered Data//5s//CLOSE//FW2_T10 Close (valve) - Filtered\n",
            "/content/EEGClassification//Nov 2020 Filtered Data//5s//CLOSE//CJ_T22 Close (valve) - Filtered\n",
            "/content/EEGClassification//Feb 2021 Filtered Data//5s//CLOSE//JP_T32 Close (valve) - Filtered\n",
            "/content/EEGClassification//Feb 2021 Filtered Data//5s//CLOSE//CJ_T2 Close (valve) - Filtered\n",
            "/content/EEGClassification//Feb 2021 Filtered Data//5s//CLOSE//FW3_T40 Close (valve) - Filtered\n",
            "/content/EEGClassification//Nov 2020 Filtered Data//5s//CLOSE//FW_T24 Close (valve) - Filtered\n",
            "/content/EEGClassification//Feb 2021 Filtered Data//5s//CLOSE//CJ_T14 Close (valve) - Filtered\n",
            "/content/EEGClassification//Nov 2020 Filtered Data//5s//CLOSE//CJ_T43 Close (valve) - Filtered\n",
            "/content/EEGClassification//Nov 2020 Filtered Data//5s//CLOSE//AZ_T23 Close (valve) - Filtered\n",
            "/content/EEGClassification//Feb 2021 Filtered Data//5s//CLOSE//SD_T2 Close (valve)_(1) - Filtered\n",
            "/content/EEGClassification//Feb 2021 Filtered Data//5s//CLOSE//FW3_T34 Close (valve) - Filtered\n",
            "/content/EEGClassification//Feb 2021 Filtered Data//5s//CLOSE//SD_T6 Close (valve) - Filtered\n",
            "/content/EEGClassification//Nov 2020 Filtered Data//5s//CLOSE//SD_T5 Close (valve)_(1) - Filtered\n",
            "/content/EEGClassification//Feb 2021 Filtered Data//5s//CLOSE//FW3_T6 Close (valve) - Filtered\n",
            "/content/EEGClassification//Feb 2021 Filtered Data//5s//CLOSE//FW2_T16 Close (valve) - Filtered\n",
            "/content/EEGClassification//Nov 2020 Filtered Data//5s//CLOSE//SD_T3 Close (valve) - Filtered\n",
            "/content/EEGClassification//Feb 2021 Filtered Data//5s//CLOSE//AZ_T6 Close (valve) - Filtered\n",
            "/content/EEGClassification//Nov 2020 Filtered Data//5s//CLOSE//SD_T14 Close (valve) - Filtered\n",
            "/content/EEGClassification//Nov 2020 Filtered Data//5s//CLOSE//FW_T25 Close (valve) - Filtered\n",
            "/content/EEGClassification//Feb 2021 Filtered Data//5s//CLOSE//JP2_T8 Close (valve)_(1) - Filtered\n",
            "/content/EEGClassification//Feb 2021 Filtered Data//5s//CLOSE//FW3_T26 Close (valve) - Filtered\n",
            "/content/EEGClassification//Nov 2020 Filtered Data//5s//CLOSE//SD_T30 Close (valve) - Filtered\n",
            "/content/EEGClassification//Feb 2021 Filtered Data//5s//CLOSE//FW_T28 Close (valve) - Filtered\n",
            "/content/EEGClassification//Nov 2020 Filtered Data//5s//CLOSE//SD_T8 Close (valve) - Filtered\n",
            "/content/EEGClassification//Feb 2021 Filtered Data//5s//CLOSE//SD_T6 Close (valve)_(1) - Filtered\n",
            "/content/EEGClassification//Feb 2021 Filtered Data//5s//CLOSE//CJ_T26 Close (valve)_(2) - Filtered\n",
            "/content/EEGClassification//Nov 2020 Filtered Data//5s//CLOSE//FW_T9 Close (valve) - Filtered\n",
            "/content/EEGClassification//Nov 2020 Filtered Data//5s//CLOSE//AZ_T66 Close (valve) - Filtered\n",
            "/content/EEGClassification//Feb 2021 Filtered Data//5s//CLOSE//FW3_T28 Close (valve) - Filtered\n",
            "/content/EEGClassification//Nov 2020 Filtered Data//5s//CLOSE//CJ_T50 Close (valve) - Filtered\n",
            "/content/EEGClassification//Feb 2021 Filtered Data//5s//CLOSE//AZ_T8 Close (valve) - Filtered\n",
            "/content/EEGClassification//Feb 2021 Filtered Data//5s//CLOSE//AZ_T14 Close (valve) - Filtered\n",
            "/content/EEGClassification//Feb 2021 Filtered Data//5s//CLOSE//CJ_T12 Close (valve)_(1) - Filtered\n",
            "/content/EEGClassification//Feb 2021 Filtered Data//5s//CLOSE//CJ_T24 Close (valve)_(2) - Filtered\n",
            "/content/EEGClassification//Feb 2021 Filtered Data//5s//CLOSE//CJ_T38 Close (valve) - Filtered\n",
            "/content/EEGClassification//Nov 2020 Filtered Data//5s//CLOSE//CJ_T65 Close (valve) - Filtered\n",
            "/content/EEGClassification//Feb 2021 Filtered Data//5s//CLOSE//FW3_T10 Close (valve) - Filtered\n",
            "/content/EEGClassification//Nov 2020 Filtered Data//5s//CLOSE//SD_T17 Close (valve) - Filtered\n",
            "/content/EEGClassification//Feb 2021 Filtered Data//5s//CLOSE//CJ2_T8 Close (valve) - Filtered\n",
            "/content/EEGClassification//Feb 2021 Filtered Data//5s//CLOSE//JP_T18 Close (valve) - Filtered\n",
            "/content/EEGClassification//Feb 2021 Filtered Data//5s//CLOSE//CJ_T14 Close (valve)_(2) - Filtered\n",
            "/content/EEGClassification//Nov 2020 Filtered Data//5s//CLOSE//SD_T19 Close (valve) - Filtered\n",
            "/content/EEGClassification//Feb 2021 Filtered Data//5s//CLOSE//FW_T18 Close (valve) - Filtered\n",
            "/content/EEGClassification//Feb 2021 Filtered Data//5s//CLOSE//SD_T10 Close (valve) - Filtered\n",
            "/content/EEGClassification//Feb 2021 Filtered Data//5s//CLOSE//FW2_T8 Close (valve) - Filtered\n",
            "/content/EEGClassification//Feb 2021 Filtered Data//5s//CLOSE//CJ2_T4 Close (valve) - Filtered\n",
            "/content/EEGClassification//Nov 2020 Filtered Data//5s//CLOSE//FW_T1 Close (valve) - Filtered\n",
            "/content/EEGClassification//Feb 2021 Filtered Data//5s//CLOSE//FW2_T22 Close (valve) - Filtered\n",
            "/content/EEGClassification//Feb 2021 Filtered Data//5s//CLOSE//FW2_T12 Close (valve) - Filtered\n",
            "/content/EEGClassification//Nov 2020 Filtered Data//5s//CLOSE//AZ_T61 Close (valve) - Filtered\n",
            "/content/EEGClassification//Feb 2021 Filtered Data//5s//CLOSE//CJ_T28 Close (valve) - Filtered\n",
            "/content/EEGClassification//Feb 2021 Filtered Data//5s//CLOSE//FW3_T18 Close (valve) - Filtered\n",
            "/content/EEGClassification//Feb 2021 Filtered Data//5s//CLOSE//CJ_T40 Close (valve)_(2) - Filtered\n",
            "/content/EEGClassification//Feb 2021 Filtered Data//5s//CLOSE//JP_T4 Close (valve) - Filtered\n",
            "/content/EEGClassification//Feb 2021 Filtered Data//5s//CLOSE//AZ_T24 Close (valve) - Filtered\n",
            "/content/EEGClassification//Nov 2020 Filtered Data//5s//CLOSE//CJ_T2 Close (valve) - Filtered\n",
            "/content/EEGClassification//Nov 2020 Filtered Data//5s//CLOSE//CJ_T64 Close (valve) - Filtered\n",
            "/content/EEGClassification//Feb 2021 Filtered Data//5s//CLOSE//CJ_T8 Close (valve) - Filtered\n",
            "/content/EEGClassification//Feb 2021 Filtered Data//5s//CLOSE//FW2_T24 Close (valve) - Filtered\n",
            "/content/EEGClassification//Feb 2021 Filtered Data//5s//CLOSE//FW2_T26 Close (valve) - Filtered\n",
            "/content/EEGClassification//Feb 2021 Filtered Data//5s//CLOSE//CJ_T22 Close (valve)_(2) - Filtered\n",
            "/content/EEGClassification//Nov 2020 Filtered Data//5s//CLOSE//CJ_T17 Close (valve) - Filtered\n",
            "/content/EEGClassification//Feb 2021 Filtered Data//5s//CLOSE//SD_T2 Close (valve) - Filtered\n",
            "/content/EEGClassification//Nov 2020 Filtered Data//5s//CLOSE//FW_T58 Close (valve) - Filtered\n",
            "/content/EEGClassification//Nov 2020 Filtered Data//5s//CLOSE//FW_T54 Close (valve) - Filtered\n",
            "/content/EEGClassification//Nov 2020 Filtered Data//5s//CLOSE//AZ_T9 Close (valve) - Filtered\n",
            "/content/EEGClassification//Feb 2021 Filtered Data//5s//CLOSE//SD_T18 Close (valve) - Filtered\n",
            "/content/EEGClassification//Nov 2020 Filtered Data//5s//CLOSE//SD_T53 Close (valve) - Filtered\n",
            "/content/EEGClassification//Feb 2021 Filtered Data//5s//CLOSE//FW_T14 Close (valve) - Filtered\n",
            "/content/EEGClassification//Feb 2021 Filtered Data//5s//CLOSE//FW_T32 Close (valve) - Filtered\n",
            "/content/EEGClassification//Feb 2021 Filtered Data//5s//CLOSE//SD_T26 Close (valve) - Filtered\n",
            "/content/EEGClassification//Feb 2021 Filtered Data//5s//CLOSE//FW_T30 Close (valve) - Filtered\n",
            "/content/EEGClassification//Feb 2021 Filtered Data//5s//CLOSE//AZ_T28 Close (valve) - Filtered\n",
            "/content/EEGClassification//Feb 2021 Filtered Data//5s//CLOSE//JP_T24 Close (valve) - Filtered\n",
            "/content/EEGClassification//Feb 2021 Filtered Data//5s//CLOSE//JP_T26 Close (valve) - Filtered\n",
            "/content/EEGClassification//Feb 2021 Filtered Data//5s//CLOSE//CJ_T22 Close (valve) - Filtered\n",
            "/content/EEGClassification//Feb 2021 Filtered Data//5s//CLOSE//JP_T20 Close (valve) - Filtered\n",
            "/content/EEGClassification//Nov 2020 Filtered Data//5s//CLOSE//FW_T8 Close (valve) - Filtered\n",
            "/content/EEGClassification//Nov 2020 Filtered Data//5s//CLOSE//AZ_T53 Close (valve) - Filtered\n",
            "/content/EEGClassification//Nov 2020 Filtered Data//5s//CLOSE//CJ_T26 Close (valve) - Filtered\n",
            "/content/EEGClassification//Feb 2021 Filtered Data//5s//CLOSE//CJ_T18 Close (valve)_(2) - Filtered\n",
            "/content/EEGClassification//Feb 2021 Filtered Data//5s//CLOSE//FW_T22 Close (valve) - Filtered\n",
            "/content/EEGClassification//Feb 2021 Filtered Data//5s//CLOSE//CJ2_T12 Close (valve) - Filtered\n",
            "/content/EEGClassification//Feb 2021 Filtered Data//5s//CLOSE//JP_T34 Close (valve) - Filtered\n",
            "/content/EEGClassification//Feb 2021 Filtered Data//5s//CLOSE//CJ_T16 Close (valve) - Filtered\n",
            "/content/EEGClassification//Feb 2021 Filtered Data//5s//CLOSE//CJ_T32 Close (valve) - Filtered\n",
            "/content/EEGClassification//Nov 2020 Filtered Data//5s//CLOSE//SD_T28 Close (valve) - Filtered\n",
            "/content/EEGClassification//Feb 2021 Filtered Data//5s//CLOSE//FW3_T36 Close (valve) - Filtered\n",
            "/content/EEGClassification//Feb 2021 Filtered Data//5s//CLOSE//CJ_T8 Close (valve)_(2) - Filtered\n",
            "/content/EEGClassification//Feb 2021 Filtered Data//5s//CLOSE//FW2_T28 Close (valve) - Filtered\n",
            "/content/EEGClassification//Nov 2020 Filtered Data//5s//CLOSE//SD_T2 Close (valve) - Filtered\n",
            "/content/EEGClassification//Feb 2021 Filtered Data//5s//CLOSE//CJ_T10 Close (valve) - Filtered\n",
            "/content/EEGClassification//Nov 2020 Filtered Data//5s//CLOSE//SD_T13 Close (valve) - Filtered\n",
            "/content/EEGClassification//Feb 2021 Filtered Data//5s//CLOSE//CJ_T32 Close (valve)_(1) - Filtered\n",
            "/content/EEGClassification//Feb 2021 Filtered Data//5s//CLOSE//CJ_T40 Close (valve) - Filtered\n",
            "/content/EEGClassification//Feb 2021 Filtered Data//5s//CLOSE//FW2_T14 Close (valve) - Filtered\n",
            "/content/EEGClassification//Feb 2021 Filtered Data//5s//CLOSE//FW2_T6 Close (valve) - Filtered\n",
            "/content/EEGClassification//Feb 2021 Filtered Data//5s//CLOSE//CJ_T30 Close (valve)_(2) - Filtered\n",
            "/content/EEGClassification//Feb 2021 Filtered Data//5s//CLOSE//FW_T16 Close (valve) - Filtered\n",
            "/content/EEGClassification//Nov 2020 Filtered Data//5s//CLOSE//SD_T33 Close (valve) - Filtered\n",
            "/content/EEGClassification//Feb 2021 Filtered Data//5s//CLOSE//CJ_T2 Close (valve)_(1) - Filtered\n",
            "/content/EEGClassification//Nov 2020 Filtered Data//5s//CLOSE//AZ_T40 Close (valve) - Filtered\n",
            "/content/EEGClassification//Feb 2021 Filtered Data//5s//CLOSE//SD_T14 Close (valve)_(1) - Filtered\n",
            "/content/EEGClassification//Feb 2021 Filtered Data//5s//CLOSE//JP_T22 Close (valve) - Filtered\n",
            "/content/EEGClassification//Feb 2021 Filtered Data//5s//CLOSE//JP2_T6 Close (valve)_(1) - Filtered\n",
            "/content/EEGClassification//Feb 2021 Filtered Data//5s//CLOSE//SD_T12 Close (valve) - Filtered\n",
            "/content/EEGClassification//Nov 2020 Filtered Data//5s//CLOSE//SD_T22 Close (valve) - Filtered\n",
            "/content/EEGClassification//Feb 2021 Filtered Data//5s//CLOSE//AZ_T34 Close (valve) - Filtered\n",
            "/content/EEGClassification//Feb 2021 Filtered Data//5s//CLOSE//JP_T14 Close (valve) - Filtered\n",
            "/content/EEGClassification//Feb 2021 Filtered Data//5s//CLOSE//JP2_T14 Close (valve)_(1) - Filtered\n",
            "/content/EEGClassification//Feb 2021 Filtered Data//5s//CLOSE//CJ_T38 Close (valve)_(2) - Filtered\n",
            "/content/EEGClassification//Nov 2020 Filtered Data//5s//CLOSE//SD_T11 Close (valve)_(1) - Filtered\n",
            "/content/EEGClassification//Feb 2021 Filtered Data//5s//CLOSE//CJ_T26 Close (valve) - Filtered\n",
            "/content/EEGClassification//Feb 2021 Filtered Data//5s//CLOSE//AZ_T16 Close (valve) - Filtered\n",
            "/content/EEGClassification//Feb 2021 Filtered Data//5s//CLOSE//FW3_T32 Close (valve) - Filtered\n",
            "/content/EEGClassification//Feb 2021 Filtered Data//5s//CLOSE//CJ_T6 Close (valve)_(1) - Filtered\n",
            "/content/EEGClassification//Nov 2020 Filtered Data//5s//CLOSE//AZ_T59 Close (valve) - Filtered\n",
            "/content/EEGClassification//Nov 2020 Filtered Data//5s//CLOSE//AZ_T13 Close (valve) - Filtered\n",
            "/content/EEGClassification//Feb 2021 Filtered Data//5s//CLOSE//FW2_T18 Close (valve) - Filtered\n",
            "/content/EEGClassification//Feb 2021 Filtered Data//5s//CLOSE//JP_T12 Close (valve) - Filtered\n",
            "/content/EEGClassification//Feb 2021 Filtered Data//5s//CLOSE//CJ_T6 Close (valve) - Filtered\n",
            "/content/EEGClassification//Feb 2021 Filtered Data//5s//CLOSE//CJ_T34 Close (valve) - Filtered\n",
            "/content/EEGClassification//Feb 2021 Filtered Data//5s//CLOSE//FW3_T2 Close (valve) - Filtered\n",
            "/content/EEGClassification//Feb 2021 Filtered Data//5s//CLOSE//JP_T8 Close (valve) - Filtered\n",
            "/content/EEGClassification//Feb 2021 Filtered Data//5s//CLOSE//CJ_T6 Close (valve)_(2) - Filtered\n",
            "/content/EEGClassification//Feb 2021 Filtered Data//5s//CLOSE//AZ_T10 Close (valve) - Filtered\n",
            "/content/EEGClassification//Feb 2021 Filtered Data//5s//CLOSE//CJ_T20 Close (valve)_(2) - Filtered\n",
            "/content/EEGClassification//Feb 2021 Filtered Data//5s//CLOSE//CJ_T40 Close (valve)_(1) - Filtered\n",
            "/content/EEGClassification//Feb 2021 Filtered Data//5s//CLOSE//CJ_T12 Close (valve) - Filtered\n",
            "/content/EEGClassification//Feb 2021 Filtered Data//5s//CLOSE//CJ_T8 Close (valve)_(1) - Filtered\n"
          ],
          "name": "stdout"
        }
      ]
    },
    {
      "cell_type": "code",
      "metadata": {
        "colab": {
          "base_uri": "https://localhost:8080/"
        },
        "id": "Qdn7Pxu2SL0U",
        "outputId": "5206aed5-edce-4ed6-9c10-52a741edcee5"
      },
      "source": [
        "for f in filenames_val:\r\n",
        "    print(f)"
      ],
      "execution_count": 7,
      "outputs": [
        {
          "output_type": "stream",
          "text": [
            "/content/EEGClassification//Feb 2021 Filtered Data//5s//OPEN//SD_T15 Open (valve) - Filtered\n",
            "/content/EEGClassification//Feb 2021 Filtered Data//5s//OPEN//CJ_T17 Open (valve)_(2) - Filtered\n",
            "/content/EEGClassification//Nov 2020 Filtered Data//5s//OPEN//AZ_T34 Open (valve) - Filtered\n",
            "/content/EEGClassification//Feb 2021 Filtered Data//5s//OPEN//JP_T3 Open (valve) - Filtered\n",
            "/content/EEGClassification//Nov 2020 Filtered Data//5s//OPEN//SD_T30 Open (valve) - Filtered\n",
            "/content/EEGClassification//Feb 2021 Filtered Data//5s//OPEN//CJ_T33 Open (valve) - Filtered\n",
            "/content/EEGClassification//Feb 2021 Filtered Data//5s//OPEN//FW_T37 Open (valve) - Filtered\n",
            "/content/EEGClassification//Feb 2021 Filtered Data//5s//OPEN//CJ_T33 Open (valve)_(1) - Filtered\n",
            "/content/EEGClassification//Feb 2021 Filtered Data//5s//OPEN//FW3_T27 Open (valve) - Filtered\n",
            "/content/EEGClassification//Nov 2020 Filtered Data//5s//OPEN//SD_T57 Open (valve) - Filtered\n",
            "/content/EEGClassification//Nov 2020 Filtered Data//5s//OPEN//FW_T4 Open (valve) - Filtered\n",
            "/content/EEGClassification//Nov 2020 Filtered Data//5s//OPEN//SD_T21 Open (valve)_(2) - Filtered\n",
            "/content/EEGClassification//Feb 2021 Filtered Data//5s//OPEN//JP_T19 Open (valve) - Filtered\n",
            "/content/EEGClassification//Feb 2021 Filtered Data//5s//OPEN//SD_T1 Open (valve)_(1) - Filtered\n",
            "/content/EEGClassification//Nov 2020 Filtered Data//5s//OPEN//AZ_T4 Open (valve) - Filtered\n",
            "/content/EEGClassification//Feb 2021 Filtered Data//5s//OPEN//FW2_T17 Open (valve) - Filtered\n",
            "/content/EEGClassification//Nov 2020 Filtered Data//5s//OPEN//FW_T12 Open (valve) - Filtered\n",
            "/content/EEGClassification//Nov 2020 Filtered Data//5s//OPEN//FW_T80 Open (valve) - Filtered\n",
            "/content/EEGClassification//Feb 2021 Filtered Data//5s//OPEN//FW3_T3 Open (valve) - Filtered\n",
            "/content/EEGClassification//Feb 2021 Filtered Data//5s//OPEN//CJ_T7 Open (valve) - Filtered\n",
            "/content/EEGClassification//Feb 2021 Filtered Data//5s//OPEN//FW_T23 Open (valve) - Filtered\n",
            "/content/EEGClassification//Feb 2021 Filtered Data//5s//OPEN//AZ_T29 Open (valve) - Filtered\n",
            "/content/EEGClassification//Nov 2020 Filtered Data//5s//OPEN//FW_T62 Open (valve) - Filtered\n",
            "/content/EEGClassification//Feb 2021 Filtered Data//5s//OPEN//FW_T33 Open (valve) - Filtered\n",
            "/content/EEGClassification//Nov 2020 Filtered Data//5s//OPEN//AZ_T47 Open (valve) - Filtered\n",
            "/content/EEGClassification//Feb 2021 Filtered Data//5s//OPEN//FW2_T23 Open (valve) - Filtered\n",
            "/content/EEGClassification//Feb 2021 Filtered Data//5s//OPEN//FW2_T7 Open (valve) - Filtered\n",
            "/content/EEGClassification//Feb 2021 Filtered Data//5s//OPEN//FW2_T15 Open (valve) - Filtered\n",
            "/content/EEGClassification//Nov 2020 Filtered Data//5s//OPEN//CJ_T27 Open (valve) - Filtered\n",
            "/content/EEGClassification//Feb 2021 Filtered Data//5s//OPEN//AZ_T31 Open (valve) - Filtered\n",
            "/content/EEGClassification//Feb 2021 Filtered Data//5s//OPEN//CJ_T37 Open (valve)_(2) - Filtered\n",
            "/content/EEGClassification//Feb 2021 Filtered Data//5s//OPEN//FW2_T9 Open (valve) - Filtered\n",
            "/content/EEGClassification//Nov 2020 Filtered Data//5s//OPEN//CJ_T61 Open (valve) - Filtered\n",
            "/content/EEGClassification//Nov 2020 Filtered Data//5s//OPEN//AZ_T15 Open (valve) - Filtered\n",
            "/content/EEGClassification//Nov 2020 Filtered Data//5s//OPEN//FW_T6 Open (valve) - Filtered\n",
            "/content/EEGClassification//Nov 2020 Filtered Data//5s//OPEN//SD_T1 Open (valve) - Filtered\n",
            "/content/EEGClassification//Feb 2021 Filtered Data//5s//OPEN//CJ2_T5 Open (valve) - Filtered\n",
            "/content/EEGClassification//Feb 2021 Filtered Data//5s//OPEN//JP2_T1 Open (valve)_(1) - Filtered\n",
            "/content/EEGClassification//Feb 2021 Filtered Data//5s//CLOSE//CJ_T24 Close (valve) - Filtered\n",
            "/content/EEGClassification//Feb 2021 Filtered Data//5s//CLOSE//FW2_T32 Close (valve) - Filtered\n",
            "/content/EEGClassification//Nov 2020 Filtered Data//5s//CLOSE//SD_T15 Close (valve) - Filtered\n",
            "/content/EEGClassification//Nov 2020 Filtered Data//5s//CLOSE//FW_T16 Close (valve) - Filtered\n",
            "/content/EEGClassification//Feb 2021 Filtered Data//5s//CLOSE//CJ_T34 Close (valve)_(1) - Filtered\n",
            "/content/EEGClassification//Feb 2021 Filtered Data//5s//CLOSE//SD_T22 Close (valve)_(1) - Filtered\n",
            "/content/EEGClassification//Nov 2020 Filtered Data//5s//CLOSE//SD_T27 Close (valve) - Filtered\n",
            "/content/EEGClassification//Feb 2021 Filtered Data//5s//CLOSE//JP_T10 Close (valve) - Filtered\n",
            "/content/EEGClassification//Feb 2021 Filtered Data//5s//CLOSE//FW2_T34 Close (valve) - Filtered\n",
            "/content/EEGClassification//Feb 2021 Filtered Data//5s//CLOSE//CJ_T12 Close (valve)_(2) - Filtered\n",
            "/content/EEGClassification//Feb 2021 Filtered Data//5s//CLOSE//CJ_T16 Close (valve)_(1) - Filtered\n",
            "/content/EEGClassification//Nov 2020 Filtered Data//5s//CLOSE//SD_T41 Close (valve) - Filtered\n",
            "/content/EEGClassification//Feb 2021 Filtered Data//5s//CLOSE//FW_T10 Close (valve) - Filtered\n",
            "/content/EEGClassification//Feb 2021 Filtered Data//5s//CLOSE//CJ_T28 Close (valve)_(2) - Filtered\n",
            "/content/EEGClassification//Feb 2021 Filtered Data//5s//CLOSE//SD_T4 Close (valve) - Filtered\n",
            "/content/EEGClassification//Feb 2021 Filtered Data//5s//CLOSE//JP2_T18 Close (valve)_(1) - Filtered\n",
            "/content/EEGClassification//Feb 2021 Filtered Data//5s//CLOSE//FW_T2 Close (valve) - Filtered\n",
            "/content/EEGClassification//Feb 2021 Filtered Data//5s//CLOSE//AZ_T4 Close (valve) - Filtered\n",
            "/content/EEGClassification//Feb 2021 Filtered Data//5s//CLOSE//FW3_T30 Close (valve) - Filtered\n",
            "/content/EEGClassification//Feb 2021 Filtered Data//5s//CLOSE//CJ_T10 Close (valve)_(1) - Filtered\n",
            "/content/EEGClassification//Nov 2020 Filtered Data//5s//CLOSE//FW_T38 Close (valve) - Filtered\n",
            "/content/EEGClassification//Feb 2021 Filtered Data//5s//CLOSE//AZ_T2 Close (valve) - Filtered\n",
            "/content/EEGClassification//Feb 2021 Filtered Data//5s//CLOSE//CJ_T4 Close (valve)_(2) - Filtered\n",
            "/content/EEGClassification//Nov 2020 Filtered Data//5s//CLOSE//SD_T5 Close (valve) - Filtered\n",
            "/content/EEGClassification//Feb 2021 Filtered Data//5s//CLOSE//AZ_T30 Close (valve) - Filtered\n",
            "/content/EEGClassification//Nov 2020 Filtered Data//5s//CLOSE//SD_T52 Close (valve) - Filtered\n",
            "/content/EEGClassification//Feb 2021 Filtered Data//5s//CLOSE//FW2_T40 Close (valve) - Filtered\n",
            "/content/EEGClassification//Feb 2021 Filtered Data//5s//CLOSE//AZ_T12 Close (valve) - Filtered\n",
            "/content/EEGClassification//Feb 2021 Filtered Data//5s//CLOSE//CJ_T22 Close (valve)_(1) - Filtered\n",
            "/content/EEGClassification//Nov 2020 Filtered Data//5s//CLOSE//AZ_T3 Close (valve) - Filtered\n",
            "/content/EEGClassification//Nov 2020 Filtered Data//5s//CLOSE//FW_T78 Close (valve) - Filtered\n",
            "/content/EEGClassification//Nov 2020 Filtered Data//5s//CLOSE//AZ_T50 Close (valve) - Filtered\n",
            "/content/EEGClassification//Nov 2020 Filtered Data//5s//CLOSE//SD_T29 Close (valve) - Filtered\n",
            "/content/EEGClassification//Nov 2020 Filtered Data//5s//CLOSE//FW_T61 Close (valve) - Filtered\n",
            "/content/EEGClassification//Nov 2020 Filtered Data//5s//CLOSE//SD_T23 Close (valve) - Filtered\n",
            "/content/EEGClassification//Nov 2020 Filtered Data//5s//CLOSE//CJ_T35 Close (valve) - Filtered\n",
            "/content/EEGClassification//Feb 2021 Filtered Data//5s//CLOSE//FW_T34 Close (valve) - Filtered\n"
          ],
          "name": "stdout"
        }
      ]
    },
    {
      "cell_type": "code",
      "metadata": {
        "colab": {
          "base_uri": "https://localhost:8080/"
        },
        "id": "sqSSeZviSL6O",
        "outputId": "3dcfa3a3-16e2-48c8-d1d5-0b5ba02d4207"
      },
      "source": [
        "for f in filenames_test:\r\n",
        "    print(f)"
      ],
      "execution_count": 8,
      "outputs": [
        {
          "output_type": "stream",
          "text": [
            "/content/EEGClassification//Nov 2020 Filtered Data//5s//OPEN//SD_T17 Open (valve) - Filtered\n",
            "/content/EEGClassification//Feb 2021 Filtered Data//5s//OPEN//JP_T15 Open (valve) - Filtered\n",
            "/content/EEGClassification//Feb 2021 Filtered Data//5s//OPEN//FW3_T39 Open (valve) - Filtered\n",
            "/content/EEGClassification//Feb 2021 Filtered Data//5s//OPEN//AZ_T35 Open (valve) - Filtered\n",
            "/content/EEGClassification//Feb 2021 Filtered Data//5s//OPEN//SD_T21 Open (valve) - Filtered\n",
            "/content/EEGClassification//Feb 2021 Filtered Data//5s//OPEN//JP_T11 Open (valve) - Filtered\n",
            "/content/EEGClassification//Feb 2021 Filtered Data//5s//OPEN//JP2_T7 Open (valve)_(1) - Filtered\n",
            "/content/EEGClassification//Feb 2021 Filtered Data//5s//OPEN//CJ_T29 Open (valve)_(1) - Filtered\n",
            "/content/EEGClassification//Nov 2020 Filtered Data//5s//OPEN//CJ_T73 Open (valve) - Filtered\n",
            "/content/EEGClassification//Feb 2021 Filtered Data//5s//OPEN//CJ_T37 Open (valve)_(1) - Filtered\n",
            "/content/EEGClassification//Feb 2021 Filtered Data//5s//OPEN//FW2_T39 Open (valve) - Filtered\n",
            "/content/EEGClassification//Nov 2020 Filtered Data//5s//OPEN//CJ_T69 Open (valve) - Filtered\n",
            "/content/EEGClassification//Feb 2021 Filtered Data//5s//OPEN//FW_T17 Open (valve) - Filtered\n",
            "/content/EEGClassification//Feb 2021 Filtered Data//5s//OPEN//JP2_T9 Open (valve)_(1) - Filtered\n",
            "/content/EEGClassification//Feb 2021 Filtered Data//5s//OPEN//CJ_T11 Open (valve)_(1) - Filtered\n",
            "/content/EEGClassification//Feb 2021 Filtered Data//5s//OPEN//SD_T19 Open (valve) - Filtered\n",
            "/content/EEGClassification//Feb 2021 Filtered Data//5s//OPEN//CJ_T5 Open (valve) - Filtered\n",
            "/content/EEGClassification//Feb 2021 Filtered Data//5s//OPEN//CJ_T11 Open (valve)_(2) - Filtered\n",
            "/content/EEGClassification//Feb 2021 Filtered Data//5s//OPEN//JP_T17 Open (valve) - Filtered\n",
            "/content/EEGClassification//Feb 2021 Filtered Data//5s//OPEN//CJ_T13 Open (valve) - Filtered\n",
            "/content/EEGClassification//Feb 2021 Filtered Data//5s//OPEN//AZ_T11 Open (valve) - Filtered\n",
            "/content/EEGClassification//Feb 2021 Filtered Data//5s//OPEN//CJ_T5 Open (valve)_(1) - Filtered\n",
            "/content/EEGClassification//Feb 2021 Filtered Data//5s//OPEN//CJ_T27 Open (valve)_(2) - Filtered\n",
            "/content/EEGClassification//Feb 2021 Filtered Data//5s//OPEN//CJ_T31 Open (valve)_(2) - Filtered\n",
            "/content/EEGClassification//Feb 2021 Filtered Data//5s//OPEN//JP2_T17 Open (valve)_(1) - Filtered\n",
            "/content/EEGClassification//Feb 2021 Filtered Data//5s//OPEN//SD_T25 Open (valve) - Filtered\n",
            "/content/EEGClassification//Feb 2021 Filtered Data//5s//OPEN//CJ_T17 Open (valve) - Filtered\n",
            "/content/EEGClassification//Nov 2020 Filtered Data//5s//OPEN//SD_T19 Open (valve) - Filtered\n",
            "/content/EEGClassification//Feb 2021 Filtered Data//5s//OPEN//JP2_T15 Open (valve)_(1) - Filtered\n",
            "/content/EEGClassification//Feb 2021 Filtered Data//5s//CLOSE//CJ_T36 Close (valve) - Filtered\n",
            "/content/EEGClassification//Feb 2021 Filtered Data//5s//CLOSE//FW2_T30 Close (valve) - Filtered\n",
            "/content/EEGClassification//Nov 2020 Filtered Data//5s//CLOSE//CJ_T75 Close (valve) - Filtered\n",
            "/content/EEGClassification//Feb 2021 Filtered Data//5s//CLOSE//FW2_T20 Close (valve) - Filtered\n",
            "/content/EEGClassification//Feb 2021 Filtered Data//5s//CLOSE//JP_T16 Close (valve) - Filtered\n",
            "/content/EEGClassification//Feb 2021 Filtered Data//5s//CLOSE//CJ_T20 Close (valve)_(1) - Filtered\n",
            "/content/EEGClassification//Nov 2020 Filtered Data//5s//CLOSE//SD_T11 Close (valve) - Filtered\n",
            "/content/EEGClassification//Feb 2021 Filtered Data//5s//CLOSE//JP2_T2 Close (valve)_(1) - Filtered\n",
            "/content/EEGClassification//Feb 2021 Filtered Data//5s//CLOSE//SD_T16 Close (valve) - Filtered\n",
            "/content/EEGClassification//Feb 2021 Filtered Data//5s//CLOSE//CJ2_T10 Close (valve) - Filtered\n",
            "/content/EEGClassification//Feb 2021 Filtered Data//5s//CLOSE//CJ_T32 Close (valve)_(2) - Filtered\n",
            "/content/EEGClassification//Feb 2021 Filtered Data//5s//CLOSE//CJ_T4 Close (valve) - Filtered\n",
            "/content/EEGClassification//Feb 2021 Filtered Data//5s//CLOSE//AZ_T36 Close (valve) - Filtered\n",
            "/content/EEGClassification//Feb 2021 Filtered Data//5s//CLOSE//AZ_T26 Close (valve) - Filtered\n",
            "/content/EEGClassification//Feb 2021 Filtered Data//5s//CLOSE//SD_T22 Close (valve) - Filtered\n",
            "/content/EEGClassification//Nov 2020 Filtered Data//5s//CLOSE//CJ_T78 Close (valve) - Filtered\n",
            "/content/EEGClassification//Feb 2021 Filtered Data//5s//CLOSE//CJ_T36 Close (valve)_(2) - Filtered\n",
            "/content/EEGClassification//Nov 2020 Filtered Data//5s//CLOSE//SD_T20 Close (valve) - Filtered\n",
            "/content/EEGClassification//Nov 2020 Filtered Data//5s//CLOSE//AZ_T77 Close (valve) - Filtered\n",
            "/content/EEGClassification//Feb 2021 Filtered Data//5s//CLOSE//AZ_T22 Close (valve) - Filtered\n",
            "/content/EEGClassification//Nov 2020 Filtered Data//5s//CLOSE//AZ_T26 Close (valve) - Filtered\n",
            "/content/EEGClassification//Feb 2021 Filtered Data//5s//CLOSE//FW2_T36 Close (valve) - Filtered\n",
            "/content/EEGClassification//Nov 2020 Filtered Data//5s//CLOSE//AZ_T76 Close (valve) - Filtered\n",
            "/content/EEGClassification//Nov 2020 Filtered Data//5s//CLOSE//FW_T85 Close (valve) - Filtered\n",
            "/content/EEGClassification//Nov 2020 Filtered Data//5s//CLOSE//SD_T46 Close (valve) - Filtered\n",
            "/content/EEGClassification//Feb 2021 Filtered Data//5s//CLOSE//SD_T18 Close (valve)_(1) - Filtered\n",
            "/content/EEGClassification//Feb 2021 Filtered Data//5s//CLOSE//JP2_T12 Close (valve)_(1) - Filtered\n",
            "/content/EEGClassification//Feb 2021 Filtered Data//5s//CLOSE//AZ_T32 Close (valve) - Filtered\n",
            "/content/EEGClassification//Nov 2020 Filtered Data//5s//CLOSE//FW_T18 Close (valve) - Filtered\n",
            "/content/EEGClassification//Feb 2021 Filtered Data//5s//CLOSE//CJ_T30 Close (valve) - Filtered\n",
            "/content/EEGClassification//Nov 2020 Filtered Data//5s//CLOSE//CJ_T15 Close (valve) - Filtered\n",
            "/content/EEGClassification//Feb 2021 Filtered Data//5s//CLOSE//CJ_T4 Close (valve)_(1) - Filtered\n",
            "/content/EEGClassification//Nov 2020 Filtered Data//5s//CLOSE//AZ_T32 Close (valve) - Filtered\n",
            "/content/EEGClassification//Nov 2020 Filtered Data//5s//CLOSE//SD_T31 Close (valve) - Filtered\n",
            "/content/EEGClassification//Feb 2021 Filtered Data//5s//CLOSE//JP_T2 Close (valve) - Filtered\n",
            "/content/EEGClassification//Nov 2020 Filtered Data//5s//CLOSE//FW_T43 Close (valve) - Filtered\n",
            "/content/EEGClassification//Nov 2020 Filtered Data//5s//CLOSE//AZ_T33 Close (valve) - Filtered\n",
            "/content/EEGClassification//Feb 2021 Filtered Data//5s//CLOSE//SD_T10 Close (valve)_(1) - Filtered\n",
            "/content/EEGClassification//Feb 2021 Filtered Data//5s//CLOSE//FW_T24 Close (valve) - Filtered\n",
            "/content/EEGClassification//Feb 2021 Filtered Data//5s//CLOSE//SD_T14 Close (valve) - Filtered\n",
            "/content/EEGClassification//Nov 2020 Filtered Data//5s//CLOSE//AZ_T5 Close (valve) - Filtered\n",
            "/content/EEGClassification//Feb 2021 Filtered Data//5s//CLOSE//CJ_T18 Close (valve)_(1) - Filtered\n",
            "/content/EEGClassification//Feb 2021 Filtered Data//5s//CLOSE//JP_T40 Close (valve) - Filtered\n",
            "/content/EEGClassification//Nov 2020 Filtered Data//5s//CLOSE//CJ_T53 Close (valve) - Filtered\n",
            "/content/EEGClassification//Nov 2020 Filtered Data//5s//CLOSE//CJ_T7 Close (valve) - Filtered\n",
            "/content/EEGClassification//Feb 2021 Filtered Data//5s//CLOSE//FW2_T4 Close (valve) - Filtered\n"
          ],
          "name": "stdout"
        }
      ]
    },
    {
      "cell_type": "markdown",
      "metadata": {
        "id": "HxLuUoi-VBxI"
      },
      "source": [
        "### Time-Frequency (Wavelets Transformed)"
      ]
    },
    {
      "cell_type": "code",
      "metadata": {
        "id": "9FpqhWuIX0g-"
      },
      "source": [
        "#openPath = os.getcwd() + r\"//Nov 2020 Filtered Data//5s//Spectograms//OPEN//\"\r\n",
        "#closedPath = os.getcwd() + r\"//Nov 2020 Filtered Data//5s//Spectograms//CLOSE//\"\r\n",
        "#openPath2 = os.getcwd() + r\"//Feb 2021 Filtered Data//5s//Spectograms//OPEN//\"\r\n",
        "#closedPath2 = os.getcwd() + r\"//Feb 2021 Filtered Data//5s//Spectograms//CLOSE//\"\r\n",
        "#openFiles = getFiles(openPath) + getFiles(openPath2)\r\n",
        "#closedFiles = getFiles(closedPath) + getFiles(closedPath2) \r\n",
        "\r\n",
        "#X, y, filenames = createDatasetFromJSON(openFiles, closedFiles)\r\n",
        "#X, y, filenames = shuffleDataset(X, y, filenames)\r\n",
        "#X_train_wv, y_train_wv, filenames_train_wv, X_other, y_other, filenames_other = splitDataset(X, y, filenames, percent_train=0.7)\r\n",
        "#X_val_wv, y_val_wv, filenames_val_wv, X_test_wv, y_test_wv, filenames_test_wv = splitDataset(X_other, y_other, filenames_other, percent_train=0.5) \r\n",
        "\r\n",
        "#print(\"X_train_wv Shape: \", X_train_wv.shape)\r\n",
        "#print(\"y_train_wv Shape: \", y_train_wv.shape)\r\n",
        "#print(\"X_val_wv Shape: \", X_val_wv.shape)\r\n",
        "#print(\"y_val_wv Shape: \", y_val_wv.shape)"
      ],
      "execution_count": 9,
      "outputs": []
    },
    {
      "cell_type": "markdown",
      "metadata": {
        "id": "-5PGpuGETz-r"
      },
      "source": [
        "Print the filenames for the datasets (can verify with training notebook that all sets are the same and that test data wasn't used for training)"
      ]
    },
    {
      "cell_type": "code",
      "metadata": {
        "id": "9KR9_1RxTzdE"
      },
      "source": [
        "#print(filenames_train_wv)"
      ],
      "execution_count": 10,
      "outputs": []
    },
    {
      "cell_type": "code",
      "metadata": {
        "id": "IwvgktiST4P0"
      },
      "source": [
        "#print(filenames_val_wv)"
      ],
      "execution_count": 11,
      "outputs": []
    },
    {
      "cell_type": "code",
      "metadata": {
        "id": "w58unN-tT4SV"
      },
      "source": [
        "#print(filenames_test_wv)"
      ],
      "execution_count": 12,
      "outputs": []
    },
    {
      "cell_type": "markdown",
      "metadata": {
        "id": "KhAvP5Rc733B"
      },
      "source": [
        "## 3. Testing"
      ]
    },
    {
      "cell_type": "markdown",
      "metadata": {
        "id": "M0LG01hjpkNw"
      },
      "source": [
        "### Test the baseline SVM"
      ]
    },
    {
      "cell_type": "code",
      "metadata": {
        "id": "GQ1lhUJ8P4DX"
      },
      "source": [
        "def get_accuracy_svm(model, X, y):\r\n",
        "    predictions = model.predict(X)\r\n",
        "    num_correct = np.sum((predictions - y) == 0)\r\n",
        "    n = X.shape[0]\r\n",
        "    accuracy = num_correct/n\r\n",
        "    print(\"The number of correct predictions is: \", num_correct)\r\n",
        "    print(\"The number of files is: \", n)\r\n",
        "    print(\"The accuracy is: \", accuracy)"
      ],
      "execution_count": 36,
      "outputs": []
    },
    {
      "cell_type": "code",
      "metadata": {
        "id": "yfnKwy1OP41m"
      },
      "source": [
        "#Flatten channels to single vector for SVM\r\n",
        "X_train_svm = X_train.reshape(X_train.shape[0], 4*(256*5))\r\n",
        "X_val_svm = X_val.reshape(X_val.shape[0], 4*(256*5))\r\n",
        "X_test_svm = X_test.reshape(X_test.shape[0], 4*(256*5))"
      ],
      "execution_count": 37,
      "outputs": []
    },
    {
      "cell_type": "code",
      "metadata": {
        "colab": {
          "base_uri": "https://localhost:8080/",
          "height": 177
        },
        "id": "EsChbJqm8Ong",
        "outputId": "d85fce79-a78f-4e90-e60d-4a0325951488"
      },
      "source": [
        "filename = 'Trained Model Weights/svm_kernel-sigmoid_C-100_5s.sav'\r\n",
        "model = pickle.load(open(filename, 'rb'))"
      ],
      "execution_count": 38,
      "outputs": [
        {
          "output_type": "error",
          "ename": "TypeError",
          "evalue": "ignored",
          "traceback": [
            "\u001b[0;31m---------------------------------------------------------------------------\u001b[0m",
            "\u001b[0;31mTypeError\u001b[0m                                 Traceback (most recent call last)",
            "\u001b[0;32m<ipython-input-38-6c2c47a22147>\u001b[0m in \u001b[0;36m<module>\u001b[0;34m()\u001b[0m\n\u001b[1;32m      1\u001b[0m \u001b[0mfilename\u001b[0m \u001b[0;34m=\u001b[0m \u001b[0;34m'Trained Model Weights/svm_kernel-sigmoid_C-100_5s.sav'\u001b[0m\u001b[0;34m\u001b[0m\u001b[0;34m\u001b[0m\u001b[0m\n\u001b[0;32m----> 2\u001b[0;31m \u001b[0mmodel\u001b[0m \u001b[0;34m=\u001b[0m \u001b[0mpickle\u001b[0m\u001b[0;34m.\u001b[0m\u001b[0mload\u001b[0m\u001b[0;34m(\u001b[0m\u001b[0mopen\u001b[0m\u001b[0;34m(\u001b[0m\u001b[0mfilename\u001b[0m\u001b[0;34m,\u001b[0m \u001b[0;34m'rb'\u001b[0m\u001b[0;34m)\u001b[0m\u001b[0;34m)\u001b[0m\u001b[0;34m\u001b[0m\u001b[0;34m\u001b[0m\u001b[0m\n\u001b[0m",
            "\u001b[0;31mTypeError\u001b[0m: 'list' object is not callable"
          ]
        }
      ]
    },
    {
      "cell_type": "code",
      "metadata": {
        "id": "jhlXRz4kQ9kW"
      },
      "source": [
        "print(\"Training Accuracy\")\r\n",
        "get_accuracy_svm(model, X_train_svm, y_train)\r\n",
        "print(\"\\nValidation Accuracy\")\r\n",
        "get_accuracy_svm(model, X_val_svm, y_val)"
      ],
      "execution_count": null,
      "outputs": []
    },
    {
      "cell_type": "code",
      "metadata": {
        "id": "p6XliSziQJJv"
      },
      "source": [
        "print(\"Test Accuracy\")\r\n",
        "get_accuracy_svm(model, X_test_svm, y_test)"
      ],
      "execution_count": null,
      "outputs": []
    },
    {
      "cell_type": "markdown",
      "metadata": {
        "id": "TxRR0ShhpZOh"
      },
      "source": [
        "### Test the ANN models"
      ]
    },
    {
      "cell_type": "code",
      "metadata": {
        "id": "SyUVDxZcqOs4"
      },
      "source": [
        "def createTensorDataset(data, labels):\r\n",
        "    # Returns a tensor dataset object given np arrays of the data and labels\r\n",
        "    data_tensor = torch.tensor(data)\r\n",
        "    labels_tensor = torch.tensor(labels)\r\n",
        "    dataset = TensorDataset(data_tensor, labels_tensor)\r\n",
        "    return dataset\r\n",
        "\r\n",
        "def get_accuracy(model, data_loader, train=False, use_cuda=True):\r\n",
        "    correct = 0\r\n",
        "    total = 0\r\n",
        "    for file, labels in iter(data_loader):\r\n",
        "        file = file.float()\r\n",
        "        labels = labels.long()\r\n",
        "        if use_cuda and torch.cuda.is_available():\r\n",
        "            file = file.cuda()\r\n",
        "            labels = labels.cuda()\r\n",
        "        output = model(file)\r\n",
        "        pred = output.max(1, keepdim=True)[1]\r\n",
        "        correct += pred.eq(labels.view_as(pred)).sum().item()\r\n",
        "        total += file.shape[0]\r\n",
        "    return correct / total\r\n",
        "\r\n",
        "def print_model_predictions(model, data_loader, filenames_list, use_cuda=True):\r\n",
        "    #Use a batch size of 1 with shuffle=False for the data_loader passed in\r\n",
        "    num_correct = 0\r\n",
        "    total = 0\r\n",
        "    for file, labels in iter(data_loader):\r\n",
        "        file = file.float()\r\n",
        "        labels = labels.long()\r\n",
        "        if use_cuda and torch.cuda.is_available():\r\n",
        "            file = file.cuda()\r\n",
        "            labels = labels.cuda()\r\n",
        "        output = model(file)\r\n",
        "        pred = output.max(1, keepdim=True)[1]\r\n",
        "        if pred.item() == labels.item():\r\n",
        "            status = \"Prediction Correct\"\r\n",
        "            num_correct += 1\r\n",
        "        else:\r\n",
        "            status = \"Prediction Incorrect\"\r\n",
        "        total += 1\r\n",
        "        print(\"Prediction: \", pred.item(), \" | Label: \", labels.item(), \" | Status: \", status, \" | File: \", filenames_list[total-1])\r\n",
        "    print(\"Files classified correctly: \", num_correct)\r\n",
        "    print(\"Total files: \", total)\r\n",
        "    print(\"Accuracy: \", num_correct/total)"
      ],
      "execution_count": 17,
      "outputs": []
    },
    {
      "cell_type": "code",
      "metadata": {
        "id": "-JTl1jGmqhgA"
      },
      "source": [
        "class ANN_TS_2L(nn.Module):\r\n",
        "    def __init__(self):\r\n",
        "        super(ANN_TS_2L, self).__init__()\r\n",
        "        self.name = \"ANN_TS_2L\"\r\n",
        "        self.layer1 = nn.Linear((256*5)*4, 200)\r\n",
        "        self.layer2 = nn.Linear(200, 50)\r\n",
        "        self.layer3 = nn.Linear(50, 2)\r\n",
        "    def forward(self, img):\r\n",
        "        flattened = img.view(-1, (256*5)*4)\r\n",
        "        activation1 = F.relu(self.layer1(flattened))\r\n",
        "        activation2 = F.relu(self.layer2(activation1))\r\n",
        "        output = self.layer3(activation2)\r\n",
        "        return output\r\n",
        "\r\n",
        "class ANN_TS_3L(nn.Module):\r\n",
        "    def __init__(self):\r\n",
        "        super(ANN_TS_3L, self).__init__()\r\n",
        "        self.name = \"ANN_TS_3L\"\r\n",
        "        self.layer1 = nn.Linear((256*5)*4, 500)\r\n",
        "        self.layer2 = nn.Linear(500, 200)\r\n",
        "        self.layer3 = nn.Linear(200, 50)\r\n",
        "        self.layer4 = nn.Linear(50, 2)\r\n",
        "    def forward(self, img):\r\n",
        "        flattened = img.view(-1, (256*5)*4)\r\n",
        "        activation1 = F.relu(self.layer1(flattened))\r\n",
        "        activation2 = F.relu(self.layer2(activation1))\r\n",
        "        activation3 = F.relu(self.layer3(activation2))\r\n",
        "        output = self.layer4(activation3)\r\n",
        "        return output"
      ],
      "execution_count": 18,
      "outputs": []
    },
    {
      "cell_type": "markdown",
      "metadata": {
        "id": "tnDMTwN7y9bt"
      },
      "source": [
        "#### 2 Layer ANN on 5s Recordings"
      ]
    },
    {
      "cell_type": "markdown",
      "metadata": {
        "id": "k4wr3GEC8Eqp"
      },
      "source": [
        "##### Trained with batch_size=50"
      ]
    },
    {
      "cell_type": "code",
      "metadata": {
        "colab": {
          "base_uri": "https://localhost:8080/"
        },
        "id": "bZnUw7ZbqRXI",
        "outputId": "5e2a3a2e-e967-4edd-d0e1-82b715bda81f"
      },
      "source": [
        "pth = 'Trained Model Weights/ANN_TS_2L Weights 2021-03-14 20-28/model_ANN_TS_2L_bs50_lr0-01_epoch67_iteration475_val-acc62-6667.pth'\r\n",
        "model_2L = ANN_TS_2L()\r\n",
        "model_2L.load_state_dict(torch.load(pth))\r\n",
        "model_2L.eval()"
      ],
      "execution_count": 19,
      "outputs": [
        {
          "output_type": "execute_result",
          "data": {
            "text/plain": [
              "ANN_TS_2L(\n",
              "  (layer1): Linear(in_features=5120, out_features=200, bias=True)\n",
              "  (layer2): Linear(in_features=200, out_features=50, bias=True)\n",
              "  (layer3): Linear(in_features=50, out_features=2, bias=True)\n",
              ")"
            ]
          },
          "metadata": {
            "tags": []
          },
          "execution_count": 19
        }
      ]
    },
    {
      "cell_type": "code",
      "metadata": {
        "id": "sqnuOghFrjSD"
      },
      "source": [
        "batch_size = 1\r\n",
        "\r\n",
        "train_dataset = createTensorDataset(X_train, y_train)\r\n",
        "train_loader = torch.utils.data.DataLoader(train_dataset, batch_size=batch_size, shuffle=False)\r\n",
        "\r\n",
        "val_dataset = createTensorDataset(X_val, y_val)\r\n",
        "val_loader = torch.utils.data.DataLoader(val_dataset, batch_size=batch_size, shuffle=False)\r\n",
        "\r\n",
        "test_dataset = createTensorDataset(X_test, y_test)\r\n",
        "test_loader = torch.utils.data.DataLoader(test_dataset, batch_size=batch_size, shuffle=False)"
      ],
      "execution_count": 20,
      "outputs": []
    },
    {
      "cell_type": "code",
      "metadata": {
        "colab": {
          "base_uri": "https://localhost:8080/"
        },
        "id": "x5isxDQastO4",
        "outputId": "5cd69491-fe5d-488d-bda0-d9ef5c26b5a0"
      },
      "source": [
        "print(\"Training Set Accuracy\")\r\n",
        "get_accuracy(model_2L, train_loader)"
      ],
      "execution_count": 21,
      "outputs": [
        {
          "output_type": "stream",
          "text": [
            "Training Set Accuracy\n"
          ],
          "name": "stdout"
        },
        {
          "output_type": "execute_result",
          "data": {
            "text/plain": [
              "0.8314285714285714"
            ]
          },
          "metadata": {
            "tags": []
          },
          "execution_count": 21
        }
      ]
    },
    {
      "cell_type": "code",
      "metadata": {
        "colab": {
          "base_uri": "https://localhost:8080/"
        },
        "id": "fttRXldastRX",
        "outputId": "8d00ce8d-2039-4cf7-f84d-f273767b487a"
      },
      "source": [
        "print(\"Validation Set Accuracy\")\r\n",
        "get_accuracy(model_2L, val_loader)"
      ],
      "execution_count": 22,
      "outputs": [
        {
          "output_type": "stream",
          "text": [
            "Validation Set Accuracy\n"
          ],
          "name": "stdout"
        },
        {
          "output_type": "execute_result",
          "data": {
            "text/plain": [
              "0.8133333333333334"
            ]
          },
          "metadata": {
            "tags": []
          },
          "execution_count": 22
        }
      ]
    },
    {
      "cell_type": "code",
      "metadata": {
        "colab": {
          "base_uri": "https://localhost:8080/"
        },
        "id": "KScvlFgvr6DA",
        "outputId": "4540e80e-f44f-4e17-f076-701b88fe1b2c"
      },
      "source": [
        "print(\"Test Set Accuracy\")\r\n",
        "get_accuracy(model_2L, test_loader)"
      ],
      "execution_count": 23,
      "outputs": [
        {
          "output_type": "stream",
          "text": [
            "Test Set Accuracy\n"
          ],
          "name": "stdout"
        },
        {
          "output_type": "execute_result",
          "data": {
            "text/plain": [
              "0.9066666666666666"
            ]
          },
          "metadata": {
            "tags": []
          },
          "execution_count": 23
        }
      ]
    },
    {
      "cell_type": "code",
      "metadata": {
        "colab": {
          "base_uri": "https://localhost:8080/"
        },
        "id": "cjyZzSZqxUyO",
        "outputId": "ad27bb47-3140-41ca-f596-da08154cb90c"
      },
      "source": [
        "print_model_predictions(model_2L, test_loader, filenames_test)"
      ],
      "execution_count": 24,
      "outputs": [
        {
          "output_type": "stream",
          "text": [
            "Prediction:  1  | Label:  1  | Status:  Prediction Correct  | File:  /content/EEGClassification//Nov 2020 Filtered Data//5s//OPEN//SD_T17 Open (valve) - Filtered\n",
            "Prediction:  1  | Label:  1  | Status:  Prediction Correct  | File:  /content/EEGClassification//Feb 2021 Filtered Data//5s//OPEN//JP_T15 Open (valve) - Filtered\n",
            "Prediction:  1  | Label:  1  | Status:  Prediction Correct  | File:  /content/EEGClassification//Feb 2021 Filtered Data//5s//OPEN//FW3_T39 Open (valve) - Filtered\n",
            "Prediction:  1  | Label:  1  | Status:  Prediction Correct  | File:  /content/EEGClassification//Feb 2021 Filtered Data//5s//OPEN//AZ_T35 Open (valve) - Filtered\n",
            "Prediction:  1  | Label:  1  | Status:  Prediction Correct  | File:  /content/EEGClassification//Feb 2021 Filtered Data//5s//OPEN//SD_T21 Open (valve) - Filtered\n",
            "Prediction:  0  | Label:  1  | Status:  Prediction Incorrect  | File:  /content/EEGClassification//Feb 2021 Filtered Data//5s//OPEN//JP_T11 Open (valve) - Filtered\n",
            "Prediction:  1  | Label:  1  | Status:  Prediction Correct  | File:  /content/EEGClassification//Feb 2021 Filtered Data//5s//OPEN//JP2_T7 Open (valve)_(1) - Filtered\n",
            "Prediction:  1  | Label:  1  | Status:  Prediction Correct  | File:  /content/EEGClassification//Feb 2021 Filtered Data//5s//OPEN//CJ_T29 Open (valve)_(1) - Filtered\n",
            "Prediction:  1  | Label:  1  | Status:  Prediction Correct  | File:  /content/EEGClassification//Nov 2020 Filtered Data//5s//OPEN//CJ_T73 Open (valve) - Filtered\n",
            "Prediction:  1  | Label:  1  | Status:  Prediction Correct  | File:  /content/EEGClassification//Feb 2021 Filtered Data//5s//OPEN//CJ_T37 Open (valve)_(1) - Filtered\n",
            "Prediction:  1  | Label:  1  | Status:  Prediction Correct  | File:  /content/EEGClassification//Feb 2021 Filtered Data//5s//OPEN//FW2_T39 Open (valve) - Filtered\n",
            "Prediction:  1  | Label:  1  | Status:  Prediction Correct  | File:  /content/EEGClassification//Nov 2020 Filtered Data//5s//OPEN//CJ_T69 Open (valve) - Filtered\n",
            "Prediction:  1  | Label:  1  | Status:  Prediction Correct  | File:  /content/EEGClassification//Feb 2021 Filtered Data//5s//OPEN//FW_T17 Open (valve) - Filtered\n",
            "Prediction:  1  | Label:  1  | Status:  Prediction Correct  | File:  /content/EEGClassification//Feb 2021 Filtered Data//5s//OPEN//JP2_T9 Open (valve)_(1) - Filtered\n",
            "Prediction:  1  | Label:  1  | Status:  Prediction Correct  | File:  /content/EEGClassification//Feb 2021 Filtered Data//5s//OPEN//CJ_T11 Open (valve)_(1) - Filtered\n",
            "Prediction:  1  | Label:  1  | Status:  Prediction Correct  | File:  /content/EEGClassification//Feb 2021 Filtered Data//5s//OPEN//SD_T19 Open (valve) - Filtered\n",
            "Prediction:  1  | Label:  1  | Status:  Prediction Correct  | File:  /content/EEGClassification//Feb 2021 Filtered Data//5s//OPEN//CJ_T5 Open (valve) - Filtered\n",
            "Prediction:  1  | Label:  1  | Status:  Prediction Correct  | File:  /content/EEGClassification//Feb 2021 Filtered Data//5s//OPEN//CJ_T11 Open (valve)_(2) - Filtered\n",
            "Prediction:  1  | Label:  1  | Status:  Prediction Correct  | File:  /content/EEGClassification//Feb 2021 Filtered Data//5s//OPEN//JP_T17 Open (valve) - Filtered\n",
            "Prediction:  1  | Label:  1  | Status:  Prediction Correct  | File:  /content/EEGClassification//Feb 2021 Filtered Data//5s//OPEN//CJ_T13 Open (valve) - Filtered\n",
            "Prediction:  1  | Label:  1  | Status:  Prediction Correct  | File:  /content/EEGClassification//Feb 2021 Filtered Data//5s//OPEN//AZ_T11 Open (valve) - Filtered\n",
            "Prediction:  1  | Label:  1  | Status:  Prediction Correct  | File:  /content/EEGClassification//Feb 2021 Filtered Data//5s//OPEN//CJ_T5 Open (valve)_(1) - Filtered\n",
            "Prediction:  1  | Label:  1  | Status:  Prediction Correct  | File:  /content/EEGClassification//Feb 2021 Filtered Data//5s//OPEN//CJ_T27 Open (valve)_(2) - Filtered\n",
            "Prediction:  1  | Label:  1  | Status:  Prediction Correct  | File:  /content/EEGClassification//Feb 2021 Filtered Data//5s//OPEN//CJ_T31 Open (valve)_(2) - Filtered\n",
            "Prediction:  1  | Label:  1  | Status:  Prediction Correct  | File:  /content/EEGClassification//Feb 2021 Filtered Data//5s//OPEN//JP2_T17 Open (valve)_(1) - Filtered\n",
            "Prediction:  1  | Label:  1  | Status:  Prediction Correct  | File:  /content/EEGClassification//Feb 2021 Filtered Data//5s//OPEN//SD_T25 Open (valve) - Filtered\n",
            "Prediction:  0  | Label:  1  | Status:  Prediction Incorrect  | File:  /content/EEGClassification//Feb 2021 Filtered Data//5s//OPEN//CJ_T17 Open (valve) - Filtered\n",
            "Prediction:  1  | Label:  1  | Status:  Prediction Correct  | File:  /content/EEGClassification//Nov 2020 Filtered Data//5s//OPEN//SD_T19 Open (valve) - Filtered\n",
            "Prediction:  1  | Label:  1  | Status:  Prediction Correct  | File:  /content/EEGClassification//Feb 2021 Filtered Data//5s//OPEN//JP2_T15 Open (valve)_(1) - Filtered\n",
            "Prediction:  0  | Label:  0  | Status:  Prediction Correct  | File:  /content/EEGClassification//Feb 2021 Filtered Data//5s//CLOSE//CJ_T36 Close (valve) - Filtered\n",
            "Prediction:  0  | Label:  0  | Status:  Prediction Correct  | File:  /content/EEGClassification//Feb 2021 Filtered Data//5s//CLOSE//FW2_T30 Close (valve) - Filtered\n",
            "Prediction:  0  | Label:  0  | Status:  Prediction Correct  | File:  /content/EEGClassification//Nov 2020 Filtered Data//5s//CLOSE//CJ_T75 Close (valve) - Filtered\n",
            "Prediction:  0  | Label:  0  | Status:  Prediction Correct  | File:  /content/EEGClassification//Feb 2021 Filtered Data//5s//CLOSE//FW2_T20 Close (valve) - Filtered\n",
            "Prediction:  1  | Label:  0  | Status:  Prediction Incorrect  | File:  /content/EEGClassification//Feb 2021 Filtered Data//5s//CLOSE//JP_T16 Close (valve) - Filtered\n",
            "Prediction:  0  | Label:  0  | Status:  Prediction Correct  | File:  /content/EEGClassification//Feb 2021 Filtered Data//5s//CLOSE//CJ_T20 Close (valve)_(1) - Filtered\n",
            "Prediction:  0  | Label:  0  | Status:  Prediction Correct  | File:  /content/EEGClassification//Nov 2020 Filtered Data//5s//CLOSE//SD_T11 Close (valve) - Filtered\n",
            "Prediction:  1  | Label:  0  | Status:  Prediction Incorrect  | File:  /content/EEGClassification//Feb 2021 Filtered Data//5s//CLOSE//JP2_T2 Close (valve)_(1) - Filtered\n",
            "Prediction:  0  | Label:  0  | Status:  Prediction Correct  | File:  /content/EEGClassification//Feb 2021 Filtered Data//5s//CLOSE//SD_T16 Close (valve) - Filtered\n",
            "Prediction:  0  | Label:  0  | Status:  Prediction Correct  | File:  /content/EEGClassification//Feb 2021 Filtered Data//5s//CLOSE//CJ2_T10 Close (valve) - Filtered\n",
            "Prediction:  0  | Label:  0  | Status:  Prediction Correct  | File:  /content/EEGClassification//Feb 2021 Filtered Data//5s//CLOSE//CJ_T32 Close (valve)_(2) - Filtered\n",
            "Prediction:  0  | Label:  0  | Status:  Prediction Correct  | File:  /content/EEGClassification//Feb 2021 Filtered Data//5s//CLOSE//CJ_T4 Close (valve) - Filtered\n",
            "Prediction:  0  | Label:  0  | Status:  Prediction Correct  | File:  /content/EEGClassification//Feb 2021 Filtered Data//5s//CLOSE//AZ_T36 Close (valve) - Filtered\n",
            "Prediction:  0  | Label:  0  | Status:  Prediction Correct  | File:  /content/EEGClassification//Feb 2021 Filtered Data//5s//CLOSE//AZ_T26 Close (valve) - Filtered\n",
            "Prediction:  0  | Label:  0  | Status:  Prediction Correct  | File:  /content/EEGClassification//Feb 2021 Filtered Data//5s//CLOSE//SD_T22 Close (valve) - Filtered\n",
            "Prediction:  0  | Label:  0  | Status:  Prediction Correct  | File:  /content/EEGClassification//Nov 2020 Filtered Data//5s//CLOSE//CJ_T78 Close (valve) - Filtered\n",
            "Prediction:  0  | Label:  0  | Status:  Prediction Correct  | File:  /content/EEGClassification//Feb 2021 Filtered Data//5s//CLOSE//CJ_T36 Close (valve)_(2) - Filtered\n",
            "Prediction:  0  | Label:  0  | Status:  Prediction Correct  | File:  /content/EEGClassification//Nov 2020 Filtered Data//5s//CLOSE//SD_T20 Close (valve) - Filtered\n",
            "Prediction:  0  | Label:  0  | Status:  Prediction Correct  | File:  /content/EEGClassification//Nov 2020 Filtered Data//5s//CLOSE//AZ_T77 Close (valve) - Filtered\n",
            "Prediction:  0  | Label:  0  | Status:  Prediction Correct  | File:  /content/EEGClassification//Feb 2021 Filtered Data//5s//CLOSE//AZ_T22 Close (valve) - Filtered\n",
            "Prediction:  0  | Label:  0  | Status:  Prediction Correct  | File:  /content/EEGClassification//Nov 2020 Filtered Data//5s//CLOSE//AZ_T26 Close (valve) - Filtered\n",
            "Prediction:  0  | Label:  0  | Status:  Prediction Correct  | File:  /content/EEGClassification//Feb 2021 Filtered Data//5s//CLOSE//FW2_T36 Close (valve) - Filtered\n",
            "Prediction:  0  | Label:  0  | Status:  Prediction Correct  | File:  /content/EEGClassification//Nov 2020 Filtered Data//5s//CLOSE//AZ_T76 Close (valve) - Filtered\n",
            "Prediction:  0  | Label:  0  | Status:  Prediction Correct  | File:  /content/EEGClassification//Nov 2020 Filtered Data//5s//CLOSE//FW_T85 Close (valve) - Filtered\n",
            "Prediction:  0  | Label:  0  | Status:  Prediction Correct  | File:  /content/EEGClassification//Nov 2020 Filtered Data//5s//CLOSE//SD_T46 Close (valve) - Filtered\n",
            "Prediction:  0  | Label:  0  | Status:  Prediction Correct  | File:  /content/EEGClassification//Feb 2021 Filtered Data//5s//CLOSE//SD_T18 Close (valve)_(1) - Filtered\n",
            "Prediction:  0  | Label:  0  | Status:  Prediction Correct  | File:  /content/EEGClassification//Feb 2021 Filtered Data//5s//CLOSE//JP2_T12 Close (valve)_(1) - Filtered\n",
            "Prediction:  0  | Label:  0  | Status:  Prediction Correct  | File:  /content/EEGClassification//Feb 2021 Filtered Data//5s//CLOSE//AZ_T32 Close (valve) - Filtered\n",
            "Prediction:  0  | Label:  0  | Status:  Prediction Correct  | File:  /content/EEGClassification//Nov 2020 Filtered Data//5s//CLOSE//FW_T18 Close (valve) - Filtered\n",
            "Prediction:  0  | Label:  0  | Status:  Prediction Correct  | File:  /content/EEGClassification//Feb 2021 Filtered Data//5s//CLOSE//CJ_T30 Close (valve) - Filtered\n",
            "Prediction:  0  | Label:  0  | Status:  Prediction Correct  | File:  /content/EEGClassification//Nov 2020 Filtered Data//5s//CLOSE//CJ_T15 Close (valve) - Filtered\n",
            "Prediction:  0  | Label:  0  | Status:  Prediction Correct  | File:  /content/EEGClassification//Feb 2021 Filtered Data//5s//CLOSE//CJ_T4 Close (valve)_(1) - Filtered\n",
            "Prediction:  0  | Label:  0  | Status:  Prediction Correct  | File:  /content/EEGClassification//Nov 2020 Filtered Data//5s//CLOSE//AZ_T32 Close (valve) - Filtered\n",
            "Prediction:  0  | Label:  0  | Status:  Prediction Correct  | File:  /content/EEGClassification//Nov 2020 Filtered Data//5s//CLOSE//SD_T31 Close (valve) - Filtered\n",
            "Prediction:  0  | Label:  0  | Status:  Prediction Correct  | File:  /content/EEGClassification//Feb 2021 Filtered Data//5s//CLOSE//JP_T2 Close (valve) - Filtered\n",
            "Prediction:  1  | Label:  0  | Status:  Prediction Incorrect  | File:  /content/EEGClassification//Nov 2020 Filtered Data//5s//CLOSE//FW_T43 Close (valve) - Filtered\n",
            "Prediction:  0  | Label:  0  | Status:  Prediction Correct  | File:  /content/EEGClassification//Nov 2020 Filtered Data//5s//CLOSE//AZ_T33 Close (valve) - Filtered\n",
            "Prediction:  0  | Label:  0  | Status:  Prediction Correct  | File:  /content/EEGClassification//Feb 2021 Filtered Data//5s//CLOSE//SD_T10 Close (valve)_(1) - Filtered\n",
            "Prediction:  1  | Label:  0  | Status:  Prediction Incorrect  | File:  /content/EEGClassification//Feb 2021 Filtered Data//5s//CLOSE//FW_T24 Close (valve) - Filtered\n",
            "Prediction:  0  | Label:  0  | Status:  Prediction Correct  | File:  /content/EEGClassification//Feb 2021 Filtered Data//5s//CLOSE//SD_T14 Close (valve) - Filtered\n",
            "Prediction:  1  | Label:  0  | Status:  Prediction Incorrect  | File:  /content/EEGClassification//Nov 2020 Filtered Data//5s//CLOSE//AZ_T5 Close (valve) - Filtered\n",
            "Prediction:  0  | Label:  0  | Status:  Prediction Correct  | File:  /content/EEGClassification//Feb 2021 Filtered Data//5s//CLOSE//CJ_T18 Close (valve)_(1) - Filtered\n",
            "Prediction:  0  | Label:  0  | Status:  Prediction Correct  | File:  /content/EEGClassification//Feb 2021 Filtered Data//5s//CLOSE//JP_T40 Close (valve) - Filtered\n",
            "Prediction:  0  | Label:  0  | Status:  Prediction Correct  | File:  /content/EEGClassification//Nov 2020 Filtered Data//5s//CLOSE//CJ_T53 Close (valve) - Filtered\n",
            "Prediction:  0  | Label:  0  | Status:  Prediction Correct  | File:  /content/EEGClassification//Nov 2020 Filtered Data//5s//CLOSE//CJ_T7 Close (valve) - Filtered\n",
            "Prediction:  0  | Label:  0  | Status:  Prediction Correct  | File:  /content/EEGClassification//Feb 2021 Filtered Data//5s//CLOSE//FW2_T4 Close (valve) - Filtered\n",
            "Files classified correctly:  68\n",
            "Total files:  75\n",
            "Accuracy:  0.9066666666666666\n"
          ],
          "name": "stdout"
        }
      ]
    },
    {
      "cell_type": "markdown",
      "metadata": {
        "id": "B6uHKJqp8LMS"
      },
      "source": [
        "##### Trained with batch_size=75"
      ]
    },
    {
      "cell_type": "code",
      "metadata": {
        "colab": {
          "base_uri": "https://localhost:8080/"
        },
        "id": "mGnnQN7v8LwG",
        "outputId": "7add0bc5-7905-48e7-bc68-e4c7618ef964"
      },
      "source": [
        "pth = 'Trained Model Weights/ANN_TS_2L Weights 2021-03-14 20-46/model_ANN_TS_2L_bs75_lr0-01_epoch93_iteration466_val-acc62-6667.pth'\r\n",
        "model_2L_bs75 = ANN_TS_2L()\r\n",
        "model_2L_bs75.load_state_dict(torch.load(pth))\r\n",
        "model_2L_bs75.eval()"
      ],
      "execution_count": 25,
      "outputs": [
        {
          "output_type": "execute_result",
          "data": {
            "text/plain": [
              "ANN_TS_2L(\n",
              "  (layer1): Linear(in_features=5120, out_features=200, bias=True)\n",
              "  (layer2): Linear(in_features=200, out_features=50, bias=True)\n",
              "  (layer3): Linear(in_features=50, out_features=2, bias=True)\n",
              ")"
            ]
          },
          "metadata": {
            "tags": []
          },
          "execution_count": 25
        }
      ]
    },
    {
      "cell_type": "code",
      "metadata": {
        "colab": {
          "base_uri": "https://localhost:8080/"
        },
        "id": "FkQz2EOL8kjA",
        "outputId": "eec4596d-9ad9-427c-a2b2-b5997ad6bb35"
      },
      "source": [
        "print(\"Training Set Accuracy\")\r\n",
        "get_accuracy(model_2L_bs75, train_loader)"
      ],
      "execution_count": 26,
      "outputs": [
        {
          "output_type": "stream",
          "text": [
            "Training Set Accuracy\n"
          ],
          "name": "stdout"
        },
        {
          "output_type": "execute_result",
          "data": {
            "text/plain": [
              "0.8314285714285714"
            ]
          },
          "metadata": {
            "tags": []
          },
          "execution_count": 26
        }
      ]
    },
    {
      "cell_type": "code",
      "metadata": {
        "colab": {
          "base_uri": "https://localhost:8080/"
        },
        "id": "YDQHRtwt8kv-",
        "outputId": "78963f3b-d2dc-415e-82f5-03b533d956c9"
      },
      "source": [
        "print(\"Validation Set Accuracy\")\r\n",
        "get_accuracy(model_2L_bs75, val_loader)"
      ],
      "execution_count": 27,
      "outputs": [
        {
          "output_type": "stream",
          "text": [
            "Validation Set Accuracy\n"
          ],
          "name": "stdout"
        },
        {
          "output_type": "execute_result",
          "data": {
            "text/plain": [
              "0.7866666666666666"
            ]
          },
          "metadata": {
            "tags": []
          },
          "execution_count": 27
        }
      ]
    },
    {
      "cell_type": "code",
      "metadata": {
        "colab": {
          "base_uri": "https://localhost:8080/"
        },
        "id": "hPaejze78k2P",
        "outputId": "359095b7-b7a7-46d5-bb99-3f0462adb721"
      },
      "source": [
        "print(\"Testing Set Accuracy\")\r\n",
        "get_accuracy(model_2L_bs75, test_loader)"
      ],
      "execution_count": 28,
      "outputs": [
        {
          "output_type": "stream",
          "text": [
            "Testing Set Accuracy\n"
          ],
          "name": "stdout"
        },
        {
          "output_type": "execute_result",
          "data": {
            "text/plain": [
              "0.84"
            ]
          },
          "metadata": {
            "tags": []
          },
          "execution_count": 28
        }
      ]
    },
    {
      "cell_type": "code",
      "metadata": {
        "colab": {
          "base_uri": "https://localhost:8080/"
        },
        "id": "U7lZYGCx8k89",
        "outputId": "34ba43d0-9fd5-42fb-c723-beffbb1ef0d5"
      },
      "source": [
        "print_model_predictions(model_2L_bs75, test_loader, filenames_test)"
      ],
      "execution_count": 29,
      "outputs": [
        {
          "output_type": "stream",
          "text": [
            "Prediction:  0  | Label:  0  | Status:  Prediction Correct  | File:  /content/EEGClassification//Feb 2021 Filtered Data//5s//CLOSE//FW2_T18 Close (valve) - Filtered\n",
            "Prediction:  1  | Label:  1  | Status:  Prediction Correct  | File:  /content/EEGClassification//Nov 2020 Filtered Data//5s//OPEN//FW_T6 Open (valve) - Filtered\n",
            "Prediction:  0  | Label:  1  | Status:  Prediction Incorrect  | File:  /content/EEGClassification//Feb 2021 Filtered Data//5s//OPEN//CJ_T1 Open (valve)_(1) - Filtered\n",
            "Prediction:  1  | Label:  1  | Status:  Prediction Correct  | File:  /content/EEGClassification//Feb 2021 Filtered Data//5s//OPEN//CJ_T33 Open (valve)_(1) - Filtered\n",
            "Prediction:  1  | Label:  0  | Status:  Prediction Incorrect  | File:  /content/EEGClassification//Feb 2021 Filtered Data//5s//CLOSE//CJ2_T4 Close (valve) - Filtered\n",
            "Prediction:  1  | Label:  1  | Status:  Prediction Correct  | File:  /content/EEGClassification//Feb 2021 Filtered Data//5s//OPEN//CJ_T37 Open (valve)_(1) - Filtered\n",
            "Prediction:  0  | Label:  0  | Status:  Prediction Correct  | File:  /content/EEGClassification//Nov 2020 Filtered Data//5s//CLOSE//SD_T22 Close (valve) - Filtered\n",
            "Prediction:  1  | Label:  0  | Status:  Prediction Incorrect  | File:  /content/EEGClassification//Feb 2021 Filtered Data//5s//CLOSE//JP_T12 Close (valve) - Filtered\n",
            "Prediction:  0  | Label:  0  | Status:  Prediction Correct  | File:  /content/EEGClassification//Feb 2021 Filtered Data//5s//CLOSE//JP2_T18 Close (valve)_(1) - Filtered\n",
            "Prediction:  1  | Label:  1  | Status:  Prediction Correct  | File:  /content/EEGClassification//Feb 2021 Filtered Data//5s//OPEN//FW2_T31 Open (valve) - Filtered\n",
            "Prediction:  0  | Label:  0  | Status:  Prediction Correct  | File:  /content/EEGClassification//Feb 2021 Filtered Data//5s//CLOSE//CJ_T26 Close (valve) - Filtered\n",
            "Prediction:  0  | Label:  0  | Status:  Prediction Correct  | File:  /content/EEGClassification//Nov 2020 Filtered Data//5s//CLOSE//CJ_T43 Close (valve) - Filtered\n",
            "Prediction:  0  | Label:  0  | Status:  Prediction Correct  | File:  /content/EEGClassification//Feb 2021 Filtered Data//5s//CLOSE//FW_T30 Close (valve) - Filtered\n",
            "Prediction:  0  | Label:  0  | Status:  Prediction Correct  | File:  /content/EEGClassification//Feb 2021 Filtered Data//5s//CLOSE//FW2_T8 Close (valve) - Filtered\n",
            "Prediction:  1  | Label:  1  | Status:  Prediction Correct  | File:  /content/EEGClassification//Feb 2021 Filtered Data//5s//OPEN//CJ_T31 Open (valve)_(2) - Filtered\n",
            "Prediction:  1  | Label:  1  | Status:  Prediction Correct  | File:  /content/EEGClassification//Feb 2021 Filtered Data//5s//OPEN//CJ2_T5 Open (valve) - Filtered\n",
            "Prediction:  0  | Label:  0  | Status:  Prediction Correct  | File:  /content/EEGClassification//Feb 2021 Filtered Data//5s//CLOSE//AZ_T38 Close (valve) - Filtered\n",
            "Prediction:  0  | Label:  0  | Status:  Prediction Correct  | File:  /content/EEGClassification//Feb 2021 Filtered Data//5s//CLOSE//FW3_T38 Close (valve) - Filtered\n",
            "Prediction:  0  | Label:  0  | Status:  Prediction Correct  | File:  /content/EEGClassification//Feb 2021 Filtered Data//5s//CLOSE//CJ_T36 Close (valve)_(1) - Filtered\n",
            "Prediction:  0  | Label:  0  | Status:  Prediction Correct  | File:  /content/EEGClassification//Feb 2021 Filtered Data//5s//CLOSE//FW3_T12 Close (valve) - Filtered\n",
            "Prediction:  1  | Label:  1  | Status:  Prediction Correct  | File:  /content/EEGClassification//Feb 2021 Filtered Data//5s//OPEN//FW2_T7 Open (valve) - Filtered\n",
            "Prediction:  1  | Label:  1  | Status:  Prediction Correct  | File:  /content/EEGClassification//Nov 2020 Filtered Data//5s//OPEN//FW_T32 Open (valve) - Filtered\n",
            "Prediction:  0  | Label:  0  | Status:  Prediction Correct  | File:  /content/EEGClassification//Feb 2021 Filtered Data//5s//CLOSE//SD_T22 Close (valve) - Filtered\n",
            "Prediction:  1  | Label:  0  | Status:  Prediction Incorrect  | File:  /content/EEGClassification//Feb 2021 Filtered Data//5s//CLOSE//CJ_T34 Close (valve) - Filtered\n",
            "Prediction:  0  | Label:  0  | Status:  Prediction Correct  | File:  /content/EEGClassification//Nov 2020 Filtered Data//5s//CLOSE//FW_T78 Close (valve) - Filtered\n",
            "Prediction:  0  | Label:  0  | Status:  Prediction Correct  | File:  /content/EEGClassification//Feb 2021 Filtered Data//5s//CLOSE//AZ_T14 Close (valve) - Filtered\n",
            "Prediction:  0  | Label:  0  | Status:  Prediction Correct  | File:  /content/EEGClassification//Nov 2020 Filtered Data//5s//CLOSE//FW_T46 Close (valve) - Filtered\n",
            "Prediction:  0  | Label:  0  | Status:  Prediction Correct  | File:  /content/EEGClassification//Nov 2020 Filtered Data//5s//CLOSE//SD_T25 Close (valve) - Filtered\n",
            "Prediction:  0  | Label:  0  | Status:  Prediction Correct  | File:  /content/EEGClassification//Feb 2021 Filtered Data//5s//CLOSE//JP_T2 Close (valve) - Filtered\n",
            "Prediction:  0  | Label:  0  | Status:  Prediction Correct  | File:  /content/EEGClassification//Nov 2020 Filtered Data//5s//CLOSE//SD_T29 Close (valve) - Filtered\n",
            "Prediction:  0  | Label:  0  | Status:  Prediction Correct  | File:  /content/EEGClassification//Feb 2021 Filtered Data//5s//CLOSE//FW2_T30 Close (valve) - Filtered\n",
            "Prediction:  1  | Label:  0  | Status:  Prediction Incorrect  | File:  /content/EEGClassification//Nov 2020 Filtered Data//5s//CLOSE//AZ_T26 Close (valve) - Filtered\n",
            "Prediction:  0  | Label:  1  | Status:  Prediction Incorrect  | File:  /content/EEGClassification//Feb 2021 Filtered Data//5s//OPEN//CJ_T35 Open (valve) - Filtered\n",
            "Prediction:  0  | Label:  0  | Status:  Prediction Correct  | File:  /content/EEGClassification//Nov 2020 Filtered Data//5s//CLOSE//CJ_T75 Close (valve) - Filtered\n",
            "Prediction:  1  | Label:  0  | Status:  Prediction Incorrect  | File:  /content/EEGClassification//Nov 2020 Filtered Data//5s//CLOSE//SD_T52 Close (valve) - Filtered\n",
            "Prediction:  1  | Label:  0  | Status:  Prediction Incorrect  | File:  /content/EEGClassification//Feb 2021 Filtered Data//5s//CLOSE//AZ_T2 Close (valve) - Filtered\n",
            "Prediction:  1  | Label:  1  | Status:  Prediction Correct  | File:  /content/EEGClassification//Feb 2021 Filtered Data//5s//OPEN//SD_T5 Open (valve)_(1) - Filtered\n",
            "Prediction:  0  | Label:  0  | Status:  Prediction Correct  | File:  /content/EEGClassification//Feb 2021 Filtered Data//5s//CLOSE//JP_T24 Close (valve) - Filtered\n",
            "Prediction:  1  | Label:  1  | Status:  Prediction Correct  | File:  /content/EEGClassification//Nov 2020 Filtered Data//5s//OPEN//SD_T57 Open (valve) - Filtered\n",
            "Prediction:  0  | Label:  0  | Status:  Prediction Correct  | File:  /content/EEGClassification//Feb 2021 Filtered Data//5s//CLOSE//FW3_T14 Close (valve) - Filtered\n",
            "Prediction:  0  | Label:  0  | Status:  Prediction Correct  | File:  /content/EEGClassification//Nov 2020 Filtered Data//5s//CLOSE//AZ_T76 Close (valve) - Filtered\n",
            "Prediction:  1  | Label:  1  | Status:  Prediction Correct  | File:  /content/EEGClassification//Feb 2021 Filtered Data//5s//OPEN//CJ_T13 Open (valve) - Filtered\n",
            "Prediction:  1  | Label:  1  | Status:  Prediction Correct  | File:  /content/EEGClassification//Feb 2021 Filtered Data//5s//OPEN//FW3_T1 Open (valve) - Filtered\n",
            "Prediction:  1  | Label:  1  | Status:  Prediction Correct  | File:  /content/EEGClassification//Feb 2021 Filtered Data//5s//OPEN//JP_T3 Open (valve) - Filtered\n",
            "Prediction:  1  | Label:  1  | Status:  Prediction Correct  | File:  /content/EEGClassification//Feb 2021 Filtered Data//5s//OPEN//CJ_T7 Open (valve)_(1) - Filtered\n",
            "Prediction:  1  | Label:  1  | Status:  Prediction Correct  | File:  /content/EEGClassification//Feb 2021 Filtered Data//5s//OPEN//CJ_T23 Open (valve)_(2) - Filtered\n",
            "Prediction:  0  | Label:  0  | Status:  Prediction Correct  | File:  /content/EEGClassification//Feb 2021 Filtered Data//5s//CLOSE//JP_T10 Close (valve) - Filtered\n",
            "Prediction:  1  | Label:  1  | Status:  Prediction Correct  | File:  /content/EEGClassification//Feb 2021 Filtered Data//5s//OPEN//SD_T1 Open (valve)_(1) - Filtered\n",
            "Prediction:  0  | Label:  0  | Status:  Prediction Correct  | File:  /content/EEGClassification//Nov 2020 Filtered Data//5s//CLOSE//AZ_T61 Close (valve) - Filtered\n",
            "Prediction:  1  | Label:  1  | Status:  Prediction Correct  | File:  /content/EEGClassification//Feb 2021 Filtered Data//5s//OPEN//CJ_T23 Open (valve)_(1) - Filtered\n",
            "Prediction:  0  | Label:  0  | Status:  Prediction Correct  | File:  /content/EEGClassification//Feb 2021 Filtered Data//5s//CLOSE//CJ_T14 Close (valve)_(2) - Filtered\n",
            "Prediction:  1  | Label:  1  | Status:  Prediction Correct  | File:  /content/EEGClassification//Feb 2021 Filtered Data//5s//OPEN//CJ2_T9 Open (valve) - Filtered\n",
            "Prediction:  0  | Label:  0  | Status:  Prediction Correct  | File:  /content/EEGClassification//Nov 2020 Filtered Data//5s//CLOSE//SD_T2 Close (valve) - Filtered\n",
            "Prediction:  1  | Label:  1  | Status:  Prediction Correct  | File:  /content/EEGClassification//Feb 2021 Filtered Data//5s//OPEN//CJ_T11 Open (valve)_(1) - Filtered\n",
            "Prediction:  0  | Label:  0  | Status:  Prediction Correct  | File:  /content/EEGClassification//Nov 2020 Filtered Data//5s//CLOSE//FW_T84 Close (valve) - Filtered\n",
            "Prediction:  0  | Label:  0  | Status:  Prediction Correct  | File:  /content/EEGClassification//Feb 2021 Filtered Data//5s//CLOSE//FW3_T2 Close (valve) - Filtered\n",
            "Prediction:  1  | Label:  1  | Status:  Prediction Correct  | File:  /content/EEGClassification//Feb 2021 Filtered Data//5s//OPEN//FW3_T23 Open (valve) - Filtered\n",
            "Prediction:  1  | Label:  0  | Status:  Prediction Incorrect  | File:  /content/EEGClassification//Nov 2020 Filtered Data//5s//CLOSE//CJ_T53 Close (valve) - Filtered\n",
            "Prediction:  0  | Label:  0  | Status:  Prediction Correct  | File:  /content/EEGClassification//Nov 2020 Filtered Data//5s//CLOSE//FW_T70 Close (valve) - Filtered\n",
            "Prediction:  1  | Label:  0  | Status:  Prediction Incorrect  | File:  /content/EEGClassification//Feb 2021 Filtered Data//5s//CLOSE//CJ_T30 Close (valve)_(1) - Filtered\n",
            "Prediction:  0  | Label:  0  | Status:  Prediction Correct  | File:  /content/EEGClassification//Feb 2021 Filtered Data//5s//CLOSE//AZ_T32 Close (valve) - Filtered\n",
            "Prediction:  1  | Label:  1  | Status:  Prediction Correct  | File:  /content/EEGClassification//Feb 2021 Filtered Data//5s//OPEN//FW2_T39 Open (valve) - Filtered\n",
            "Prediction:  0  | Label:  0  | Status:  Prediction Correct  | File:  /content/EEGClassification//Feb 2021 Filtered Data//5s//CLOSE//FW_T36 Close (valve) - Filtered\n",
            "Prediction:  1  | Label:  1  | Status:  Prediction Correct  | File:  /content/EEGClassification//Feb 2021 Filtered Data//5s//OPEN//SD_T11 Open (valve) - Filtered\n",
            "Prediction:  0  | Label:  0  | Status:  Prediction Correct  | File:  /content/EEGClassification//Nov 2020 Filtered Data//5s//CLOSE//AZ_T50 Close (valve) - Filtered\n",
            "Prediction:  1  | Label:  1  | Status:  Prediction Correct  | File:  /content/EEGClassification//Feb 2021 Filtered Data//5s//OPEN//FW_T35 Open (valve) - Filtered\n",
            "Prediction:  1  | Label:  1  | Status:  Prediction Correct  | File:  /content/EEGClassification//Feb 2021 Filtered Data//5s//OPEN//FW3_T25 Open (valve) - Filtered\n",
            "Prediction:  0  | Label:  0  | Status:  Prediction Correct  | File:  /content/EEGClassification//Feb 2021 Filtered Data//5s//CLOSE//CJ_T12 Close (valve)_(1) - Filtered\n",
            "Prediction:  1  | Label:  1  | Status:  Prediction Correct  | File:  /content/EEGClassification//Feb 2021 Filtered Data//5s//OPEN//FW_T15 Open (valve) - Filtered\n",
            "Prediction:  0  | Label:  0  | Status:  Prediction Correct  | File:  /content/EEGClassification//Feb 2021 Filtered Data//5s//CLOSE//FW3_T18 Close (valve) - Filtered\n",
            "Prediction:  1  | Label:  1  | Status:  Prediction Correct  | File:  /content/EEGClassification//Nov 2020 Filtered Data//5s//OPEN//FW_T75 Open (valve) - Filtered\n",
            "Prediction:  0  | Label:  0  | Status:  Prediction Correct  | File:  /content/EEGClassification//Nov 2020 Filtered Data//5s//CLOSE//SD_T28 Close (valve) - Filtered\n",
            "Prediction:  0  | Label:  0  | Status:  Prediction Correct  | File:  /content/EEGClassification//Nov 2020 Filtered Data//5s//CLOSE//FW_T51 Close (valve) - Filtered\n",
            "Prediction:  1  | Label:  1  | Status:  Prediction Correct  | File:  /content/EEGClassification//Feb 2021 Filtered Data//5s//OPEN//CJ_T7 Open (valve)_(2) - Filtered\n",
            "Prediction:  1  | Label:  0  | Status:  Prediction Incorrect  | File:  /content/EEGClassification//Feb 2021 Filtered Data//5s//CLOSE//CJ_T4 Close (valve)_(2) - Filtered\n",
            "Files classified correctly:  64\n",
            "Total files:  75\n",
            "Accuracy:  0.8533333333333334\n"
          ],
          "name": "stdout"
        }
      ]
    },
    {
      "cell_type": "markdown",
      "metadata": {
        "id": "kV8ffy-FzES7"
      },
      "source": [
        "#### 3 Layer ANN on 5s Recordings"
      ]
    },
    {
      "cell_type": "code",
      "metadata": {
        "colab": {
          "base_uri": "https://localhost:8080/"
        },
        "id": "Jf5W7nQCzHqc",
        "outputId": "78b639ec-cfab-4a0f-9801-48f8af8ba237"
      },
      "source": [
        "pth = 'Trained Model Weights/ANN_TS_3L Weights 2021-03-14 20-38/model_ANN_TS_3L_bs50_lr0-001_epoch72_iteration509_val-acc65-3333.pth'\r\n",
        "model_3L = ANN_TS_3L()\r\n",
        "model_3L.load_state_dict(torch.load(pth))\r\n",
        "model_3L.eval()"
      ],
      "execution_count": 29,
      "outputs": [
        {
          "output_type": "execute_result",
          "data": {
            "text/plain": [
              "ANN_TS_3L(\n",
              "  (layer1): Linear(in_features=5120, out_features=500, bias=True)\n",
              "  (layer2): Linear(in_features=500, out_features=200, bias=True)\n",
              "  (layer3): Linear(in_features=200, out_features=50, bias=True)\n",
              "  (layer4): Linear(in_features=50, out_features=2, bias=True)\n",
              ")"
            ]
          },
          "metadata": {
            "tags": []
          },
          "execution_count": 29
        }
      ]
    },
    {
      "cell_type": "code",
      "metadata": {
        "colab": {
          "base_uri": "https://localhost:8080/"
        },
        "id": "w0KEcY7FzVwk",
        "outputId": "817524e4-9ac4-49f9-c737-bab9ddb0d966"
      },
      "source": [
        "print(\"Training Set Accuracy\")\r\n",
        "get_accuracy(model_3L, train_loader)"
      ],
      "execution_count": 30,
      "outputs": [
        {
          "output_type": "stream",
          "text": [
            "Training Set Accuracy\n"
          ],
          "name": "stdout"
        },
        {
          "output_type": "execute_result",
          "data": {
            "text/plain": [
              "0.8542857142857143"
            ]
          },
          "metadata": {
            "tags": []
          },
          "execution_count": 30
        }
      ]
    },
    {
      "cell_type": "code",
      "metadata": {
        "colab": {
          "base_uri": "https://localhost:8080/"
        },
        "id": "OUsotxUXvUrI",
        "outputId": "5bfa910b-97fe-449a-ef41-1451a9e28ebe"
      },
      "source": [
        "print_model_predictions(model_3L, train_loader, filenames_train)"
      ],
      "execution_count": 31,
      "outputs": [
        {
          "output_type": "stream",
          "text": [
            "Prediction:  1  | Label:  1  | Status:  Prediction Correct  | File:  /content/EEGClassification//Feb 2021 Filtered Data//5s//OPEN//SD_T5 Open (valve)_(1) - Filtered\n",
            "Prediction:  0  | Label:  1  | Status:  Prediction Incorrect  | File:  /content/EEGClassification//Nov 2020 Filtered Data//5s//OPEN//AZ_T39 Open (valve) - Filtered\n",
            "Prediction:  1  | Label:  1  | Status:  Prediction Correct  | File:  /content/EEGClassification//Feb 2021 Filtered Data//5s//OPEN//CJ_T35 Open (valve)_(2) - Filtered\n",
            "Prediction:  1  | Label:  1  | Status:  Prediction Correct  | File:  /content/EEGClassification//Nov 2020 Filtered Data//5s//OPEN//FW_T75 Open (valve) - Filtered\n",
            "Prediction:  0  | Label:  1  | Status:  Prediction Incorrect  | File:  /content/EEGClassification//Feb 2021 Filtered Data//5s//OPEN//CJ2_T1 Open (valve) - Filtered\n",
            "Prediction:  1  | Label:  1  | Status:  Prediction Correct  | File:  /content/EEGClassification//Feb 2021 Filtered Data//5s//OPEN//FW_T27 Open (valve) - Filtered\n",
            "Prediction:  1  | Label:  1  | Status:  Prediction Correct  | File:  /content/EEGClassification//Feb 2021 Filtered Data//5s//OPEN//CJ2_T3 Open (valve) - Filtered\n",
            "Prediction:  1  | Label:  1  | Status:  Prediction Correct  | File:  /content/EEGClassification//Nov 2020 Filtered Data//5s//OPEN//SD_T15 Open (valve) - Filtered\n",
            "Prediction:  1  | Label:  1  | Status:  Prediction Correct  | File:  /content/EEGClassification//Feb 2021 Filtered Data//5s//OPEN//JP2_T13 Open (valve)_(1) - Filtered\n",
            "Prediction:  1  | Label:  1  | Status:  Prediction Correct  | File:  /content/EEGClassification//Nov 2020 Filtered Data//5s//OPEN//SD_T14 Open (valve) - Filtered\n",
            "Prediction:  1  | Label:  1  | Status:  Prediction Correct  | File:  /content/EEGClassification//Nov 2020 Filtered Data//5s//OPEN//AZ_T75 Open (valve) - Filtered\n",
            "Prediction:  1  | Label:  1  | Status:  Prediction Correct  | File:  /content/EEGClassification//Feb 2021 Filtered Data//5s//OPEN//AZ_T13 Open (valve) - Filtered\n",
            "Prediction:  1  | Label:  1  | Status:  Prediction Correct  | File:  /content/EEGClassification//Feb 2021 Filtered Data//5s//OPEN//CJ_T21 Open (valve) - Filtered\n",
            "Prediction:  1  | Label:  1  | Status:  Prediction Correct  | File:  /content/EEGClassification//Nov 2020 Filtered Data//5s//OPEN//AZ_T55 Open (valve) - Filtered\n",
            "Prediction:  1  | Label:  1  | Status:  Prediction Correct  | File:  /content/EEGClassification//Feb 2021 Filtered Data//5s//OPEN//CJ_T25 Open (valve)_(2) - Filtered\n",
            "Prediction:  1  | Label:  1  | Status:  Prediction Correct  | File:  /content/EEGClassification//Nov 2020 Filtered Data//5s//OPEN//AZ_T57 Open (valve) - Filtered\n",
            "Prediction:  1  | Label:  1  | Status:  Prediction Correct  | File:  /content/EEGClassification//Feb 2021 Filtered Data//5s//OPEN//CJ_T11 Open (valve) - Filtered\n",
            "Prediction:  1  | Label:  1  | Status:  Prediction Correct  | File:  /content/EEGClassification//Nov 2020 Filtered Data//5s//OPEN//FW_T32 Open (valve) - Filtered\n",
            "Prediction:  1  | Label:  1  | Status:  Prediction Correct  | File:  /content/EEGClassification//Feb 2021 Filtered Data//5s//OPEN//FW2_T37 Open (valve) - Filtered\n",
            "Prediction:  1  | Label:  1  | Status:  Prediction Correct  | File:  /content/EEGClassification//Feb 2021 Filtered Data//5s//OPEN//CJ2_T9 Open (valve) - Filtered\n",
            "Prediction:  1  | Label:  1  | Status:  Prediction Correct  | File:  /content/EEGClassification//Feb 2021 Filtered Data//5s//OPEN//CJ_T39 Open (valve)_(1) - Filtered\n",
            "Prediction:  1  | Label:  1  | Status:  Prediction Correct  | File:  /content/EEGClassification//Feb 2021 Filtered Data//5s//OPEN//FW_T35 Open (valve) - Filtered\n",
            "Prediction:  1  | Label:  1  | Status:  Prediction Correct  | File:  /content/EEGClassification//Nov 2020 Filtered Data//5s//OPEN//FW_T34 Open (valve) - Filtered\n",
            "Prediction:  0  | Label:  1  | Status:  Prediction Incorrect  | File:  /content/EEGClassification//Feb 2021 Filtered Data//5s//OPEN//SD_T17 Open (valve) - Filtered\n",
            "Prediction:  1  | Label:  1  | Status:  Prediction Correct  | File:  /content/EEGClassification//Nov 2020 Filtered Data//5s//OPEN//AZ_T65 Open (valve) - Filtered\n",
            "Prediction:  0  | Label:  1  | Status:  Prediction Incorrect  | File:  /content/EEGClassification//Nov 2020 Filtered Data//5s//OPEN//SD_T1 Open (valve)_(1) - Filtered\n",
            "Prediction:  1  | Label:  1  | Status:  Prediction Correct  | File:  /content/EEGClassification//Feb 2021 Filtered Data//5s//OPEN//JP_T5 Open (valve) - Filtered\n",
            "Prediction:  1  | Label:  1  | Status:  Prediction Correct  | File:  /content/EEGClassification//Nov 2020 Filtered Data//5s//OPEN//SD_T12 Open (valve)_(1) - Filtered\n",
            "Prediction:  1  | Label:  1  | Status:  Prediction Correct  | File:  /content/EEGClassification//Nov 2020 Filtered Data//5s//OPEN//CJ_T45 Open (valve) - Filtered\n",
            "Prediction:  1  | Label:  1  | Status:  Prediction Correct  | File:  /content/EEGClassification//Feb 2021 Filtered Data//5s//OPEN//CJ_T35 Open (valve)_(1) - Filtered\n",
            "Prediction:  1  | Label:  1  | Status:  Prediction Correct  | File:  /content/EEGClassification//Nov 2020 Filtered Data//5s//OPEN//FW_T19 Open (valve) - Filtered\n",
            "Prediction:  1  | Label:  1  | Status:  Prediction Correct  | File:  /content/EEGClassification//Nov 2020 Filtered Data//5s//OPEN//SD_T13 Open (valve) - Filtered\n",
            "Prediction:  1  | Label:  1  | Status:  Prediction Correct  | File:  /content/EEGClassification//Feb 2021 Filtered Data//5s//OPEN//SD_T17 Open (valve)_(1) - Filtered\n",
            "Prediction:  1  | Label:  1  | Status:  Prediction Correct  | File:  /content/EEGClassification//Nov 2020 Filtered Data//5s//OPEN//CJ_T58 Open (valve) - Filtered\n",
            "Prediction:  1  | Label:  1  | Status:  Prediction Correct  | File:  /content/EEGClassification//Nov 2020 Filtered Data//5s//OPEN//FW_T56 Open (valve) - Filtered\n",
            "Prediction:  1  | Label:  1  | Status:  Prediction Correct  | File:  /content/EEGClassification//Feb 2021 Filtered Data//5s//OPEN//FW_T29 Open (valve) - Filtered\n",
            "Prediction:  1  | Label:  1  | Status:  Prediction Correct  | File:  /content/EEGClassification//Feb 2021 Filtered Data//5s//OPEN//CJ_T9 Open (valve) - Filtered\n",
            "Prediction:  1  | Label:  1  | Status:  Prediction Correct  | File:  /content/EEGClassification//Nov 2020 Filtered Data//5s//OPEN//AZ_T62 Open (valve) - Filtered\n",
            "Prediction:  1  | Label:  1  | Status:  Prediction Correct  | File:  /content/EEGClassification//Feb 2021 Filtered Data//5s//OPEN//CJ_T13 Open (valve)_(1) - Filtered\n",
            "Prediction:  1  | Label:  1  | Status:  Prediction Correct  | File:  /content/EEGClassification//Feb 2021 Filtered Data//5s//OPEN//CJ_T7 Open (valve)_(2) - Filtered\n",
            "Prediction:  1  | Label:  1  | Status:  Prediction Correct  | File:  /content/EEGClassification//Feb 2021 Filtered Data//5s//OPEN//FW_T7 Open (valve) - Filtered\n",
            "Prediction:  1  | Label:  1  | Status:  Prediction Correct  | File:  /content/EEGClassification//Nov 2020 Filtered Data//5s//OPEN//CJ_T29 Open (valve) - Filtered\n",
            "Prediction:  1  | Label:  1  | Status:  Prediction Correct  | File:  /content/EEGClassification//Feb 2021 Filtered Data//5s//OPEN//SD_T23 Open (valve) - Filtered\n",
            "Prediction:  1  | Label:  1  | Status:  Prediction Correct  | File:  /content/EEGClassification//Feb 2021 Filtered Data//5s//OPEN//CJ_T23 Open (valve)_(2) - Filtered\n",
            "Prediction:  1  | Label:  1  | Status:  Prediction Correct  | File:  /content/EEGClassification//Feb 2021 Filtered Data//5s//OPEN//JP_T31 Open (valve) - Filtered\n",
            "Prediction:  1  | Label:  1  | Status:  Prediction Correct  | File:  /content/EEGClassification//Feb 2021 Filtered Data//5s//OPEN//CJ_T37 Open (valve) - Filtered\n",
            "Prediction:  1  | Label:  1  | Status:  Prediction Correct  | File:  /content/EEGClassification//Feb 2021 Filtered Data//5s//OPEN//JP_T1 Open (valve) - Filtered\n",
            "Prediction:  1  | Label:  1  | Status:  Prediction Correct  | File:  /content/EEGClassification//Feb 2021 Filtered Data//5s//OPEN//FW2_T1 Open (valve) - Filtered\n",
            "Prediction:  1  | Label:  1  | Status:  Prediction Correct  | File:  /content/EEGClassification//Nov 2020 Filtered Data//5s//OPEN//AZ_T24 Open (valve) - Filtered\n",
            "Prediction:  1  | Label:  1  | Status:  Prediction Correct  | File:  /content/EEGClassification//Feb 2021 Filtered Data//5s//OPEN//JP2_T11 Open (valve)_(1) - Filtered\n",
            "Prediction:  1  | Label:  1  | Status:  Prediction Correct  | File:  /content/EEGClassification//Nov 2020 Filtered Data//5s//OPEN//AZ_T44 Open (valve) - Filtered\n",
            "Prediction:  1  | Label:  1  | Status:  Prediction Correct  | File:  /content/EEGClassification//Nov 2020 Filtered Data//5s//OPEN//CJ_T18 Open (valve) - Filtered\n",
            "Prediction:  1  | Label:  1  | Status:  Prediction Correct  | File:  /content/EEGClassification//Feb 2021 Filtered Data//5s//OPEN//CJ_T39 Open (valve)_(2) - Filtered\n",
            "Prediction:  1  | Label:  1  | Status:  Prediction Correct  | File:  /content/EEGClassification//Feb 2021 Filtered Data//5s//OPEN//JP_T35 Open (valve) - Filtered\n",
            "Prediction:  1  | Label:  1  | Status:  Prediction Correct  | File:  /content/EEGClassification//Nov 2020 Filtered Data//5s//OPEN//SD_T26 Open (valve)_(1) - Filtered\n",
            "Prediction:  1  | Label:  1  | Status:  Prediction Correct  | File:  /content/EEGClassification//Feb 2021 Filtered Data//5s//OPEN//CJ_T3 Open (valve)_(2) - Filtered\n",
            "Prediction:  1  | Label:  1  | Status:  Prediction Correct  | File:  /content/EEGClassification//Nov 2020 Filtered Data//5s//OPEN//SD_T12 Open (valve)_(2) - Filtered\n",
            "Prediction:  1  | Label:  1  | Status:  Prediction Correct  | File:  /content/EEGClassification//Nov 2020 Filtered Data//5s//OPEN//FW_T71 Open (valve) - Filtered\n",
            "Prediction:  1  | Label:  1  | Status:  Prediction Correct  | File:  /content/EEGClassification//Nov 2020 Filtered Data//5s//OPEN//CJ_T52 Open (valve) - Filtered\n",
            "Prediction:  1  | Label:  1  | Status:  Prediction Correct  | File:  /content/EEGClassification//Feb 2021 Filtered Data//5s//OPEN//FW2_T31 Open (valve) - Filtered\n",
            "Prediction:  1  | Label:  1  | Status:  Prediction Correct  | File:  /content/EEGClassification//Feb 2021 Filtered Data//5s//OPEN//FW3_T17 Open (valve) - Filtered\n",
            "Prediction:  1  | Label:  1  | Status:  Prediction Correct  | File:  /content/EEGClassification//Feb 2021 Filtered Data//5s//OPEN//JP_T9 Open (valve) - Filtered\n",
            "Prediction:  1  | Label:  1  | Status:  Prediction Correct  | File:  /content/EEGClassification//Nov 2020 Filtered Data//5s//OPEN//AZ_T8 Open (valve) - Filtered\n",
            "Prediction:  1  | Label:  1  | Status:  Prediction Correct  | File:  /content/EEGClassification//Feb 2021 Filtered Data//5s//OPEN//FW3_T25 Open (valve) - Filtered\n",
            "Prediction:  1  | Label:  1  | Status:  Prediction Correct  | File:  /content/EEGClassification//Feb 2021 Filtered Data//5s//OPEN//AZ_T25 Open (valve) - Filtered\n",
            "Prediction:  1  | Label:  1  | Status:  Prediction Correct  | File:  /content/EEGClassification//Feb 2021 Filtered Data//5s//OPEN//FW3_T19 Open (valve) - Filtered\n",
            "Prediction:  1  | Label:  1  | Status:  Prediction Correct  | File:  /content/EEGClassification//Feb 2021 Filtered Data//5s//OPEN//FW2_T13 Open (valve) - Filtered\n",
            "Prediction:  1  | Label:  1  | Status:  Prediction Correct  | File:  /content/EEGClassification//Feb 2021 Filtered Data//5s//OPEN//SD_T11 Open (valve) - Filtered\n",
            "Prediction:  0  | Label:  1  | Status:  Prediction Incorrect  | File:  /content/EEGClassification//Feb 2021 Filtered Data//5s//OPEN//JP_T21 Open (valve) - Filtered\n",
            "Prediction:  1  | Label:  1  | Status:  Prediction Correct  | File:  /content/EEGClassification//Feb 2021 Filtered Data//5s//OPEN//CJ_T17 Open (valve)_(1) - Filtered\n",
            "Prediction:  0  | Label:  1  | Status:  Prediction Incorrect  | File:  /content/EEGClassification//Feb 2021 Filtered Data//5s//OPEN//FW_T13 Open (valve) - Filtered\n",
            "Prediction:  1  | Label:  1  | Status:  Prediction Correct  | File:  /content/EEGClassification//Nov 2020 Filtered Data//5s//OPEN//AZ_T71 Open (valve) - Filtered\n",
            "Prediction:  1  | Label:  1  | Status:  Prediction Correct  | File:  /content/EEGClassification//Feb 2021 Filtered Data//5s//OPEN//JP_T39 Open (valve) - Filtered\n",
            "Prediction:  1  | Label:  1  | Status:  Prediction Correct  | File:  /content/EEGClassification//Feb 2021 Filtered Data//5s//OPEN//CJ_T15 Open (valve)_(1) - Filtered\n",
            "Prediction:  1  | Label:  1  | Status:  Prediction Correct  | File:  /content/EEGClassification//Nov 2020 Filtered Data//5s//OPEN//FW_T44 Open (valve) - Filtered\n",
            "Prediction:  1  | Label:  1  | Status:  Prediction Correct  | File:  /content/EEGClassification//Feb 2021 Filtered Data//5s//OPEN//FW2_T11 Open (valve) - Filtered\n",
            "Prediction:  1  | Label:  1  | Status:  Prediction Correct  | File:  /content/EEGClassification//Nov 2020 Filtered Data//5s//OPEN//SD_T26 Open (valve)_(2) - Filtered\n",
            "Prediction:  1  | Label:  1  | Status:  Prediction Correct  | File:  /content/EEGClassification//Feb 2021 Filtered Data//5s//OPEN//CJ_T23 Open (valve)_(1) - Filtered\n",
            "Prediction:  1  | Label:  1  | Status:  Prediction Correct  | File:  /content/EEGClassification//Feb 2021 Filtered Data//5s//OPEN//SD_T3 Open (valve) - Filtered\n",
            "Prediction:  1  | Label:  1  | Status:  Prediction Correct  | File:  /content/EEGClassification//Feb 2021 Filtered Data//5s//OPEN//CJ2_T11 Open (valve) - Filtered\n",
            "Prediction:  1  | Label:  1  | Status:  Prediction Correct  | File:  /content/EEGClassification//Feb 2021 Filtered Data//5s//OPEN//AZ_T33 Open (valve) - Filtered\n",
            "Prediction:  1  | Label:  1  | Status:  Prediction Correct  | File:  /content/EEGClassification//Feb 2021 Filtered Data//5s//OPEN//FW2_T5 Open (valve) - Filtered\n",
            "Prediction:  1  | Label:  1  | Status:  Prediction Correct  | File:  /content/EEGClassification//Feb 2021 Filtered Data//5s//OPEN//AZ_T9 Open (valve) - Filtered\n",
            "Prediction:  1  | Label:  1  | Status:  Prediction Correct  | File:  /content/EEGClassification//Nov 2020 Filtered Data//5s//OPEN//FW_T81 Open (valve) - Filtered\n",
            "Prediction:  0  | Label:  1  | Status:  Prediction Incorrect  | File:  /content/EEGClassification//Feb 2021 Filtered Data//5s//OPEN//JP_T13 Open (valve) - Filtered\n",
            "Prediction:  1  | Label:  1  | Status:  Prediction Correct  | File:  /content/EEGClassification//Nov 2020 Filtered Data//5s//OPEN//AZ_T20 Open (valve) - Filtered\n",
            "Prediction:  0  | Label:  1  | Status:  Prediction Incorrect  | File:  /content/EEGClassification//Nov 2020 Filtered Data//5s//OPEN//FW_T37 Open (valve) - Filtered\n",
            "Prediction:  1  | Label:  1  | Status:  Prediction Correct  | File:  /content/EEGClassification//Feb 2021 Filtered Data//5s//OPEN//CJ_T25 Open (valve) - Filtered\n",
            "Prediction:  1  | Label:  1  | Status:  Prediction Correct  | File:  /content/EEGClassification//Feb 2021 Filtered Data//5s//OPEN//FW_T31 Open (valve) - Filtered\n",
            "Prediction:  1  | Label:  1  | Status:  Prediction Correct  | File:  /content/EEGClassification//Feb 2021 Filtered Data//5s//OPEN//JP_T7 Open (valve) - Filtered\n",
            "Prediction:  1  | Label:  1  | Status:  Prediction Correct  | File:  /content/EEGClassification//Feb 2021 Filtered Data//5s//OPEN//CJ_T3 Open (valve)_(1) - Filtered\n",
            "Prediction:  1  | Label:  1  | Status:  Prediction Correct  | File:  /content/EEGClassification//Feb 2021 Filtered Data//5s//OPEN//FW_T19 Open (valve) - Filtered\n",
            "Prediction:  1  | Label:  1  | Status:  Prediction Correct  | File:  /content/EEGClassification//Feb 2021 Filtered Data//5s//OPEN//FW_T15 Open (valve) - Filtered\n",
            "Prediction:  1  | Label:  1  | Status:  Prediction Correct  | File:  /content/EEGClassification//Feb 2021 Filtered Data//5s//OPEN//SD_T13 Open (valve)_(1) - Filtered\n",
            "Prediction:  0  | Label:  1  | Status:  Prediction Incorrect  | File:  /content/EEGClassification//Feb 2021 Filtered Data//5s//OPEN//AZ_T5 Open (valve) - Filtered\n",
            "Prediction:  1  | Label:  1  | Status:  Prediction Correct  | File:  /content/EEGClassification//Feb 2021 Filtered Data//5s//OPEN//CJ_T7 Open (valve)_(1) - Filtered\n",
            "Prediction:  1  | Label:  1  | Status:  Prediction Correct  | File:  /content/EEGClassification//Feb 2021 Filtered Data//5s//OPEN//CJ2_T7 Open (valve) - Filtered\n",
            "Prediction:  1  | Label:  1  | Status:  Prediction Correct  | File:  /content/EEGClassification//Nov 2020 Filtered Data//5s//OPEN//SD_T7 Open (valve)_(2) - Filtered\n",
            "Prediction:  1  | Label:  1  | Status:  Prediction Correct  | File:  /content/EEGClassification//Feb 2021 Filtered Data//5s//OPEN//CJ_T39 Open (valve) - Filtered\n",
            "Prediction:  1  | Label:  1  | Status:  Prediction Correct  | File:  /content/EEGClassification//Nov 2020 Filtered Data//5s//OPEN//FW_T22 Open (valve) - Filtered\n",
            "Prediction:  1  | Label:  1  | Status:  Prediction Correct  | File:  /content/EEGClassification//Feb 2021 Filtered Data//5s//OPEN//SD_T9 Open (valve)_(1) - Filtered\n",
            "Prediction:  1  | Label:  1  | Status:  Prediction Correct  | File:  /content/EEGClassification//Nov 2020 Filtered Data//5s//OPEN//AZ_T10 Open (valve) - Filtered\n",
            "Prediction:  1  | Label:  1  | Status:  Prediction Correct  | File:  /content/EEGClassification//Feb 2021 Filtered Data//5s//OPEN//CJ_T29 Open (valve)_(2) - Filtered\n",
            "Prediction:  1  | Label:  1  | Status:  Prediction Correct  | File:  /content/EEGClassification//Nov 2020 Filtered Data//5s//OPEN//CJ_T41 Open (valve) - Filtered\n",
            "Prediction:  1  | Label:  1  | Status:  Prediction Correct  | File:  /content/EEGClassification//Feb 2021 Filtered Data//5s//OPEN//SD_T7 Open (valve) - Filtered\n",
            "Prediction:  1  | Label:  1  | Status:  Prediction Correct  | File:  /content/EEGClassification//Nov 2020 Filtered Data//5s//OPEN//CJ_T21 Open (valve) - Filtered\n",
            "Prediction:  1  | Label:  1  | Status:  Prediction Correct  | File:  /content/EEGClassification//Feb 2021 Filtered Data//5s//OPEN//AZ_T15 Open (valve) - Filtered\n",
            "Prediction:  1  | Label:  1  | Status:  Prediction Correct  | File:  /content/EEGClassification//Feb 2021 Filtered Data//5s//OPEN//FW2_T29 Open (valve) - Filtered\n",
            "Prediction:  1  | Label:  1  | Status:  Prediction Correct  | File:  /content/EEGClassification//Nov 2020 Filtered Data//5s//OPEN//AZ_T51 Open (valve) - Filtered\n",
            "Prediction:  1  | Label:  1  | Status:  Prediction Correct  | File:  /content/EEGClassification//Nov 2020 Filtered Data//5s//OPEN//CJ_T55 Open (valve) - Filtered\n",
            "Prediction:  1  | Label:  1  | Status:  Prediction Correct  | File:  /content/EEGClassification//Feb 2021 Filtered Data//5s//OPEN//FW3_T31 Open (valve) - Filtered\n",
            "Prediction:  1  | Label:  1  | Status:  Prediction Correct  | File:  /content/EEGClassification//Feb 2021 Filtered Data//5s//OPEN//CJ_T23 Open (valve) - Filtered\n",
            "Prediction:  1  | Label:  1  | Status:  Prediction Correct  | File:  /content/EEGClassification//Feb 2021 Filtered Data//5s//OPEN//AZ_T23 Open (valve) - Filtered\n",
            "Prediction:  1  | Label:  1  | Status:  Prediction Correct  | File:  /content/EEGClassification//Feb 2021 Filtered Data//5s//OPEN//FW_T1 Open (valve) - Filtered\n",
            "Prediction:  0  | Label:  1  | Status:  Prediction Incorrect  | File:  /content/EEGClassification//Feb 2021 Filtered Data//5s//OPEN//CJ_T1 Open (valve)_(1) - Filtered\n",
            "Prediction:  1  | Label:  1  | Status:  Prediction Correct  | File:  /content/EEGClassification//Nov 2020 Filtered Data//5s//OPEN//SD_T12 Open (valve) - Filtered\n",
            "Prediction:  1  | Label:  1  | Status:  Prediction Correct  | File:  /content/EEGClassification//Feb 2021 Filtered Data//5s//OPEN//CJ_T29 Open (valve) - Filtered\n",
            "Prediction:  1  | Label:  1  | Status:  Prediction Correct  | File:  /content/EEGClassification//Feb 2021 Filtered Data//5s//OPEN//FW_T3 Open (valve) - Filtered\n",
            "Prediction:  1  | Label:  1  | Status:  Prediction Correct  | File:  /content/EEGClassification//Feb 2021 Filtered Data//5s//OPEN//FW3_T29 Open (valve) - Filtered\n",
            "Prediction:  1  | Label:  1  | Status:  Prediction Correct  | File:  /content/EEGClassification//Feb 2021 Filtered Data//5s//OPEN//CJ_T27 Open (valve)_(1) - Filtered\n",
            "Prediction:  1  | Label:  1  | Status:  Prediction Correct  | File:  /content/EEGClassification//Feb 2021 Filtered Data//5s//OPEN//CJ_T31 Open (valve)_(1) - Filtered\n",
            "Prediction:  1  | Label:  1  | Status:  Prediction Correct  | File:  /content/EEGClassification//Feb 2021 Filtered Data//5s//OPEN//JP2_T19 Open (valve)_(1) - Filtered\n",
            "Prediction:  1  | Label:  1  | Status:  Prediction Correct  | File:  /content/EEGClassification//Feb 2021 Filtered Data//5s//OPEN//JP2_T3 Open (valve)_(1) - Filtered\n",
            "Prediction:  1  | Label:  1  | Status:  Prediction Correct  | File:  /content/EEGClassification//Feb 2021 Filtered Data//5s//OPEN//CJ_T19 Open (valve) - Filtered\n",
            "Prediction:  1  | Label:  1  | Status:  Prediction Correct  | File:  /content/EEGClassification//Feb 2021 Filtered Data//5s//OPEN//CJ_T15 Open (valve) - Filtered\n",
            "Prediction:  0  | Label:  1  | Status:  Prediction Incorrect  | File:  /content/EEGClassification//Feb 2021 Filtered Data//5s//OPEN//AZ_T39 Open (valve) - Filtered\n",
            "Prediction:  1  | Label:  1  | Status:  Prediction Correct  | File:  /content/EEGClassification//Feb 2021 Filtered Data//5s//OPEN//SD_T13 Open (valve) - Filtered\n",
            "Prediction:  0  | Label:  1  | Status:  Prediction Incorrect  | File:  /content/EEGClassification//Feb 2021 Filtered Data//5s//OPEN//CJ_T35 Open (valve) - Filtered\n",
            "Prediction:  1  | Label:  1  | Status:  Prediction Correct  | File:  /content/EEGClassification//Nov 2020 Filtered Data//5s//OPEN//SD_T2 Open (valve) - Filtered\n",
            "Prediction:  1  | Label:  1  | Status:  Prediction Correct  | File:  /content/EEGClassification//Nov 2020 Filtered Data//5s//OPEN//CJ_T1 Open (valve) - Filtered\n",
            "Prediction:  0  | Label:  1  | Status:  Prediction Incorrect  | File:  /content/EEGClassification//Nov 2020 Filtered Data//5s//OPEN//SD_T26 Open (valve) - Filtered\n",
            "Prediction:  1  | Label:  1  | Status:  Prediction Correct  | File:  /content/EEGClassification//Nov 2020 Filtered Data//5s//OPEN//SD_T17 Open (valve)_(1) - Filtered\n",
            "Prediction:  1  | Label:  1  | Status:  Prediction Correct  | File:  /content/EEGClassification//Feb 2021 Filtered Data//5s//OPEN//FW3_T1 Open (valve) - Filtered\n",
            "Prediction:  1  | Label:  1  | Status:  Prediction Correct  | File:  /content/EEGClassification//Feb 2021 Filtered Data//5s//OPEN//FW2_T33 Open (valve) - Filtered\n",
            "Prediction:  1  | Label:  1  | Status:  Prediction Correct  | File:  /content/EEGClassification//Nov 2020 Filtered Data//5s//OPEN//FW_T87 Open (valve) - Filtered\n",
            "Prediction:  1  | Label:  1  | Status:  Prediction Correct  | File:  /content/EEGClassification//Nov 2020 Filtered Data//5s//OPEN//SD_T21 Open (valve)_(1) - Filtered\n",
            "Prediction:  1  | Label:  1  | Status:  Prediction Correct  | File:  /content/EEGClassification//Nov 2020 Filtered Data//5s//OPEN//CJ_T77 Open (valve) - Filtered\n",
            "Prediction:  1  | Label:  1  | Status:  Prediction Correct  | File:  /content/EEGClassification//Feb 2021 Filtered Data//5s//OPEN//SD_T1 Open (valve) - Filtered\n",
            "Prediction:  1  | Label:  1  | Status:  Prediction Correct  | File:  /content/EEGClassification//Nov 2020 Filtered Data//5s//OPEN//AZ_T31 Open (valve) - Filtered\n",
            "Prediction:  1  | Label:  1  | Status:  Prediction Correct  | File:  /content/EEGClassification//Feb 2021 Filtered Data//5s//OPEN//CJ_T1 Open (valve) - Filtered\n",
            "Prediction:  1  | Label:  1  | Status:  Prediction Correct  | File:  /content/EEGClassification//Feb 2021 Filtered Data//5s//OPEN//FW3_T11 Open (valve) - Filtered\n",
            "Prediction:  1  | Label:  1  | Status:  Prediction Correct  | File:  /content/EEGClassification//Nov 2020 Filtered Data//5s//OPEN//CJ_T10 Open (valve) - Filtered\n",
            "Prediction:  1  | Label:  1  | Status:  Prediction Correct  | File:  /content/EEGClassification//Feb 2021 Filtered Data//5s//OPEN//CJ_T25 Open (valve)_(1) - Filtered\n",
            "Prediction:  1  | Label:  1  | Status:  Prediction Correct  | File:  /content/EEGClassification//Feb 2021 Filtered Data//5s//OPEN//CJ_T3 Open (valve) - Filtered\n",
            "Prediction:  1  | Label:  1  | Status:  Prediction Correct  | File:  /content/EEGClassification//Feb 2021 Filtered Data//5s//OPEN//AZ_T7 Open (valve) - Filtered\n",
            "Prediction:  1  | Label:  1  | Status:  Prediction Correct  | File:  /content/EEGClassification//Nov 2020 Filtered Data//5s//OPEN//CJ_T39 Open (valve) - Filtered\n",
            "Prediction:  1  | Label:  1  | Status:  Prediction Correct  | File:  /content/EEGClassification//Nov 2020 Filtered Data//5s//OPEN//CJ_T13 Open (valve) - Filtered\n",
            "Prediction:  0  | Label:  1  | Status:  Prediction Incorrect  | File:  /content/EEGClassification//Feb 2021 Filtered Data//5s//OPEN//FW3_T35 Open (valve) - Filtered\n",
            "Prediction:  1  | Label:  1  | Status:  Prediction Correct  | File:  /content/EEGClassification//Nov 2020 Filtered Data//5s//OPEN//SD_T21 Open (valve) - Filtered\n",
            "Prediction:  1  | Label:  1  | Status:  Prediction Correct  | File:  /content/EEGClassification//Nov 2020 Filtered Data//5s//OPEN//SD_T43 Open (valve) - Filtered\n",
            "Prediction:  1  | Label:  1  | Status:  Prediction Correct  | File:  /content/EEGClassification//Feb 2021 Filtered Data//5s//OPEN//AZ_T27 Open (valve) - Filtered\n",
            "Prediction:  1  | Label:  1  | Status:  Prediction Correct  | File:  /content/EEGClassification//Feb 2021 Filtered Data//5s//OPEN//FW2_T25 Open (valve) - Filtered\n",
            "Prediction:  0  | Label:  1  | Status:  Prediction Incorrect  | File:  /content/EEGClassification//Feb 2021 Filtered Data//5s//OPEN//CJ_T27 Open (valve) - Filtered\n",
            "Prediction:  1  | Label:  1  | Status:  Prediction Correct  | File:  /content/EEGClassification//Feb 2021 Filtered Data//5s//OPEN//FW3_T13 Open (valve) - Filtered\n",
            "Prediction:  1  | Label:  1  | Status:  Prediction Correct  | File:  /content/EEGClassification//Feb 2021 Filtered Data//5s//OPEN//CJ_T15 Open (valve)_(2) - Filtered\n",
            "Prediction:  1  | Label:  1  | Status:  Prediction Correct  | File:  /content/EEGClassification//Feb 2021 Filtered Data//5s//OPEN//SD_T5 Open (valve) - Filtered\n",
            "Prediction:  1  | Label:  1  | Status:  Prediction Correct  | File:  /content/EEGClassification//Feb 2021 Filtered Data//5s//OPEN//FW3_T23 Open (valve) - Filtered\n",
            "Prediction:  1  | Label:  1  | Status:  Prediction Correct  | File:  /content/EEGClassification//Feb 2021 Filtered Data//5s//OPEN//FW_T39 Open (valve) - Filtered\n",
            "Prediction:  1  | Label:  1  | Status:  Prediction Correct  | File:  /content/EEGClassification//Feb 2021 Filtered Data//5s//OPEN//FW2_T35 Open (valve) - Filtered\n",
            "Prediction:  1  | Label:  1  | Status:  Prediction Correct  | File:  /content/EEGClassification//Feb 2021 Filtered Data//5s//OPEN//JP_T27 Open (valve) - Filtered\n",
            "Prediction:  1  | Label:  1  | Status:  Prediction Correct  | File:  /content/EEGClassification//Feb 2021 Filtered Data//5s//OPEN//SD_T9 Open (valve) - Filtered\n",
            "Prediction:  1  | Label:  1  | Status:  Prediction Correct  | File:  /content/EEGClassification//Feb 2021 Filtered Data//5s//OPEN//FW2_T27 Open (valve) - Filtered\n",
            "Prediction:  1  | Label:  1  | Status:  Prediction Correct  | File:  /content/EEGClassification//Feb 2021 Filtered Data//5s//OPEN//SD_T21 Open (valve)_(1) - Filtered\n",
            "Prediction:  1  | Label:  1  | Status:  Prediction Correct  | File:  /content/EEGClassification//Feb 2021 Filtered Data//5s//OPEN//FW3_T15 Open (valve) - Filtered\n",
            "Prediction:  0  | Label:  1  | Status:  Prediction Incorrect  | File:  /content/EEGClassification//Nov 2020 Filtered Data//5s//OPEN//FW_T15 Open (valve) - Filtered\n",
            "Prediction:  1  | Label:  1  | Status:  Prediction Correct  | File:  /content/EEGClassification//Feb 2021 Filtered Data//5s//OPEN//JP_T33 Open (valve) - Filtered\n",
            "Prediction:  1  | Label:  1  | Status:  Prediction Correct  | File:  /content/EEGClassification//Nov 2020 Filtered Data//5s//OPEN//SD_T32 Open (valve) - Filtered\n",
            "Prediction:  1  | Label:  1  | Status:  Prediction Correct  | File:  /content/EEGClassification//Nov 2020 Filtered Data//5s//OPEN//AZ_T78 Open (valve) - Filtered\n",
            "Prediction:  1  | Label:  1  | Status:  Prediction Correct  | File:  /content/EEGClassification//Nov 2020 Filtered Data//5s//OPEN//SD_T7 Open (valve)_(1) - Filtered\n",
            "Prediction:  1  | Label:  1  | Status:  Prediction Correct  | File:  /content/EEGClassification//Nov 2020 Filtered Data//5s//OPEN//CJ_T5 Open (valve) - Filtered\n",
            "Prediction:  1  | Label:  1  | Status:  Prediction Correct  | File:  /content/EEGClassification//Nov 2020 Filtered Data//5s//OPEN//SD_T7 Open (valve) - Filtered\n",
            "Prediction:  1  | Label:  1  | Status:  Prediction Correct  | File:  /content/EEGClassification//Feb 2021 Filtered Data//5s//OPEN//CJ_T31 Open (valve) - Filtered\n",
            "Prediction:  0  | Label:  0  | Status:  Prediction Correct  | File:  /content/EEGClassification//Feb 2021 Filtered Data//5s//CLOSE//FW2_T38 Close (valve) - Filtered\n",
            "Prediction:  1  | Label:  0  | Status:  Prediction Incorrect  | File:  /content/EEGClassification//Nov 2020 Filtered Data//5s//CLOSE//CJ_T9 Close (valve) - Filtered\n",
            "Prediction:  0  | Label:  0  | Status:  Prediction Correct  | File:  /content/EEGClassification//Feb 2021 Filtered Data//5s//CLOSE//AZ_T38 Close (valve) - Filtered\n",
            "Prediction:  0  | Label:  0  | Status:  Prediction Correct  | File:  /content/EEGClassification//Feb 2021 Filtered Data//5s//CLOSE//FW_T12 Close (valve) - Filtered\n",
            "Prediction:  1  | Label:  0  | Status:  Prediction Incorrect  | File:  /content/EEGClassification//Feb 2021 Filtered Data//5s//CLOSE//CJ2_T2 Close (valve) - Filtered\n",
            "Prediction:  0  | Label:  0  | Status:  Prediction Correct  | File:  /content/EEGClassification//Feb 2021 Filtered Data//5s//CLOSE//FW3_T16 Close (valve) - Filtered\n",
            "Prediction:  0  | Label:  0  | Status:  Prediction Correct  | File:  /content/EEGClassification//Feb 2021 Filtered Data//5s//CLOSE//CJ_T26 Close (valve)_(1) - Filtered\n",
            "Prediction:  0  | Label:  0  | Status:  Prediction Correct  | File:  /content/EEGClassification//Feb 2021 Filtered Data//5s//CLOSE//CJ_T18 Close (valve) - Filtered\n",
            "Prediction:  0  | Label:  0  | Status:  Prediction Correct  | File:  /content/EEGClassification//Feb 2021 Filtered Data//5s//CLOSE//JP2_T4 Close (valve)_(1) - Filtered\n",
            "Prediction:  0  | Label:  0  | Status:  Prediction Correct  | File:  /content/EEGClassification//Feb 2021 Filtered Data//5s//CLOSE//AZ_T40 Close (valve) - Filtered\n",
            "Prediction:  0  | Label:  0  | Status:  Prediction Correct  | File:  /content/EEGClassification//Feb 2021 Filtered Data//5s//CLOSE//FW3_T14 Close (valve) - Filtered\n",
            "Prediction:  0  | Label:  0  | Status:  Prediction Correct  | File:  /content/EEGClassification//Feb 2021 Filtered Data//5s//CLOSE//SD_T20 Close (valve) - Filtered\n",
            "Prediction:  0  | Label:  0  | Status:  Prediction Correct  | File:  /content/EEGClassification//Feb 2021 Filtered Data//5s//CLOSE//FW2_T2 Close (valve) - Filtered\n",
            "Prediction:  0  | Label:  0  | Status:  Prediction Correct  | File:  /content/EEGClassification//Feb 2021 Filtered Data//5s//CLOSE//FW3_T38 Close (valve) - Filtered\n",
            "Prediction:  0  | Label:  0  | Status:  Prediction Correct  | File:  /content/EEGClassification//Feb 2021 Filtered Data//5s//CLOSE//FW_T4 Close (valve) - Filtered\n",
            "Prediction:  1  | Label:  0  | Status:  Prediction Incorrect  | File:  /content/EEGClassification//Feb 2021 Filtered Data//5s//CLOSE//CJ_T30 Close (valve)_(1) - Filtered\n",
            "Prediction:  0  | Label:  0  | Status:  Prediction Correct  | File:  /content/EEGClassification//Nov 2020 Filtered Data//5s//CLOSE//FW_T70 Close (valve) - Filtered\n",
            "Prediction:  1  | Label:  0  | Status:  Prediction Incorrect  | File:  /content/EEGClassification//Feb 2021 Filtered Data//5s//CLOSE//FW3_T22 Close (valve) - Filtered\n",
            "Prediction:  0  | Label:  0  | Status:  Prediction Correct  | File:  /content/EEGClassification//Nov 2020 Filtered Data//5s//CLOSE//FW_T46 Close (valve) - Filtered\n",
            "Prediction:  0  | Label:  0  | Status:  Prediction Correct  | File:  /content/EEGClassification//Feb 2021 Filtered Data//5s//CLOSE//CJ_T36 Close (valve)_(1) - Filtered\n",
            "Prediction:  1  | Label:  0  | Status:  Prediction Incorrect  | File:  /content/EEGClassification//Nov 2020 Filtered Data//5s//CLOSE//SD_T24 Close (valve) - Filtered\n",
            "Prediction:  0  | Label:  0  | Status:  Prediction Correct  | File:  /content/EEGClassification//Feb 2021 Filtered Data//5s//CLOSE//CJ_T24 Close (valve)_(1) - Filtered\n",
            "Prediction:  0  | Label:  0  | Status:  Prediction Correct  | File:  /content/EEGClassification//Nov 2020 Filtered Data//5s//CLOSE//FW_T84 Close (valve) - Filtered\n",
            "Prediction:  0  | Label:  0  | Status:  Prediction Correct  | File:  /content/EEGClassification//Feb 2021 Filtered Data//5s//CLOSE//CJ_T28 Close (valve)_(1) - Filtered\n",
            "Prediction:  0  | Label:  0  | Status:  Prediction Correct  | File:  /content/EEGClassification//Feb 2021 Filtered Data//5s//CLOSE//JP_T28 Close (valve) - Filtered\n",
            "Prediction:  0  | Label:  0  | Status:  Prediction Correct  | File:  /content/EEGClassification//Feb 2021 Filtered Data//5s//CLOSE//FW3_T20 Close (valve) - Filtered\n",
            "Prediction:  0  | Label:  0  | Status:  Prediction Correct  | File:  /content/EEGClassification//Feb 2021 Filtered Data//5s//CLOSE//CJ_T20 Close (valve) - Filtered\n",
            "Prediction:  0  | Label:  0  | Status:  Prediction Correct  | File:  /content/EEGClassification//Nov 2020 Filtered Data//5s//CLOSE//CJ_T70 Close (valve) - Filtered\n",
            "Prediction:  0  | Label:  0  | Status:  Prediction Correct  | File:  /content/EEGClassification//Nov 2020 Filtered Data//5s//CLOSE//AZ_T70 Close (valve) - Filtered\n",
            "Prediction:  0  | Label:  0  | Status:  Prediction Correct  | File:  /content/EEGClassification//Feb 2021 Filtered Data//5s//CLOSE//FW_T36 Close (valve) - Filtered\n",
            "Prediction:  1  | Label:  0  | Status:  Prediction Incorrect  | File:  /content/EEGClassification//Feb 2021 Filtered Data//5s//CLOSE//FW_T20 Close (valve) - Filtered\n",
            "Prediction:  0  | Label:  0  | Status:  Prediction Correct  | File:  /content/EEGClassification//Nov 2020 Filtered Data//5s//CLOSE//CJ_T32 Close (valve) - Filtered\n",
            "Prediction:  0  | Label:  0  | Status:  Prediction Correct  | File:  /content/EEGClassification//Nov 2020 Filtered Data//5s//CLOSE//FW_T30 Close (valve) - Filtered\n",
            "Prediction:  0  | Label:  0  | Status:  Prediction Correct  | File:  /content/EEGClassification//Nov 2020 Filtered Data//5s//CLOSE//AZ_T48 Close (valve) - Filtered\n",
            "Prediction:  0  | Label:  0  | Status:  Prediction Correct  | File:  /content/EEGClassification//Nov 2020 Filtered Data//5s//CLOSE//FW_T51 Close (valve) - Filtered\n",
            "Prediction:  0  | Label:  0  | Status:  Prediction Correct  | File:  /content/EEGClassification//Feb 2021 Filtered Data//5s//CLOSE//FW3_T12 Close (valve) - Filtered\n",
            "Prediction:  0  | Label:  0  | Status:  Prediction Correct  | File:  /content/EEGClassification//Feb 2021 Filtered Data//5s//CLOSE//CJ_T14 Close (valve)_(1) - Filtered\n",
            "Prediction:  0  | Label:  0  | Status:  Prediction Correct  | File:  /content/EEGClassification//Feb 2021 Filtered Data//5s//CLOSE//SD_T24 Close (valve) - Filtered\n",
            "Prediction:  0  | Label:  0  | Status:  Prediction Correct  | File:  /content/EEGClassification//Feb 2021 Filtered Data//5s//CLOSE//CJ2_T6 Close (valve) - Filtered\n",
            "Prediction:  0  | Label:  0  | Status:  Prediction Correct  | File:  /content/EEGClassification//Nov 2020 Filtered Data//5s//CLOSE//SD_T60 Close (valve) - Filtered\n",
            "Prediction:  1  | Label:  0  | Status:  Prediction Incorrect  | File:  /content/EEGClassification//Nov 2020 Filtered Data//5s//CLOSE//FW_T76 Close (valve) - Filtered\n",
            "Prediction:  0  | Label:  0  | Status:  Prediction Correct  | File:  /content/EEGClassification//Nov 2020 Filtered Data//5s//CLOSE//SD_T25 Close (valve) - Filtered\n",
            "Prediction:  0  | Label:  0  | Status:  Prediction Correct  | File:  /content/EEGClassification//Feb 2021 Filtered Data//5s//CLOSE//CJ_T38 Close (valve)_(1) - Filtered\n",
            "Prediction:  0  | Label:  0  | Status:  Prediction Correct  | File:  /content/EEGClassification//Nov 2020 Filtered Data//5s//CLOSE//AZ_T43 Close (valve) - Filtered\n",
            "Prediction:  0  | Label:  0  | Status:  Prediction Correct  | File:  /content/EEGClassification//Feb 2021 Filtered Data//5s//CLOSE//SD_T8 Close (valve) - Filtered\n",
            "Prediction:  1  | Label:  0  | Status:  Prediction Incorrect  | File:  /content/EEGClassification//Feb 2021 Filtered Data//5s//CLOSE//JP_T6 Close (valve) - Filtered\n",
            "Prediction:  0  | Label:  0  | Status:  Prediction Correct  | File:  /content/EEGClassification//Nov 2020 Filtered Data//5s//CLOSE//CJ_T38 Close (valve) - Filtered\n",
            "Prediction:  0  | Label:  0  | Status:  Prediction Correct  | File:  /content/EEGClassification//Nov 2020 Filtered Data//5s//CLOSE//AZ_T17 Close (valve) - Filtered\n",
            "Prediction:  0  | Label:  0  | Status:  Prediction Correct  | File:  /content/EEGClassification//Feb 2021 Filtered Data//5s//CLOSE//FW2_T10 Close (valve) - Filtered\n",
            "Prediction:  0  | Label:  0  | Status:  Prediction Correct  | File:  /content/EEGClassification//Nov 2020 Filtered Data//5s//CLOSE//CJ_T22 Close (valve) - Filtered\n",
            "Prediction:  0  | Label:  0  | Status:  Prediction Correct  | File:  /content/EEGClassification//Feb 2021 Filtered Data//5s//CLOSE//JP_T32 Close (valve) - Filtered\n",
            "Prediction:  0  | Label:  0  | Status:  Prediction Correct  | File:  /content/EEGClassification//Feb 2021 Filtered Data//5s//CLOSE//CJ_T2 Close (valve) - Filtered\n",
            "Prediction:  0  | Label:  0  | Status:  Prediction Correct  | File:  /content/EEGClassification//Feb 2021 Filtered Data//5s//CLOSE//FW3_T40 Close (valve) - Filtered\n",
            "Prediction:  1  | Label:  0  | Status:  Prediction Incorrect  | File:  /content/EEGClassification//Nov 2020 Filtered Data//5s//CLOSE//FW_T24 Close (valve) - Filtered\n",
            "Prediction:  0  | Label:  0  | Status:  Prediction Correct  | File:  /content/EEGClassification//Feb 2021 Filtered Data//5s//CLOSE//CJ_T14 Close (valve) - Filtered\n",
            "Prediction:  1  | Label:  0  | Status:  Prediction Incorrect  | File:  /content/EEGClassification//Nov 2020 Filtered Data//5s//CLOSE//CJ_T43 Close (valve) - Filtered\n",
            "Prediction:  0  | Label:  0  | Status:  Prediction Correct  | File:  /content/EEGClassification//Nov 2020 Filtered Data//5s//CLOSE//AZ_T23 Close (valve) - Filtered\n",
            "Prediction:  0  | Label:  0  | Status:  Prediction Correct  | File:  /content/EEGClassification//Feb 2021 Filtered Data//5s//CLOSE//SD_T2 Close (valve)_(1) - Filtered\n",
            "Prediction:  0  | Label:  0  | Status:  Prediction Correct  | File:  /content/EEGClassification//Feb 2021 Filtered Data//5s//CLOSE//FW3_T34 Close (valve) - Filtered\n",
            "Prediction:  0  | Label:  0  | Status:  Prediction Correct  | File:  /content/EEGClassification//Feb 2021 Filtered Data//5s//CLOSE//SD_T6 Close (valve) - Filtered\n",
            "Prediction:  0  | Label:  0  | Status:  Prediction Correct  | File:  /content/EEGClassification//Nov 2020 Filtered Data//5s//CLOSE//SD_T5 Close (valve)_(1) - Filtered\n",
            "Prediction:  0  | Label:  0  | Status:  Prediction Correct  | File:  /content/EEGClassification//Feb 2021 Filtered Data//5s//CLOSE//FW3_T6 Close (valve) - Filtered\n",
            "Prediction:  0  | Label:  0  | Status:  Prediction Correct  | File:  /content/EEGClassification//Feb 2021 Filtered Data//5s//CLOSE//FW2_T16 Close (valve) - Filtered\n",
            "Prediction:  0  | Label:  0  | Status:  Prediction Correct  | File:  /content/EEGClassification//Nov 2020 Filtered Data//5s//CLOSE//SD_T3 Close (valve) - Filtered\n",
            "Prediction:  1  | Label:  0  | Status:  Prediction Incorrect  | File:  /content/EEGClassification//Feb 2021 Filtered Data//5s//CLOSE//AZ_T6 Close (valve) - Filtered\n",
            "Prediction:  0  | Label:  0  | Status:  Prediction Correct  | File:  /content/EEGClassification//Nov 2020 Filtered Data//5s//CLOSE//SD_T14 Close (valve) - Filtered\n",
            "Prediction:  0  | Label:  0  | Status:  Prediction Correct  | File:  /content/EEGClassification//Nov 2020 Filtered Data//5s//CLOSE//FW_T25 Close (valve) - Filtered\n",
            "Prediction:  0  | Label:  0  | Status:  Prediction Correct  | File:  /content/EEGClassification//Feb 2021 Filtered Data//5s//CLOSE//JP2_T8 Close (valve)_(1) - Filtered\n",
            "Prediction:  0  | Label:  0  | Status:  Prediction Correct  | File:  /content/EEGClassification//Feb 2021 Filtered Data//5s//CLOSE//FW3_T26 Close (valve) - Filtered\n",
            "Prediction:  0  | Label:  0  | Status:  Prediction Correct  | File:  /content/EEGClassification//Nov 2020 Filtered Data//5s//CLOSE//SD_T30 Close (valve) - Filtered\n",
            "Prediction:  0  | Label:  0  | Status:  Prediction Correct  | File:  /content/EEGClassification//Feb 2021 Filtered Data//5s//CLOSE//FW_T28 Close (valve) - Filtered\n",
            "Prediction:  0  | Label:  0  | Status:  Prediction Correct  | File:  /content/EEGClassification//Nov 2020 Filtered Data//5s//CLOSE//SD_T8 Close (valve) - Filtered\n",
            "Prediction:  1  | Label:  0  | Status:  Prediction Incorrect  | File:  /content/EEGClassification//Feb 2021 Filtered Data//5s//CLOSE//SD_T6 Close (valve)_(1) - Filtered\n",
            "Prediction:  1  | Label:  0  | Status:  Prediction Incorrect  | File:  /content/EEGClassification//Feb 2021 Filtered Data//5s//CLOSE//CJ_T26 Close (valve)_(2) - Filtered\n",
            "Prediction:  0  | Label:  0  | Status:  Prediction Correct  | File:  /content/EEGClassification//Nov 2020 Filtered Data//5s//CLOSE//FW_T9 Close (valve) - Filtered\n",
            "Prediction:  1  | Label:  0  | Status:  Prediction Incorrect  | File:  /content/EEGClassification//Nov 2020 Filtered Data//5s//CLOSE//AZ_T66 Close (valve) - Filtered\n",
            "Prediction:  0  | Label:  0  | Status:  Prediction Correct  | File:  /content/EEGClassification//Feb 2021 Filtered Data//5s//CLOSE//FW3_T28 Close (valve) - Filtered\n",
            "Prediction:  0  | Label:  0  | Status:  Prediction Correct  | File:  /content/EEGClassification//Nov 2020 Filtered Data//5s//CLOSE//CJ_T50 Close (valve) - Filtered\n",
            "Prediction:  0  | Label:  0  | Status:  Prediction Correct  | File:  /content/EEGClassification//Feb 2021 Filtered Data//5s//CLOSE//AZ_T8 Close (valve) - Filtered\n",
            "Prediction:  0  | Label:  0  | Status:  Prediction Correct  | File:  /content/EEGClassification//Feb 2021 Filtered Data//5s//CLOSE//AZ_T14 Close (valve) - Filtered\n",
            "Prediction:  0  | Label:  0  | Status:  Prediction Correct  | File:  /content/EEGClassification//Feb 2021 Filtered Data//5s//CLOSE//CJ_T12 Close (valve)_(1) - Filtered\n",
            "Prediction:  0  | Label:  0  | Status:  Prediction Correct  | File:  /content/EEGClassification//Feb 2021 Filtered Data//5s//CLOSE//CJ_T24 Close (valve)_(2) - Filtered\n",
            "Prediction:  0  | Label:  0  | Status:  Prediction Correct  | File:  /content/EEGClassification//Feb 2021 Filtered Data//5s//CLOSE//CJ_T38 Close (valve) - Filtered\n",
            "Prediction:  0  | Label:  0  | Status:  Prediction Correct  | File:  /content/EEGClassification//Nov 2020 Filtered Data//5s//CLOSE//CJ_T65 Close (valve) - Filtered\n",
            "Prediction:  1  | Label:  0  | Status:  Prediction Incorrect  | File:  /content/EEGClassification//Feb 2021 Filtered Data//5s//CLOSE//FW3_T10 Close (valve) - Filtered\n",
            "Prediction:  0  | Label:  0  | Status:  Prediction Correct  | File:  /content/EEGClassification//Nov 2020 Filtered Data//5s//CLOSE//SD_T17 Close (valve) - Filtered\n",
            "Prediction:  0  | Label:  0  | Status:  Prediction Correct  | File:  /content/EEGClassification//Feb 2021 Filtered Data//5s//CLOSE//CJ2_T8 Close (valve) - Filtered\n",
            "Prediction:  0  | Label:  0  | Status:  Prediction Correct  | File:  /content/EEGClassification//Feb 2021 Filtered Data//5s//CLOSE//JP_T18 Close (valve) - Filtered\n",
            "Prediction:  0  | Label:  0  | Status:  Prediction Correct  | File:  /content/EEGClassification//Feb 2021 Filtered Data//5s//CLOSE//CJ_T14 Close (valve)_(2) - Filtered\n",
            "Prediction:  1  | Label:  0  | Status:  Prediction Incorrect  | File:  /content/EEGClassification//Nov 2020 Filtered Data//5s//CLOSE//SD_T19 Close (valve) - Filtered\n",
            "Prediction:  0  | Label:  0  | Status:  Prediction Correct  | File:  /content/EEGClassification//Feb 2021 Filtered Data//5s//CLOSE//FW_T18 Close (valve) - Filtered\n",
            "Prediction:  0  | Label:  0  | Status:  Prediction Correct  | File:  /content/EEGClassification//Feb 2021 Filtered Data//5s//CLOSE//SD_T10 Close (valve) - Filtered\n",
            "Prediction:  0  | Label:  0  | Status:  Prediction Correct  | File:  /content/EEGClassification//Feb 2021 Filtered Data//5s//CLOSE//FW2_T8 Close (valve) - Filtered\n",
            "Prediction:  1  | Label:  0  | Status:  Prediction Incorrect  | File:  /content/EEGClassification//Feb 2021 Filtered Data//5s//CLOSE//CJ2_T4 Close (valve) - Filtered\n",
            "Prediction:  1  | Label:  0  | Status:  Prediction Incorrect  | File:  /content/EEGClassification//Nov 2020 Filtered Data//5s//CLOSE//FW_T1 Close (valve) - Filtered\n",
            "Prediction:  0  | Label:  0  | Status:  Prediction Correct  | File:  /content/EEGClassification//Feb 2021 Filtered Data//5s//CLOSE//FW2_T22 Close (valve) - Filtered\n",
            "Prediction:  0  | Label:  0  | Status:  Prediction Correct  | File:  /content/EEGClassification//Feb 2021 Filtered Data//5s//CLOSE//FW2_T12 Close (valve) - Filtered\n",
            "Prediction:  0  | Label:  0  | Status:  Prediction Correct  | File:  /content/EEGClassification//Nov 2020 Filtered Data//5s//CLOSE//AZ_T61 Close (valve) - Filtered\n",
            "Prediction:  0  | Label:  0  | Status:  Prediction Correct  | File:  /content/EEGClassification//Feb 2021 Filtered Data//5s//CLOSE//CJ_T28 Close (valve) - Filtered\n",
            "Prediction:  0  | Label:  0  | Status:  Prediction Correct  | File:  /content/EEGClassification//Feb 2021 Filtered Data//5s//CLOSE//FW3_T18 Close (valve) - Filtered\n",
            "Prediction:  0  | Label:  0  | Status:  Prediction Correct  | File:  /content/EEGClassification//Feb 2021 Filtered Data//5s//CLOSE//CJ_T40 Close (valve)_(2) - Filtered\n",
            "Prediction:  0  | Label:  0  | Status:  Prediction Correct  | File:  /content/EEGClassification//Feb 2021 Filtered Data//5s//CLOSE//JP_T4 Close (valve) - Filtered\n",
            "Prediction:  0  | Label:  0  | Status:  Prediction Correct  | File:  /content/EEGClassification//Feb 2021 Filtered Data//5s//CLOSE//AZ_T24 Close (valve) - Filtered\n",
            "Prediction:  1  | Label:  0  | Status:  Prediction Incorrect  | File:  /content/EEGClassification//Nov 2020 Filtered Data//5s//CLOSE//CJ_T2 Close (valve) - Filtered\n",
            "Prediction:  0  | Label:  0  | Status:  Prediction Correct  | File:  /content/EEGClassification//Nov 2020 Filtered Data//5s//CLOSE//CJ_T64 Close (valve) - Filtered\n",
            "Prediction:  1  | Label:  0  | Status:  Prediction Incorrect  | File:  /content/EEGClassification//Feb 2021 Filtered Data//5s//CLOSE//CJ_T8 Close (valve) - Filtered\n",
            "Prediction:  0  | Label:  0  | Status:  Prediction Correct  | File:  /content/EEGClassification//Feb 2021 Filtered Data//5s//CLOSE//FW2_T24 Close (valve) - Filtered\n",
            "Prediction:  0  | Label:  0  | Status:  Prediction Correct  | File:  /content/EEGClassification//Feb 2021 Filtered Data//5s//CLOSE//FW2_T26 Close (valve) - Filtered\n",
            "Prediction:  0  | Label:  0  | Status:  Prediction Correct  | File:  /content/EEGClassification//Feb 2021 Filtered Data//5s//CLOSE//CJ_T22 Close (valve)_(2) - Filtered\n",
            "Prediction:  1  | Label:  0  | Status:  Prediction Incorrect  | File:  /content/EEGClassification//Nov 2020 Filtered Data//5s//CLOSE//CJ_T17 Close (valve) - Filtered\n",
            "Prediction:  0  | Label:  0  | Status:  Prediction Correct  | File:  /content/EEGClassification//Feb 2021 Filtered Data//5s//CLOSE//SD_T2 Close (valve) - Filtered\n",
            "Prediction:  0  | Label:  0  | Status:  Prediction Correct  | File:  /content/EEGClassification//Nov 2020 Filtered Data//5s//CLOSE//FW_T58 Close (valve) - Filtered\n",
            "Prediction:  1  | Label:  0  | Status:  Prediction Incorrect  | File:  /content/EEGClassification//Nov 2020 Filtered Data//5s//CLOSE//FW_T54 Close (valve) - Filtered\n",
            "Prediction:  1  | Label:  0  | Status:  Prediction Incorrect  | File:  /content/EEGClassification//Nov 2020 Filtered Data//5s//CLOSE//AZ_T9 Close (valve) - Filtered\n",
            "Prediction:  0  | Label:  0  | Status:  Prediction Correct  | File:  /content/EEGClassification//Feb 2021 Filtered Data//5s//CLOSE//SD_T18 Close (valve) - Filtered\n",
            "Prediction:  1  | Label:  0  | Status:  Prediction Incorrect  | File:  /content/EEGClassification//Nov 2020 Filtered Data//5s//CLOSE//SD_T53 Close (valve) - Filtered\n",
            "Prediction:  0  | Label:  0  | Status:  Prediction Correct  | File:  /content/EEGClassification//Feb 2021 Filtered Data//5s//CLOSE//FW_T14 Close (valve) - Filtered\n",
            "Prediction:  0  | Label:  0  | Status:  Prediction Correct  | File:  /content/EEGClassification//Feb 2021 Filtered Data//5s//CLOSE//FW_T32 Close (valve) - Filtered\n",
            "Prediction:  0  | Label:  0  | Status:  Prediction Correct  | File:  /content/EEGClassification//Feb 2021 Filtered Data//5s//CLOSE//SD_T26 Close (valve) - Filtered\n",
            "Prediction:  0  | Label:  0  | Status:  Prediction Correct  | File:  /content/EEGClassification//Feb 2021 Filtered Data//5s//CLOSE//FW_T30 Close (valve) - Filtered\n",
            "Prediction:  0  | Label:  0  | Status:  Prediction Correct  | File:  /content/EEGClassification//Feb 2021 Filtered Data//5s//CLOSE//AZ_T28 Close (valve) - Filtered\n",
            "Prediction:  0  | Label:  0  | Status:  Prediction Correct  | File:  /content/EEGClassification//Feb 2021 Filtered Data//5s//CLOSE//JP_T24 Close (valve) - Filtered\n",
            "Prediction:  1  | Label:  0  | Status:  Prediction Incorrect  | File:  /content/EEGClassification//Feb 2021 Filtered Data//5s//CLOSE//JP_T26 Close (valve) - Filtered\n",
            "Prediction:  0  | Label:  0  | Status:  Prediction Correct  | File:  /content/EEGClassification//Feb 2021 Filtered Data//5s//CLOSE//CJ_T22 Close (valve) - Filtered\n",
            "Prediction:  0  | Label:  0  | Status:  Prediction Correct  | File:  /content/EEGClassification//Feb 2021 Filtered Data//5s//CLOSE//JP_T20 Close (valve) - Filtered\n",
            "Prediction:  1  | Label:  0  | Status:  Prediction Incorrect  | File:  /content/EEGClassification//Nov 2020 Filtered Data//5s//CLOSE//FW_T8 Close (valve) - Filtered\n",
            "Prediction:  0  | Label:  0  | Status:  Prediction Correct  | File:  /content/EEGClassification//Nov 2020 Filtered Data//5s//CLOSE//AZ_T53 Close (valve) - Filtered\n",
            "Prediction:  0  | Label:  0  | Status:  Prediction Correct  | File:  /content/EEGClassification//Nov 2020 Filtered Data//5s//CLOSE//CJ_T26 Close (valve) - Filtered\n",
            "Prediction:  0  | Label:  0  | Status:  Prediction Correct  | File:  /content/EEGClassification//Feb 2021 Filtered Data//5s//CLOSE//CJ_T18 Close (valve)_(2) - Filtered\n",
            "Prediction:  0  | Label:  0  | Status:  Prediction Correct  | File:  /content/EEGClassification//Feb 2021 Filtered Data//5s//CLOSE//FW_T22 Close (valve) - Filtered\n",
            "Prediction:  0  | Label:  0  | Status:  Prediction Correct  | File:  /content/EEGClassification//Feb 2021 Filtered Data//5s//CLOSE//CJ2_T12 Close (valve) - Filtered\n",
            "Prediction:  0  | Label:  0  | Status:  Prediction Correct  | File:  /content/EEGClassification//Feb 2021 Filtered Data//5s//CLOSE//JP_T34 Close (valve) - Filtered\n",
            "Prediction:  0  | Label:  0  | Status:  Prediction Correct  | File:  /content/EEGClassification//Feb 2021 Filtered Data//5s//CLOSE//CJ_T16 Close (valve) - Filtered\n",
            "Prediction:  0  | Label:  0  | Status:  Prediction Correct  | File:  /content/EEGClassification//Feb 2021 Filtered Data//5s//CLOSE//CJ_T32 Close (valve) - Filtered\n",
            "Prediction:  0  | Label:  0  | Status:  Prediction Correct  | File:  /content/EEGClassification//Nov 2020 Filtered Data//5s//CLOSE//SD_T28 Close (valve) - Filtered\n",
            "Prediction:  0  | Label:  0  | Status:  Prediction Correct  | File:  /content/EEGClassification//Feb 2021 Filtered Data//5s//CLOSE//FW3_T36 Close (valve) - Filtered\n",
            "Prediction:  0  | Label:  0  | Status:  Prediction Correct  | File:  /content/EEGClassification//Feb 2021 Filtered Data//5s//CLOSE//CJ_T8 Close (valve)_(2) - Filtered\n",
            "Prediction:  0  | Label:  0  | Status:  Prediction Correct  | File:  /content/EEGClassification//Feb 2021 Filtered Data//5s//CLOSE//FW2_T28 Close (valve) - Filtered\n",
            "Prediction:  0  | Label:  0  | Status:  Prediction Correct  | File:  /content/EEGClassification//Nov 2020 Filtered Data//5s//CLOSE//SD_T2 Close (valve) - Filtered\n",
            "Prediction:  0  | Label:  0  | Status:  Prediction Correct  | File:  /content/EEGClassification//Feb 2021 Filtered Data//5s//CLOSE//CJ_T10 Close (valve) - Filtered\n",
            "Prediction:  0  | Label:  0  | Status:  Prediction Correct  | File:  /content/EEGClassification//Nov 2020 Filtered Data//5s//CLOSE//SD_T13 Close (valve) - Filtered\n",
            "Prediction:  0  | Label:  0  | Status:  Prediction Correct  | File:  /content/EEGClassification//Feb 2021 Filtered Data//5s//CLOSE//CJ_T32 Close (valve)_(1) - Filtered\n",
            "Prediction:  0  | Label:  0  | Status:  Prediction Correct  | File:  /content/EEGClassification//Feb 2021 Filtered Data//5s//CLOSE//CJ_T40 Close (valve) - Filtered\n",
            "Prediction:  1  | Label:  0  | Status:  Prediction Incorrect  | File:  /content/EEGClassification//Feb 2021 Filtered Data//5s//CLOSE//FW2_T14 Close (valve) - Filtered\n",
            "Prediction:  0  | Label:  0  | Status:  Prediction Correct  | File:  /content/EEGClassification//Feb 2021 Filtered Data//5s//CLOSE//FW2_T6 Close (valve) - Filtered\n",
            "Prediction:  0  | Label:  0  | Status:  Prediction Correct  | File:  /content/EEGClassification//Feb 2021 Filtered Data//5s//CLOSE//CJ_T30 Close (valve)_(2) - Filtered\n",
            "Prediction:  0  | Label:  0  | Status:  Prediction Correct  | File:  /content/EEGClassification//Feb 2021 Filtered Data//5s//CLOSE//FW_T16 Close (valve) - Filtered\n",
            "Prediction:  0  | Label:  0  | Status:  Prediction Correct  | File:  /content/EEGClassification//Nov 2020 Filtered Data//5s//CLOSE//SD_T33 Close (valve) - Filtered\n",
            "Prediction:  0  | Label:  0  | Status:  Prediction Correct  | File:  /content/EEGClassification//Feb 2021 Filtered Data//5s//CLOSE//CJ_T2 Close (valve)_(1) - Filtered\n",
            "Prediction:  0  | Label:  0  | Status:  Prediction Correct  | File:  /content/EEGClassification//Nov 2020 Filtered Data//5s//CLOSE//AZ_T40 Close (valve) - Filtered\n",
            "Prediction:  0  | Label:  0  | Status:  Prediction Correct  | File:  /content/EEGClassification//Feb 2021 Filtered Data//5s//CLOSE//SD_T14 Close (valve)_(1) - Filtered\n",
            "Prediction:  1  | Label:  0  | Status:  Prediction Incorrect  | File:  /content/EEGClassification//Feb 2021 Filtered Data//5s//CLOSE//JP_T22 Close (valve) - Filtered\n",
            "Prediction:  1  | Label:  0  | Status:  Prediction Incorrect  | File:  /content/EEGClassification//Feb 2021 Filtered Data//5s//CLOSE//JP2_T6 Close (valve)_(1) - Filtered\n",
            "Prediction:  0  | Label:  0  | Status:  Prediction Correct  | File:  /content/EEGClassification//Feb 2021 Filtered Data//5s//CLOSE//SD_T12 Close (valve) - Filtered\n",
            "Prediction:  0  | Label:  0  | Status:  Prediction Correct  | File:  /content/EEGClassification//Nov 2020 Filtered Data//5s//CLOSE//SD_T22 Close (valve) - Filtered\n",
            "Prediction:  0  | Label:  0  | Status:  Prediction Correct  | File:  /content/EEGClassification//Feb 2021 Filtered Data//5s//CLOSE//AZ_T34 Close (valve) - Filtered\n",
            "Prediction:  0  | Label:  0  | Status:  Prediction Correct  | File:  /content/EEGClassification//Feb 2021 Filtered Data//5s//CLOSE//JP_T14 Close (valve) - Filtered\n",
            "Prediction:  1  | Label:  0  | Status:  Prediction Incorrect  | File:  /content/EEGClassification//Feb 2021 Filtered Data//5s//CLOSE//JP2_T14 Close (valve)_(1) - Filtered\n",
            "Prediction:  0  | Label:  0  | Status:  Prediction Correct  | File:  /content/EEGClassification//Feb 2021 Filtered Data//5s//CLOSE//CJ_T38 Close (valve)_(2) - Filtered\n",
            "Prediction:  0  | Label:  0  | Status:  Prediction Correct  | File:  /content/EEGClassification//Nov 2020 Filtered Data//5s//CLOSE//SD_T11 Close (valve)_(1) - Filtered\n",
            "Prediction:  0  | Label:  0  | Status:  Prediction Correct  | File:  /content/EEGClassification//Feb 2021 Filtered Data//5s//CLOSE//CJ_T26 Close (valve) - Filtered\n",
            "Prediction:  0  | Label:  0  | Status:  Prediction Correct  | File:  /content/EEGClassification//Feb 2021 Filtered Data//5s//CLOSE//AZ_T16 Close (valve) - Filtered\n",
            "Prediction:  1  | Label:  0  | Status:  Prediction Incorrect  | File:  /content/EEGClassification//Feb 2021 Filtered Data//5s//CLOSE//FW3_T32 Close (valve) - Filtered\n",
            "Prediction:  0  | Label:  0  | Status:  Prediction Correct  | File:  /content/EEGClassification//Feb 2021 Filtered Data//5s//CLOSE//CJ_T6 Close (valve)_(1) - Filtered\n",
            "Prediction:  1  | Label:  0  | Status:  Prediction Incorrect  | File:  /content/EEGClassification//Nov 2020 Filtered Data//5s//CLOSE//AZ_T59 Close (valve) - Filtered\n",
            "Prediction:  1  | Label:  0  | Status:  Prediction Incorrect  | File:  /content/EEGClassification//Nov 2020 Filtered Data//5s//CLOSE//AZ_T13 Close (valve) - Filtered\n",
            "Prediction:  0  | Label:  0  | Status:  Prediction Correct  | File:  /content/EEGClassification//Feb 2021 Filtered Data//5s//CLOSE//FW2_T18 Close (valve) - Filtered\n",
            "Prediction:  0  | Label:  0  | Status:  Prediction Correct  | File:  /content/EEGClassification//Feb 2021 Filtered Data//5s//CLOSE//JP_T12 Close (valve) - Filtered\n",
            "Prediction:  0  | Label:  0  | Status:  Prediction Correct  | File:  /content/EEGClassification//Feb 2021 Filtered Data//5s//CLOSE//CJ_T6 Close (valve) - Filtered\n",
            "Prediction:  0  | Label:  0  | Status:  Prediction Correct  | File:  /content/EEGClassification//Feb 2021 Filtered Data//5s//CLOSE//CJ_T34 Close (valve) - Filtered\n",
            "Prediction:  0  | Label:  0  | Status:  Prediction Correct  | File:  /content/EEGClassification//Feb 2021 Filtered Data//5s//CLOSE//FW3_T2 Close (valve) - Filtered\n",
            "Prediction:  0  | Label:  0  | Status:  Prediction Correct  | File:  /content/EEGClassification//Feb 2021 Filtered Data//5s//CLOSE//JP_T8 Close (valve) - Filtered\n",
            "Prediction:  1  | Label:  0  | Status:  Prediction Incorrect  | File:  /content/EEGClassification//Feb 2021 Filtered Data//5s//CLOSE//CJ_T6 Close (valve)_(2) - Filtered\n",
            "Prediction:  0  | Label:  0  | Status:  Prediction Correct  | File:  /content/EEGClassification//Feb 2021 Filtered Data//5s//CLOSE//AZ_T10 Close (valve) - Filtered\n",
            "Prediction:  0  | Label:  0  | Status:  Prediction Correct  | File:  /content/EEGClassification//Feb 2021 Filtered Data//5s//CLOSE//CJ_T20 Close (valve)_(2) - Filtered\n",
            "Prediction:  0  | Label:  0  | Status:  Prediction Correct  | File:  /content/EEGClassification//Feb 2021 Filtered Data//5s//CLOSE//CJ_T40 Close (valve)_(1) - Filtered\n",
            "Prediction:  0  | Label:  0  | Status:  Prediction Correct  | File:  /content/EEGClassification//Feb 2021 Filtered Data//5s//CLOSE//CJ_T12 Close (valve) - Filtered\n",
            "Prediction:  1  | Label:  0  | Status:  Prediction Incorrect  | File:  /content/EEGClassification//Feb 2021 Filtered Data//5s//CLOSE//CJ_T8 Close (valve)_(1) - Filtered\n",
            "Files classified correctly:  299\n",
            "Total files:  350\n",
            "Accuracy:  0.8542857142857143\n"
          ],
          "name": "stdout"
        }
      ]
    },
    {
      "cell_type": "code",
      "metadata": {
        "colab": {
          "base_uri": "https://localhost:8080/"
        },
        "id": "skT4Qq6xzWdm",
        "outputId": "92570149-84d8-4384-98c4-d29a8e0dbeb4"
      },
      "source": [
        "print(\"Validation Set Accuracy\")\r\n",
        "get_accuracy(model_3L, val_loader)"
      ],
      "execution_count": 32,
      "outputs": [
        {
          "output_type": "stream",
          "text": [
            "Validation Set Accuracy\n"
          ],
          "name": "stdout"
        },
        {
          "output_type": "execute_result",
          "data": {
            "text/plain": [
              "0.8266666666666667"
            ]
          },
          "metadata": {
            "tags": []
          },
          "execution_count": 32
        }
      ]
    },
    {
      "cell_type": "code",
      "metadata": {
        "colab": {
          "base_uri": "https://localhost:8080/"
        },
        "id": "nmO9oCQ1vaJu",
        "outputId": "eba0749e-f7da-482a-dd3f-bc9d8362cd06"
      },
      "source": [
        "print_model_predictions(model_3L, val_loader, filenames_val)"
      ],
      "execution_count": 33,
      "outputs": [
        {
          "output_type": "stream",
          "text": [
            "Prediction:  1  | Label:  1  | Status:  Prediction Correct  | File:  /content/EEGClassification//Feb 2021 Filtered Data//5s//OPEN//SD_T15 Open (valve) - Filtered\n",
            "Prediction:  1  | Label:  1  | Status:  Prediction Correct  | File:  /content/EEGClassification//Feb 2021 Filtered Data//5s//OPEN//CJ_T17 Open (valve)_(2) - Filtered\n",
            "Prediction:  1  | Label:  1  | Status:  Prediction Correct  | File:  /content/EEGClassification//Nov 2020 Filtered Data//5s//OPEN//AZ_T34 Open (valve) - Filtered\n",
            "Prediction:  1  | Label:  1  | Status:  Prediction Correct  | File:  /content/EEGClassification//Feb 2021 Filtered Data//5s//OPEN//JP_T3 Open (valve) - Filtered\n",
            "Prediction:  1  | Label:  1  | Status:  Prediction Correct  | File:  /content/EEGClassification//Nov 2020 Filtered Data//5s//OPEN//SD_T30 Open (valve) - Filtered\n",
            "Prediction:  1  | Label:  1  | Status:  Prediction Correct  | File:  /content/EEGClassification//Feb 2021 Filtered Data//5s//OPEN//CJ_T33 Open (valve) - Filtered\n",
            "Prediction:  1  | Label:  1  | Status:  Prediction Correct  | File:  /content/EEGClassification//Feb 2021 Filtered Data//5s//OPEN//FW_T37 Open (valve) - Filtered\n",
            "Prediction:  1  | Label:  1  | Status:  Prediction Correct  | File:  /content/EEGClassification//Feb 2021 Filtered Data//5s//OPEN//CJ_T33 Open (valve)_(1) - Filtered\n",
            "Prediction:  0  | Label:  1  | Status:  Prediction Incorrect  | File:  /content/EEGClassification//Feb 2021 Filtered Data//5s//OPEN//FW3_T27 Open (valve) - Filtered\n",
            "Prediction:  1  | Label:  1  | Status:  Prediction Correct  | File:  /content/EEGClassification//Nov 2020 Filtered Data//5s//OPEN//SD_T57 Open (valve) - Filtered\n",
            "Prediction:  1  | Label:  1  | Status:  Prediction Correct  | File:  /content/EEGClassification//Nov 2020 Filtered Data//5s//OPEN//FW_T4 Open (valve) - Filtered\n",
            "Prediction:  1  | Label:  1  | Status:  Prediction Correct  | File:  /content/EEGClassification//Nov 2020 Filtered Data//5s//OPEN//SD_T21 Open (valve)_(2) - Filtered\n",
            "Prediction:  1  | Label:  1  | Status:  Prediction Correct  | File:  /content/EEGClassification//Feb 2021 Filtered Data//5s//OPEN//JP_T19 Open (valve) - Filtered\n",
            "Prediction:  1  | Label:  1  | Status:  Prediction Correct  | File:  /content/EEGClassification//Feb 2021 Filtered Data//5s//OPEN//SD_T1 Open (valve)_(1) - Filtered\n",
            "Prediction:  1  | Label:  1  | Status:  Prediction Correct  | File:  /content/EEGClassification//Nov 2020 Filtered Data//5s//OPEN//AZ_T4 Open (valve) - Filtered\n",
            "Prediction:  1  | Label:  1  | Status:  Prediction Correct  | File:  /content/EEGClassification//Feb 2021 Filtered Data//5s//OPEN//FW2_T17 Open (valve) - Filtered\n",
            "Prediction:  1  | Label:  1  | Status:  Prediction Correct  | File:  /content/EEGClassification//Nov 2020 Filtered Data//5s//OPEN//FW_T12 Open (valve) - Filtered\n",
            "Prediction:  1  | Label:  1  | Status:  Prediction Correct  | File:  /content/EEGClassification//Nov 2020 Filtered Data//5s//OPEN//FW_T80 Open (valve) - Filtered\n",
            "Prediction:  1  | Label:  1  | Status:  Prediction Correct  | File:  /content/EEGClassification//Feb 2021 Filtered Data//5s//OPEN//FW3_T3 Open (valve) - Filtered\n",
            "Prediction:  1  | Label:  1  | Status:  Prediction Correct  | File:  /content/EEGClassification//Feb 2021 Filtered Data//5s//OPEN//CJ_T7 Open (valve) - Filtered\n",
            "Prediction:  1  | Label:  1  | Status:  Prediction Correct  | File:  /content/EEGClassification//Feb 2021 Filtered Data//5s//OPEN//FW_T23 Open (valve) - Filtered\n",
            "Prediction:  1  | Label:  1  | Status:  Prediction Correct  | File:  /content/EEGClassification//Feb 2021 Filtered Data//5s//OPEN//AZ_T29 Open (valve) - Filtered\n",
            "Prediction:  1  | Label:  1  | Status:  Prediction Correct  | File:  /content/EEGClassification//Nov 2020 Filtered Data//5s//OPEN//FW_T62 Open (valve) - Filtered\n",
            "Prediction:  0  | Label:  1  | Status:  Prediction Incorrect  | File:  /content/EEGClassification//Feb 2021 Filtered Data//5s//OPEN//FW_T33 Open (valve) - Filtered\n",
            "Prediction:  1  | Label:  1  | Status:  Prediction Correct  | File:  /content/EEGClassification//Nov 2020 Filtered Data//5s//OPEN//AZ_T47 Open (valve) - Filtered\n",
            "Prediction:  0  | Label:  1  | Status:  Prediction Incorrect  | File:  /content/EEGClassification//Feb 2021 Filtered Data//5s//OPEN//FW2_T23 Open (valve) - Filtered\n",
            "Prediction:  1  | Label:  1  | Status:  Prediction Correct  | File:  /content/EEGClassification//Feb 2021 Filtered Data//5s//OPEN//FW2_T7 Open (valve) - Filtered\n",
            "Prediction:  1  | Label:  1  | Status:  Prediction Correct  | File:  /content/EEGClassification//Feb 2021 Filtered Data//5s//OPEN//FW2_T15 Open (valve) - Filtered\n",
            "Prediction:  1  | Label:  1  | Status:  Prediction Correct  | File:  /content/EEGClassification//Nov 2020 Filtered Data//5s//OPEN//CJ_T27 Open (valve) - Filtered\n",
            "Prediction:  1  | Label:  1  | Status:  Prediction Correct  | File:  /content/EEGClassification//Feb 2021 Filtered Data//5s//OPEN//AZ_T31 Open (valve) - Filtered\n",
            "Prediction:  1  | Label:  1  | Status:  Prediction Correct  | File:  /content/EEGClassification//Feb 2021 Filtered Data//5s//OPEN//CJ_T37 Open (valve)_(2) - Filtered\n",
            "Prediction:  0  | Label:  1  | Status:  Prediction Incorrect  | File:  /content/EEGClassification//Feb 2021 Filtered Data//5s//OPEN//FW2_T9 Open (valve) - Filtered\n",
            "Prediction:  1  | Label:  1  | Status:  Prediction Correct  | File:  /content/EEGClassification//Nov 2020 Filtered Data//5s//OPEN//CJ_T61 Open (valve) - Filtered\n",
            "Prediction:  1  | Label:  1  | Status:  Prediction Correct  | File:  /content/EEGClassification//Nov 2020 Filtered Data//5s//OPEN//AZ_T15 Open (valve) - Filtered\n",
            "Prediction:  1  | Label:  1  | Status:  Prediction Correct  | File:  /content/EEGClassification//Nov 2020 Filtered Data//5s//OPEN//FW_T6 Open (valve) - Filtered\n",
            "Prediction:  1  | Label:  1  | Status:  Prediction Correct  | File:  /content/EEGClassification//Nov 2020 Filtered Data//5s//OPEN//SD_T1 Open (valve) - Filtered\n",
            "Prediction:  1  | Label:  1  | Status:  Prediction Correct  | File:  /content/EEGClassification//Feb 2021 Filtered Data//5s//OPEN//CJ2_T5 Open (valve) - Filtered\n",
            "Prediction:  1  | Label:  1  | Status:  Prediction Correct  | File:  /content/EEGClassification//Feb 2021 Filtered Data//5s//OPEN//JP2_T1 Open (valve)_(1) - Filtered\n",
            "Prediction:  1  | Label:  0  | Status:  Prediction Incorrect  | File:  /content/EEGClassification//Feb 2021 Filtered Data//5s//CLOSE//CJ_T24 Close (valve) - Filtered\n",
            "Prediction:  0  | Label:  0  | Status:  Prediction Correct  | File:  /content/EEGClassification//Feb 2021 Filtered Data//5s//CLOSE//FW2_T32 Close (valve) - Filtered\n",
            "Prediction:  0  | Label:  0  | Status:  Prediction Correct  | File:  /content/EEGClassification//Nov 2020 Filtered Data//5s//CLOSE//SD_T15 Close (valve) - Filtered\n",
            "Prediction:  0  | Label:  0  | Status:  Prediction Correct  | File:  /content/EEGClassification//Nov 2020 Filtered Data//5s//CLOSE//FW_T16 Close (valve) - Filtered\n",
            "Prediction:  0  | Label:  0  | Status:  Prediction Correct  | File:  /content/EEGClassification//Feb 2021 Filtered Data//5s//CLOSE//CJ_T34 Close (valve)_(1) - Filtered\n",
            "Prediction:  0  | Label:  0  | Status:  Prediction Correct  | File:  /content/EEGClassification//Feb 2021 Filtered Data//5s//CLOSE//SD_T22 Close (valve)_(1) - Filtered\n",
            "Prediction:  0  | Label:  0  | Status:  Prediction Correct  | File:  /content/EEGClassification//Nov 2020 Filtered Data//5s//CLOSE//SD_T27 Close (valve) - Filtered\n",
            "Prediction:  0  | Label:  0  | Status:  Prediction Correct  | File:  /content/EEGClassification//Feb 2021 Filtered Data//5s//CLOSE//JP_T10 Close (valve) - Filtered\n",
            "Prediction:  0  | Label:  0  | Status:  Prediction Correct  | File:  /content/EEGClassification//Feb 2021 Filtered Data//5s//CLOSE//FW2_T34 Close (valve) - Filtered\n",
            "Prediction:  1  | Label:  0  | Status:  Prediction Incorrect  | File:  /content/EEGClassification//Feb 2021 Filtered Data//5s//CLOSE//CJ_T12 Close (valve)_(2) - Filtered\n",
            "Prediction:  1  | Label:  0  | Status:  Prediction Incorrect  | File:  /content/EEGClassification//Feb 2021 Filtered Data//5s//CLOSE//CJ_T16 Close (valve)_(1) - Filtered\n",
            "Prediction:  0  | Label:  0  | Status:  Prediction Correct  | File:  /content/EEGClassification//Nov 2020 Filtered Data//5s//CLOSE//SD_T41 Close (valve) - Filtered\n",
            "Prediction:  1  | Label:  0  | Status:  Prediction Incorrect  | File:  /content/EEGClassification//Feb 2021 Filtered Data//5s//CLOSE//FW_T10 Close (valve) - Filtered\n",
            "Prediction:  1  | Label:  0  | Status:  Prediction Incorrect  | File:  /content/EEGClassification//Feb 2021 Filtered Data//5s//CLOSE//CJ_T28 Close (valve)_(2) - Filtered\n",
            "Prediction:  0  | Label:  0  | Status:  Prediction Correct  | File:  /content/EEGClassification//Feb 2021 Filtered Data//5s//CLOSE//SD_T4 Close (valve) - Filtered\n",
            "Prediction:  0  | Label:  0  | Status:  Prediction Correct  | File:  /content/EEGClassification//Feb 2021 Filtered Data//5s//CLOSE//JP2_T18 Close (valve)_(1) - Filtered\n",
            "Prediction:  0  | Label:  0  | Status:  Prediction Correct  | File:  /content/EEGClassification//Feb 2021 Filtered Data//5s//CLOSE//FW_T2 Close (valve) - Filtered\n",
            "Prediction:  0  | Label:  0  | Status:  Prediction Correct  | File:  /content/EEGClassification//Feb 2021 Filtered Data//5s//CLOSE//AZ_T4 Close (valve) - Filtered\n",
            "Prediction:  1  | Label:  0  | Status:  Prediction Incorrect  | File:  /content/EEGClassification//Feb 2021 Filtered Data//5s//CLOSE//FW3_T30 Close (valve) - Filtered\n",
            "Prediction:  0  | Label:  0  | Status:  Prediction Correct  | File:  /content/EEGClassification//Feb 2021 Filtered Data//5s//CLOSE//CJ_T10 Close (valve)_(1) - Filtered\n",
            "Prediction:  0  | Label:  0  | Status:  Prediction Correct  | File:  /content/EEGClassification//Nov 2020 Filtered Data//5s//CLOSE//FW_T38 Close (valve) - Filtered\n",
            "Prediction:  1  | Label:  0  | Status:  Prediction Incorrect  | File:  /content/EEGClassification//Feb 2021 Filtered Data//5s//CLOSE//AZ_T2 Close (valve) - Filtered\n",
            "Prediction:  0  | Label:  0  | Status:  Prediction Correct  | File:  /content/EEGClassification//Feb 2021 Filtered Data//5s//CLOSE//CJ_T4 Close (valve)_(2) - Filtered\n",
            "Prediction:  1  | Label:  0  | Status:  Prediction Incorrect  | File:  /content/EEGClassification//Nov 2020 Filtered Data//5s//CLOSE//SD_T5 Close (valve) - Filtered\n",
            "Prediction:  0  | Label:  0  | Status:  Prediction Correct  | File:  /content/EEGClassification//Feb 2021 Filtered Data//5s//CLOSE//AZ_T30 Close (valve) - Filtered\n",
            "Prediction:  1  | Label:  0  | Status:  Prediction Incorrect  | File:  /content/EEGClassification//Nov 2020 Filtered Data//5s//CLOSE//SD_T52 Close (valve) - Filtered\n",
            "Prediction:  0  | Label:  0  | Status:  Prediction Correct  | File:  /content/EEGClassification//Feb 2021 Filtered Data//5s//CLOSE//FW2_T40 Close (valve) - Filtered\n",
            "Prediction:  0  | Label:  0  | Status:  Prediction Correct  | File:  /content/EEGClassification//Feb 2021 Filtered Data//5s//CLOSE//AZ_T12 Close (valve) - Filtered\n",
            "Prediction:  0  | Label:  0  | Status:  Prediction Correct  | File:  /content/EEGClassification//Feb 2021 Filtered Data//5s//CLOSE//CJ_T22 Close (valve)_(1) - Filtered\n",
            "Prediction:  0  | Label:  0  | Status:  Prediction Correct  | File:  /content/EEGClassification//Nov 2020 Filtered Data//5s//CLOSE//AZ_T3 Close (valve) - Filtered\n",
            "Prediction:  0  | Label:  0  | Status:  Prediction Correct  | File:  /content/EEGClassification//Nov 2020 Filtered Data//5s//CLOSE//FW_T78 Close (valve) - Filtered\n",
            "Prediction:  0  | Label:  0  | Status:  Prediction Correct  | File:  /content/EEGClassification//Nov 2020 Filtered Data//5s//CLOSE//AZ_T50 Close (valve) - Filtered\n",
            "Prediction:  0  | Label:  0  | Status:  Prediction Correct  | File:  /content/EEGClassification//Nov 2020 Filtered Data//5s//CLOSE//SD_T29 Close (valve) - Filtered\n",
            "Prediction:  0  | Label:  0  | Status:  Prediction Correct  | File:  /content/EEGClassification//Nov 2020 Filtered Data//5s//CLOSE//FW_T61 Close (valve) - Filtered\n",
            "Prediction:  0  | Label:  0  | Status:  Prediction Correct  | File:  /content/EEGClassification//Nov 2020 Filtered Data//5s//CLOSE//SD_T23 Close (valve) - Filtered\n",
            "Prediction:  0  | Label:  0  | Status:  Prediction Correct  | File:  /content/EEGClassification//Nov 2020 Filtered Data//5s//CLOSE//CJ_T35 Close (valve) - Filtered\n",
            "Prediction:  0  | Label:  0  | Status:  Prediction Correct  | File:  /content/EEGClassification//Feb 2021 Filtered Data//5s//CLOSE//FW_T34 Close (valve) - Filtered\n",
            "Files classified correctly:  62\n",
            "Total files:  75\n",
            "Accuracy:  0.8266666666666667\n"
          ],
          "name": "stdout"
        }
      ]
    },
    {
      "cell_type": "code",
      "metadata": {
        "colab": {
          "base_uri": "https://localhost:8080/"
        },
        "id": "3vXahI32zWgP",
        "outputId": "d0c34d64-2910-487f-a401-5b189e745272"
      },
      "source": [
        "print(\"Test Set Accuracy\")\r\n",
        "get_accuracy(model_3L, test_loader)"
      ],
      "execution_count": 34,
      "outputs": [
        {
          "output_type": "stream",
          "text": [
            "Test Set Accuracy\n"
          ],
          "name": "stdout"
        },
        {
          "output_type": "execute_result",
          "data": {
            "text/plain": [
              "0.8666666666666667"
            ]
          },
          "metadata": {
            "tags": []
          },
          "execution_count": 34
        }
      ]
    },
    {
      "cell_type": "code",
      "metadata": {
        "colab": {
          "base_uri": "https://localhost:8080/"
        },
        "id": "FGGmGhHvzhqc",
        "outputId": "612cfece-697b-43d5-e2bb-1629e642d18f"
      },
      "source": [
        "print_model_predictions(model_3L, test_loader, filenames_test)"
      ],
      "execution_count": 35,
      "outputs": [
        {
          "output_type": "stream",
          "text": [
            "Prediction:  1  | Label:  1  | Status:  Prediction Correct  | File:  /content/EEGClassification//Nov 2020 Filtered Data//5s//OPEN//SD_T17 Open (valve) - Filtered\n",
            "Prediction:  1  | Label:  1  | Status:  Prediction Correct  | File:  /content/EEGClassification//Feb 2021 Filtered Data//5s//OPEN//JP_T15 Open (valve) - Filtered\n",
            "Prediction:  1  | Label:  1  | Status:  Prediction Correct  | File:  /content/EEGClassification//Feb 2021 Filtered Data//5s//OPEN//FW3_T39 Open (valve) - Filtered\n",
            "Prediction:  1  | Label:  1  | Status:  Prediction Correct  | File:  /content/EEGClassification//Feb 2021 Filtered Data//5s//OPEN//AZ_T35 Open (valve) - Filtered\n",
            "Prediction:  1  | Label:  1  | Status:  Prediction Correct  | File:  /content/EEGClassification//Feb 2021 Filtered Data//5s//OPEN//SD_T21 Open (valve) - Filtered\n",
            "Prediction:  0  | Label:  1  | Status:  Prediction Incorrect  | File:  /content/EEGClassification//Feb 2021 Filtered Data//5s//OPEN//JP_T11 Open (valve) - Filtered\n",
            "Prediction:  1  | Label:  1  | Status:  Prediction Correct  | File:  /content/EEGClassification//Feb 2021 Filtered Data//5s//OPEN//JP2_T7 Open (valve)_(1) - Filtered\n",
            "Prediction:  1  | Label:  1  | Status:  Prediction Correct  | File:  /content/EEGClassification//Feb 2021 Filtered Data//5s//OPEN//CJ_T29 Open (valve)_(1) - Filtered\n",
            "Prediction:  1  | Label:  1  | Status:  Prediction Correct  | File:  /content/EEGClassification//Nov 2020 Filtered Data//5s//OPEN//CJ_T73 Open (valve) - Filtered\n",
            "Prediction:  1  | Label:  1  | Status:  Prediction Correct  | File:  /content/EEGClassification//Feb 2021 Filtered Data//5s//OPEN//CJ_T37 Open (valve)_(1) - Filtered\n",
            "Prediction:  1  | Label:  1  | Status:  Prediction Correct  | File:  /content/EEGClassification//Feb 2021 Filtered Data//5s//OPEN//FW2_T39 Open (valve) - Filtered\n",
            "Prediction:  1  | Label:  1  | Status:  Prediction Correct  | File:  /content/EEGClassification//Nov 2020 Filtered Data//5s//OPEN//CJ_T69 Open (valve) - Filtered\n",
            "Prediction:  0  | Label:  1  | Status:  Prediction Incorrect  | File:  /content/EEGClassification//Feb 2021 Filtered Data//5s//OPEN//FW_T17 Open (valve) - Filtered\n",
            "Prediction:  1  | Label:  1  | Status:  Prediction Correct  | File:  /content/EEGClassification//Feb 2021 Filtered Data//5s//OPEN//JP2_T9 Open (valve)_(1) - Filtered\n",
            "Prediction:  1  | Label:  1  | Status:  Prediction Correct  | File:  /content/EEGClassification//Feb 2021 Filtered Data//5s//OPEN//CJ_T11 Open (valve)_(1) - Filtered\n",
            "Prediction:  1  | Label:  1  | Status:  Prediction Correct  | File:  /content/EEGClassification//Feb 2021 Filtered Data//5s//OPEN//SD_T19 Open (valve) - Filtered\n",
            "Prediction:  1  | Label:  1  | Status:  Prediction Correct  | File:  /content/EEGClassification//Feb 2021 Filtered Data//5s//OPEN//CJ_T5 Open (valve) - Filtered\n",
            "Prediction:  1  | Label:  1  | Status:  Prediction Correct  | File:  /content/EEGClassification//Feb 2021 Filtered Data//5s//OPEN//CJ_T11 Open (valve)_(2) - Filtered\n",
            "Prediction:  1  | Label:  1  | Status:  Prediction Correct  | File:  /content/EEGClassification//Feb 2021 Filtered Data//5s//OPEN//JP_T17 Open (valve) - Filtered\n",
            "Prediction:  1  | Label:  1  | Status:  Prediction Correct  | File:  /content/EEGClassification//Feb 2021 Filtered Data//5s//OPEN//CJ_T13 Open (valve) - Filtered\n",
            "Prediction:  1  | Label:  1  | Status:  Prediction Correct  | File:  /content/EEGClassification//Feb 2021 Filtered Data//5s//OPEN//AZ_T11 Open (valve) - Filtered\n",
            "Prediction:  1  | Label:  1  | Status:  Prediction Correct  | File:  /content/EEGClassification//Feb 2021 Filtered Data//5s//OPEN//CJ_T5 Open (valve)_(1) - Filtered\n",
            "Prediction:  1  | Label:  1  | Status:  Prediction Correct  | File:  /content/EEGClassification//Feb 2021 Filtered Data//5s//OPEN//CJ_T27 Open (valve)_(2) - Filtered\n",
            "Prediction:  1  | Label:  1  | Status:  Prediction Correct  | File:  /content/EEGClassification//Feb 2021 Filtered Data//5s//OPEN//CJ_T31 Open (valve)_(2) - Filtered\n",
            "Prediction:  1  | Label:  1  | Status:  Prediction Correct  | File:  /content/EEGClassification//Feb 2021 Filtered Data//5s//OPEN//JP2_T17 Open (valve)_(1) - Filtered\n",
            "Prediction:  1  | Label:  1  | Status:  Prediction Correct  | File:  /content/EEGClassification//Feb 2021 Filtered Data//5s//OPEN//SD_T25 Open (valve) - Filtered\n",
            "Prediction:  0  | Label:  1  | Status:  Prediction Incorrect  | File:  /content/EEGClassification//Feb 2021 Filtered Data//5s//OPEN//CJ_T17 Open (valve) - Filtered\n",
            "Prediction:  1  | Label:  1  | Status:  Prediction Correct  | File:  /content/EEGClassification//Nov 2020 Filtered Data//5s//OPEN//SD_T19 Open (valve) - Filtered\n",
            "Prediction:  1  | Label:  1  | Status:  Prediction Correct  | File:  /content/EEGClassification//Feb 2021 Filtered Data//5s//OPEN//JP2_T15 Open (valve)_(1) - Filtered\n",
            "Prediction:  0  | Label:  0  | Status:  Prediction Correct  | File:  /content/EEGClassification//Feb 2021 Filtered Data//5s//CLOSE//CJ_T36 Close (valve) - Filtered\n",
            "Prediction:  0  | Label:  0  | Status:  Prediction Correct  | File:  /content/EEGClassification//Feb 2021 Filtered Data//5s//CLOSE//FW2_T30 Close (valve) - Filtered\n",
            "Prediction:  0  | Label:  0  | Status:  Prediction Correct  | File:  /content/EEGClassification//Nov 2020 Filtered Data//5s//CLOSE//CJ_T75 Close (valve) - Filtered\n",
            "Prediction:  0  | Label:  0  | Status:  Prediction Correct  | File:  /content/EEGClassification//Feb 2021 Filtered Data//5s//CLOSE//FW2_T20 Close (valve) - Filtered\n",
            "Prediction:  1  | Label:  0  | Status:  Prediction Incorrect  | File:  /content/EEGClassification//Feb 2021 Filtered Data//5s//CLOSE//JP_T16 Close (valve) - Filtered\n",
            "Prediction:  0  | Label:  0  | Status:  Prediction Correct  | File:  /content/EEGClassification//Feb 2021 Filtered Data//5s//CLOSE//CJ_T20 Close (valve)_(1) - Filtered\n",
            "Prediction:  0  | Label:  0  | Status:  Prediction Correct  | File:  /content/EEGClassification//Nov 2020 Filtered Data//5s//CLOSE//SD_T11 Close (valve) - Filtered\n",
            "Prediction:  1  | Label:  0  | Status:  Prediction Incorrect  | File:  /content/EEGClassification//Feb 2021 Filtered Data//5s//CLOSE//JP2_T2 Close (valve)_(1) - Filtered\n",
            "Prediction:  0  | Label:  0  | Status:  Prediction Correct  | File:  /content/EEGClassification//Feb 2021 Filtered Data//5s//CLOSE//SD_T16 Close (valve) - Filtered\n",
            "Prediction:  0  | Label:  0  | Status:  Prediction Correct  | File:  /content/EEGClassification//Feb 2021 Filtered Data//5s//CLOSE//CJ2_T10 Close (valve) - Filtered\n",
            "Prediction:  0  | Label:  0  | Status:  Prediction Correct  | File:  /content/EEGClassification//Feb 2021 Filtered Data//5s//CLOSE//CJ_T32 Close (valve)_(2) - Filtered\n",
            "Prediction:  0  | Label:  0  | Status:  Prediction Correct  | File:  /content/EEGClassification//Feb 2021 Filtered Data//5s//CLOSE//CJ_T4 Close (valve) - Filtered\n",
            "Prediction:  0  | Label:  0  | Status:  Prediction Correct  | File:  /content/EEGClassification//Feb 2021 Filtered Data//5s//CLOSE//AZ_T36 Close (valve) - Filtered\n",
            "Prediction:  1  | Label:  0  | Status:  Prediction Incorrect  | File:  /content/EEGClassification//Feb 2021 Filtered Data//5s//CLOSE//AZ_T26 Close (valve) - Filtered\n",
            "Prediction:  0  | Label:  0  | Status:  Prediction Correct  | File:  /content/EEGClassification//Feb 2021 Filtered Data//5s//CLOSE//SD_T22 Close (valve) - Filtered\n",
            "Prediction:  0  | Label:  0  | Status:  Prediction Correct  | File:  /content/EEGClassification//Nov 2020 Filtered Data//5s//CLOSE//CJ_T78 Close (valve) - Filtered\n",
            "Prediction:  0  | Label:  0  | Status:  Prediction Correct  | File:  /content/EEGClassification//Feb 2021 Filtered Data//5s//CLOSE//CJ_T36 Close (valve)_(2) - Filtered\n",
            "Prediction:  0  | Label:  0  | Status:  Prediction Correct  | File:  /content/EEGClassification//Nov 2020 Filtered Data//5s//CLOSE//SD_T20 Close (valve) - Filtered\n",
            "Prediction:  0  | Label:  0  | Status:  Prediction Correct  | File:  /content/EEGClassification//Nov 2020 Filtered Data//5s//CLOSE//AZ_T77 Close (valve) - Filtered\n",
            "Prediction:  0  | Label:  0  | Status:  Prediction Correct  | File:  /content/EEGClassification//Feb 2021 Filtered Data//5s//CLOSE//AZ_T22 Close (valve) - Filtered\n",
            "Prediction:  0  | Label:  0  | Status:  Prediction Correct  | File:  /content/EEGClassification//Nov 2020 Filtered Data//5s//CLOSE//AZ_T26 Close (valve) - Filtered\n",
            "Prediction:  0  | Label:  0  | Status:  Prediction Correct  | File:  /content/EEGClassification//Feb 2021 Filtered Data//5s//CLOSE//FW2_T36 Close (valve) - Filtered\n",
            "Prediction:  0  | Label:  0  | Status:  Prediction Correct  | File:  /content/EEGClassification//Nov 2020 Filtered Data//5s//CLOSE//AZ_T76 Close (valve) - Filtered\n",
            "Prediction:  0  | Label:  0  | Status:  Prediction Correct  | File:  /content/EEGClassification//Nov 2020 Filtered Data//5s//CLOSE//FW_T85 Close (valve) - Filtered\n",
            "Prediction:  0  | Label:  0  | Status:  Prediction Correct  | File:  /content/EEGClassification//Nov 2020 Filtered Data//5s//CLOSE//SD_T46 Close (valve) - Filtered\n",
            "Prediction:  0  | Label:  0  | Status:  Prediction Correct  | File:  /content/EEGClassification//Feb 2021 Filtered Data//5s//CLOSE//SD_T18 Close (valve)_(1) - Filtered\n",
            "Prediction:  0  | Label:  0  | Status:  Prediction Correct  | File:  /content/EEGClassification//Feb 2021 Filtered Data//5s//CLOSE//JP2_T12 Close (valve)_(1) - Filtered\n",
            "Prediction:  0  | Label:  0  | Status:  Prediction Correct  | File:  /content/EEGClassification//Feb 2021 Filtered Data//5s//CLOSE//AZ_T32 Close (valve) - Filtered\n",
            "Prediction:  0  | Label:  0  | Status:  Prediction Correct  | File:  /content/EEGClassification//Nov 2020 Filtered Data//5s//CLOSE//FW_T18 Close (valve) - Filtered\n",
            "Prediction:  0  | Label:  0  | Status:  Prediction Correct  | File:  /content/EEGClassification//Feb 2021 Filtered Data//5s//CLOSE//CJ_T30 Close (valve) - Filtered\n",
            "Prediction:  0  | Label:  0  | Status:  Prediction Correct  | File:  /content/EEGClassification//Nov 2020 Filtered Data//5s//CLOSE//CJ_T15 Close (valve) - Filtered\n",
            "Prediction:  0  | Label:  0  | Status:  Prediction Correct  | File:  /content/EEGClassification//Feb 2021 Filtered Data//5s//CLOSE//CJ_T4 Close (valve)_(1) - Filtered\n",
            "Prediction:  0  | Label:  0  | Status:  Prediction Correct  | File:  /content/EEGClassification//Nov 2020 Filtered Data//5s//CLOSE//AZ_T32 Close (valve) - Filtered\n",
            "Prediction:  0  | Label:  0  | Status:  Prediction Correct  | File:  /content/EEGClassification//Nov 2020 Filtered Data//5s//CLOSE//SD_T31 Close (valve) - Filtered\n",
            "Prediction:  0  | Label:  0  | Status:  Prediction Correct  | File:  /content/EEGClassification//Feb 2021 Filtered Data//5s//CLOSE//JP_T2 Close (valve) - Filtered\n",
            "Prediction:  1  | Label:  0  | Status:  Prediction Incorrect  | File:  /content/EEGClassification//Nov 2020 Filtered Data//5s//CLOSE//FW_T43 Close (valve) - Filtered\n",
            "Prediction:  0  | Label:  0  | Status:  Prediction Correct  | File:  /content/EEGClassification//Nov 2020 Filtered Data//5s//CLOSE//AZ_T33 Close (valve) - Filtered\n",
            "Prediction:  0  | Label:  0  | Status:  Prediction Correct  | File:  /content/EEGClassification//Feb 2021 Filtered Data//5s//CLOSE//SD_T10 Close (valve)_(1) - Filtered\n",
            "Prediction:  1  | Label:  0  | Status:  Prediction Incorrect  | File:  /content/EEGClassification//Feb 2021 Filtered Data//5s//CLOSE//FW_T24 Close (valve) - Filtered\n",
            "Prediction:  0  | Label:  0  | Status:  Prediction Correct  | File:  /content/EEGClassification//Feb 2021 Filtered Data//5s//CLOSE//SD_T14 Close (valve) - Filtered\n",
            "Prediction:  1  | Label:  0  | Status:  Prediction Incorrect  | File:  /content/EEGClassification//Nov 2020 Filtered Data//5s//CLOSE//AZ_T5 Close (valve) - Filtered\n",
            "Prediction:  1  | Label:  0  | Status:  Prediction Incorrect  | File:  /content/EEGClassification//Feb 2021 Filtered Data//5s//CLOSE//CJ_T18 Close (valve)_(1) - Filtered\n",
            "Prediction:  0  | Label:  0  | Status:  Prediction Correct  | File:  /content/EEGClassification//Feb 2021 Filtered Data//5s//CLOSE//JP_T40 Close (valve) - Filtered\n",
            "Prediction:  0  | Label:  0  | Status:  Prediction Correct  | File:  /content/EEGClassification//Nov 2020 Filtered Data//5s//CLOSE//CJ_T53 Close (valve) - Filtered\n",
            "Prediction:  0  | Label:  0  | Status:  Prediction Correct  | File:  /content/EEGClassification//Nov 2020 Filtered Data//5s//CLOSE//CJ_T7 Close (valve) - Filtered\n",
            "Prediction:  0  | Label:  0  | Status:  Prediction Correct  | File:  /content/EEGClassification//Feb 2021 Filtered Data//5s//CLOSE//FW2_T4 Close (valve) - Filtered\n",
            "Files classified correctly:  65\n",
            "Total files:  75\n",
            "Accuracy:  0.8666666666666667\n"
          ],
          "name": "stdout"
        }
      ]
    },
    {
      "cell_type": "markdown",
      "metadata": {
        "id": "7G3qbpSx2Fzb"
      },
      "source": [
        "### Test the CNN model"
      ]
    },
    {
      "cell_type": "code",
      "metadata": {
        "id": "GDlLuKoH_JX_"
      },
      "source": [
        "# Upload the file manually since it is too large to store on GitHub\r\n",
        "#from google.colab import files\r\n",
        "#uploaded = files.upload()"
      ],
      "execution_count": 55,
      "outputs": []
    },
    {
      "cell_type": "code",
      "metadata": {
        "id": "EBwbESUe38Uw"
      },
      "source": [
        "def downsampleTensorHW(dataset, factor):\r\n",
        "    # Given a tensor dataset of data, labels, takes data of shape [N, C, H, W]\r\n",
        "    # Returns the dataset, but with data of shape [N, C, H/factor, W/factor]\r\n",
        "    data = dataset.tensors[0]\r\n",
        "    labels = dataset.tensors[1]\r\n",
        "    data_new = F.interpolate(data, size=(int(data.shape[-2] /factor), int(data.shape[-1] /factor)), mode='bicubic', align_corners=False)\r\n",
        "    return TensorDataset(data_new, labels)"
      ],
      "execution_count": 56,
      "outputs": []
    },
    {
      "cell_type": "code",
      "metadata": {
        "id": "WdZoA48UJv1T"
      },
      "source": [
        "class CNN_WV(nn.Module):\r\n",
        "    def __init__(self):\r\n",
        "        super(CNN_WV, self).__init__()\r\n",
        "        self.name = \"CNN_WV\"\r\n",
        "        \r\n",
        "        self.conv1 = nn.Conv2d(4, 8, 4) #in_channels, out_channels (# of kernels to try), kernel_size. Size in is 4x30x640\r\n",
        "        self.pool = nn.MaxPool2d(2, 2) #kernel_size (for the pool), stride. Size in should be 8x26x636 \r\n",
        "        self.conv2 = nn.Conv2d(8, 16, 4) #size in should be 8x13x318\r\n",
        "        self.pool = nn.MaxPool2d(2, 2) # size in should be 16x9x314\r\n",
        "        \r\n",
        "        self.fc1 = nn.Linear(16*5*157, 2500) #size in should be 16x5x157\r\n",
        "        self.fc2 = nn.Linear(2500, 500)\r\n",
        "        self.fc3 = nn.Linear(500, 50)\r\n",
        "        self.fc4 = nn.Linear(50, 2)\r\n",
        " \r\n",
        "    def forward(self, x):\r\n",
        "        x = self.pool(F.relu(self.conv1(x)))\r\n",
        "        x = self.pool(F.relu(self.conv2(x)))\r\n",
        "        x = x.view(x.size(0), -1) #flatten the input\r\n",
        "\r\n",
        "        x = F.relu(self.fc1(x))\r\n",
        "        x = F.relu(self.fc2(x))\r\n",
        "        x = F.relu(self.fc3(x)) \r\n",
        "        x = self.fc4(x)\r\n",
        "        x = x.squeeze(1)\r\n",
        "        return x"
      ],
      "execution_count": 57,
      "outputs": []
    },
    {
      "cell_type": "code",
      "metadata": {
        "id": "BjGTAXZI2I1j"
      },
      "source": [
        "#pth = 'model_CNN_WV_bs20_lr0-00025_epoch3_iteration58_val-acc64-0.pth'\r\n",
        "#model_CNN = CNN_WV()\r\n",
        "#model_CNN.load_state_dict(torch.load(pth))\r\n",
        "#model_CNN.eval()"
      ],
      "execution_count": 58,
      "outputs": []
    },
    {
      "cell_type": "code",
      "metadata": {
        "id": "-Fph7SAd3BDV"
      },
      "source": [
        "#batch_size = 1\r\n",
        "\r\n",
        "#train_dataset = createTensorDataset(X_train_wv, y_train_wv)\r\n",
        "#train_dataset = downsampleTensorHW(train_dataset, 2)\r\n",
        "#train_loader = torch.utils.data.DataLoader(train_dataset, batch_size=batch_size, shuffle=False)\r\n",
        "\r\n",
        "#val_dataset = createTensorDataset(X_val_wv, y_val_wv)\r\n",
        "#val_dataset = downsampleTensorHW(val_dataset, 2)\r\n",
        "#val_loader = torch.utils.data.DataLoader(val_dataset, batch_size=batch_size, shuffle=False)\r\n",
        "\r\n",
        "#test_dataset = createTensorDataset(X_test_wv, y_test_wv)\r\n",
        "#test_dataset = downsampleTensorHW(test_dataset, 2)\r\n",
        "#test_loader = torch.utils.data.DataLoader(test_dataset, batch_size=batch_size, shuffle=False)"
      ],
      "execution_count": 59,
      "outputs": []
    },
    {
      "cell_type": "code",
      "metadata": {
        "id": "aHJNhlhw2wWj"
      },
      "source": [
        "#print(\"Training Set Accuracy\")\r\n",
        "#get_accuracy(model_CNN, train_loader)"
      ],
      "execution_count": 60,
      "outputs": []
    },
    {
      "cell_type": "code",
      "metadata": {
        "id": "WJ6Uc0t62wcY"
      },
      "source": [
        "#print(\"Validation Set Accuracy\")\r\n",
        "#get_accuracy(model_CNN, val_loader)"
      ],
      "execution_count": 61,
      "outputs": []
    },
    {
      "cell_type": "code",
      "metadata": {
        "id": "EzTlPrMP2win"
      },
      "source": [
        "#print(\"Test Set Accuracy\")\r\n",
        "#get_accuracy(model_CNN, test_loader)"
      ],
      "execution_count": 62,
      "outputs": []
    },
    {
      "cell_type": "code",
      "metadata": {
        "id": "_uDgG9uG2wy6"
      },
      "source": [
        "#print_model_predictions(model_CNN, test_loader, filenames_test)"
      ],
      "execution_count": 63,
      "outputs": []
    },
    {
      "cell_type": "markdown",
      "metadata": {
        "id": "fDVTZBaL4avy"
      },
      "source": [
        "## 4. Discussion"
      ]
    },
    {
      "cell_type": "markdown",
      "metadata": {
        "id": "veYc9chg4gHp"
      },
      "source": [
        "The table below summarizes the accuracy of each model on the training, validation, and testing sets:\r\n",
        "\r\n",
        "|                          |Training |Validation|Testing  |       \r\n",
        "|--------------------------|:-------:|:--------:|:-------:|\r\n",
        "|Baseline SVM              |68.6%    |77.3%     |65.3%    |\r\n",
        "|2 Layer ANN, 50 batch size|83.1%    |81.3%     |90.7%    |\r\n",
        "|2 Layer ANN, 75 batch size|83.1%    |78.7%     |  84.0%  |\r\n",
        "|3 Layer ANN               |**85.4%**|**82.7%** |**86.7%**|\r\n",
        "|CNN                       |66.3%    |56.0%     |60.0%    |\r\n",
        "\r\n",
        "The final model is chosen to be the 3 Layer ANN since it had the highest training and validation accuracies. Although the 2 layer ANN trained with a batch size of 50 ended up having a higher performance on the test set, there would have been no way to know this a priori, and selecting this model as the final model would mean that testing data would be influencing model selection, which contradicts the purpose of having a held-out testing set.\r\n",
        "\r\n",
        "The baseline SVM model, which had accuracies in the mid 60s, is similar to the results obtained by [Sereshkeh et al.](https://www.worldscientific.com/doi/abs/10.1142/S0129065717500332), who also built a SVM classifier for covert speech, but of \"yes\" and \"no\" rather than \"open\" and \"close\". Their model had an accuracy of 69%. However, the EEG signals in their model had been processed much more than ours; in addition to applying a 0.5-50Hz bandpass like we did, they also used the [ADJUST algorithm](https://www.nitrc.org/projects/adjust/#:~:text=ADJUST%20is%20a%20completely%20automatic,isolating%20artifacts%20from%20EEG%20recordings.) to remove blinks, and then took a wavelet transform. This is also where our results differed; when we took wavelet transforms and built a CNN based on the data, accuracies were lower than any other model. We believe this may have occured for two reasons:\r\n",
        "\r\n",
        "> 1) The wavelet transform inputs were much larger data files, so passing through the network made training time-consuming. Thus, it is possible to have undertrained.\r\n",
        ">\r\n",
        "> 2) The wavelet transform, but more generally frequency domain components, may not be of much help in covert speech classification. In our preliminary model training, we noticed that using a signal's FFT rather than its time series provided poorer results when using an ANN classifier. With wavelets, the increased resolution in the frequency domain, but lower resolution in the time domain may have led to obfuscating classification features and increasing noise.\r\n",
        "\r\n",
        "Comparing the ANN models, results are largely similar, but the 3 layer model has slightly higher training and validation accuracies compared to the 2 layer models. By having an extra layer, the chosen model may be better at modelling nonlinearities in the EEG signals; in the long run and with more testing data, we would expect the 3 layer model to perform better than the 2 layer models."
      ]
    }
  ]
}