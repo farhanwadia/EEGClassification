{
  "nbformat": 4,
  "nbformat_minor": 0,
  "metadata": {
    "colab": {
      "name": "EEG_Classification_Model_Testing.ipynb",
      "provenance": [],
      "collapsed_sections": [],
      "authorship_tag": "ABX9TyNCwXkeDDcBFZ/7Z0IqtIMQ",
      "include_colab_link": true
    },
    "kernelspec": {
      "name": "python3",
      "display_name": "Python 3"
    }
  },
  "cells": [
    {
      "cell_type": "markdown",
      "metadata": {
        "id": "view-in-github",
        "colab_type": "text"
      },
      "source": [
        "<a href=\"https://colab.research.google.com/github/farhanwadia/EEGClassification/blob/Farhan/EEG_Classification_Model_Testing.ipynb\" target=\"_parent\"><img src=\"https://colab.research.google.com/assets/colab-badge.svg\" alt=\"Open In Colab\"/></a>"
      ]
    },
    {
      "cell_type": "markdown",
      "metadata": {
        "id": "lNGbjcY_pmoW"
      },
      "source": [
        "# EEG Classification Model Testing"
      ]
    },
    {
      "cell_type": "markdown",
      "metadata": {
        "id": "4R2YgRFEXx6I"
      },
      "source": [
        "## 1. Clone the GitHub Repository"
      ]
    },
    {
      "cell_type": "code",
      "metadata": {
        "colab": {
          "base_uri": "https://localhost:8080/"
        },
        "id": "rXv7k4iwXM4j",
        "outputId": "32876755-a9fe-4125-dc27-a891a59d747b"
      },
      "source": [
        "!git clone https://github.com/farhanwadia/EEGClassification\r\n",
        "!cd EEGClassification && git checkout Farhan\r\n",
        "\r\n",
        "#Change the working directory to the EEGClassification folder \r\n",
        "%cd EEGClassification\r\n",
        "!pwd"
      ],
      "execution_count": 1,
      "outputs": [
        {
          "output_type": "stream",
          "text": [
            "Cloning into 'EEGClassification'...\n",
            "remote: Enumerating objects: 77, done.\u001b[K\n",
            "remote: Counting objects: 100% (77/77), done.\u001b[K\n",
            "remote: Compressing objects: 100% (69/69), done.\u001b[K\n",
            "remote: Total 10615 (delta 27), reused 24 (delta 8), pack-reused 10538\u001b[K\n",
            "Receiving objects: 100% (10615/10615), 4.00 GiB | 24.96 MiB/s, done.\n",
            "Resolving deltas: 100% (537/537), done.\n",
            "Checking out files: 100% (10468/10468), done.\n",
            "Branch 'Farhan' set up to track remote branch 'Farhan' from 'origin'.\n",
            "Switched to a new branch 'Farhan'\n",
            "/content/EEGClassification\n",
            "/content/EEGClassification\n"
          ],
          "name": "stdout"
        }
      ]
    },
    {
      "cell_type": "markdown",
      "metadata": {
        "id": "6-nWvGasqRnV"
      },
      "source": [
        "### Imports"
      ]
    },
    {
      "cell_type": "code",
      "metadata": {
        "id": "1J1KleV0pxZ8"
      },
      "source": [
        "#!pip install mne\r\n",
        "\r\n",
        "import numpy as np\r\n",
        "import os\r\n",
        "#import mne\r\n",
        "import matplotlib.pyplot as plt\r\n",
        "import matplotlib.animation as animation\r\n",
        "from sklearn import svm\r\n",
        "from sklearn.neural_network import MLPClassifier\r\n",
        "import pickle\r\n",
        "\r\n",
        "import csv\r\n",
        "import json\r\n",
        "from datetime import datetime\r\n",
        "import torch\r\n",
        "import torch.nn as nn\r\n",
        "import torch.nn.functional as F\r\n",
        "from torch.utils.data import TensorDataset, DataLoader\r\n",
        "import matplotlib.pyplot as plt\r\n",
        "import torch.optim as optim"
      ],
      "execution_count": 2,
      "outputs": []
    },
    {
      "cell_type": "markdown",
      "metadata": {
        "id": "VNa6GwZGrGil"
      },
      "source": [
        "## 2. Split data into training, validation, and test sets"
      ]
    },
    {
      "cell_type": "code",
      "metadata": {
        "id": "mub_0BwqqLoG"
      },
      "source": [
        "def loadCSV(filename):\r\n",
        "    # Takes in a string of the csv file name where the EEG data is (# of measurements by 4 channels)\r\n",
        "    # Returns the data as an np array, transposed, with all values /10**6\r\n",
        "    data = np.loadtxt(filename, delimiter=',')\r\n",
        "    data = data.T / 10**6\r\n",
        "    return data\r\n",
        "\r\n",
        "def jsonToNp(pathToJSON):\r\n",
        "    with open(pathToJSON, \"r\") as f:\r\n",
        "        data = np.array(json.load(f))\r\n",
        "    return data \r\n",
        "\r\n",
        "def getFiles(parentPath):\r\n",
        "    # Returns all files in the folder and its subfolders as a list\r\n",
        "    listOfFiles = list()\r\n",
        "    for (dirpath, dirnames, filenames) in os.walk(parentPath):\r\n",
        "        listOfFiles += [os.path.join(dirpath, file) for file in filenames]\r\n",
        "    return listOfFiles\r\n",
        "\r\n",
        "def createDataset(openFiles, closedFiles):\r\n",
        "    n = len(openFiles) + len(closedFiles)\r\n",
        "    w = loadCSV(openFiles[0]).shape[0]\r\n",
        "    h = loadCSV(openFiles[0]).shape[1]\r\n",
        "\r\n",
        "    X = np.zeros((n, w, h))\r\n",
        "    y = np.zeros((n))\r\n",
        "    filenames = []\r\n",
        "\r\n",
        "    # Put files into np arrays. \r\n",
        "    #Assumes all data has already been cut to correct lengths, with no inconsistincies in the numper of data points between files\r\n",
        "    i = 0\r\n",
        "    for lst in [openFiles, closedFiles]:\r\n",
        "        for file in lst:\r\n",
        "            data = loadCSV(file)\r\n",
        "            X[i] = data\r\n",
        "            if lst == openFiles:\r\n",
        "                y[i] = 1            #Label 1: Open\r\n",
        "            else:\r\n",
        "                y[i] = 0            #Label 0: Closed\r\n",
        "\r\n",
        "            name = file.split(r\"\\\\\")[-1].split(\".\")[0]\r\n",
        "            filenames.append(name)\r\n",
        "            i = i+1\r\n",
        "    return X, y, filenames\r\n",
        "\r\n",
        "def createDatasetFromJSON(openFiles, closedFiles):\r\n",
        "    n = len(openFiles) + len(closedFiles)\r\n",
        "    c = jsonToNp(openFiles[0]).shape[0]\r\n",
        "    h = jsonToNp(openFiles[0]).shape[1]\r\n",
        "    w = jsonToNp(openFiles[0]).shape[2]\r\n",
        "\r\n",
        "    X = np.zeros((n, c, h, w))\r\n",
        "    y = np.zeros((n))\r\n",
        "    filenames = []\r\n",
        "    \r\n",
        "    # Put files into np arrays.\r\n",
        "    i = 0\r\n",
        "    for lst in [openFiles, closedFiles]:\r\n",
        "        for file in lst:\r\n",
        "            data = jsonToNp(file)\r\n",
        "            X[i] = data\r\n",
        "            if lst == openFiles:\r\n",
        "                y[i] = 1            #Label 1: Open\r\n",
        "            else:\r\n",
        "                y[i] = 0            #Label 0: Closed\r\n",
        "\r\n",
        "            name = file.split(r\"\\\\\")[-1].split(\".\")[0]\r\n",
        "            filenames.append(name)\r\n",
        "            i = i+1\r\n",
        "    return X, y, filenames\r\n",
        "\r\n",
        "\r\n",
        "def shuffleDataset(X, y, filenames):\r\n",
        "    indices = np.arange(X.shape[0])\r\n",
        "    seed = 21 \r\n",
        "    np.random.seed(seed)\r\n",
        "    np.random.shuffle(indices)\r\n",
        "    X = X[indices]\r\n",
        "    y = y[indices]\r\n",
        "    filenames = np.array(filenames)\r\n",
        "    filenames = filenames[indices]\r\n",
        "    return X, y, filenames\r\n",
        "\r\n",
        "def splitDataset(X, y, filenames, percent_train):\r\n",
        "    n = X.shape[0]\r\n",
        "    X_train = X[:int(percent_train*n)]\r\n",
        "    X_val = X[int(percent_train*n):]\r\n",
        "    y_train = y[:int(percent_train*n)]\r\n",
        "    y_val = y[int(percent_train*n):]\r\n",
        "    filenames_train = filenames[:int(percent_train*n)]\r\n",
        "    filenames_val = filenames[int(percent_train*n):]\r\n",
        "    return X_train, y_train, filenames_train, X_val, y_val, filenames_val"
      ],
      "execution_count": 3,
      "outputs": []
    },
    {
      "cell_type": "markdown",
      "metadata": {
        "id": "WdgHI_1wU0dh"
      },
      "source": [
        "### Time Series"
      ]
    },
    {
      "cell_type": "code",
      "metadata": {
        "colab": {
          "base_uri": "https://localhost:8080/"
        },
        "id": "YBLWqP6bYKW2",
        "outputId": "6b34311b-d168-46f2-92b8-a2d78ac5185d"
      },
      "source": [
        "openPath = os.getcwd() + r\"//Nov 2020 Filtered Data//5s//OPEN//\"\r\n",
        "closedPath = os.getcwd() + r\"//Nov 2020 Filtered Data//5s//CLOSE//\"\r\n",
        "openPath2 = os.getcwd() + r\"//Feb 2021 Filtered Data//5s//OPEN//\"\r\n",
        "closedPath2 = os.getcwd() + r\"//Feb 2021 Filtered Data//5s//CLOSE//\"\r\n",
        "openFiles = getFiles(openPath) + getFiles(openPath2)\r\n",
        "closedFiles = getFiles(closedPath) + getFiles(closedPath2) \r\n",
        "\r\n",
        "X, y, filenames = createDataset(openFiles, closedFiles)\r\n",
        "X, y, filenames = shuffleDataset(X, y, filenames)\r\n",
        "X_train, y_train, filenames_train, X_other, y_other, filenames_other = splitDataset(X, y, filenames, percent_train=0.7)\r\n",
        "X_val, y_val, filenames_val, X_test, y_test, filenames_test = splitDataset(X_other, y_other, filenames_other, percent_train=0.5) \r\n",
        "\r\n",
        "print(\"X_train Shape: \", X_train.shape)\r\n",
        "print(\"y_train Shape: \", y_train.shape)\r\n",
        "print(\"X_val Shape: \", X_val.shape)\r\n",
        "print(\"y_val Shape: \", y_val.shape)"
      ],
      "execution_count": 4,
      "outputs": [
        {
          "output_type": "stream",
          "text": [
            "X_train Shape:  (350, 4, 1280)\n",
            "y_train Shape:  (350,)\n",
            "X_val Shape:  (75, 4, 1280)\n",
            "y_val Shape:  (75,)\n"
          ],
          "name": "stdout"
        }
      ]
    },
    {
      "cell_type": "markdown",
      "metadata": {
        "id": "wU4GzciJSDMG"
      },
      "source": [
        "Print the filenames for the datasets (can verify with training notebook that all sets are the same and that test data wasn't used for training)"
      ]
    },
    {
      "cell_type": "code",
      "metadata": {
        "colab": {
          "base_uri": "https://localhost:8080/"
        },
        "id": "cBr-9gyWSLwt",
        "outputId": "b2a05fb9-fb3f-42ca-8512-1851014b7f88"
      },
      "source": [
        "print(filenames_train)"
      ],
      "execution_count": 5,
      "outputs": [
        {
          "output_type": "stream",
          "text": [
            "['/content/EEGClassification//Feb 2021 Filtered Data//5s//OPEN//SD_T5 Open (valve)_(1) - Filtered'\n",
            " '/content/EEGClassification//Feb 2021 Filtered Data//5s//CLOSE//FW2_T38 Close (valve) - Filtered'\n",
            " '/content/EEGClassification//Nov 2020 Filtered Data//5s//CLOSE//CJ_T9 Close (valve) - Filtered'\n",
            " '/content/EEGClassification//Feb 2021 Filtered Data//5s//CLOSE//AZ_T38 Close (valve) - Filtered'\n",
            " '/content/EEGClassification//Feb 2021 Filtered Data//5s//CLOSE//FW_T12 Close (valve) - Filtered'\n",
            " '/content/EEGClassification//Feb 2021 Filtered Data//5s//CLOSE//CJ2_T2 Close (valve) - Filtered'\n",
            " '/content/EEGClassification//Nov 2020 Filtered Data//5s//OPEN//AZ_T39 Open (valve) - Filtered'\n",
            " '/content/EEGClassification//Feb 2021 Filtered Data//5s//CLOSE//FW3_T16 Close (valve) - Filtered'\n",
            " '/content/EEGClassification//Feb 2021 Filtered Data//5s//OPEN//CJ_T35 Open (valve)_(2) - Filtered'\n",
            " '/content/EEGClassification//Nov 2020 Filtered Data//5s//OPEN//FW_T75 Open (valve) - Filtered'\n",
            " '/content/EEGClassification//Feb 2021 Filtered Data//5s//CLOSE//CJ_T26 Close (valve)_(1) - Filtered'\n",
            " '/content/EEGClassification//Feb 2021 Filtered Data//5s//OPEN//CJ2_T1 Open (valve) - Filtered'\n",
            " '/content/EEGClassification//Feb 2021 Filtered Data//5s//CLOSE//CJ_T18 Close (valve) - Filtered'\n",
            " '/content/EEGClassification//Feb 2021 Filtered Data//5s//CLOSE//JP2_T4 Close (valve)_(1) - Filtered'\n",
            " '/content/EEGClassification//Feb 2021 Filtered Data//5s//OPEN//FW_T27 Open (valve) - Filtered'\n",
            " '/content/EEGClassification//Feb 2021 Filtered Data//5s//OPEN//CJ2_T3 Open (valve) - Filtered'\n",
            " '/content/EEGClassification//Nov 2020 Filtered Data//5s//OPEN//SD_T15 Open (valve) - Filtered'\n",
            " '/content/EEGClassification//Feb 2021 Filtered Data//5s//OPEN//JP2_T13 Open (valve)_(1) - Filtered'\n",
            " '/content/EEGClassification//Nov 2020 Filtered Data//5s//OPEN//SD_T14 Open (valve) - Filtered'\n",
            " '/content/EEGClassification//Nov 2020 Filtered Data//5s//OPEN//AZ_T75 Open (valve) - Filtered'\n",
            " '/content/EEGClassification//Feb 2021 Filtered Data//5s//CLOSE//AZ_T40 Close (valve) - Filtered'\n",
            " '/content/EEGClassification//Feb 2021 Filtered Data//5s//CLOSE//FW3_T14 Close (valve) - Filtered'\n",
            " '/content/EEGClassification//Feb 2021 Filtered Data//5s//OPEN//AZ_T13 Open (valve) - Filtered'\n",
            " '/content/EEGClassification//Feb 2021 Filtered Data//5s//OPEN//CJ_T21 Open (valve) - Filtered'\n",
            " '/content/EEGClassification//Feb 2021 Filtered Data//5s//CLOSE//SD_T20 Close (valve) - Filtered'\n",
            " '/content/EEGClassification//Feb 2021 Filtered Data//5s//CLOSE//FW2_T2 Close (valve) - Filtered'\n",
            " '/content/EEGClassification//Nov 2020 Filtered Data//5s//OPEN//AZ_T55 Open (valve) - Filtered'\n",
            " '/content/EEGClassification//Feb 2021 Filtered Data//5s//OPEN//CJ_T25 Open (valve)_(2) - Filtered'\n",
            " '/content/EEGClassification//Nov 2020 Filtered Data//5s//OPEN//AZ_T57 Open (valve) - Filtered'\n",
            " '/content/EEGClassification//Feb 2021 Filtered Data//5s//OPEN//CJ_T11 Open (valve) - Filtered'\n",
            " '/content/EEGClassification//Feb 2021 Filtered Data//5s//CLOSE//FW3_T38 Close (valve) - Filtered'\n",
            " '/content/EEGClassification//Nov 2020 Filtered Data//5s//OPEN//FW_T32 Open (valve) - Filtered'\n",
            " '/content/EEGClassification//Feb 2021 Filtered Data//5s//OPEN//FW2_T37 Open (valve) - Filtered'\n",
            " '/content/EEGClassification//Feb 2021 Filtered Data//5s//OPEN//CJ2_T9 Open (valve) - Filtered'\n",
            " '/content/EEGClassification//Feb 2021 Filtered Data//5s//CLOSE//FW_T4 Close (valve) - Filtered'\n",
            " '/content/EEGClassification//Feb 2021 Filtered Data//5s//CLOSE//CJ_T30 Close (valve)_(1) - Filtered'\n",
            " '/content/EEGClassification//Nov 2020 Filtered Data//5s//CLOSE//FW_T70 Close (valve) - Filtered'\n",
            " '/content/EEGClassification//Feb 2021 Filtered Data//5s//CLOSE//FW3_T22 Close (valve) - Filtered'\n",
            " '/content/EEGClassification//Nov 2020 Filtered Data//5s//CLOSE//FW_T46 Close (valve) - Filtered'\n",
            " '/content/EEGClassification//Feb 2021 Filtered Data//5s//CLOSE//CJ_T36 Close (valve)_(1) - Filtered'\n",
            " '/content/EEGClassification//Feb 2021 Filtered Data//5s//OPEN//CJ_T39 Open (valve)_(1) - Filtered'\n",
            " '/content/EEGClassification//Feb 2021 Filtered Data//5s//OPEN//FW_T35 Open (valve) - Filtered'\n",
            " '/content/EEGClassification//Nov 2020 Filtered Data//5s//CLOSE//SD_T24 Close (valve) - Filtered'\n",
            " '/content/EEGClassification//Feb 2021 Filtered Data//5s//CLOSE//CJ_T24 Close (valve)_(1) - Filtered'\n",
            " '/content/EEGClassification//Nov 2020 Filtered Data//5s//OPEN//FW_T34 Open (valve) - Filtered'\n",
            " '/content/EEGClassification//Nov 2020 Filtered Data//5s//CLOSE//FW_T84 Close (valve) - Filtered'\n",
            " '/content/EEGClassification//Feb 2021 Filtered Data//5s//OPEN//SD_T17 Open (valve) - Filtered'\n",
            " '/content/EEGClassification//Nov 2020 Filtered Data//5s//OPEN//AZ_T65 Open (valve) - Filtered'\n",
            " '/content/EEGClassification//Nov 2020 Filtered Data//5s//OPEN//SD_T1 Open (valve)_(1) - Filtered'\n",
            " '/content/EEGClassification//Feb 2021 Filtered Data//5s//CLOSE//CJ_T28 Close (valve)_(1) - Filtered'\n",
            " '/content/EEGClassification//Feb 2021 Filtered Data//5s//OPEN//JP_T5 Open (valve) - Filtered'\n",
            " '/content/EEGClassification//Nov 2020 Filtered Data//5s//OPEN//SD_T12 Open (valve)_(1) - Filtered'\n",
            " '/content/EEGClassification//Feb 2021 Filtered Data//5s//CLOSE//JP_T28 Close (valve) - Filtered'\n",
            " '/content/EEGClassification//Feb 2021 Filtered Data//5s//CLOSE//FW3_T20 Close (valve) - Filtered'\n",
            " '/content/EEGClassification//Feb 2021 Filtered Data//5s//CLOSE//CJ_T20 Close (valve) - Filtered'\n",
            " '/content/EEGClassification//Nov 2020 Filtered Data//5s//OPEN//CJ_T45 Open (valve) - Filtered'\n",
            " '/content/EEGClassification//Nov 2020 Filtered Data//5s//CLOSE//CJ_T70 Close (valve) - Filtered'\n",
            " '/content/EEGClassification//Feb 2021 Filtered Data//5s//OPEN//CJ_T35 Open (valve)_(1) - Filtered'\n",
            " '/content/EEGClassification//Nov 2020 Filtered Data//5s//CLOSE//AZ_T70 Close (valve) - Filtered'\n",
            " '/content/EEGClassification//Feb 2021 Filtered Data//5s//CLOSE//FW_T36 Close (valve) - Filtered'\n",
            " '/content/EEGClassification//Nov 2020 Filtered Data//5s//OPEN//FW_T19 Open (valve) - Filtered'\n",
            " '/content/EEGClassification//Nov 2020 Filtered Data//5s//OPEN//SD_T13 Open (valve) - Filtered'\n",
            " '/content/EEGClassification//Feb 2021 Filtered Data//5s//OPEN//SD_T17 Open (valve)_(1) - Filtered'\n",
            " '/content/EEGClassification//Nov 2020 Filtered Data//5s//OPEN//CJ_T58 Open (valve) - Filtered'\n",
            " '/content/EEGClassification//Feb 2021 Filtered Data//5s//CLOSE//FW_T20 Close (valve) - Filtered'\n",
            " '/content/EEGClassification//Nov 2020 Filtered Data//5s//OPEN//FW_T56 Open (valve) - Filtered'\n",
            " '/content/EEGClassification//Nov 2020 Filtered Data//5s//CLOSE//CJ_T32 Close (valve) - Filtered'\n",
            " '/content/EEGClassification//Nov 2020 Filtered Data//5s//CLOSE//FW_T30 Close (valve) - Filtered'\n",
            " '/content/EEGClassification//Feb 2021 Filtered Data//5s//OPEN//FW_T29 Open (valve) - Filtered'\n",
            " '/content/EEGClassification//Nov 2020 Filtered Data//5s//CLOSE//AZ_T48 Close (valve) - Filtered'\n",
            " '/content/EEGClassification//Feb 2021 Filtered Data//5s//OPEN//CJ_T9 Open (valve) - Filtered'\n",
            " '/content/EEGClassification//Nov 2020 Filtered Data//5s//OPEN//AZ_T62 Open (valve) - Filtered'\n",
            " '/content/EEGClassification//Feb 2021 Filtered Data//5s//OPEN//CJ_T13 Open (valve)_(1) - Filtered'\n",
            " '/content/EEGClassification//Feb 2021 Filtered Data//5s//OPEN//CJ_T7 Open (valve)_(2) - Filtered'\n",
            " '/content/EEGClassification//Nov 2020 Filtered Data//5s//CLOSE//FW_T51 Close (valve) - Filtered'\n",
            " '/content/EEGClassification//Feb 2021 Filtered Data//5s//CLOSE//FW3_T12 Close (valve) - Filtered'\n",
            " '/content/EEGClassification//Feb 2021 Filtered Data//5s//OPEN//FW_T7 Open (valve) - Filtered'\n",
            " '/content/EEGClassification//Feb 2021 Filtered Data//5s//CLOSE//CJ_T14 Close (valve)_(1) - Filtered'\n",
            " '/content/EEGClassification//Feb 2021 Filtered Data//5s//CLOSE//SD_T24 Close (valve) - Filtered'\n",
            " '/content/EEGClassification//Nov 2020 Filtered Data//5s//OPEN//CJ_T29 Open (valve) - Filtered'\n",
            " '/content/EEGClassification//Feb 2021 Filtered Data//5s//CLOSE//CJ2_T6 Close (valve) - Filtered'\n",
            " '/content/EEGClassification//Nov 2020 Filtered Data//5s//CLOSE//SD_T60 Close (valve) - Filtered'\n",
            " '/content/EEGClassification//Feb 2021 Filtered Data//5s//OPEN//SD_T23 Open (valve) - Filtered'\n",
            " '/content/EEGClassification//Nov 2020 Filtered Data//5s//CLOSE//FW_T76 Close (valve) - Filtered'\n",
            " '/content/EEGClassification//Feb 2021 Filtered Data//5s//OPEN//CJ_T23 Open (valve)_(2) - Filtered'\n",
            " '/content/EEGClassification//Nov 2020 Filtered Data//5s//CLOSE//SD_T25 Close (valve) - Filtered'\n",
            " '/content/EEGClassification//Feb 2021 Filtered Data//5s//CLOSE//CJ_T38 Close (valve)_(1) - Filtered'\n",
            " '/content/EEGClassification//Nov 2020 Filtered Data//5s//CLOSE//AZ_T43 Close (valve) - Filtered'\n",
            " '/content/EEGClassification//Feb 2021 Filtered Data//5s//CLOSE//SD_T8 Close (valve) - Filtered'\n",
            " '/content/EEGClassification//Feb 2021 Filtered Data//5s//OPEN//JP_T31 Open (valve) - Filtered'\n",
            " '/content/EEGClassification//Feb 2021 Filtered Data//5s//OPEN//CJ_T37 Open (valve) - Filtered'\n",
            " '/content/EEGClassification//Feb 2021 Filtered Data//5s//CLOSE//JP_T6 Close (valve) - Filtered'\n",
            " '/content/EEGClassification//Feb 2021 Filtered Data//5s//OPEN//JP_T1 Open (valve) - Filtered'\n",
            " '/content/EEGClassification//Nov 2020 Filtered Data//5s//CLOSE//CJ_T38 Close (valve) - Filtered'\n",
            " '/content/EEGClassification//Nov 2020 Filtered Data//5s//CLOSE//AZ_T17 Close (valve) - Filtered'\n",
            " '/content/EEGClassification//Feb 2021 Filtered Data//5s//CLOSE//FW2_T10 Close (valve) - Filtered'\n",
            " '/content/EEGClassification//Nov 2020 Filtered Data//5s//CLOSE//CJ_T22 Close (valve) - Filtered'\n",
            " '/content/EEGClassification//Feb 2021 Filtered Data//5s//CLOSE//JP_T32 Close (valve) - Filtered'\n",
            " '/content/EEGClassification//Feb 2021 Filtered Data//5s//OPEN//FW2_T1 Open (valve) - Filtered'\n",
            " '/content/EEGClassification//Nov 2020 Filtered Data//5s//OPEN//AZ_T24 Open (valve) - Filtered'\n",
            " '/content/EEGClassification//Feb 2021 Filtered Data//5s//CLOSE//CJ_T2 Close (valve) - Filtered'\n",
            " '/content/EEGClassification//Feb 2021 Filtered Data//5s//CLOSE//FW3_T40 Close (valve) - Filtered'\n",
            " '/content/EEGClassification//Feb 2021 Filtered Data//5s//OPEN//JP2_T11 Open (valve)_(1) - Filtered'\n",
            " '/content/EEGClassification//Nov 2020 Filtered Data//5s//CLOSE//FW_T24 Close (valve) - Filtered'\n",
            " '/content/EEGClassification//Feb 2021 Filtered Data//5s//CLOSE//CJ_T14 Close (valve) - Filtered'\n",
            " '/content/EEGClassification//Nov 2020 Filtered Data//5s//CLOSE//CJ_T43 Close (valve) - Filtered'\n",
            " '/content/EEGClassification//Nov 2020 Filtered Data//5s//CLOSE//AZ_T23 Close (valve) - Filtered'\n",
            " '/content/EEGClassification//Nov 2020 Filtered Data//5s//OPEN//AZ_T44 Open (valve) - Filtered'\n",
            " '/content/EEGClassification//Feb 2021 Filtered Data//5s//CLOSE//SD_T2 Close (valve)_(1) - Filtered'\n",
            " '/content/EEGClassification//Nov 2020 Filtered Data//5s//OPEN//CJ_T18 Open (valve) - Filtered'\n",
            " '/content/EEGClassification//Feb 2021 Filtered Data//5s//OPEN//CJ_T39 Open (valve)_(2) - Filtered'\n",
            " '/content/EEGClassification//Feb 2021 Filtered Data//5s//OPEN//JP_T35 Open (valve) - Filtered'\n",
            " '/content/EEGClassification//Feb 2021 Filtered Data//5s//CLOSE//FW3_T34 Close (valve) - Filtered'\n",
            " '/content/EEGClassification//Nov 2020 Filtered Data//5s//OPEN//SD_T26 Open (valve)_(1) - Filtered'\n",
            " '/content/EEGClassification//Feb 2021 Filtered Data//5s//OPEN//CJ_T3 Open (valve)_(2) - Filtered'\n",
            " '/content/EEGClassification//Feb 2021 Filtered Data//5s//CLOSE//SD_T6 Close (valve) - Filtered'\n",
            " '/content/EEGClassification//Nov 2020 Filtered Data//5s//CLOSE//SD_T5 Close (valve)_(1) - Filtered'\n",
            " '/content/EEGClassification//Nov 2020 Filtered Data//5s//OPEN//SD_T12 Open (valve)_(2) - Filtered'\n",
            " '/content/EEGClassification//Nov 2020 Filtered Data//5s//OPEN//FW_T71 Open (valve) - Filtered'\n",
            " '/content/EEGClassification//Feb 2021 Filtered Data//5s//CLOSE//FW3_T6 Close (valve) - Filtered'\n",
            " '/content/EEGClassification//Feb 2021 Filtered Data//5s//CLOSE//FW2_T16 Close (valve) - Filtered'\n",
            " '/content/EEGClassification//Nov 2020 Filtered Data//5s//CLOSE//SD_T3 Close (valve) - Filtered'\n",
            " '/content/EEGClassification//Nov 2020 Filtered Data//5s//OPEN//CJ_T52 Open (valve) - Filtered'\n",
            " '/content/EEGClassification//Feb 2021 Filtered Data//5s//OPEN//FW2_T31 Open (valve) - Filtered'\n",
            " '/content/EEGClassification//Feb 2021 Filtered Data//5s//OPEN//FW3_T17 Open (valve) - Filtered'\n",
            " '/content/EEGClassification//Feb 2021 Filtered Data//5s//CLOSE//AZ_T6 Close (valve) - Filtered'\n",
            " '/content/EEGClassification//Nov 2020 Filtered Data//5s//CLOSE//SD_T14 Close (valve) - Filtered'\n",
            " '/content/EEGClassification//Feb 2021 Filtered Data//5s//OPEN//JP_T9 Open (valve) - Filtered'\n",
            " '/content/EEGClassification//Nov 2020 Filtered Data//5s//CLOSE//FW_T25 Close (valve) - Filtered'\n",
            " '/content/EEGClassification//Feb 2021 Filtered Data//5s//CLOSE//JP2_T8 Close (valve)_(1) - Filtered'\n",
            " '/content/EEGClassification//Nov 2020 Filtered Data//5s//OPEN//AZ_T8 Open (valve) - Filtered'\n",
            " '/content/EEGClassification//Feb 2021 Filtered Data//5s//OPEN//FW3_T25 Open (valve) - Filtered'\n",
            " '/content/EEGClassification//Feb 2021 Filtered Data//5s//OPEN//AZ_T25 Open (valve) - Filtered'\n",
            " '/content/EEGClassification//Feb 2021 Filtered Data//5s//OPEN//FW3_T19 Open (valve) - Filtered'\n",
            " '/content/EEGClassification//Feb 2021 Filtered Data//5s//OPEN//FW2_T13 Open (valve) - Filtered'\n",
            " '/content/EEGClassification//Feb 2021 Filtered Data//5s//OPEN//SD_T11 Open (valve) - Filtered'\n",
            " '/content/EEGClassification//Feb 2021 Filtered Data//5s//OPEN//JP_T21 Open (valve) - Filtered'\n",
            " '/content/EEGClassification//Feb 2021 Filtered Data//5s//OPEN//CJ_T17 Open (valve)_(1) - Filtered'\n",
            " '/content/EEGClassification//Feb 2021 Filtered Data//5s//CLOSE//FW3_T26 Close (valve) - Filtered'\n",
            " '/content/EEGClassification//Nov 2020 Filtered Data//5s//CLOSE//SD_T30 Close (valve) - Filtered'\n",
            " '/content/EEGClassification//Feb 2021 Filtered Data//5s//OPEN//FW_T13 Open (valve) - Filtered'\n",
            " '/content/EEGClassification//Feb 2021 Filtered Data//5s//CLOSE//FW_T28 Close (valve) - Filtered'\n",
            " '/content/EEGClassification//Nov 2020 Filtered Data//5s//CLOSE//SD_T8 Close (valve) - Filtered'\n",
            " '/content/EEGClassification//Nov 2020 Filtered Data//5s//OPEN//AZ_T71 Open (valve) - Filtered'\n",
            " '/content/EEGClassification//Feb 2021 Filtered Data//5s//CLOSE//SD_T6 Close (valve)_(1) - Filtered'\n",
            " '/content/EEGClassification//Feb 2021 Filtered Data//5s//OPEN//JP_T39 Open (valve) - Filtered'\n",
            " '/content/EEGClassification//Feb 2021 Filtered Data//5s//CLOSE//CJ_T26 Close (valve)_(2) - Filtered'\n",
            " '/content/EEGClassification//Nov 2020 Filtered Data//5s//CLOSE//FW_T9 Close (valve) - Filtered'\n",
            " '/content/EEGClassification//Feb 2021 Filtered Data//5s//OPEN//CJ_T15 Open (valve)_(1) - Filtered'\n",
            " '/content/EEGClassification//Nov 2020 Filtered Data//5s//CLOSE//AZ_T66 Close (valve) - Filtered'\n",
            " '/content/EEGClassification//Nov 2020 Filtered Data//5s//OPEN//FW_T44 Open (valve) - Filtered'\n",
            " '/content/EEGClassification//Feb 2021 Filtered Data//5s//OPEN//FW2_T11 Open (valve) - Filtered'\n",
            " '/content/EEGClassification//Feb 2021 Filtered Data//5s//CLOSE//FW3_T28 Close (valve) - Filtered'\n",
            " '/content/EEGClassification//Nov 2020 Filtered Data//5s//CLOSE//CJ_T50 Close (valve) - Filtered'\n",
            " '/content/EEGClassification//Nov 2020 Filtered Data//5s//OPEN//SD_T26 Open (valve)_(2) - Filtered'\n",
            " '/content/EEGClassification//Feb 2021 Filtered Data//5s//OPEN//CJ_T23 Open (valve)_(1) - Filtered'\n",
            " '/content/EEGClassification//Feb 2021 Filtered Data//5s//OPEN//SD_T3 Open (valve) - Filtered'\n",
            " '/content/EEGClassification//Feb 2021 Filtered Data//5s//CLOSE//AZ_T8 Close (valve) - Filtered'\n",
            " '/content/EEGClassification//Feb 2021 Filtered Data//5s//CLOSE//AZ_T14 Close (valve) - Filtered'\n",
            " '/content/EEGClassification//Feb 2021 Filtered Data//5s//CLOSE//CJ_T12 Close (valve)_(1) - Filtered'\n",
            " '/content/EEGClassification//Feb 2021 Filtered Data//5s//OPEN//CJ2_T11 Open (valve) - Filtered'\n",
            " '/content/EEGClassification//Feb 2021 Filtered Data//5s//CLOSE//CJ_T24 Close (valve)_(2) - Filtered'\n",
            " '/content/EEGClassification//Feb 2021 Filtered Data//5s//OPEN//AZ_T33 Open (valve) - Filtered'\n",
            " '/content/EEGClassification//Feb 2021 Filtered Data//5s//OPEN//FW2_T5 Open (valve) - Filtered'\n",
            " '/content/EEGClassification//Feb 2021 Filtered Data//5s//OPEN//AZ_T9 Open (valve) - Filtered'\n",
            " '/content/EEGClassification//Feb 2021 Filtered Data//5s//CLOSE//CJ_T38 Close (valve) - Filtered'\n",
            " '/content/EEGClassification//Nov 2020 Filtered Data//5s//OPEN//FW_T81 Open (valve) - Filtered'\n",
            " '/content/EEGClassification//Feb 2021 Filtered Data//5s//OPEN//JP_T13 Open (valve) - Filtered'\n",
            " '/content/EEGClassification//Nov 2020 Filtered Data//5s//OPEN//AZ_T20 Open (valve) - Filtered'\n",
            " '/content/EEGClassification//Nov 2020 Filtered Data//5s//CLOSE//CJ_T65 Close (valve) - Filtered'\n",
            " '/content/EEGClassification//Feb 2021 Filtered Data//5s//CLOSE//FW3_T10 Close (valve) - Filtered'\n",
            " '/content/EEGClassification//Nov 2020 Filtered Data//5s//OPEN//FW_T37 Open (valve) - Filtered'\n",
            " '/content/EEGClassification//Feb 2021 Filtered Data//5s//OPEN//CJ_T25 Open (valve) - Filtered'\n",
            " '/content/EEGClassification//Nov 2020 Filtered Data//5s//CLOSE//SD_T17 Close (valve) - Filtered'\n",
            " '/content/EEGClassification//Feb 2021 Filtered Data//5s//CLOSE//CJ2_T8 Close (valve) - Filtered'\n",
            " '/content/EEGClassification//Feb 2021 Filtered Data//5s//OPEN//FW_T31 Open (valve) - Filtered'\n",
            " '/content/EEGClassification//Feb 2021 Filtered Data//5s//OPEN//JP_T7 Open (valve) - Filtered'\n",
            " '/content/EEGClassification//Feb 2021 Filtered Data//5s//OPEN//CJ_T3 Open (valve)_(1) - Filtered'\n",
            " '/content/EEGClassification//Feb 2021 Filtered Data//5s//CLOSE//JP_T18 Close (valve) - Filtered'\n",
            " '/content/EEGClassification//Feb 2021 Filtered Data//5s//OPEN//FW_T19 Open (valve) - Filtered'\n",
            " '/content/EEGClassification//Feb 2021 Filtered Data//5s//OPEN//FW_T15 Open (valve) - Filtered'\n",
            " '/content/EEGClassification//Feb 2021 Filtered Data//5s//OPEN//SD_T13 Open (valve)_(1) - Filtered'\n",
            " '/content/EEGClassification//Feb 2021 Filtered Data//5s//OPEN//AZ_T5 Open (valve) - Filtered'\n",
            " '/content/EEGClassification//Feb 2021 Filtered Data//5s//CLOSE//CJ_T14 Close (valve)_(2) - Filtered'\n",
            " '/content/EEGClassification//Nov 2020 Filtered Data//5s//CLOSE//SD_T19 Close (valve) - Filtered'\n",
            " '/content/EEGClassification//Feb 2021 Filtered Data//5s//OPEN//CJ_T7 Open (valve)_(1) - Filtered'\n",
            " '/content/EEGClassification//Feb 2021 Filtered Data//5s//CLOSE//FW_T18 Close (valve) - Filtered'\n",
            " '/content/EEGClassification//Feb 2021 Filtered Data//5s//CLOSE//SD_T10 Close (valve) - Filtered'\n",
            " '/content/EEGClassification//Feb 2021 Filtered Data//5s//CLOSE//FW2_T8 Close (valve) - Filtered'\n",
            " '/content/EEGClassification//Feb 2021 Filtered Data//5s//CLOSE//CJ2_T4 Close (valve) - Filtered'\n",
            " '/content/EEGClassification//Feb 2021 Filtered Data//5s//OPEN//CJ2_T7 Open (valve) - Filtered'\n",
            " '/content/EEGClassification//Nov 2020 Filtered Data//5s//CLOSE//FW_T1 Close (valve) - Filtered'\n",
            " '/content/EEGClassification//Nov 2020 Filtered Data//5s//OPEN//SD_T7 Open (valve)_(2) - Filtered'\n",
            " '/content/EEGClassification//Feb 2021 Filtered Data//5s//CLOSE//FW2_T22 Close (valve) - Filtered'\n",
            " '/content/EEGClassification//Feb 2021 Filtered Data//5s//CLOSE//FW2_T12 Close (valve) - Filtered'\n",
            " '/content/EEGClassification//Nov 2020 Filtered Data//5s//CLOSE//AZ_T61 Close (valve) - Filtered'\n",
            " '/content/EEGClassification//Feb 2021 Filtered Data//5s//CLOSE//CJ_T28 Close (valve) - Filtered'\n",
            " '/content/EEGClassification//Feb 2021 Filtered Data//5s//CLOSE//FW3_T18 Close (valve) - Filtered'\n",
            " '/content/EEGClassification//Feb 2021 Filtered Data//5s//CLOSE//CJ_T40 Close (valve)_(2) - Filtered'\n",
            " '/content/EEGClassification//Feb 2021 Filtered Data//5s//OPEN//CJ_T39 Open (valve) - Filtered'\n",
            " '/content/EEGClassification//Nov 2020 Filtered Data//5s//OPEN//FW_T22 Open (valve) - Filtered'\n",
            " '/content/EEGClassification//Feb 2021 Filtered Data//5s//OPEN//SD_T9 Open (valve)_(1) - Filtered'\n",
            " '/content/EEGClassification//Feb 2021 Filtered Data//5s//CLOSE//JP_T4 Close (valve) - Filtered'\n",
            " '/content/EEGClassification//Feb 2021 Filtered Data//5s//CLOSE//AZ_T24 Close (valve) - Filtered'\n",
            " '/content/EEGClassification//Nov 2020 Filtered Data//5s//OPEN//AZ_T10 Open (valve) - Filtered'\n",
            " '/content/EEGClassification//Feb 2021 Filtered Data//5s//OPEN//CJ_T29 Open (valve)_(2) - Filtered'\n",
            " '/content/EEGClassification//Nov 2020 Filtered Data//5s//OPEN//CJ_T41 Open (valve) - Filtered'\n",
            " '/content/EEGClassification//Feb 2021 Filtered Data//5s//OPEN//SD_T7 Open (valve) - Filtered'\n",
            " '/content/EEGClassification//Nov 2020 Filtered Data//5s//OPEN//CJ_T21 Open (valve) - Filtered'\n",
            " '/content/EEGClassification//Nov 2020 Filtered Data//5s//CLOSE//CJ_T2 Close (valve) - Filtered'\n",
            " '/content/EEGClassification//Nov 2020 Filtered Data//5s//CLOSE//CJ_T64 Close (valve) - Filtered'\n",
            " '/content/EEGClassification//Feb 2021 Filtered Data//5s//OPEN//AZ_T15 Open (valve) - Filtered'\n",
            " '/content/EEGClassification//Feb 2021 Filtered Data//5s//OPEN//FW2_T29 Open (valve) - Filtered'\n",
            " '/content/EEGClassification//Nov 2020 Filtered Data//5s//OPEN//AZ_T51 Open (valve) - Filtered'\n",
            " '/content/EEGClassification//Feb 2021 Filtered Data//5s//CLOSE//CJ_T8 Close (valve) - Filtered'\n",
            " '/content/EEGClassification//Feb 2021 Filtered Data//5s//CLOSE//FW2_T24 Close (valve) - Filtered'\n",
            " '/content/EEGClassification//Nov 2020 Filtered Data//5s//OPEN//CJ_T55 Open (valve) - Filtered'\n",
            " '/content/EEGClassification//Feb 2021 Filtered Data//5s//CLOSE//FW2_T26 Close (valve) - Filtered'\n",
            " '/content/EEGClassification//Feb 2021 Filtered Data//5s//CLOSE//CJ_T22 Close (valve)_(2) - Filtered'\n",
            " '/content/EEGClassification//Feb 2021 Filtered Data//5s//OPEN//FW3_T31 Open (valve) - Filtered'\n",
            " '/content/EEGClassification//Feb 2021 Filtered Data//5s//OPEN//CJ_T23 Open (valve) - Filtered'\n",
            " '/content/EEGClassification//Feb 2021 Filtered Data//5s//OPEN//AZ_T23 Open (valve) - Filtered'\n",
            " '/content/EEGClassification//Feb 2021 Filtered Data//5s//OPEN//FW_T1 Open (valve) - Filtered'\n",
            " '/content/EEGClassification//Nov 2020 Filtered Data//5s//CLOSE//CJ_T17 Close (valve) - Filtered'\n",
            " '/content/EEGClassification//Feb 2021 Filtered Data//5s//OPEN//CJ_T1 Open (valve)_(1) - Filtered'\n",
            " '/content/EEGClassification//Feb 2021 Filtered Data//5s//CLOSE//SD_T2 Close (valve) - Filtered'\n",
            " '/content/EEGClassification//Nov 2020 Filtered Data//5s//CLOSE//FW_T58 Close (valve) - Filtered'\n",
            " '/content/EEGClassification//Nov 2020 Filtered Data//5s//OPEN//SD_T12 Open (valve) - Filtered'\n",
            " '/content/EEGClassification//Nov 2020 Filtered Data//5s//CLOSE//FW_T54 Close (valve) - Filtered'\n",
            " '/content/EEGClassification//Nov 2020 Filtered Data//5s//CLOSE//AZ_T9 Close (valve) - Filtered'\n",
            " '/content/EEGClassification//Feb 2021 Filtered Data//5s//OPEN//CJ_T29 Open (valve) - Filtered'\n",
            " '/content/EEGClassification//Feb 2021 Filtered Data//5s//OPEN//FW_T3 Open (valve) - Filtered'\n",
            " '/content/EEGClassification//Feb 2021 Filtered Data//5s//CLOSE//SD_T18 Close (valve) - Filtered'\n",
            " '/content/EEGClassification//Nov 2020 Filtered Data//5s//CLOSE//SD_T53 Close (valve) - Filtered'\n",
            " '/content/EEGClassification//Feb 2021 Filtered Data//5s//OPEN//FW3_T29 Open (valve) - Filtered'\n",
            " '/content/EEGClassification//Feb 2021 Filtered Data//5s//CLOSE//FW_T14 Close (valve) - Filtered'\n",
            " '/content/EEGClassification//Feb 2021 Filtered Data//5s//OPEN//CJ_T27 Open (valve)_(1) - Filtered'\n",
            " '/content/EEGClassification//Feb 2021 Filtered Data//5s//CLOSE//FW_T32 Close (valve) - Filtered'\n",
            " '/content/EEGClassification//Feb 2021 Filtered Data//5s//CLOSE//SD_T26 Close (valve) - Filtered'\n",
            " '/content/EEGClassification//Feb 2021 Filtered Data//5s//CLOSE//FW_T30 Close (valve) - Filtered'\n",
            " '/content/EEGClassification//Feb 2021 Filtered Data//5s//CLOSE//AZ_T28 Close (valve) - Filtered'\n",
            " '/content/EEGClassification//Feb 2021 Filtered Data//5s//CLOSE//JP_T24 Close (valve) - Filtered'\n",
            " '/content/EEGClassification//Feb 2021 Filtered Data//5s//OPEN//CJ_T31 Open (valve)_(1) - Filtered'\n",
            " '/content/EEGClassification//Feb 2021 Filtered Data//5s//CLOSE//JP_T26 Close (valve) - Filtered'\n",
            " '/content/EEGClassification//Feb 2021 Filtered Data//5s//CLOSE//CJ_T22 Close (valve) - Filtered'\n",
            " '/content/EEGClassification//Feb 2021 Filtered Data//5s//OPEN//JP2_T19 Open (valve)_(1) - Filtered'\n",
            " '/content/EEGClassification//Feb 2021 Filtered Data//5s//CLOSE//JP_T20 Close (valve) - Filtered'\n",
            " '/content/EEGClassification//Feb 2021 Filtered Data//5s//OPEN//JP2_T3 Open (valve)_(1) - Filtered'\n",
            " '/content/EEGClassification//Nov 2020 Filtered Data//5s//CLOSE//FW_T8 Close (valve) - Filtered'\n",
            " '/content/EEGClassification//Nov 2020 Filtered Data//5s//CLOSE//AZ_T53 Close (valve) - Filtered'\n",
            " '/content/EEGClassification//Nov 2020 Filtered Data//5s//CLOSE//CJ_T26 Close (valve) - Filtered'\n",
            " '/content/EEGClassification//Feb 2021 Filtered Data//5s//CLOSE//CJ_T18 Close (valve)_(2) - Filtered'\n",
            " '/content/EEGClassification//Feb 2021 Filtered Data//5s//OPEN//CJ_T19 Open (valve) - Filtered'\n",
            " '/content/EEGClassification//Feb 2021 Filtered Data//5s//CLOSE//FW_T22 Close (valve) - Filtered'\n",
            " '/content/EEGClassification//Feb 2021 Filtered Data//5s//CLOSE//CJ2_T12 Close (valve) - Filtered'\n",
            " '/content/EEGClassification//Feb 2021 Filtered Data//5s//CLOSE//JP_T34 Close (valve) - Filtered'\n",
            " '/content/EEGClassification//Feb 2021 Filtered Data//5s//CLOSE//CJ_T16 Close (valve) - Filtered'\n",
            " '/content/EEGClassification//Feb 2021 Filtered Data//5s//CLOSE//CJ_T32 Close (valve) - Filtered'\n",
            " '/content/EEGClassification//Feb 2021 Filtered Data//5s//OPEN//CJ_T15 Open (valve) - Filtered'\n",
            " '/content/EEGClassification//Feb 2021 Filtered Data//5s//OPEN//AZ_T39 Open (valve) - Filtered'\n",
            " '/content/EEGClassification//Feb 2021 Filtered Data//5s//OPEN//SD_T13 Open (valve) - Filtered'\n",
            " '/content/EEGClassification//Feb 2021 Filtered Data//5s//OPEN//CJ_T35 Open (valve) - Filtered'\n",
            " '/content/EEGClassification//Nov 2020 Filtered Data//5s//OPEN//SD_T2 Open (valve) - Filtered'\n",
            " '/content/EEGClassification//Nov 2020 Filtered Data//5s//OPEN//CJ_T1 Open (valve) - Filtered'\n",
            " '/content/EEGClassification//Nov 2020 Filtered Data//5s//OPEN//SD_T26 Open (valve) - Filtered'\n",
            " '/content/EEGClassification//Nov 2020 Filtered Data//5s//OPEN//SD_T17 Open (valve)_(1) - Filtered'\n",
            " '/content/EEGClassification//Feb 2021 Filtered Data//5s//OPEN//FW3_T1 Open (valve) - Filtered'\n",
            " '/content/EEGClassification//Feb 2021 Filtered Data//5s//OPEN//FW2_T33 Open (valve) - Filtered'\n",
            " '/content/EEGClassification//Nov 2020 Filtered Data//5s//OPEN//FW_T87 Open (valve) - Filtered'\n",
            " '/content/EEGClassification//Nov 2020 Filtered Data//5s//OPEN//SD_T21 Open (valve)_(1) - Filtered'\n",
            " '/content/EEGClassification//Nov 2020 Filtered Data//5s//OPEN//CJ_T77 Open (valve) - Filtered'\n",
            " '/content/EEGClassification//Feb 2021 Filtered Data//5s//OPEN//SD_T1 Open (valve) - Filtered'\n",
            " '/content/EEGClassification//Nov 2020 Filtered Data//5s//CLOSE//SD_T28 Close (valve) - Filtered'\n",
            " '/content/EEGClassification//Feb 2021 Filtered Data//5s//CLOSE//FW3_T36 Close (valve) - Filtered'\n",
            " '/content/EEGClassification//Nov 2020 Filtered Data//5s//OPEN//AZ_T31 Open (valve) - Filtered'\n",
            " '/content/EEGClassification//Feb 2021 Filtered Data//5s//OPEN//CJ_T1 Open (valve) - Filtered'\n",
            " '/content/EEGClassification//Feb 2021 Filtered Data//5s//OPEN//FW3_T11 Open (valve) - Filtered'\n",
            " '/content/EEGClassification//Nov 2020 Filtered Data//5s//OPEN//CJ_T10 Open (valve) - Filtered'\n",
            " '/content/EEGClassification//Feb 2021 Filtered Data//5s//CLOSE//CJ_T8 Close (valve)_(2) - Filtered'\n",
            " '/content/EEGClassification//Feb 2021 Filtered Data//5s//OPEN//CJ_T25 Open (valve)_(1) - Filtered'\n",
            " '/content/EEGClassification//Feb 2021 Filtered Data//5s//OPEN//CJ_T3 Open (valve) - Filtered'\n",
            " '/content/EEGClassification//Feb 2021 Filtered Data//5s//OPEN//AZ_T7 Open (valve) - Filtered'\n",
            " '/content/EEGClassification//Nov 2020 Filtered Data//5s//OPEN//CJ_T39 Open (valve) - Filtered'\n",
            " '/content/EEGClassification//Nov 2020 Filtered Data//5s//OPEN//CJ_T13 Open (valve) - Filtered'\n",
            " '/content/EEGClassification//Feb 2021 Filtered Data//5s//CLOSE//FW2_T28 Close (valve) - Filtered'\n",
            " '/content/EEGClassification//Feb 2021 Filtered Data//5s//OPEN//FW3_T35 Open (valve) - Filtered'\n",
            " '/content/EEGClassification//Nov 2020 Filtered Data//5s//CLOSE//SD_T2 Close (valve) - Filtered'\n",
            " '/content/EEGClassification//Nov 2020 Filtered Data//5s//OPEN//SD_T21 Open (valve) - Filtered'\n",
            " '/content/EEGClassification//Feb 2021 Filtered Data//5s//CLOSE//CJ_T10 Close (valve) - Filtered'\n",
            " '/content/EEGClassification//Nov 2020 Filtered Data//5s//OPEN//SD_T43 Open (valve) - Filtered'\n",
            " '/content/EEGClassification//Feb 2021 Filtered Data//5s//OPEN//AZ_T27 Open (valve) - Filtered'\n",
            " '/content/EEGClassification//Nov 2020 Filtered Data//5s//CLOSE//SD_T13 Close (valve) - Filtered'\n",
            " '/content/EEGClassification//Feb 2021 Filtered Data//5s//OPEN//FW2_T25 Open (valve) - Filtered'\n",
            " '/content/EEGClassification//Feb 2021 Filtered Data//5s//CLOSE//CJ_T32 Close (valve)_(1) - Filtered'\n",
            " '/content/EEGClassification//Feb 2021 Filtered Data//5s//CLOSE//CJ_T40 Close (valve) - Filtered'\n",
            " '/content/EEGClassification//Feb 2021 Filtered Data//5s//CLOSE//FW2_T14 Close (valve) - Filtered'\n",
            " '/content/EEGClassification//Feb 2021 Filtered Data//5s//OPEN//CJ_T27 Open (valve) - Filtered'\n",
            " '/content/EEGClassification//Feb 2021 Filtered Data//5s//CLOSE//FW2_T6 Close (valve) - Filtered'\n",
            " '/content/EEGClassification//Feb 2021 Filtered Data//5s//CLOSE//CJ_T30 Close (valve)_(2) - Filtered'\n",
            " '/content/EEGClassification//Feb 2021 Filtered Data//5s//OPEN//FW3_T13 Open (valve) - Filtered'\n",
            " '/content/EEGClassification//Feb 2021 Filtered Data//5s//OPEN//CJ_T15 Open (valve)_(2) - Filtered'\n",
            " '/content/EEGClassification//Feb 2021 Filtered Data//5s//CLOSE//FW_T16 Close (valve) - Filtered'\n",
            " '/content/EEGClassification//Nov 2020 Filtered Data//5s//CLOSE//SD_T33 Close (valve) - Filtered'\n",
            " '/content/EEGClassification//Feb 2021 Filtered Data//5s//CLOSE//CJ_T2 Close (valve)_(1) - Filtered'\n",
            " '/content/EEGClassification//Feb 2021 Filtered Data//5s//OPEN//SD_T5 Open (valve) - Filtered'\n",
            " '/content/EEGClassification//Nov 2020 Filtered Data//5s//CLOSE//AZ_T40 Close (valve) - Filtered'\n",
            " '/content/EEGClassification//Feb 2021 Filtered Data//5s//CLOSE//SD_T14 Close (valve)_(1) - Filtered'\n",
            " '/content/EEGClassification//Feb 2021 Filtered Data//5s//CLOSE//JP_T22 Close (valve) - Filtered'\n",
            " '/content/EEGClassification//Feb 2021 Filtered Data//5s//CLOSE//JP2_T6 Close (valve)_(1) - Filtered'\n",
            " '/content/EEGClassification//Feb 2021 Filtered Data//5s//OPEN//FW3_T23 Open (valve) - Filtered'\n",
            " '/content/EEGClassification//Feb 2021 Filtered Data//5s//OPEN//FW_T39 Open (valve) - Filtered'\n",
            " '/content/EEGClassification//Feb 2021 Filtered Data//5s//CLOSE//SD_T12 Close (valve) - Filtered'\n",
            " '/content/EEGClassification//Nov 2020 Filtered Data//5s//CLOSE//SD_T22 Close (valve) - Filtered'\n",
            " '/content/EEGClassification//Feb 2021 Filtered Data//5s//OPEN//FW2_T35 Open (valve) - Filtered'\n",
            " '/content/EEGClassification//Feb 2021 Filtered Data//5s//OPEN//JP_T27 Open (valve) - Filtered'\n",
            " '/content/EEGClassification//Feb 2021 Filtered Data//5s//CLOSE//AZ_T34 Close (valve) - Filtered'\n",
            " '/content/EEGClassification//Feb 2021 Filtered Data//5s//CLOSE//JP_T14 Close (valve) - Filtered'\n",
            " '/content/EEGClassification//Feb 2021 Filtered Data//5s//OPEN//SD_T9 Open (valve) - Filtered'\n",
            " '/content/EEGClassification//Feb 2021 Filtered Data//5s//OPEN//FW2_T27 Open (valve) - Filtered'\n",
            " '/content/EEGClassification//Feb 2021 Filtered Data//5s//OPEN//SD_T21 Open (valve)_(1) - Filtered'\n",
            " '/content/EEGClassification//Feb 2021 Filtered Data//5s//CLOSE//JP2_T14 Close (valve)_(1) - Filtered'\n",
            " '/content/EEGClassification//Feb 2021 Filtered Data//5s//CLOSE//CJ_T38 Close (valve)_(2) - Filtered'\n",
            " '/content/EEGClassification//Nov 2020 Filtered Data//5s//CLOSE//SD_T11 Close (valve)_(1) - Filtered'\n",
            " '/content/EEGClassification//Feb 2021 Filtered Data//5s//OPEN//FW3_T15 Open (valve) - Filtered'\n",
            " '/content/EEGClassification//Feb 2021 Filtered Data//5s//CLOSE//CJ_T26 Close (valve) - Filtered'\n",
            " '/content/EEGClassification//Feb 2021 Filtered Data//5s//CLOSE//AZ_T16 Close (valve) - Filtered'\n",
            " '/content/EEGClassification//Feb 2021 Filtered Data//5s//CLOSE//FW3_T32 Close (valve) - Filtered'\n",
            " '/content/EEGClassification//Feb 2021 Filtered Data//5s//CLOSE//CJ_T6 Close (valve)_(1) - Filtered'\n",
            " '/content/EEGClassification//Nov 2020 Filtered Data//5s//CLOSE//AZ_T59 Close (valve) - Filtered'\n",
            " '/content/EEGClassification//Nov 2020 Filtered Data//5s//CLOSE//AZ_T13 Close (valve) - Filtered'\n",
            " '/content/EEGClassification//Feb 2021 Filtered Data//5s//CLOSE//FW2_T18 Close (valve) - Filtered'\n",
            " '/content/EEGClassification//Feb 2021 Filtered Data//5s//CLOSE//JP_T12 Close (valve) - Filtered'\n",
            " '/content/EEGClassification//Feb 2021 Filtered Data//5s//CLOSE//CJ_T6 Close (valve) - Filtered'\n",
            " '/content/EEGClassification//Nov 2020 Filtered Data//5s//OPEN//FW_T15 Open (valve) - Filtered'\n",
            " '/content/EEGClassification//Feb 2021 Filtered Data//5s//CLOSE//CJ_T34 Close (valve) - Filtered'\n",
            " '/content/EEGClassification//Feb 2021 Filtered Data//5s//CLOSE//FW3_T2 Close (valve) - Filtered'\n",
            " '/content/EEGClassification//Feb 2021 Filtered Data//5s//CLOSE//JP_T8 Close (valve) - Filtered'\n",
            " '/content/EEGClassification//Feb 2021 Filtered Data//5s//OPEN//JP_T33 Open (valve) - Filtered'\n",
            " '/content/EEGClassification//Feb 2021 Filtered Data//5s//CLOSE//CJ_T6 Close (valve)_(2) - Filtered'\n",
            " '/content/EEGClassification//Nov 2020 Filtered Data//5s//OPEN//SD_T32 Open (valve) - Filtered'\n",
            " '/content/EEGClassification//Nov 2020 Filtered Data//5s//OPEN//AZ_T78 Open (valve) - Filtered'\n",
            " '/content/EEGClassification//Nov 2020 Filtered Data//5s//OPEN//SD_T7 Open (valve)_(1) - Filtered'\n",
            " '/content/EEGClassification//Feb 2021 Filtered Data//5s//CLOSE//AZ_T10 Close (valve) - Filtered'\n",
            " '/content/EEGClassification//Feb 2021 Filtered Data//5s//CLOSE//CJ_T20 Close (valve)_(2) - Filtered'\n",
            " '/content/EEGClassification//Nov 2020 Filtered Data//5s//OPEN//CJ_T5 Open (valve) - Filtered'\n",
            " '/content/EEGClassification//Feb 2021 Filtered Data//5s//CLOSE//CJ_T40 Close (valve)_(1) - Filtered'\n",
            " '/content/EEGClassification//Nov 2020 Filtered Data//5s//OPEN//SD_T7 Open (valve) - Filtered'\n",
            " '/content/EEGClassification//Feb 2021 Filtered Data//5s//CLOSE//CJ_T12 Close (valve) - Filtered'\n",
            " '/content/EEGClassification//Feb 2021 Filtered Data//5s//CLOSE//CJ_T8 Close (valve)_(1) - Filtered'\n",
            " '/content/EEGClassification//Feb 2021 Filtered Data//5s//OPEN//CJ_T31 Open (valve) - Filtered']\n"
          ],
          "name": "stdout"
        }
      ]
    },
    {
      "cell_type": "code",
      "metadata": {
        "colab": {
          "base_uri": "https://localhost:8080/"
        },
        "id": "Qdn7Pxu2SL0U",
        "outputId": "5d3cc100-f364-4f68-f786-42d0ebd14e6b"
      },
      "source": [
        "print(filenames_val)"
      ],
      "execution_count": 6,
      "outputs": [
        {
          "output_type": "stream",
          "text": [
            "['/content/EEGClassification//Feb 2021 Filtered Data//5s//OPEN//SD_T15 Open (valve) - Filtered'\n",
            " '/content/EEGClassification//Feb 2021 Filtered Data//5s//CLOSE//CJ_T24 Close (valve) - Filtered'\n",
            " '/content/EEGClassification//Feb 2021 Filtered Data//5s//CLOSE//FW2_T32 Close (valve) - Filtered'\n",
            " '/content/EEGClassification//Nov 2020 Filtered Data//5s//CLOSE//SD_T15 Close (valve) - Filtered'\n",
            " '/content/EEGClassification//Nov 2020 Filtered Data//5s//CLOSE//FW_T16 Close (valve) - Filtered'\n",
            " '/content/EEGClassification//Feb 2021 Filtered Data//5s//OPEN//CJ_T17 Open (valve)_(2) - Filtered'\n",
            " '/content/EEGClassification//Feb 2021 Filtered Data//5s//CLOSE//CJ_T34 Close (valve)_(1) - Filtered'\n",
            " '/content/EEGClassification//Nov 2020 Filtered Data//5s//OPEN//AZ_T34 Open (valve) - Filtered'\n",
            " '/content/EEGClassification//Feb 2021 Filtered Data//5s//OPEN//JP_T3 Open (valve) - Filtered'\n",
            " '/content/EEGClassification//Nov 2020 Filtered Data//5s//OPEN//SD_T30 Open (valve) - Filtered'\n",
            " '/content/EEGClassification//Feb 2021 Filtered Data//5s//CLOSE//SD_T22 Close (valve)_(1) - Filtered'\n",
            " '/content/EEGClassification//Nov 2020 Filtered Data//5s//CLOSE//SD_T27 Close (valve) - Filtered'\n",
            " '/content/EEGClassification//Feb 2021 Filtered Data//5s//OPEN//CJ_T33 Open (valve) - Filtered'\n",
            " '/content/EEGClassification//Feb 2021 Filtered Data//5s//OPEN//FW_T37 Open (valve) - Filtered'\n",
            " '/content/EEGClassification//Feb 2021 Filtered Data//5s//CLOSE//JP_T10 Close (valve) - Filtered'\n",
            " '/content/EEGClassification//Feb 2021 Filtered Data//5s//OPEN//CJ_T33 Open (valve)_(1) - Filtered'\n",
            " '/content/EEGClassification//Feb 2021 Filtered Data//5s//CLOSE//FW2_T34 Close (valve) - Filtered'\n",
            " '/content/EEGClassification//Feb 2021 Filtered Data//5s//CLOSE//CJ_T12 Close (valve)_(2) - Filtered'\n",
            " '/content/EEGClassification//Feb 2021 Filtered Data//5s//OPEN//FW3_T27 Open (valve) - Filtered'\n",
            " '/content/EEGClassification//Feb 2021 Filtered Data//5s//CLOSE//CJ_T16 Close (valve)_(1) - Filtered'\n",
            " '/content/EEGClassification//Nov 2020 Filtered Data//5s//CLOSE//SD_T41 Close (valve) - Filtered'\n",
            " '/content/EEGClassification//Feb 2021 Filtered Data//5s//CLOSE//FW_T10 Close (valve) - Filtered'\n",
            " '/content/EEGClassification//Nov 2020 Filtered Data//5s//OPEN//SD_T57 Open (valve) - Filtered'\n",
            " '/content/EEGClassification//Feb 2021 Filtered Data//5s//CLOSE//CJ_T28 Close (valve)_(2) - Filtered'\n",
            " '/content/EEGClassification//Feb 2021 Filtered Data//5s//CLOSE//SD_T4 Close (valve) - Filtered'\n",
            " '/content/EEGClassification//Nov 2020 Filtered Data//5s//OPEN//FW_T4 Open (valve) - Filtered'\n",
            " '/content/EEGClassification//Feb 2021 Filtered Data//5s//CLOSE//JP2_T18 Close (valve)_(1) - Filtered'\n",
            " '/content/EEGClassification//Nov 2020 Filtered Data//5s//OPEN//SD_T21 Open (valve)_(2) - Filtered'\n",
            " '/content/EEGClassification//Feb 2021 Filtered Data//5s//CLOSE//FW_T2 Close (valve) - Filtered'\n",
            " '/content/EEGClassification//Feb 2021 Filtered Data//5s//CLOSE//AZ_T4 Close (valve) - Filtered'\n",
            " '/content/EEGClassification//Feb 2021 Filtered Data//5s//OPEN//JP_T19 Open (valve) - Filtered'\n",
            " '/content/EEGClassification//Feb 2021 Filtered Data//5s//CLOSE//FW3_T30 Close (valve) - Filtered'\n",
            " '/content/EEGClassification//Feb 2021 Filtered Data//5s//CLOSE//CJ_T10 Close (valve)_(1) - Filtered'\n",
            " '/content/EEGClassification//Feb 2021 Filtered Data//5s//OPEN//SD_T1 Open (valve)_(1) - Filtered'\n",
            " '/content/EEGClassification//Nov 2020 Filtered Data//5s//CLOSE//FW_T38 Close (valve) - Filtered'\n",
            " '/content/EEGClassification//Nov 2020 Filtered Data//5s//OPEN//AZ_T4 Open (valve) - Filtered'\n",
            " '/content/EEGClassification//Feb 2021 Filtered Data//5s//CLOSE//AZ_T2 Close (valve) - Filtered'\n",
            " '/content/EEGClassification//Feb 2021 Filtered Data//5s//OPEN//FW2_T17 Open (valve) - Filtered'\n",
            " '/content/EEGClassification//Nov 2020 Filtered Data//5s//OPEN//FW_T12 Open (valve) - Filtered'\n",
            " '/content/EEGClassification//Feb 2021 Filtered Data//5s//CLOSE//CJ_T4 Close (valve)_(2) - Filtered'\n",
            " '/content/EEGClassification//Nov 2020 Filtered Data//5s//CLOSE//SD_T5 Close (valve) - Filtered'\n",
            " '/content/EEGClassification//Nov 2020 Filtered Data//5s//OPEN//FW_T80 Open (valve) - Filtered'\n",
            " '/content/EEGClassification//Feb 2021 Filtered Data//5s//OPEN//FW3_T3 Open (valve) - Filtered'\n",
            " '/content/EEGClassification//Feb 2021 Filtered Data//5s//OPEN//CJ_T7 Open (valve) - Filtered'\n",
            " '/content/EEGClassification//Feb 2021 Filtered Data//5s//CLOSE//AZ_T30 Close (valve) - Filtered'\n",
            " '/content/EEGClassification//Nov 2020 Filtered Data//5s//CLOSE//SD_T52 Close (valve) - Filtered'\n",
            " '/content/EEGClassification//Feb 2021 Filtered Data//5s//CLOSE//FW2_T40 Close (valve) - Filtered'\n",
            " '/content/EEGClassification//Feb 2021 Filtered Data//5s//CLOSE//AZ_T12 Close (valve) - Filtered'\n",
            " '/content/EEGClassification//Feb 2021 Filtered Data//5s//OPEN//FW_T23 Open (valve) - Filtered'\n",
            " '/content/EEGClassification//Feb 2021 Filtered Data//5s//OPEN//AZ_T29 Open (valve) - Filtered'\n",
            " '/content/EEGClassification//Feb 2021 Filtered Data//5s//CLOSE//CJ_T22 Close (valve)_(1) - Filtered'\n",
            " '/content/EEGClassification//Nov 2020 Filtered Data//5s//CLOSE//AZ_T3 Close (valve) - Filtered'\n",
            " '/content/EEGClassification//Nov 2020 Filtered Data//5s//CLOSE//FW_T78 Close (valve) - Filtered'\n",
            " '/content/EEGClassification//Nov 2020 Filtered Data//5s//CLOSE//AZ_T50 Close (valve) - Filtered'\n",
            " '/content/EEGClassification//Nov 2020 Filtered Data//5s//OPEN//FW_T62 Open (valve) - Filtered'\n",
            " '/content/EEGClassification//Feb 2021 Filtered Data//5s//OPEN//FW_T33 Open (valve) - Filtered'\n",
            " '/content/EEGClassification//Nov 2020 Filtered Data//5s//OPEN//AZ_T47 Open (valve) - Filtered'\n",
            " '/content/EEGClassification//Nov 2020 Filtered Data//5s//CLOSE//SD_T29 Close (valve) - Filtered'\n",
            " '/content/EEGClassification//Feb 2021 Filtered Data//5s//OPEN//FW2_T23 Open (valve) - Filtered'\n",
            " '/content/EEGClassification//Feb 2021 Filtered Data//5s//OPEN//FW2_T7 Open (valve) - Filtered'\n",
            " '/content/EEGClassification//Feb 2021 Filtered Data//5s//OPEN//FW2_T15 Open (valve) - Filtered'\n",
            " '/content/EEGClassification//Nov 2020 Filtered Data//5s//OPEN//CJ_T27 Open (valve) - Filtered'\n",
            " '/content/EEGClassification//Feb 2021 Filtered Data//5s//OPEN//AZ_T31 Open (valve) - Filtered'\n",
            " '/content/EEGClassification//Feb 2021 Filtered Data//5s//OPEN//CJ_T37 Open (valve)_(2) - Filtered'\n",
            " '/content/EEGClassification//Nov 2020 Filtered Data//5s//CLOSE//FW_T61 Close (valve) - Filtered'\n",
            " '/content/EEGClassification//Nov 2020 Filtered Data//5s//CLOSE//SD_T23 Close (valve) - Filtered'\n",
            " '/content/EEGClassification//Feb 2021 Filtered Data//5s//OPEN//FW2_T9 Open (valve) - Filtered'\n",
            " '/content/EEGClassification//Nov 2020 Filtered Data//5s//OPEN//CJ_T61 Open (valve) - Filtered'\n",
            " '/content/EEGClassification//Nov 2020 Filtered Data//5s//OPEN//AZ_T15 Open (valve) - Filtered'\n",
            " '/content/EEGClassification//Nov 2020 Filtered Data//5s//OPEN//FW_T6 Open (valve) - Filtered'\n",
            " '/content/EEGClassification//Nov 2020 Filtered Data//5s//OPEN//SD_T1 Open (valve) - Filtered'\n",
            " '/content/EEGClassification//Feb 2021 Filtered Data//5s//OPEN//CJ2_T5 Open (valve) - Filtered'\n",
            " '/content/EEGClassification//Nov 2020 Filtered Data//5s//CLOSE//CJ_T35 Close (valve) - Filtered'\n",
            " '/content/EEGClassification//Feb 2021 Filtered Data//5s//OPEN//JP2_T1 Open (valve)_(1) - Filtered'\n",
            " '/content/EEGClassification//Feb 2021 Filtered Data//5s//CLOSE//FW_T34 Close (valve) - Filtered']\n"
          ],
          "name": "stdout"
        }
      ]
    },
    {
      "cell_type": "code",
      "metadata": {
        "colab": {
          "base_uri": "https://localhost:8080/"
        },
        "id": "sqSSeZviSL6O",
        "outputId": "719492ac-8b42-468e-f07a-780c50e82605"
      },
      "source": [
        "print(filenames_test)"
      ],
      "execution_count": 7,
      "outputs": [
        {
          "output_type": "stream",
          "text": [
            "['/content/EEGClassification//Feb 2021 Filtered Data//5s//CLOSE//CJ_T36 Close (valve) - Filtered'\n",
            " '/content/EEGClassification//Nov 2020 Filtered Data//5s//OPEN//SD_T17 Open (valve) - Filtered'\n",
            " '/content/EEGClassification//Feb 2021 Filtered Data//5s//OPEN//JP_T15 Open (valve) - Filtered'\n",
            " '/content/EEGClassification//Feb 2021 Filtered Data//5s//OPEN//FW3_T39 Open (valve) - Filtered'\n",
            " '/content/EEGClassification//Feb 2021 Filtered Data//5s//CLOSE//FW2_T30 Close (valve) - Filtered'\n",
            " '/content/EEGClassification//Feb 2021 Filtered Data//5s//OPEN//AZ_T35 Open (valve) - Filtered'\n",
            " '/content/EEGClassification//Nov 2020 Filtered Data//5s//CLOSE//CJ_T75 Close (valve) - Filtered'\n",
            " '/content/EEGClassification//Feb 2021 Filtered Data//5s//CLOSE//FW2_T20 Close (valve) - Filtered'\n",
            " '/content/EEGClassification//Feb 2021 Filtered Data//5s//CLOSE//JP_T16 Close (valve) - Filtered'\n",
            " '/content/EEGClassification//Feb 2021 Filtered Data//5s//OPEN//SD_T21 Open (valve) - Filtered'\n",
            " '/content/EEGClassification//Feb 2021 Filtered Data//5s//CLOSE//CJ_T20 Close (valve)_(1) - Filtered'\n",
            " '/content/EEGClassification//Nov 2020 Filtered Data//5s//CLOSE//SD_T11 Close (valve) - Filtered'\n",
            " '/content/EEGClassification//Feb 2021 Filtered Data//5s//CLOSE//JP2_T2 Close (valve)_(1) - Filtered'\n",
            " '/content/EEGClassification//Feb 2021 Filtered Data//5s//CLOSE//SD_T16 Close (valve) - Filtered'\n",
            " '/content/EEGClassification//Feb 2021 Filtered Data//5s//OPEN//JP_T11 Open (valve) - Filtered'\n",
            " '/content/EEGClassification//Feb 2021 Filtered Data//5s//OPEN//JP2_T7 Open (valve)_(1) - Filtered'\n",
            " '/content/EEGClassification//Feb 2021 Filtered Data//5s//CLOSE//CJ2_T10 Close (valve) - Filtered'\n",
            " '/content/EEGClassification//Feb 2021 Filtered Data//5s//CLOSE//CJ_T32 Close (valve)_(2) - Filtered'\n",
            " '/content/EEGClassification//Feb 2021 Filtered Data//5s//CLOSE//CJ_T4 Close (valve) - Filtered'\n",
            " '/content/EEGClassification//Feb 2021 Filtered Data//5s//CLOSE//AZ_T36 Close (valve) - Filtered'\n",
            " '/content/EEGClassification//Feb 2021 Filtered Data//5s//OPEN//CJ_T29 Open (valve)_(1) - Filtered'\n",
            " '/content/EEGClassification//Nov 2020 Filtered Data//5s//OPEN//CJ_T73 Open (valve) - Filtered'\n",
            " '/content/EEGClassification//Feb 2021 Filtered Data//5s//CLOSE//AZ_T26 Close (valve) - Filtered'\n",
            " '/content/EEGClassification//Feb 2021 Filtered Data//5s//CLOSE//SD_T22 Close (valve) - Filtered'\n",
            " '/content/EEGClassification//Nov 2020 Filtered Data//5s//CLOSE//CJ_T78 Close (valve) - Filtered'\n",
            " '/content/EEGClassification//Feb 2021 Filtered Data//5s//CLOSE//CJ_T36 Close (valve)_(2) - Filtered'\n",
            " '/content/EEGClassification//Nov 2020 Filtered Data//5s//CLOSE//SD_T20 Close (valve) - Filtered'\n",
            " '/content/EEGClassification//Nov 2020 Filtered Data//5s//CLOSE//AZ_T77 Close (valve) - Filtered'\n",
            " '/content/EEGClassification//Feb 2021 Filtered Data//5s//CLOSE//AZ_T22 Close (valve) - Filtered'\n",
            " '/content/EEGClassification//Nov 2020 Filtered Data//5s//CLOSE//AZ_T26 Close (valve) - Filtered'\n",
            " '/content/EEGClassification//Feb 2021 Filtered Data//5s//CLOSE//FW2_T36 Close (valve) - Filtered'\n",
            " '/content/EEGClassification//Nov 2020 Filtered Data//5s//CLOSE//AZ_T76 Close (valve) - Filtered'\n",
            " '/content/EEGClassification//Feb 2021 Filtered Data//5s//OPEN//CJ_T37 Open (valve)_(1) - Filtered'\n",
            " '/content/EEGClassification//Nov 2020 Filtered Data//5s//CLOSE//FW_T85 Close (valve) - Filtered'\n",
            " '/content/EEGClassification//Nov 2020 Filtered Data//5s//CLOSE//SD_T46 Close (valve) - Filtered'\n",
            " '/content/EEGClassification//Feb 2021 Filtered Data//5s//CLOSE//SD_T18 Close (valve)_(1) - Filtered'\n",
            " '/content/EEGClassification//Feb 2021 Filtered Data//5s//OPEN//FW2_T39 Open (valve) - Filtered'\n",
            " '/content/EEGClassification//Feb 2021 Filtered Data//5s//CLOSE//JP2_T12 Close (valve)_(1) - Filtered'\n",
            " '/content/EEGClassification//Nov 2020 Filtered Data//5s//OPEN//CJ_T69 Open (valve) - Filtered'\n",
            " '/content/EEGClassification//Feb 2021 Filtered Data//5s//CLOSE//AZ_T32 Close (valve) - Filtered'\n",
            " '/content/EEGClassification//Nov 2020 Filtered Data//5s//CLOSE//FW_T18 Close (valve) - Filtered'\n",
            " '/content/EEGClassification//Feb 2021 Filtered Data//5s//OPEN//FW_T17 Open (valve) - Filtered'\n",
            " '/content/EEGClassification//Feb 2021 Filtered Data//5s//OPEN//JP2_T9 Open (valve)_(1) - Filtered'\n",
            " '/content/EEGClassification//Feb 2021 Filtered Data//5s//OPEN//CJ_T11 Open (valve)_(1) - Filtered'\n",
            " '/content/EEGClassification//Feb 2021 Filtered Data//5s//OPEN//SD_T19 Open (valve) - Filtered'\n",
            " '/content/EEGClassification//Feb 2021 Filtered Data//5s//OPEN//CJ_T5 Open (valve) - Filtered'\n",
            " '/content/EEGClassification//Feb 2021 Filtered Data//5s//CLOSE//CJ_T30 Close (valve) - Filtered'\n",
            " '/content/EEGClassification//Feb 2021 Filtered Data//5s//OPEN//CJ_T11 Open (valve)_(2) - Filtered'\n",
            " '/content/EEGClassification//Nov 2020 Filtered Data//5s//CLOSE//CJ_T15 Close (valve) - Filtered'\n",
            " '/content/EEGClassification//Feb 2021 Filtered Data//5s//OPEN//JP_T17 Open (valve) - Filtered'\n",
            " '/content/EEGClassification//Feb 2021 Filtered Data//5s//CLOSE//CJ_T4 Close (valve)_(1) - Filtered'\n",
            " '/content/EEGClassification//Feb 2021 Filtered Data//5s//OPEN//CJ_T13 Open (valve) - Filtered'\n",
            " '/content/EEGClassification//Nov 2020 Filtered Data//5s//CLOSE//AZ_T32 Close (valve) - Filtered'\n",
            " '/content/EEGClassification//Feb 2021 Filtered Data//5s//OPEN//AZ_T11 Open (valve) - Filtered'\n",
            " '/content/EEGClassification//Nov 2020 Filtered Data//5s//CLOSE//SD_T31 Close (valve) - Filtered'\n",
            " '/content/EEGClassification//Feb 2021 Filtered Data//5s//CLOSE//JP_T2 Close (valve) - Filtered'\n",
            " '/content/EEGClassification//Feb 2021 Filtered Data//5s//OPEN//CJ_T5 Open (valve)_(1) - Filtered'\n",
            " '/content/EEGClassification//Nov 2020 Filtered Data//5s//CLOSE//FW_T43 Close (valve) - Filtered'\n",
            " '/content/EEGClassification//Nov 2020 Filtered Data//5s//CLOSE//AZ_T33 Close (valve) - Filtered'\n",
            " '/content/EEGClassification//Feb 2021 Filtered Data//5s//CLOSE//SD_T10 Close (valve)_(1) - Filtered'\n",
            " '/content/EEGClassification//Feb 2021 Filtered Data//5s//CLOSE//FW_T24 Close (valve) - Filtered'\n",
            " '/content/EEGClassification//Feb 2021 Filtered Data//5s//OPEN//CJ_T27 Open (valve)_(2) - Filtered'\n",
            " '/content/EEGClassification//Feb 2021 Filtered Data//5s//CLOSE//SD_T14 Close (valve) - Filtered'\n",
            " '/content/EEGClassification//Feb 2021 Filtered Data//5s//OPEN//CJ_T31 Open (valve)_(2) - Filtered'\n",
            " '/content/EEGClassification//Nov 2020 Filtered Data//5s//CLOSE//AZ_T5 Close (valve) - Filtered'\n",
            " '/content/EEGClassification//Feb 2021 Filtered Data//5s//OPEN//JP2_T17 Open (valve)_(1) - Filtered'\n",
            " '/content/EEGClassification//Feb 2021 Filtered Data//5s//OPEN//SD_T25 Open (valve) - Filtered'\n",
            " '/content/EEGClassification//Feb 2021 Filtered Data//5s//CLOSE//CJ_T18 Close (valve)_(1) - Filtered'\n",
            " '/content/EEGClassification//Feb 2021 Filtered Data//5s//OPEN//CJ_T17 Open (valve) - Filtered'\n",
            " '/content/EEGClassification//Feb 2021 Filtered Data//5s//CLOSE//JP_T40 Close (valve) - Filtered'\n",
            " '/content/EEGClassification//Nov 2020 Filtered Data//5s//OPEN//SD_T19 Open (valve) - Filtered'\n",
            " '/content/EEGClassification//Nov 2020 Filtered Data//5s//CLOSE//CJ_T53 Close (valve) - Filtered'\n",
            " '/content/EEGClassification//Nov 2020 Filtered Data//5s//CLOSE//CJ_T7 Close (valve) - Filtered'\n",
            " '/content/EEGClassification//Feb 2021 Filtered Data//5s//OPEN//JP2_T15 Open (valve)_(1) - Filtered'\n",
            " '/content/EEGClassification//Feb 2021 Filtered Data//5s//CLOSE//FW2_T4 Close (valve) - Filtered']\n"
          ],
          "name": "stdout"
        }
      ]
    },
    {
      "cell_type": "markdown",
      "metadata": {
        "id": "HxLuUoi-VBxI"
      },
      "source": [
        "### Time-Frequency (Wavelets Transformed)"
      ]
    },
    {
      "cell_type": "code",
      "metadata": {
        "colab": {
          "base_uri": "https://localhost:8080/"
        },
        "id": "9FpqhWuIX0g-",
        "outputId": "a7caf66c-3b73-4c53-ba2c-5157320bfd9a"
      },
      "source": [
        "#openPath = os.getcwd() + r\"//Nov 2020 Filtered Data//5s//Spectograms//OPEN//\"\r\n",
        "#closedPath = os.getcwd() + r\"//Nov 2020 Filtered Data//5s//Spectograms//CLOSE//\"\r\n",
        "#openPath2 = os.getcwd() + r\"//Feb 2021 Filtered Data//5s//Spectograms//OPEN//\"\r\n",
        "#closedPath2 = os.getcwd() + r\"//Feb 2021 Filtered Data//5s//Spectograms//CLOSE//\"\r\n",
        "#openFiles = getFiles(openPath) + getFiles(openPath2)\r\n",
        "#closedFiles = getFiles(closedPath) + getFiles(closedPath2) \r\n",
        "\r\n",
        "#X, y, filenames = createDatasetFromJSON(openFiles, closedFiles)\r\n",
        "#X, y, filenames = shuffleDataset(X, y, filenames)\r\n",
        "#X_train_wv, y_train_wv, filenames_train_wv, X_other, y_other, filenames_other = splitDataset(X, y, filenames, percent_train=0.7)\r\n",
        "#X_val_wv, y_val_wv, filenames_val_wv, X_test_wv, y_test_wv, filenames_test_wv = splitDataset(X_other, y_other, filenames_other, percent_train=0.5) \r\n",
        "\r\n",
        "#print(\"X_train_wv Shape: \", X_train_wv.shape)\r\n",
        "#print(\"y_train_wv Shape: \", y_train_wv.shape)\r\n",
        "#print(\"X_val_wv Shape: \", X_val_wv.shape)\r\n",
        "#print(\"y_val_wv Shape: \", y_val_wv.shape)"
      ],
      "execution_count": 8,
      "outputs": [
        {
          "output_type": "stream",
          "text": [
            "X_train_wv Shape:  (350, 4, 60, 1280)\n",
            "y_train_wv Shape:  (350,)\n",
            "X_val_wv Shape:  (75, 4, 60, 1280)\n",
            "y_val_wv Shape:  (75,)\n"
          ],
          "name": "stdout"
        }
      ]
    },
    {
      "cell_type": "markdown",
      "metadata": {
        "id": "-5PGpuGETz-r"
      },
      "source": [
        "Print the filenames for the datasets (can verify with training notebook that all sets are the same and that test data wasn't used for training)"
      ]
    },
    {
      "cell_type": "code",
      "metadata": {
        "colab": {
          "base_uri": "https://localhost:8080/"
        },
        "id": "9KR9_1RxTzdE",
        "outputId": "7e1e1fad-a602-4b42-b0e0-436fd23225de"
      },
      "source": [
        "#print(filenames_train_wv)"
      ],
      "execution_count": 9,
      "outputs": [
        {
          "output_type": "stream",
          "text": [
            "['/content/EEGClassification//Feb 2021 Filtered Data//5s//Spectograms//OPEN//CJ_T33 Open (valve)_(1) - Spec Coefs'\n",
            " '/content/EEGClassification//Feb 2021 Filtered Data//5s//Spectograms//CLOSE//JP_T4 Close (valve) - Spec Coefs'\n",
            " '/content/EEGClassification//Nov 2020 Filtered Data//5s//Spectograms//CLOSE//AZ_T59 Close (valve) - Spec Coefs'\n",
            " '/content/EEGClassification//Feb 2021 Filtered Data//5s//Spectograms//CLOSE//FW2_T20 Close (valve) - Spec Coefs'\n",
            " '/content/EEGClassification//Feb 2021 Filtered Data//5s//Spectograms//CLOSE//CJ_T30 Close (valve) - Spec Coefs'\n",
            " '/content/EEGClassification//Feb 2021 Filtered Data//5s//Spectograms//CLOSE//FW_T12 Close (valve) - Spec Coefs'\n",
            " '/content/EEGClassification//Nov 2020 Filtered Data//5s//Spectograms//OPEN//SD_T32 Open (valve) - Spec Coefs'\n",
            " '/content/EEGClassification//Feb 2021 Filtered Data//5s//Spectograms//CLOSE//SD_T16 Close (valve) - Spec Coefs'\n",
            " '/content/EEGClassification//Feb 2021 Filtered Data//5s//Spectograms//OPEN//FW2_T31 Open (valve) - Spec Coefs'\n",
            " '/content/EEGClassification//Nov 2020 Filtered Data//5s//Spectograms//OPEN//AZ_T15 Open (valve) - Spec Coefs'\n",
            " '/content/EEGClassification//Feb 2021 Filtered Data//5s//Spectograms//CLOSE//FW_T14 Close (valve) - Spec Coefs'\n",
            " '/content/EEGClassification//Feb 2021 Filtered Data//5s//Spectograms//OPEN//JP2_T9 Open (valve)_(1) - Spec Coefs'\n",
            " '/content/EEGClassification//Feb 2021 Filtered Data//5s//Spectograms//CLOSE//JP2_T12 Close (valve)_(1) - Spec Coefs'\n",
            " '/content/EEGClassification//Feb 2021 Filtered Data//5s//Spectograms//CLOSE//SD_T10 Close (valve)_(1) - Spec Coefs'\n",
            " '/content/EEGClassification//Feb 2021 Filtered Data//5s//Spectograms//OPEN//FW2_T17 Open (valve) - Spec Coefs'\n",
            " '/content/EEGClassification//Feb 2021 Filtered Data//5s//Spectograms//OPEN//JP2_T17 Open (valve)_(1) - Spec Coefs'\n",
            " '/content/EEGClassification//Nov 2020 Filtered Data//5s//Spectograms//OPEN//CJ_T27 Open (valve) - Spec Coefs'\n",
            " '/content/EEGClassification//Feb 2021 Filtered Data//5s//Spectograms//OPEN//CJ_T15 Open (valve)_(2) - Spec Coefs'\n",
            " '/content/EEGClassification//Nov 2020 Filtered Data//5s//Spectograms//OPEN//AZ_T34 Open (valve) - Spec Coefs'\n",
            " '/content/EEGClassification//Nov 2020 Filtered Data//5s//Spectograms//OPEN//SD_T17 Open (valve)_(1) - Spec Coefs'\n",
            " '/content/EEGClassification//Feb 2021 Filtered Data//5s//Spectograms//CLOSE//CJ_T14 Close (valve)_(2) - Spec Coefs'\n",
            " '/content/EEGClassification//Feb 2021 Filtered Data//5s//Spectograms//CLOSE//FW3_T6 Close (valve) - Spec Coefs'\n",
            " '/content/EEGClassification//Feb 2021 Filtered Data//5s//Spectograms//OPEN//FW_T13 Open (valve) - Spec Coefs'\n",
            " '/content/EEGClassification//Feb 2021 Filtered Data//5s//Spectograms//OPEN//CJ2_T7 Open (valve) - Spec Coefs'\n",
            " '/content/EEGClassification//Feb 2021 Filtered Data//5s//Spectograms//CLOSE//CJ_T8 Close (valve)_(2) - Spec Coefs'\n",
            " '/content/EEGClassification//Feb 2021 Filtered Data//5s//Spectograms//CLOSE//SD_T14 Close (valve)_(1) - Spec Coefs'\n",
            " '/content/EEGClassification//Nov 2020 Filtered Data//5s//Spectograms//OPEN//AZ_T78 Open (valve) - Spec Coefs'\n",
            " '/content/EEGClassification//Feb 2021 Filtered Data//5s//Spectograms//OPEN//SD_T3 Open (valve) - Spec Coefs'\n",
            " '/content/EEGClassification//Nov 2020 Filtered Data//5s//Spectograms//OPEN//AZ_T65 Open (valve) - Spec Coefs'\n",
            " '/content/EEGClassification//Feb 2021 Filtered Data//5s//Spectograms//OPEN//FW_T1 Open (valve) - Spec Coefs'\n",
            " '/content/EEGClassification//Feb 2021 Filtered Data//5s//Spectograms//CLOSE//JP_T6 Close (valve) - Spec Coefs'\n",
            " '/content/EEGClassification//Nov 2020 Filtered Data//5s//Spectograms//OPEN//AZ_T4 Open (valve) - Spec Coefs'\n",
            " '/content/EEGClassification//Feb 2021 Filtered Data//5s//Spectograms//OPEN//CJ_T35 Open (valve)_(1) - Spec Coefs'\n",
            " '/content/EEGClassification//Feb 2021 Filtered Data//5s//Spectograms//OPEN//FW2_T37 Open (valve) - Spec Coefs'\n",
            " '/content/EEGClassification//Feb 2021 Filtered Data//5s//Spectograms//CLOSE//CJ_T20 Close (valve)_(1) - Spec Coefs'\n",
            " '/content/EEGClassification//Feb 2021 Filtered Data//5s//Spectograms//CLOSE//AZ_T26 Close (valve) - Spec Coefs'\n",
            " '/content/EEGClassification//Nov 2020 Filtered Data//5s//Spectograms//CLOSE//AZ_T66 Close (valve) - Spec Coefs'\n",
            " '/content/EEGClassification//Feb 2021 Filtered Data//5s//Spectograms//CLOSE//AZ_T40 Close (valve) - Spec Coefs'\n",
            " '/content/EEGClassification//Nov 2020 Filtered Data//5s//Spectograms//CLOSE//CJ_T17 Close (valve) - Spec Coefs'\n",
            " '/content/EEGClassification//Feb 2021 Filtered Data//5s//Spectograms//CLOSE//SD_T2 Close (valve)_(1) - Spec Coefs'\n",
            " '/content/EEGClassification//Feb 2021 Filtered Data//5s//Spectograms//OPEN//AZ_T11 Open (valve) - Spec Coefs'\n",
            " '/content/EEGClassification//Feb 2021 Filtered Data//5s//Spectograms//OPEN//CJ_T39 Open (valve)_(2) - Spec Coefs'\n",
            " '/content/EEGClassification//Nov 2020 Filtered Data//5s//Spectograms//CLOSE//SD_T20 Close (valve) - Spec Coefs'\n",
            " '/content/EEGClassification//Feb 2021 Filtered Data//5s//Spectograms//CLOSE//CJ_T4 Close (valve)_(1) - Spec Coefs'\n",
            " '/content/EEGClassification//Nov 2020 Filtered Data//5s//Spectograms//OPEN//SD_T30 Open (valve) - Spec Coefs'\n",
            " '/content/EEGClassification//Nov 2020 Filtered Data//5s//Spectograms//CLOSE//FW_T9 Close (valve) - Spec Coefs'\n",
            " '/content/EEGClassification//Feb 2021 Filtered Data//5s//Spectograms//OPEN//AZ_T25 Open (valve) - Spec Coefs'\n",
            " '/content/EEGClassification//Nov 2020 Filtered Data//5s//Spectograms//OPEN//FW_T34 Open (valve) - Spec Coefs'\n",
            " '/content/EEGClassification//Nov 2020 Filtered Data//5s//Spectograms//OPEN//AZ_T51 Open (valve) - Spec Coefs'\n",
            " '/content/EEGClassification//Feb 2021 Filtered Data//5s//Spectograms//CLOSE//CJ_T20 Close (valve) - Spec Coefs'\n",
            " '/content/EEGClassification//Feb 2021 Filtered Data//5s//Spectograms//OPEN//CJ_T13 Open (valve) - Spec Coefs'\n",
            " '/content/EEGClassification//Nov 2020 Filtered Data//5s//Spectograms//OPEN//AZ_T10 Open (valve) - Spec Coefs'\n",
            " '/content/EEGClassification//Feb 2021 Filtered Data//5s//Spectograms//CLOSE//CJ_T14 Close (valve)_(1) - Spec Coefs'\n",
            " '/content/EEGClassification//Feb 2021 Filtered Data//5s//Spectograms//CLOSE//FW2_T22 Close (valve) - Spec Coefs'\n",
            " '/content/EEGClassification//Feb 2021 Filtered Data//5s//Spectograms//CLOSE//FW_T34 Close (valve) - Spec Coefs'\n",
            " '/content/EEGClassification//Nov 2020 Filtered Data//5s//Spectograms//OPEN//SD_T19 Open (valve) - Spec Coefs'\n",
            " '/content/EEGClassification//Nov 2020 Filtered Data//5s//Spectograms//CLOSE//SD_T11 Close (valve) - Spec Coefs'\n",
            " '/content/EEGClassification//Feb 2021 Filtered Data//5s//Spectograms//OPEN//CJ2_T1 Open (valve) - Spec Coefs'\n",
            " '/content/EEGClassification//Nov 2020 Filtered Data//5s//Spectograms//CLOSE//SD_T31 Close (valve) - Spec Coefs'\n",
            " '/content/EEGClassification//Feb 2021 Filtered Data//5s//Spectograms//CLOSE//FW2_T32 Close (valve) - Spec Coefs'\n",
            " '/content/EEGClassification//Nov 2020 Filtered Data//5s//Spectograms//OPEN//AZ_T47 Open (valve) - Spec Coefs'\n",
            " '/content/EEGClassification//Nov 2020 Filtered Data//5s//Spectograms//OPEN//AZ_T44 Open (valve) - Spec Coefs'\n",
            " '/content/EEGClassification//Feb 2021 Filtered Data//5s//Spectograms//OPEN//AZ_T9 Open (valve) - Spec Coefs'\n",
            " '/content/EEGClassification//Nov 2020 Filtered Data//5s//Spectograms//OPEN//CJ_T69 Open (valve) - Spec Coefs'\n",
            " '/content/EEGClassification//Feb 2021 Filtered Data//5s//Spectograms//CLOSE//JP2_T14 Close (valve)_(1) - Spec Coefs'\n",
            " '/content/EEGClassification//Nov 2020 Filtered Data//5s//Spectograms//OPEN//SD_T26 Open (valve)_(2) - Spec Coefs'\n",
            " '/content/EEGClassification//Nov 2020 Filtered Data//5s//Spectograms//CLOSE//FW_T43 Close (valve) - Spec Coefs'\n",
            " '/content/EEGClassification//Nov 2020 Filtered Data//5s//Spectograms//CLOSE//CJ_T26 Close (valve) - Spec Coefs'\n",
            " '/content/EEGClassification//Feb 2021 Filtered Data//5s//Spectograms//OPEN//FW_T7 Open (valve) - Spec Coefs'\n",
            " '/content/EEGClassification//Nov 2020 Filtered Data//5s//Spectograms//CLOSE//FW_T8 Close (valve) - Spec Coefs'\n",
            " '/content/EEGClassification//Feb 2021 Filtered Data//5s//Spectograms//OPEN//AZ_T23 Open (valve) - Spec Coefs'\n",
            " '/content/EEGClassification//Nov 2020 Filtered Data//5s//Spectograms//OPEN//CJ_T29 Open (valve) - Spec Coefs'\n",
            " '/content/EEGClassification//Feb 2021 Filtered Data//5s//Spectograms//OPEN//FW3_T1 Open (valve) - Spec Coefs'\n",
            " '/content/EEGClassification//Feb 2021 Filtered Data//5s//Spectograms//OPEN//CJ_T29 Open (valve)_(2) - Spec Coefs'\n",
            " '/content/EEGClassification//Nov 2020 Filtered Data//5s//Spectograms//CLOSE//FW_T38 Close (valve) - Spec Coefs'\n",
            " '/content/EEGClassification//Feb 2021 Filtered Data//5s//Spectograms//CLOSE//CJ_T40 Close (valve)_(1) - Spec Coefs'\n",
            " '/content/EEGClassification//Feb 2021 Filtered Data//5s//Spectograms//OPEN//CJ_T3 Open (valve)_(2) - Spec Coefs'\n",
            " '/content/EEGClassification//Feb 2021 Filtered Data//5s//Spectograms//CLOSE//CJ_T18 Close (valve) - Spec Coefs'\n",
            " '/content/EEGClassification//Feb 2021 Filtered Data//5s//Spectograms//CLOSE//FW3_T26 Close (valve) - Spec Coefs'\n",
            " '/content/EEGClassification//Nov 2020 Filtered Data//5s//Spectograms//OPEN//FW_T12 Open (valve) - Spec Coefs'\n",
            " '/content/EEGClassification//Feb 2021 Filtered Data//5s//Spectograms//CLOSE//CJ_T32 Close (valve) - Spec Coefs'\n",
            " '/content/EEGClassification//Nov 2020 Filtered Data//5s//Spectograms//CLOSE//AZ_T50 Close (valve) - Spec Coefs'\n",
            " '/content/EEGClassification//Feb 2021 Filtered Data//5s//Spectograms//OPEN//JP_T5 Open (valve) - Spec Coefs'\n",
            " '/content/EEGClassification//Nov 2020 Filtered Data//5s//Spectograms//CLOSE//SD_T11 Close (valve)_(1) - Spec Coefs'\n",
            " '/content/EEGClassification//Feb 2021 Filtered Data//5s//Spectograms//OPEN//JP_T21 Open (valve) - Spec Coefs'\n",
            " '/content/EEGClassification//Nov 2020 Filtered Data//5s//Spectograms//CLOSE//AZ_T53 Close (valve) - Spec Coefs'\n",
            " '/content/EEGClassification//Feb 2021 Filtered Data//5s//Spectograms//CLOSE//FW2_T18 Close (valve) - Spec Coefs'\n",
            " '/content/EEGClassification//Nov 2020 Filtered Data//5s//Spectograms//CLOSE//SD_T25 Close (valve) - Spec Coefs'\n",
            " '/content/EEGClassification//Feb 2021 Filtered Data//5s//Spectograms//CLOSE//CJ_T36 Close (valve) - Spec Coefs'\n",
            " '/content/EEGClassification//Feb 2021 Filtered Data//5s//Spectograms//OPEN//CJ2_T9 Open (valve) - Spec Coefs'\n",
            " '/content/EEGClassification//Feb 2021 Filtered Data//5s//Spectograms//OPEN//FW2_T7 Open (valve) - Spec Coefs'\n",
            " '/content/EEGClassification//Feb 2021 Filtered Data//5s//Spectograms//CLOSE//FW_T16 Close (valve) - Spec Coefs'\n",
            " '/content/EEGClassification//Feb 2021 Filtered Data//5s//Spectograms//OPEN//JP_T17 Open (valve) - Spec Coefs'\n",
            " '/content/EEGClassification//Nov 2020 Filtered Data//5s//Spectograms//CLOSE//AZ_T26 Close (valve) - Spec Coefs'\n",
            " '/content/EEGClassification//Nov 2020 Filtered Data//5s//Spectograms//CLOSE//SD_T24 Close (valve) - Spec Coefs'\n",
            " '/content/EEGClassification//Feb 2021 Filtered Data//5s//Spectograms//CLOSE//CJ_T32 Close (valve)_(1) - Spec Coefs'\n",
            " '/content/EEGClassification//Nov 2020 Filtered Data//5s//Spectograms//CLOSE//SD_T3 Close (valve) - Spec Coefs'\n",
            " '/content/EEGClassification//Feb 2021 Filtered Data//5s//Spectograms//CLOSE//SD_T6 Close (valve) - Spec Coefs'\n",
            " '/content/EEGClassification//Feb 2021 Filtered Data//5s//Spectograms//OPEN//JP2_T11 Open (valve)_(1) - Spec Coefs'\n",
            " '/content/EEGClassification//Nov 2020 Filtered Data//5s//Spectograms//OPEN//SD_T7 Open (valve)_(2) - Spec Coefs'\n",
            " '/content/EEGClassification//Feb 2021 Filtered Data//5s//Spectograms//CLOSE//FW_T20 Close (valve) - Spec Coefs'\n",
            " '/content/EEGClassification//Feb 2021 Filtered Data//5s//Spectograms//CLOSE//SD_T22 Close (valve) - Spec Coefs'\n",
            " '/content/EEGClassification//Feb 2021 Filtered Data//5s//Spectograms//OPEN//CJ_T23 Open (valve) - Spec Coefs'\n",
            " '/content/EEGClassification//Nov 2020 Filtered Data//5s//Spectograms//CLOSE//FW_T30 Close (valve) - Spec Coefs'\n",
            " '/content/EEGClassification//Feb 2021 Filtered Data//5s//Spectograms//CLOSE//FW3_T38 Close (valve) - Spec Coefs'\n",
            " '/content/EEGClassification//Nov 2020 Filtered Data//5s//Spectograms//CLOSE//SD_T23 Close (valve) - Spec Coefs'\n",
            " '/content/EEGClassification//Nov 2020 Filtered Data//5s//Spectograms//CLOSE//FW_T84 Close (valve) - Spec Coefs'\n",
            " '/content/EEGClassification//Nov 2020 Filtered Data//5s//Spectograms//OPEN//FW_T71 Open (valve) - Spec Coefs'\n",
            " '/content/EEGClassification//Feb 2021 Filtered Data//5s//Spectograms//CLOSE//CJ_T38 Close (valve)_(2) - Spec Coefs'\n",
            " '/content/EEGClassification//Nov 2020 Filtered Data//5s//Spectograms//OPEN//AZ_T20 Open (valve) - Spec Coefs'\n",
            " '/content/EEGClassification//Feb 2021 Filtered Data//5s//Spectograms//OPEN//SD_T25 Open (valve) - Spec Coefs'\n",
            " '/content/EEGClassification//Feb 2021 Filtered Data//5s//Spectograms//OPEN//FW2_T11 Open (valve) - Spec Coefs'\n",
            " '/content/EEGClassification//Feb 2021 Filtered Data//5s//Spectograms//CLOSE//CJ_T18 Close (valve)_(2) - Spec Coefs'\n",
            " '/content/EEGClassification//Nov 2020 Filtered Data//5s//Spectograms//OPEN//CJ_T73 Open (valve) - Spec Coefs'\n",
            " '/content/EEGClassification//Feb 2021 Filtered Data//5s//Spectograms//OPEN//CJ_T27 Open (valve)_(2) - Spec Coefs'\n",
            " '/content/EEGClassification//Feb 2021 Filtered Data//5s//Spectograms//CLOSE//CJ_T28 Close (valve)_(2) - Spec Coefs'\n",
            " '/content/EEGClassification//Nov 2020 Filtered Data//5s//Spectograms//CLOSE//FW_T61 Close (valve) - Spec Coefs'\n",
            " '/content/EEGClassification//Nov 2020 Filtered Data//5s//Spectograms//OPEN//CJ_T41 Open (valve) - Spec Coefs'\n",
            " '/content/EEGClassification//Nov 2020 Filtered Data//5s//Spectograms//OPEN//FW_T32 Open (valve) - Spec Coefs'\n",
            " '/content/EEGClassification//Feb 2021 Filtered Data//5s//Spectograms//CLOSE//CJ_T30 Close (valve)_(1) - Spec Coefs'\n",
            " '/content/EEGClassification//Feb 2021 Filtered Data//5s//Spectograms//CLOSE//CJ_T24 Close (valve)_(1) - Spec Coefs'\n",
            " '/content/EEGClassification//Nov 2020 Filtered Data//5s//Spectograms//CLOSE//SD_T41 Close (valve) - Spec Coefs'\n",
            " '/content/EEGClassification//Nov 2020 Filtered Data//5s//Spectograms//OPEN//SD_T12 Open (valve) - Spec Coefs'\n",
            " '/content/EEGClassification//Feb 2021 Filtered Data//5s//Spectograms//OPEN//CJ_T17 Open (valve)_(2) - Spec Coefs'\n",
            " '/content/EEGClassification//Feb 2021 Filtered Data//5s//Spectograms//OPEN//FW_T15 Open (valve) - Spec Coefs'\n",
            " '/content/EEGClassification//Feb 2021 Filtered Data//5s//Spectograms//CLOSE//FW_T18 Close (valve) - Spec Coefs'\n",
            " '/content/EEGClassification//Nov 2020 Filtered Data//5s//Spectograms//CLOSE//AZ_T48 Close (valve) - Spec Coefs'\n",
            " '/content/EEGClassification//Feb 2021 Filtered Data//5s//Spectograms//OPEN//JP_T27 Open (valve) - Spec Coefs'\n",
            " '/content/EEGClassification//Nov 2020 Filtered Data//5s//Spectograms//CLOSE//CJ_T43 Close (valve) - Spec Coefs'\n",
            " '/content/EEGClassification//Feb 2021 Filtered Data//5s//Spectograms//CLOSE//CJ_T30 Close (valve)_(2) - Spec Coefs'\n",
            " '/content/EEGClassification//Nov 2020 Filtered Data//5s//Spectograms//OPEN//CJ_T58 Open (valve) - Spec Coefs'\n",
            " '/content/EEGClassification//Feb 2021 Filtered Data//5s//Spectograms//OPEN//SD_T7 Open (valve) - Spec Coefs'\n",
            " '/content/EEGClassification//Feb 2021 Filtered Data//5s//Spectograms//OPEN//CJ_T3 Open (valve) - Spec Coefs'\n",
            " '/content/EEGClassification//Feb 2021 Filtered Data//5s//Spectograms//OPEN//CJ_T25 Open (valve)_(2) - Spec Coefs'\n",
            " '/content/EEGClassification//Feb 2021 Filtered Data//5s//Spectograms//OPEN//FW_T37 Open (valve) - Spec Coefs'\n",
            " '/content/EEGClassification//Feb 2021 Filtered Data//5s//Spectograms//OPEN//CJ_T27 Open (valve) - Spec Coefs'\n",
            " '/content/EEGClassification//Feb 2021 Filtered Data//5s//Spectograms//OPEN//JP2_T3 Open (valve)_(1) - Spec Coefs'\n",
            " '/content/EEGClassification//Feb 2021 Filtered Data//5s//Spectograms//OPEN//FW2_T29 Open (valve) - Spec Coefs'\n",
            " '/content/EEGClassification//Feb 2021 Filtered Data//5s//Spectograms//CLOSE//FW_T4 Close (valve) - Spec Coefs'\n",
            " '/content/EEGClassification//Nov 2020 Filtered Data//5s//Spectograms//CLOSE//CJ_T53 Close (valve) - Spec Coefs'\n",
            " '/content/EEGClassification//Feb 2021 Filtered Data//5s//Spectograms//OPEN//FW_T39 Open (valve) - Spec Coefs'\n",
            " '/content/EEGClassification//Feb 2021 Filtered Data//5s//Spectograms//CLOSE//CJ_T38 Close (valve)_(1) - Spec Coefs'\n",
            " '/content/EEGClassification//Nov 2020 Filtered Data//5s//Spectograms//CLOSE//SD_T15 Close (valve) - Spec Coefs'\n",
            " '/content/EEGClassification//Nov 2020 Filtered Data//5s//Spectograms//OPEN//FW_T80 Open (valve) - Spec Coefs'\n",
            " '/content/EEGClassification//Feb 2021 Filtered Data//5s//Spectograms//CLOSE//JP_T8 Close (valve) - Spec Coefs'\n",
            " '/content/EEGClassification//Feb 2021 Filtered Data//5s//Spectograms//OPEN//CJ_T1 Open (valve)_(1) - Spec Coefs'\n",
            " '/content/EEGClassification//Feb 2021 Filtered Data//5s//Spectograms//CLOSE//FW3_T40 Close (valve) - Spec Coefs'\n",
            " '/content/EEGClassification//Nov 2020 Filtered Data//5s//Spectograms//CLOSE//CJ_T32 Close (valve) - Spec Coefs'\n",
            " '/content/EEGClassification//Feb 2021 Filtered Data//5s//Spectograms//OPEN//CJ_T29 Open (valve) - Spec Coefs'\n",
            " '/content/EEGClassification//Nov 2020 Filtered Data//5s//Spectograms//CLOSE//FW_T70 Close (valve) - Spec Coefs'\n",
            " '/content/EEGClassification//Nov 2020 Filtered Data//5s//Spectograms//OPEN//CJ_T1 Open (valve) - Spec Coefs'\n",
            " '/content/EEGClassification//Feb 2021 Filtered Data//5s//Spectograms//OPEN//FW2_T23 Open (valve) - Spec Coefs'\n",
            " '/content/EEGClassification//Feb 2021 Filtered Data//5s//Spectograms//CLOSE//CJ2_T6 Close (valve) - Spec Coefs'\n",
            " '/content/EEGClassification//Nov 2020 Filtered Data//5s//Spectograms//CLOSE//FW_T25 Close (valve) - Spec Coefs'\n",
            " '/content/EEGClassification//Nov 2020 Filtered Data//5s//Spectograms//OPEN//SD_T7 Open (valve)_(1) - Spec Coefs'\n",
            " '/content/EEGClassification//Feb 2021 Filtered Data//5s//Spectograms//OPEN//JP_T39 Open (valve) - Spec Coefs'\n",
            " '/content/EEGClassification//Feb 2021 Filtered Data//5s//Spectograms//OPEN//CJ_T31 Open (valve) - Spec Coefs'\n",
            " '/content/EEGClassification//Feb 2021 Filtered Data//5s//Spectograms//CLOSE//CJ_T12 Close (valve)_(2) - Spec Coefs'\n",
            " '/content/EEGClassification//Feb 2021 Filtered Data//5s//Spectograms//CLOSE//CJ2_T12 Close (valve) - Spec Coefs'\n",
            " '/content/EEGClassification//Feb 2021 Filtered Data//5s//Spectograms//CLOSE//JP_T32 Close (valve) - Spec Coefs'\n",
            " '/content/EEGClassification//Feb 2021 Filtered Data//5s//Spectograms//OPEN//CJ_T31 Open (valve)_(2) - Spec Coefs'\n",
            " '/content/EEGClassification//Feb 2021 Filtered Data//5s//Spectograms//CLOSE//AZ_T8 Close (valve) - Spec Coefs'\n",
            " '/content/EEGClassification//Feb 2021 Filtered Data//5s//Spectograms//OPEN//JP2_T7 Open (valve)_(1) - Spec Coefs'\n",
            " '/content/EEGClassification//Feb 2021 Filtered Data//5s//Spectograms//OPEN//FW2_T15 Open (valve) - Spec Coefs'\n",
            " '/content/EEGClassification//Feb 2021 Filtered Data//5s//Spectograms//OPEN//JP_T19 Open (valve) - Spec Coefs'\n",
            " '/content/EEGClassification//Feb 2021 Filtered Data//5s//Spectograms//CLOSE//FW2_T34 Close (valve) - Spec Coefs'\n",
            " '/content/EEGClassification//Nov 2020 Filtered Data//5s//Spectograms//OPEN//AZ_T8 Open (valve) - Spec Coefs'\n",
            " '/content/EEGClassification//Feb 2021 Filtered Data//5s//Spectograms//OPEN//AZ_T31 Open (valve) - Spec Coefs'\n",
            " '/content/EEGClassification//Nov 2020 Filtered Data//5s//Spectograms//OPEN//SD_T21 Open (valve)_(2) - Spec Coefs'\n",
            " '/content/EEGClassification//Nov 2020 Filtered Data//5s//Spectograms//CLOSE//FW_T46 Close (valve) - Spec Coefs'\n",
            " '/content/EEGClassification//Feb 2021 Filtered Data//5s//Spectograms//CLOSE//SD_T12 Close (valve) - Spec Coefs'\n",
            " '/content/EEGClassification//Nov 2020 Filtered Data//5s//Spectograms//OPEN//SD_T21 Open (valve)_(1) - Spec Coefs'\n",
            " '/content/EEGClassification//Feb 2021 Filtered Data//5s//Spectograms//OPEN//FW3_T27 Open (valve) - Spec Coefs'\n",
            " '/content/EEGClassification//Nov 2020 Filtered Data//5s//Spectograms//CLOSE//CJ_T78 Close (valve) - Spec Coefs'\n",
            " '/content/EEGClassification//Feb 2021 Filtered Data//5s//Spectograms//CLOSE//FW3_T22 Close (valve) - Spec Coefs'\n",
            " '/content/EEGClassification//Feb 2021 Filtered Data//5s//Spectograms//OPEN//CJ_T17 Open (valve)_(1) - Spec Coefs'\n",
            " '/content/EEGClassification//Feb 2021 Filtered Data//5s//Spectograms//OPEN//CJ_T37 Open (valve)_(1) - Spec Coefs'\n",
            " '/content/EEGClassification//Feb 2021 Filtered Data//5s//Spectograms//OPEN//JP_T15 Open (valve) - Spec Coefs'\n",
            " '/content/EEGClassification//Feb 2021 Filtered Data//5s//Spectograms//CLOSE//JP_T20 Close (valve) - Spec Coefs'\n",
            " '/content/EEGClassification//Feb 2021 Filtered Data//5s//Spectograms//OPEN//FW_T23 Open (valve) - Spec Coefs'\n",
            " '/content/EEGClassification//Feb 2021 Filtered Data//5s//Spectograms//OPEN//FW_T19 Open (valve) - Spec Coefs'\n",
            " '/content/EEGClassification//Feb 2021 Filtered Data//5s//Spectograms//OPEN//CJ_T1 Open (valve) - Spec Coefs'\n",
            " '/content/EEGClassification//Feb 2021 Filtered Data//5s//Spectograms//OPEN//JP_T11 Open (valve) - Spec Coefs'\n",
            " '/content/EEGClassification//Feb 2021 Filtered Data//5s//Spectograms//CLOSE//CJ_T12 Close (valve)_(1) - Spec Coefs'\n",
            " '/content/EEGClassification//Nov 2020 Filtered Data//5s//Spectograms//CLOSE//AZ_T70 Close (valve) - Spec Coefs'\n",
            " '/content/EEGClassification//Feb 2021 Filtered Data//5s//Spectograms//OPEN//CJ_T11 Open (valve)_(2) - Spec Coefs'\n",
            " '/content/EEGClassification//Feb 2021 Filtered Data//5s//Spectograms//CLOSE//AZ_T2 Close (valve) - Spec Coefs'\n",
            " '/content/EEGClassification//Feb 2021 Filtered Data//5s//Spectograms//CLOSE//AZ_T32 Close (valve) - Spec Coefs'\n",
            " '/content/EEGClassification//Feb 2021 Filtered Data//5s//Spectograms//CLOSE//FW3_T20 Close (valve) - Spec Coefs'\n",
            " '/content/EEGClassification//Feb 2021 Filtered Data//5s//Spectograms//CLOSE//FW2_T6 Close (valve) - Spec Coefs'\n",
            " '/content/EEGClassification//Feb 2021 Filtered Data//5s//Spectograms//OPEN//AZ_T35 Open (valve) - Spec Coefs'\n",
            " '/content/EEGClassification//Nov 2020 Filtered Data//5s//Spectograms//CLOSE//CJ_T70 Close (valve) - Spec Coefs'\n",
            " '/content/EEGClassification//Nov 2020 Filtered Data//5s//Spectograms//OPEN//CJ_T61 Open (valve) - Spec Coefs'\n",
            " '/content/EEGClassification//Feb 2021 Filtered Data//5s//Spectograms//CLOSE//AZ_T10 Close (valve) - Spec Coefs'\n",
            " '/content/EEGClassification//Feb 2021 Filtered Data//5s//Spectograms//CLOSE//CJ_T16 Close (valve) - Spec Coefs'\n",
            " '/content/EEGClassification//Nov 2020 Filtered Data//5s//Spectograms//CLOSE//CJ_T15 Close (valve) - Spec Coefs'\n",
            " '/content/EEGClassification//Feb 2021 Filtered Data//5s//Spectograms//CLOSE//FW_T28 Close (valve) - Spec Coefs'\n",
            " '/content/EEGClassification//Feb 2021 Filtered Data//5s//Spectograms//CLOSE//CJ_T22 Close (valve)_(1) - Spec Coefs'\n",
            " '/content/EEGClassification//Feb 2021 Filtered Data//5s//Spectograms//CLOSE//CJ_T8 Close (valve) - Spec Coefs'\n",
            " '/content/EEGClassification//Feb 2021 Filtered Data//5s//Spectograms//OPEN//FW3_T15 Open (valve) - Spec Coefs'\n",
            " '/content/EEGClassification//Nov 2020 Filtered Data//5s//Spectograms//OPEN//CJ_T77 Open (valve) - Spec Coefs'\n",
            " '/content/EEGClassification//Feb 2021 Filtered Data//5s//Spectograms//OPEN//FW3_T29 Open (valve) - Spec Coefs'\n",
            " '/content/EEGClassification//Feb 2021 Filtered Data//5s//Spectograms//CLOSE//FW2_T14 Close (valve) - Spec Coefs'\n",
            " '/content/EEGClassification//Feb 2021 Filtered Data//5s//Spectograms//CLOSE//FW2_T4 Close (valve) - Spec Coefs'\n",
            " '/content/EEGClassification//Nov 2020 Filtered Data//5s//Spectograms//OPEN//CJ_T52 Open (valve) - Spec Coefs'\n",
            " '/content/EEGClassification//Feb 2021 Filtered Data//5s//Spectograms//OPEN//JP_T3 Open (valve) - Spec Coefs'\n",
            " '/content/EEGClassification//Nov 2020 Filtered Data//5s//Spectograms//OPEN//CJ_T55 Open (valve) - Spec Coefs'\n",
            " '/content/EEGClassification//Feb 2021 Filtered Data//5s//Spectograms//OPEN//FW_T3 Open (valve) - Spec Coefs'\n",
            " '/content/EEGClassification//Nov 2020 Filtered Data//5s//Spectograms//OPEN//FW_T56 Open (valve) - Spec Coefs'\n",
            " '/content/EEGClassification//Nov 2020 Filtered Data//5s//Spectograms//CLOSE//SD_T17 Close (valve) - Spec Coefs'\n",
            " '/content/EEGClassification//Nov 2020 Filtered Data//5s//Spectograms//CLOSE//FW_T16 Close (valve) - Spec Coefs'\n",
            " '/content/EEGClassification//Feb 2021 Filtered Data//5s//Spectograms//OPEN//SD_T21 Open (valve) - Spec Coefs'\n",
            " '/content/EEGClassification//Feb 2021 Filtered Data//5s//Spectograms//OPEN//FW2_T1 Open (valve) - Spec Coefs'\n",
            " '/content/EEGClassification//Nov 2020 Filtered Data//5s//Spectograms//OPEN//FW_T4 Open (valve) - Spec Coefs'\n",
            " '/content/EEGClassification//Feb 2021 Filtered Data//5s//Spectograms//CLOSE//SD_T18 Close (valve) - Spec Coefs'\n",
            " '/content/EEGClassification//Feb 2021 Filtered Data//5s//Spectograms//CLOSE//CJ_T2 Close (valve) - Spec Coefs'\n",
            " '/content/EEGClassification//Nov 2020 Filtered Data//5s//Spectograms//OPEN//SD_T26 Open (valve)_(1) - Spec Coefs'\n",
            " '/content/EEGClassification//Feb 2021 Filtered Data//5s//Spectograms//CLOSE//JP_T14 Close (valve) - Spec Coefs'\n",
            " '/content/EEGClassification//Feb 2021 Filtered Data//5s//Spectograms//CLOSE//AZ_T36 Close (valve) - Spec Coefs'\n",
            " '/content/EEGClassification//Feb 2021 Filtered Data//5s//Spectograms//OPEN//JP2_T1 Open (valve)_(1) - Spec Coefs'\n",
            " '/content/EEGClassification//Feb 2021 Filtered Data//5s//Spectograms//OPEN//SD_T19 Open (valve) - Spec Coefs'\n",
            " '/content/EEGClassification//Feb 2021 Filtered Data//5s//Spectograms//OPEN//SD_T11 Open (valve) - Spec Coefs'\n",
            " '/content/EEGClassification//Feb 2021 Filtered Data//5s//Spectograms//OPEN//CJ_T17 Open (valve) - Spec Coefs'\n",
            " '/content/EEGClassification//Nov 2020 Filtered Data//5s//Spectograms//CLOSE//AZ_T43 Close (valve) - Spec Coefs'\n",
            " '/content/EEGClassification//Feb 2021 Filtered Data//5s//Spectograms//OPEN//CJ_T7 Open (valve)_(1) - Spec Coefs'\n",
            " '/content/EEGClassification//Feb 2021 Filtered Data//5s//Spectograms//CLOSE//JP2_T6 Close (valve)_(1) - Spec Coefs'\n",
            " '/content/EEGClassification//Nov 2020 Filtered Data//5s//Spectograms//CLOSE//CJ_T9 Close (valve) - Spec Coefs'\n",
            " '/content/EEGClassification//Nov 2020 Filtered Data//5s//Spectograms//OPEN//AZ_T62 Open (valve) - Spec Coefs'\n",
            " '/content/EEGClassification//Nov 2020 Filtered Data//5s//Spectograms//CLOSE//AZ_T13 Close (valve) - Spec Coefs'\n",
            " '/content/EEGClassification//Nov 2020 Filtered Data//5s//Spectograms//CLOSE//CJ_T35 Close (valve) - Spec Coefs'\n",
            " '/content/EEGClassification//Feb 2021 Filtered Data//5s//Spectograms//OPEN//SD_T21 Open (valve)_(1) - Spec Coefs'\n",
            " '/content/EEGClassification//Feb 2021 Filtered Data//5s//Spectograms//OPEN//CJ2_T3 Open (valve) - Spec Coefs'\n",
            " '/content/EEGClassification//Feb 2021 Filtered Data//5s//Spectograms//CLOSE//FW2_T36 Close (valve) - Spec Coefs'\n",
            " '/content/EEGClassification//Nov 2020 Filtered Data//5s//Spectograms//CLOSE//SD_T33 Close (valve) - Spec Coefs'\n",
            " '/content/EEGClassification//Feb 2021 Filtered Data//5s//Spectograms//OPEN//SD_T15 Open (valve) - Spec Coefs'\n",
            " '/content/EEGClassification//Feb 2021 Filtered Data//5s//Spectograms//CLOSE//AZ_T22 Close (valve) - Spec Coefs'\n",
            " '/content/EEGClassification//Feb 2021 Filtered Data//5s//Spectograms//OPEN//CJ_T31 Open (valve)_(1) - Spec Coefs'\n",
            " '/content/EEGClassification//Feb 2021 Filtered Data//5s//Spectograms//CLOSE//FW3_T36 Close (valve) - Spec Coefs'\n",
            " '/content/EEGClassification//Feb 2021 Filtered Data//5s//Spectograms//CLOSE//JP2_T18 Close (valve)_(1) - Spec Coefs'\n",
            " '/content/EEGClassification//Feb 2021 Filtered Data//5s//Spectograms//CLOSE//SD_T8 Close (valve) - Spec Coefs'\n",
            " '/content/EEGClassification//Feb 2021 Filtered Data//5s//Spectograms//CLOSE//CJ_T18 Close (valve)_(1) - Spec Coefs'\n",
            " '/content/EEGClassification//Feb 2021 Filtered Data//5s//Spectograms//CLOSE//CJ_T14 Close (valve) - Spec Coefs'\n",
            " '/content/EEGClassification//Feb 2021 Filtered Data//5s//Spectograms//OPEN//CJ_T11 Open (valve)_(1) - Spec Coefs'\n",
            " '/content/EEGClassification//Feb 2021 Filtered Data//5s//Spectograms//CLOSE//FW_T24 Close (valve) - Spec Coefs'\n",
            " '/content/EEGClassification//Feb 2021 Filtered Data//5s//Spectograms//CLOSE//CJ2_T4 Close (valve) - Spec Coefs'\n",
            " '/content/EEGClassification//Feb 2021 Filtered Data//5s//Spectograms//OPEN//SD_T1 Open (valve)_(1) - Spec Coefs'\n",
            " '/content/EEGClassification//Feb 2021 Filtered Data//5s//Spectograms//CLOSE//FW2_T24 Close (valve) - Spec Coefs'\n",
            " '/content/EEGClassification//Feb 2021 Filtered Data//5s//Spectograms//OPEN//FW3_T25 Open (valve) - Spec Coefs'\n",
            " '/content/EEGClassification//Nov 2020 Filtered Data//5s//Spectograms//CLOSE//SD_T60 Close (valve) - Spec Coefs'\n",
            " '/content/EEGClassification//Nov 2020 Filtered Data//5s//Spectograms//CLOSE//SD_T8 Close (valve) - Spec Coefs'\n",
            " '/content/EEGClassification//Nov 2020 Filtered Data//5s//Spectograms//CLOSE//CJ_T50 Close (valve) - Spec Coefs'\n",
            " '/content/EEGClassification//Feb 2021 Filtered Data//5s//Spectograms//CLOSE//JP_T26 Close (valve) - Spec Coefs'\n",
            " '/content/EEGClassification//Feb 2021 Filtered Data//5s//Spectograms//OPEN//CJ_T23 Open (valve)_(1) - Spec Coefs'\n",
            " '/content/EEGClassification//Feb 2021 Filtered Data//5s//Spectograms//CLOSE//SD_T2 Close (valve) - Spec Coefs'\n",
            " '/content/EEGClassification//Feb 2021 Filtered Data//5s//Spectograms//CLOSE//CJ_T12 Close (valve) - Spec Coefs'\n",
            " '/content/EEGClassification//Feb 2021 Filtered Data//5s//Spectograms//CLOSE//FW3_T12 Close (valve) - Spec Coefs'\n",
            " '/content/EEGClassification//Feb 2021 Filtered Data//5s//Spectograms//CLOSE//FW3_T28 Close (valve) - Spec Coefs'\n",
            " '/content/EEGClassification//Feb 2021 Filtered Data//5s//Spectograms//CLOSE//SD_T26 Close (valve) - Spec Coefs'\n",
            " '/content/EEGClassification//Feb 2021 Filtered Data//5s//Spectograms//OPEN//SD_T23 Open (valve) - Spec Coefs'\n",
            " '/content/EEGClassification//Feb 2021 Filtered Data//5s//Spectograms//OPEN//FW2_T13 Open (valve) - Spec Coefs'\n",
            " '/content/EEGClassification//Feb 2021 Filtered Data//5s//Spectograms//OPEN//JP2_T13 Open (valve)_(1) - Spec Coefs'\n",
            " '/content/EEGClassification//Feb 2021 Filtered Data//5s//Spectograms//OPEN//AZ_T29 Open (valve) - Spec Coefs'\n",
            " '/content/EEGClassification//Nov 2020 Filtered Data//5s//Spectograms//OPEN//FW_T15 Open (valve) - Spec Coefs'\n",
            " '/content/EEGClassification//Nov 2020 Filtered Data//5s//Spectograms//OPEN//CJ_T13 Open (valve) - Spec Coefs'\n",
            " '/content/EEGClassification//Nov 2020 Filtered Data//5s//Spectograms//OPEN//SD_T1 Open (valve) - Spec Coefs'\n",
            " '/content/EEGClassification//Nov 2020 Filtered Data//5s//Spectograms//OPEN//AZ_T24 Open (valve) - Spec Coefs'\n",
            " '/content/EEGClassification//Feb 2021 Filtered Data//5s//Spectograms//OPEN//AZ_T7 Open (valve) - Spec Coefs'\n",
            " '/content/EEGClassification//Feb 2021 Filtered Data//5s//Spectograms//OPEN//CJ_T9 Open (valve) - Spec Coefs'\n",
            " '/content/EEGClassification//Nov 2020 Filtered Data//5s//Spectograms//OPEN//SD_T1 Open (valve)_(1) - Spec Coefs'\n",
            " '/content/EEGClassification//Nov 2020 Filtered Data//5s//Spectograms//OPEN//SD_T17 Open (valve) - Spec Coefs'\n",
            " '/content/EEGClassification//Nov 2020 Filtered Data//5s//Spectograms//OPEN//CJ_T10 Open (valve) - Spec Coefs'\n",
            " '/content/EEGClassification//Feb 2021 Filtered Data//5s//Spectograms//OPEN//CJ_T37 Open (valve)_(2) - Spec Coefs'\n",
            " '/content/EEGClassification//Nov 2020 Filtered Data//5s//Spectograms//CLOSE//AZ_T76 Close (valve) - Spec Coefs'\n",
            " '/content/EEGClassification//Feb 2021 Filtered Data//5s//Spectograms//CLOSE//FW3_T2 Close (valve) - Spec Coefs'\n",
            " '/content/EEGClassification//Nov 2020 Filtered Data//5s//Spectograms//OPEN//SD_T57 Open (valve) - Spec Coefs'\n",
            " '/content/EEGClassification//Feb 2021 Filtered Data//5s//Spectograms//OPEN//FW3_T31 Open (valve) - Spec Coefs'\n",
            " '/content/EEGClassification//Feb 2021 Filtered Data//5s//Spectograms//OPEN//FW3_T19 Open (valve) - Spec Coefs'\n",
            " '/content/EEGClassification//Nov 2020 Filtered Data//5s//Spectograms//OPEN//CJ_T45 Open (valve) - Spec Coefs'\n",
            " '/content/EEGClassification//Feb 2021 Filtered Data//5s//Spectograms//CLOSE//FW2_T26 Close (valve) - Spec Coefs'\n",
            " '/content/EEGClassification//Feb 2021 Filtered Data//5s//Spectograms//OPEN//SD_T9 Open (valve)_(1) - Spec Coefs'\n",
            " '/content/EEGClassification//Feb 2021 Filtered Data//5s//Spectograms//OPEN//CJ_T25 Open (valve)_(1) - Spec Coefs'\n",
            " '/content/EEGClassification//Feb 2021 Filtered Data//5s//Spectograms//OPEN//FW3_T11 Open (valve) - Spec Coefs'\n",
            " '/content/EEGClassification//Nov 2020 Filtered Data//5s//Spectograms//OPEN//AZ_T55 Open (valve) - Spec Coefs'\n",
            " '/content/EEGClassification//Nov 2020 Filtered Data//5s//Spectograms//OPEN//AZ_T75 Open (valve) - Spec Coefs'\n",
            " '/content/EEGClassification//Feb 2021 Filtered Data//5s//Spectograms//CLOSE//CJ_T6 Close (valve)_(1) - Spec Coefs'\n",
            " '/content/EEGClassification//Feb 2021 Filtered Data//5s//Spectograms//OPEN//AZ_T33 Open (valve) - Spec Coefs'\n",
            " '/content/EEGClassification//Nov 2020 Filtered Data//5s//Spectograms//CLOSE//SD_T22 Close (valve) - Spec Coefs'\n",
            " '/content/EEGClassification//Nov 2020 Filtered Data//5s//Spectograms//OPEN//FW_T87 Open (valve) - Spec Coefs'\n",
            " '/content/EEGClassification//Feb 2021 Filtered Data//5s//Spectograms//CLOSE//SD_T20 Close (valve) - Spec Coefs'\n",
            " '/content/EEGClassification//Nov 2020 Filtered Data//5s//Spectograms//OPEN//CJ_T21 Open (valve) - Spec Coefs'\n",
            " '/content/EEGClassification//Feb 2021 Filtered Data//5s//Spectograms//OPEN//FW_T35 Open (valve) - Spec Coefs'\n",
            " '/content/EEGClassification//Nov 2020 Filtered Data//5s//Spectograms//CLOSE//CJ_T65 Close (valve) - Spec Coefs'\n",
            " '/content/EEGClassification//Feb 2021 Filtered Data//5s//Spectograms//OPEN//SD_T1 Open (valve) - Spec Coefs'\n",
            " '/content/EEGClassification//Feb 2021 Filtered Data//5s//Spectograms//CLOSE//AZ_T16 Close (valve) - Spec Coefs'\n",
            " '/content/EEGClassification//Feb 2021 Filtered Data//5s//Spectograms//CLOSE//CJ_T24 Close (valve)_(2) - Spec Coefs'\n",
            " '/content/EEGClassification//Feb 2021 Filtered Data//5s//Spectograms//CLOSE//AZ_T24 Close (valve) - Spec Coefs'\n",
            " '/content/EEGClassification//Feb 2021 Filtered Data//5s//Spectograms//OPEN//CJ_T7 Open (valve) - Spec Coefs'\n",
            " '/content/EEGClassification//Feb 2021 Filtered Data//5s//Spectograms//CLOSE//JP_T10 Close (valve) - Spec Coefs'\n",
            " '/content/EEGClassification//Feb 2021 Filtered Data//5s//Spectograms//CLOSE//JP_T12 Close (valve) - Spec Coefs'\n",
            " '/content/EEGClassification//Feb 2021 Filtered Data//5s//Spectograms//OPEN//CJ_T33 Open (valve) - Spec Coefs'\n",
            " '/content/EEGClassification//Feb 2021 Filtered Data//5s//Spectograms//OPEN//JP2_T19 Open (valve)_(1) - Spec Coefs'\n",
            " '/content/EEGClassification//Feb 2021 Filtered Data//5s//Spectograms//CLOSE//JP_T40 Close (valve) - Spec Coefs'\n",
            " '/content/EEGClassification//Nov 2020 Filtered Data//5s//Spectograms//CLOSE//SD_T29 Close (valve) - Spec Coefs'\n",
            " '/content/EEGClassification//Feb 2021 Filtered Data//5s//Spectograms//CLOSE//CJ_T28 Close (valve) - Spec Coefs'\n",
            " '/content/EEGClassification//Feb 2021 Filtered Data//5s//Spectograms//OPEN//FW2_T27 Open (valve) - Spec Coefs'\n",
            " '/content/EEGClassification//Nov 2020 Filtered Data//5s//Spectograms//CLOSE//SD_T14 Close (valve) - Spec Coefs'\n",
            " '/content/EEGClassification//Feb 2021 Filtered Data//5s//Spectograms//CLOSE//SD_T10 Close (valve) - Spec Coefs'\n",
            " '/content/EEGClassification//Feb 2021 Filtered Data//5s//Spectograms//CLOSE//FW3_T14 Close (valve) - Spec Coefs'\n",
            " '/content/EEGClassification//Feb 2021 Filtered Data//5s//Spectograms//CLOSE//FW_T36 Close (valve) - Spec Coefs'\n",
            " '/content/EEGClassification//Feb 2021 Filtered Data//5s//Spectograms//OPEN//FW3_T23 Open (valve) - Spec Coefs'\n",
            " '/content/EEGClassification//Feb 2021 Filtered Data//5s//Spectograms//OPEN//FW3_T35 Open (valve) - Spec Coefs'\n",
            " '/content/EEGClassification//Feb 2021 Filtered Data//5s//Spectograms//CLOSE//CJ_T22 Close (valve) - Spec Coefs'\n",
            " '/content/EEGClassification//Nov 2020 Filtered Data//5s//Spectograms//CLOSE//SD_T28 Close (valve) - Spec Coefs'\n",
            " '/content/EEGClassification//Feb 2021 Filtered Data//5s//Spectograms//OPEN//SD_T17 Open (valve)_(1) - Spec Coefs'\n",
            " '/content/EEGClassification//Feb 2021 Filtered Data//5s//Spectograms//OPEN//FW3_T17 Open (valve) - Spec Coefs'\n",
            " '/content/EEGClassification//Feb 2021 Filtered Data//5s//Spectograms//CLOSE//FW3_T30 Close (valve) - Spec Coefs'\n",
            " '/content/EEGClassification//Feb 2021 Filtered Data//5s//Spectograms//CLOSE//SD_T24 Close (valve) - Spec Coefs'\n",
            " '/content/EEGClassification//Feb 2021 Filtered Data//5s//Spectograms//OPEN//FW2_T5 Open (valve) - Spec Coefs'\n",
            " '/content/EEGClassification//Feb 2021 Filtered Data//5s//Spectograms//OPEN//FW3_T13 Open (valve) - Spec Coefs'\n",
            " '/content/EEGClassification//Feb 2021 Filtered Data//5s//Spectograms//OPEN//FW2_T35 Open (valve) - Spec Coefs'\n",
            " '/content/EEGClassification//Feb 2021 Filtered Data//5s//Spectograms//CLOSE//CJ_T24 Close (valve) - Spec Coefs'\n",
            " '/content/EEGClassification//Feb 2021 Filtered Data//5s//Spectograms//CLOSE//CJ_T16 Close (valve)_(1) - Spec Coefs'\n",
            " '/content/EEGClassification//Nov 2020 Filtered Data//5s//Spectograms//CLOSE//AZ_T40 Close (valve) - Spec Coefs'\n",
            " '/content/EEGClassification//Feb 2021 Filtered Data//5s//Spectograms//OPEN//CJ_T23 Open (valve)_(2) - Spec Coefs'\n",
            " '/content/EEGClassification//Feb 2021 Filtered Data//5s//Spectograms//CLOSE//CJ_T10 Close (valve)_(1) - Spec Coefs'\n",
            " '/content/EEGClassification//Feb 2021 Filtered Data//5s//Spectograms//CLOSE//JP2_T4 Close (valve)_(1) - Spec Coefs'\n",
            " '/content/EEGClassification//Feb 2021 Filtered Data//5s//Spectograms//CLOSE//CJ_T6 Close (valve) - Spec Coefs'\n",
            " '/content/EEGClassification//Feb 2021 Filtered Data//5s//Spectograms//CLOSE//CJ_T2 Close (valve)_(1) - Spec Coefs'\n",
            " '/content/EEGClassification//Nov 2020 Filtered Data//5s//Spectograms//CLOSE//AZ_T3 Close (valve) - Spec Coefs'\n",
            " '/content/EEGClassification//Nov 2020 Filtered Data//5s//Spectograms//CLOSE//AZ_T33 Close (valve) - Spec Coefs'\n",
            " '/content/EEGClassification//Feb 2021 Filtered Data//5s//Spectograms//CLOSE//FW2_T8 Close (valve) - Spec Coefs'\n",
            " '/content/EEGClassification//Feb 2021 Filtered Data//5s//Spectograms//CLOSE//SD_T6 Close (valve)_(1) - Spec Coefs'\n",
            " '/content/EEGClassification//Feb 2021 Filtered Data//5s//Spectograms//CLOSE//JP_T22 Close (valve) - Spec Coefs'\n",
            " '/content/EEGClassification//Nov 2020 Filtered Data//5s//Spectograms//OPEN//FW_T19 Open (valve) - Spec Coefs'\n",
            " '/content/EEGClassification//Feb 2021 Filtered Data//5s//Spectograms//CLOSE//AZ_T28 Close (valve) - Spec Coefs'\n",
            " '/content/EEGClassification//Feb 2021 Filtered Data//5s//Spectograms//CLOSE//FW2_T2 Close (valve) - Spec Coefs'\n",
            " '/content/EEGClassification//Feb 2021 Filtered Data//5s//Spectograms//CLOSE//FW2_T16 Close (valve) - Spec Coefs'\n",
            " '/content/EEGClassification//Feb 2021 Filtered Data//5s//Spectograms//OPEN//AZ_T27 Open (valve) - Spec Coefs'\n",
            " '/content/EEGClassification//Feb 2021 Filtered Data//5s//Spectograms//CLOSE//SD_T14 Close (valve) - Spec Coefs'\n",
            " '/content/EEGClassification//Nov 2020 Filtered Data//5s//Spectograms//OPEN//AZ_T39 Open (valve) - Spec Coefs'\n",
            " '/content/EEGClassification//Nov 2020 Filtered Data//5s//Spectograms//OPEN//SD_T15 Open (valve) - Spec Coefs'\n",
            " '/content/EEGClassification//Nov 2020 Filtered Data//5s//Spectograms//OPEN//SD_T14 Open (valve) - Spec Coefs'\n",
            " '/content/EEGClassification//Feb 2021 Filtered Data//5s//Spectograms//CLOSE//CJ_T6 Close (valve)_(2) - Spec Coefs'\n",
            " '/content/EEGClassification//Feb 2021 Filtered Data//5s//Spectograms//CLOSE//SD_T18 Close (valve)_(1) - Spec Coefs'\n",
            " '/content/EEGClassification//Nov 2020 Filtered Data//5s//Spectograms//OPEN//CJ_T39 Open (valve) - Spec Coefs'\n",
            " '/content/EEGClassification//Feb 2021 Filtered Data//5s//Spectograms//CLOSE//CJ_T34 Close (valve)_(1) - Spec Coefs'\n",
            " '/content/EEGClassification//Nov 2020 Filtered Data//5s//Spectograms//OPEN//FW_T44 Open (valve) - Spec Coefs'\n",
            " '/content/EEGClassification//Feb 2021 Filtered Data//5s//Spectograms//CLOSE//CJ_T36 Close (valve)_(1) - Spec Coefs'\n",
            " '/content/EEGClassification//Feb 2021 Filtered Data//5s//Spectograms//CLOSE//CJ_T22 Close (valve)_(2) - Spec Coefs'\n",
            " '/content/EEGClassification//Feb 2021 Filtered Data//5s//Spectograms//OPEN//CJ_T13 Open (valve)_(1) - Spec Coefs']\n"
          ],
          "name": "stdout"
        }
      ]
    },
    {
      "cell_type": "code",
      "metadata": {
        "colab": {
          "base_uri": "https://localhost:8080/"
        },
        "id": "IwvgktiST4P0",
        "outputId": "6fb4bf2b-3b62-451a-e7b1-3087c166b2b8"
      },
      "source": [
        "#print(filenames_val_wv)"
      ],
      "execution_count": 10,
      "outputs": [
        {
          "output_type": "stream",
          "text": [
            "['/content/EEGClassification//Feb 2021 Filtered Data//5s//Spectograms//OPEN//FW_T27 Open (valve) - Spec Coefs'\n",
            " '/content/EEGClassification//Feb 2021 Filtered Data//5s//Spectograms//CLOSE//CJ_T32 Close (valve)_(2) - Spec Coefs'\n",
            " '/content/EEGClassification//Feb 2021 Filtered Data//5s//Spectograms//CLOSE//CJ_T40 Close (valve) - Spec Coefs'\n",
            " '/content/EEGClassification//Nov 2020 Filtered Data//5s//Spectograms//CLOSE//AZ_T9 Close (valve) - Spec Coefs'\n",
            " '/content/EEGClassification//Nov 2020 Filtered Data//5s//Spectograms//CLOSE//SD_T52 Close (valve) - Spec Coefs'\n",
            " '/content/EEGClassification//Feb 2021 Filtered Data//5s//Spectograms//OPEN//CJ_T39 Open (valve)_(1) - Spec Coefs'\n",
            " '/content/EEGClassification//Feb 2021 Filtered Data//5s//Spectograms//CLOSE//AZ_T30 Close (valve) - Spec Coefs'\n",
            " '/content/EEGClassification//Nov 2020 Filtered Data//5s//Spectograms//OPEN//FW_T22 Open (valve) - Spec Coefs'\n",
            " '/content/EEGClassification//Feb 2021 Filtered Data//5s//Spectograms//OPEN//FW2_T33 Open (valve) - Spec Coefs'\n",
            " '/content/EEGClassification//Nov 2020 Filtered Data//5s//Spectograms//OPEN//SD_T2 Open (valve) - Spec Coefs'\n",
            " '/content/EEGClassification//Feb 2021 Filtered Data//5s//Spectograms//CLOSE//FW2_T38 Close (valve) - Spec Coefs'\n",
            " '/content/EEGClassification//Nov 2020 Filtered Data//5s//Spectograms//CLOSE//CJ_T75 Close (valve) - Spec Coefs'\n",
            " '/content/EEGClassification//Feb 2021 Filtered Data//5s//Spectograms//OPEN//AZ_T39 Open (valve) - Spec Coefs'\n",
            " '/content/EEGClassification//Feb 2021 Filtered Data//5s//Spectograms//OPEN//JP_T1 Open (valve) - Spec Coefs'\n",
            " '/content/EEGClassification//Feb 2021 Filtered Data//5s//Spectograms//CLOSE//JP_T34 Close (valve) - Spec Coefs'\n",
            " '/content/EEGClassification//Feb 2021 Filtered Data//5s//Spectograms//OPEN//AZ_T5 Open (valve) - Spec Coefs'\n",
            " '/content/EEGClassification//Feb 2021 Filtered Data//5s//Spectograms//CLOSE//CJ_T34 Close (valve) - Spec Coefs'\n",
            " '/content/EEGClassification//Feb 2021 Filtered Data//5s//Spectograms//CLOSE//SD_T22 Close (valve)_(1) - Spec Coefs'\n",
            " '/content/EEGClassification//Feb 2021 Filtered Data//5s//Spectograms//OPEN//CJ_T3 Open (valve)_(1) - Spec Coefs'\n",
            " '/content/EEGClassification//Feb 2021 Filtered Data//5s//Spectograms//CLOSE//CJ_T4 Close (valve) - Spec Coefs'\n",
            " '/content/EEGClassification//Nov 2020 Filtered Data//5s//Spectograms//CLOSE//CJ_T64 Close (valve) - Spec Coefs'\n",
            " '/content/EEGClassification//Feb 2021 Filtered Data//5s//Spectograms//CLOSE//AZ_T4 Close (valve) - Spec Coefs'\n",
            " '/content/EEGClassification//Nov 2020 Filtered Data//5s//Spectograms//OPEN//FW_T62 Open (valve) - Spec Coefs'\n",
            " '/content/EEGClassification//Feb 2021 Filtered Data//5s//Spectograms//CLOSE//FW3_T32 Close (valve) - Spec Coefs'\n",
            " '/content/EEGClassification//Feb 2021 Filtered Data//5s//Spectograms//CLOSE//AZ_T12 Close (valve) - Spec Coefs'\n",
            " '/content/EEGClassification//Nov 2020 Filtered Data//5s//Spectograms//OPEN//SD_T7 Open (valve) - Spec Coefs'\n",
            " '/content/EEGClassification//Feb 2021 Filtered Data//5s//Spectograms//CLOSE//CJ_T20 Close (valve)_(2) - Spec Coefs'\n",
            " '/content/EEGClassification//Nov 2020 Filtered Data//5s//Spectograms//OPEN//SD_T43 Open (valve) - Spec Coefs'\n",
            " '/content/EEGClassification//Feb 2021 Filtered Data//5s//Spectograms//CLOSE//JP_T2 Close (valve) - Spec Coefs'\n",
            " '/content/EEGClassification//Feb 2021 Filtered Data//5s//Spectograms//CLOSE//FW_T2 Close (valve) - Spec Coefs'\n",
            " '/content/EEGClassification//Feb 2021 Filtered Data//5s//Spectograms//OPEN//CJ_T11 Open (valve) - Spec Coefs'\n",
            " '/content/EEGClassification//Feb 2021 Filtered Data//5s//Spectograms//CLOSE//CJ2_T2 Close (valve) - Spec Coefs'\n",
            " '/content/EEGClassification//Feb 2021 Filtered Data//5s//Spectograms//CLOSE//SD_T4 Close (valve) - Spec Coefs'\n",
            " '/content/EEGClassification//Feb 2021 Filtered Data//5s//Spectograms//OPEN//FW_T33 Open (valve) - Spec Coefs'\n",
            " '/content/EEGClassification//Nov 2020 Filtered Data//5s//Spectograms//CLOSE//FW_T78 Close (valve) - Spec Coefs'\n",
            " '/content/EEGClassification//Nov 2020 Filtered Data//5s//Spectograms//OPEN//FW_T75 Open (valve) - Spec Coefs'\n",
            " '/content/EEGClassification//Feb 2021 Filtered Data//5s//Spectograms//CLOSE//JP_T24 Close (valve) - Spec Coefs'\n",
            " '/content/EEGClassification//Feb 2021 Filtered Data//5s//Spectograms//OPEN//CJ_T15 Open (valve)_(1) - Spec Coefs'\n",
            " '/content/EEGClassification//Nov 2020 Filtered Data//5s//Spectograms//OPEN//AZ_T31 Open (valve) - Spec Coefs'\n",
            " '/content/EEGClassification//Feb 2021 Filtered Data//5s//Spectograms//CLOSE//JP2_T2 Close (valve)_(1) - Spec Coefs'\n",
            " '/content/EEGClassification//Nov 2020 Filtered Data//5s//Spectograms//CLOSE//SD_T27 Close (valve) - Spec Coefs'\n",
            " '/content/EEGClassification//Nov 2020 Filtered Data//5s//Spectograms//OPEN//SD_T12 Open (valve)_(1) - Spec Coefs'\n",
            " '/content/EEGClassification//Feb 2021 Filtered Data//5s//Spectograms//OPEN//JP_T9 Open (valve) - Spec Coefs'\n",
            " '/content/EEGClassification//Feb 2021 Filtered Data//5s//Spectograms//OPEN//SD_T9 Open (valve) - Spec Coefs'\n",
            " '/content/EEGClassification//Feb 2021 Filtered Data//5s//Spectograms//CLOSE//CJ_T4 Close (valve)_(2) - Spec Coefs'\n",
            " '/content/EEGClassification//Nov 2020 Filtered Data//5s//Spectograms//CLOSE//FW_T1 Close (valve) - Spec Coefs'\n",
            " '/content/EEGClassification//Feb 2021 Filtered Data//5s//Spectograms//CLOSE//AZ_T38 Close (valve) - Spec Coefs'\n",
            " '/content/EEGClassification//Feb 2021 Filtered Data//5s//Spectograms//CLOSE//FW2_T10 Close (valve) - Spec Coefs'\n",
            " '/content/EEGClassification//Feb 2021 Filtered Data//5s//Spectograms//OPEN//JP_T13 Open (valve) - Spec Coefs'\n",
            " '/content/EEGClassification//Feb 2021 Filtered Data//5s//Spectograms//OPEN//CJ_T5 Open (valve) - Spec Coefs'\n",
            " '/content/EEGClassification//Feb 2021 Filtered Data//5s//Spectograms//CLOSE//FW3_T18 Close (valve) - Spec Coefs'\n",
            " '/content/EEGClassification//Nov 2020 Filtered Data//5s//Spectograms//CLOSE//CJ_T2 Close (valve) - Spec Coefs'\n",
            " '/content/EEGClassification//Nov 2020 Filtered Data//5s//Spectograms//CLOSE//SD_T13 Close (valve) - Spec Coefs'\n",
            " '/content/EEGClassification//Nov 2020 Filtered Data//5s//Spectograms//CLOSE//CJ_T22 Close (valve) - Spec Coefs'\n",
            " '/content/EEGClassification//Nov 2020 Filtered Data//5s//Spectograms//OPEN//SD_T12 Open (valve)_(2) - Spec Coefs'\n",
            " '/content/EEGClassification//Feb 2021 Filtered Data//5s//Spectograms//OPEN//FW_T31 Open (valve) - Spec Coefs'\n",
            " '/content/EEGClassification//Nov 2020 Filtered Data//5s//Spectograms//OPEN//CJ_T18 Open (valve) - Spec Coefs'\n",
            " '/content/EEGClassification//Nov 2020 Filtered Data//5s//Spectograms//CLOSE//SD_T2 Close (valve) - Spec Coefs'\n",
            " '/content/EEGClassification//Feb 2021 Filtered Data//5s//Spectograms//OPEN//CJ2_T5 Open (valve) - Spec Coefs'\n",
            " '/content/EEGClassification//Feb 2021 Filtered Data//5s//Spectograms//OPEN//AZ_T15 Open (valve) - Spec Coefs'\n",
            " '/content/EEGClassification//Feb 2021 Filtered Data//5s//Spectograms//OPEN//CJ_T5 Open (valve)_(1) - Spec Coefs'\n",
            " '/content/EEGClassification//Nov 2020 Filtered Data//5s//Spectograms//OPEN//AZ_T71 Open (valve) - Spec Coefs'\n",
            " '/content/EEGClassification//Feb 2021 Filtered Data//5s//Spectograms//OPEN//FW2_T39 Open (valve) - Spec Coefs'\n",
            " '/content/EEGClassification//Feb 2021 Filtered Data//5s//Spectograms//OPEN//CJ_T29 Open (valve)_(1) - Spec Coefs'\n",
            " '/content/EEGClassification//Nov 2020 Filtered Data//5s//Spectograms//CLOSE//FW_T58 Close (valve) - Spec Coefs'\n",
            " '/content/EEGClassification//Nov 2020 Filtered Data//5s//Spectograms//CLOSE//SD_T5 Close (valve)_(1) - Spec Coefs'\n",
            " '/content/EEGClassification//Feb 2021 Filtered Data//5s//Spectograms//OPEN//FW_T17 Open (valve) - Spec Coefs'\n",
            " '/content/EEGClassification//Nov 2020 Filtered Data//5s//Spectograms//OPEN//SD_T13 Open (valve) - Spec Coefs'\n",
            " '/content/EEGClassification//Nov 2020 Filtered Data//5s//Spectograms//OPEN//SD_T21 Open (valve) - Spec Coefs'\n",
            " '/content/EEGClassification//Nov 2020 Filtered Data//5s//Spectograms//OPEN//FW_T81 Open (valve) - Spec Coefs'\n",
            " '/content/EEGClassification//Nov 2020 Filtered Data//5s//Spectograms//OPEN//AZ_T57 Open (valve) - Spec Coefs'\n",
            " '/content/EEGClassification//Feb 2021 Filtered Data//5s//Spectograms//OPEN//CJ_T15 Open (valve) - Spec Coefs'\n",
            " '/content/EEGClassification//Nov 2020 Filtered Data//5s//Spectograms//CLOSE//CJ_T38 Close (valve) - Spec Coefs'\n",
            " '/content/EEGClassification//Feb 2021 Filtered Data//5s//Spectograms//OPEN//CJ_T35 Open (valve)_(2) - Spec Coefs'\n",
            " '/content/EEGClassification//Feb 2021 Filtered Data//5s//Spectograms//CLOSE//CJ2_T8 Close (valve) - Spec Coefs']\n"
          ],
          "name": "stdout"
        }
      ]
    },
    {
      "cell_type": "code",
      "metadata": {
        "colab": {
          "base_uri": "https://localhost:8080/"
        },
        "id": "w58unN-tT4SV",
        "outputId": "abf6ddda-edd9-43aa-ef89-ec5a8344a458"
      },
      "source": [
        "#print(filenames_test_wv)"
      ],
      "execution_count": 11,
      "outputs": [
        {
          "output_type": "stream",
          "text": [
            "['/content/EEGClassification//Feb 2021 Filtered Data//5s//Spectograms//CLOSE//FW_T10 Close (valve) - Spec Coefs'\n",
            " '/content/EEGClassification//Nov 2020 Filtered Data//5s//Spectograms//OPEN//FW_T6 Open (valve) - Spec Coefs'\n",
            " '/content/EEGClassification//Feb 2021 Filtered Data//5s//Spectograms//OPEN//FW3_T3 Open (valve) - Spec Coefs'\n",
            " '/content/EEGClassification//Feb 2021 Filtered Data//5s//Spectograms//OPEN//CJ_T19 Open (valve) - Spec Coefs'\n",
            " '/content/EEGClassification//Feb 2021 Filtered Data//5s//Spectograms//CLOSE//AZ_T14 Close (valve) - Spec Coefs'\n",
            " '/content/EEGClassification//Feb 2021 Filtered Data//5s//Spectograms//OPEN//CJ_T39 Open (valve) - Spec Coefs'\n",
            " '/content/EEGClassification//Nov 2020 Filtered Data//5s//Spectograms//CLOSE//AZ_T23 Close (valve) - Spec Coefs'\n",
            " '/content/EEGClassification//Feb 2021 Filtered Data//5s//Spectograms//CLOSE//FW2_T40 Close (valve) - Spec Coefs'\n",
            " '/content/EEGClassification//Feb 2021 Filtered Data//5s//Spectograms//CLOSE//CJ_T26 Close (valve)_(2) - Spec Coefs'\n",
            " '/content/EEGClassification//Feb 2021 Filtered Data//5s//Spectograms//OPEN//CJ_T37 Open (valve) - Spec Coefs'\n",
            " '/content/EEGClassification//Feb 2021 Filtered Data//5s//Spectograms//CLOSE//AZ_T6 Close (valve) - Spec Coefs'\n",
            " '/content/EEGClassification//Nov 2020 Filtered Data//5s//Spectograms//CLOSE//FW_T18 Close (valve) - Spec Coefs'\n",
            " '/content/EEGClassification//Feb 2021 Filtered Data//5s//Spectograms//CLOSE//CJ_T28 Close (valve)_(1) - Spec Coefs'\n",
            " '/content/EEGClassification//Feb 2021 Filtered Data//5s//Spectograms//CLOSE//FW_T22 Close (valve) - Spec Coefs'\n",
            " '/content/EEGClassification//Feb 2021 Filtered Data//5s//Spectograms//OPEN//AZ_T13 Open (valve) - Spec Coefs'\n",
            " '/content/EEGClassification//Feb 2021 Filtered Data//5s//Spectograms//OPEN//FW2_T9 Open (valve) - Spec Coefs'\n",
            " '/content/EEGClassification//Feb 2021 Filtered Data//5s//Spectograms//CLOSE//CJ_T40 Close (valve)_(2) - Spec Coefs'\n",
            " '/content/EEGClassification//Feb 2021 Filtered Data//5s//Spectograms//CLOSE//CJ_T26 Close (valve)_(1) - Spec Coefs'\n",
            " '/content/EEGClassification//Feb 2021 Filtered Data//5s//Spectograms//CLOSE//FW2_T12 Close (valve) - Spec Coefs'\n",
            " '/content/EEGClassification//Feb 2021 Filtered Data//5s//Spectograms//CLOSE//FW_T32 Close (valve) - Spec Coefs'\n",
            " '/content/EEGClassification//Feb 2021 Filtered Data//5s//Spectograms//OPEN//JP_T31 Open (valve) - Spec Coefs'\n",
            " '/content/EEGClassification//Nov 2020 Filtered Data//5s//Spectograms//OPEN//CJ_T5 Open (valve) - Spec Coefs'\n",
            " '/content/EEGClassification//Feb 2021 Filtered Data//5s//Spectograms//CLOSE//FW2_T28 Close (valve) - Spec Coefs'\n",
            " '/content/EEGClassification//Feb 2021 Filtered Data//5s//Spectograms//CLOSE//CJ_T8 Close (valve)_(1) - Spec Coefs'\n",
            " '/content/EEGClassification//Nov 2020 Filtered Data//5s//Spectograms//CLOSE//SD_T5 Close (valve) - Spec Coefs'\n",
            " '/content/EEGClassification//Feb 2021 Filtered Data//5s//Spectograms//CLOSE//CJ_T10 Close (valve) - Spec Coefs'\n",
            " '/content/EEGClassification//Nov 2020 Filtered Data//5s//Spectograms//CLOSE//FW_T85 Close (valve) - Spec Coefs'\n",
            " '/content/EEGClassification//Nov 2020 Filtered Data//5s//Spectograms//CLOSE//CJ_T7 Close (valve) - Spec Coefs'\n",
            " '/content/EEGClassification//Feb 2021 Filtered Data//5s//Spectograms//CLOSE//JP_T28 Close (valve) - Spec Coefs'\n",
            " '/content/EEGClassification//Nov 2020 Filtered Data//5s//Spectograms//CLOSE//AZ_T5 Close (valve) - Spec Coefs'\n",
            " '/content/EEGClassification//Feb 2021 Filtered Data//5s//Spectograms//CLOSE//CJ_T26 Close (valve) - Spec Coefs'\n",
            " '/content/EEGClassification//Nov 2020 Filtered Data//5s//Spectograms//CLOSE//AZ_T17 Close (valve) - Spec Coefs'\n",
            " '/content/EEGClassification//Feb 2021 Filtered Data//5s//Spectograms//OPEN//JP_T35 Open (valve) - Spec Coefs'\n",
            " '/content/EEGClassification//Nov 2020 Filtered Data//5s//Spectograms//CLOSE//FW_T54 Close (valve) - Spec Coefs'\n",
            " '/content/EEGClassification//Nov 2020 Filtered Data//5s//Spectograms//CLOSE//SD_T30 Close (valve) - Spec Coefs'\n",
            " '/content/EEGClassification//Feb 2021 Filtered Data//5s//Spectograms//CLOSE//CJ_T38 Close (valve) - Spec Coefs'\n",
            " '/content/EEGClassification//Feb 2021 Filtered Data//5s//Spectograms//OPEN//FW_T29 Open (valve) - Spec Coefs'\n",
            " '/content/EEGClassification//Feb 2021 Filtered Data//5s//Spectograms//CLOSE//JP_T16 Close (valve) - Spec Coefs'\n",
            " '/content/EEGClassification//Nov 2020 Filtered Data//5s//Spectograms//OPEN//SD_T26 Open (valve) - Spec Coefs'\n",
            " '/content/EEGClassification//Feb 2021 Filtered Data//5s//Spectograms//CLOSE//CJ2_T10 Close (valve) - Spec Coefs'\n",
            " '/content/EEGClassification//Nov 2020 Filtered Data//5s//Spectograms//CLOSE//AZ_T32 Close (valve) - Spec Coefs'\n",
            " '/content/EEGClassification//Feb 2021 Filtered Data//5s//Spectograms//OPEN//CJ_T7 Open (valve)_(2) - Spec Coefs'\n",
            " '/content/EEGClassification//Feb 2021 Filtered Data//5s//Spectograms//OPEN//JP2_T15 Open (valve)_(1) - Spec Coefs'\n",
            " '/content/EEGClassification//Feb 2021 Filtered Data//5s//Spectograms//OPEN//JP_T33 Open (valve) - Spec Coefs'\n",
            " '/content/EEGClassification//Feb 2021 Filtered Data//5s//Spectograms//OPEN//SD_T13 Open (valve)_(1) - Spec Coefs'\n",
            " '/content/EEGClassification//Feb 2021 Filtered Data//5s//Spectograms//OPEN//CJ_T27 Open (valve)_(1) - Spec Coefs'\n",
            " '/content/EEGClassification//Feb 2021 Filtered Data//5s//Spectograms//CLOSE//FW3_T16 Close (valve) - Spec Coefs'\n",
            " '/content/EEGClassification//Feb 2021 Filtered Data//5s//Spectograms//OPEN//SD_T5 Open (valve)_(1) - Spec Coefs'\n",
            " '/content/EEGClassification//Nov 2020 Filtered Data//5s//Spectograms//CLOSE//SD_T46 Close (valve) - Spec Coefs'\n",
            " '/content/EEGClassification//Feb 2021 Filtered Data//5s//Spectograms//OPEN//CJ_T21 Open (valve) - Spec Coefs'\n",
            " '/content/EEGClassification//Feb 2021 Filtered Data//5s//Spectograms//CLOSE//CJ_T36 Close (valve)_(2) - Spec Coefs'\n",
            " '/content/EEGClassification//Feb 2021 Filtered Data//5s//Spectograms//OPEN//FW3_T39 Open (valve) - Spec Coefs'\n",
            " '/content/EEGClassification//Nov 2020 Filtered Data//5s//Spectograms//CLOSE//SD_T19 Close (valve) - Spec Coefs'\n",
            " '/content/EEGClassification//Feb 2021 Filtered Data//5s//Spectograms//OPEN//SD_T5 Open (valve) - Spec Coefs'\n",
            " '/content/EEGClassification//Nov 2020 Filtered Data//5s//Spectograms//CLOSE//SD_T53 Close (valve) - Spec Coefs'\n",
            " '/content/EEGClassification//Feb 2021 Filtered Data//5s//Spectograms//CLOSE//JP2_T8 Close (valve)_(1) - Spec Coefs'\n",
            " '/content/EEGClassification//Feb 2021 Filtered Data//5s//Spectograms//OPEN//SD_T17 Open (valve) - Spec Coefs'\n",
            " '/content/EEGClassification//Nov 2020 Filtered Data//5s//Spectograms//CLOSE//FW_T24 Close (valve) - Spec Coefs'\n",
            " '/content/EEGClassification//Nov 2020 Filtered Data//5s//Spectograms//CLOSE//AZ_T77 Close (valve) - Spec Coefs'\n",
            " '/content/EEGClassification//Feb 2021 Filtered Data//5s//Spectograms//CLOSE//FW3_T10 Close (valve) - Spec Coefs'\n",
            " '/content/EEGClassification//Feb 2021 Filtered Data//5s//Spectograms//CLOSE//JP_T18 Close (valve) - Spec Coefs'\n",
            " '/content/EEGClassification//Feb 2021 Filtered Data//5s//Spectograms//OPEN//CJ_T25 Open (valve) - Spec Coefs'\n",
            " '/content/EEGClassification//Feb 2021 Filtered Data//5s//Spectograms//CLOSE//AZ_T34 Close (valve) - Spec Coefs'\n",
            " '/content/EEGClassification//Feb 2021 Filtered Data//5s//Spectograms//OPEN//SD_T13 Open (valve) - Spec Coefs'\n",
            " '/content/EEGClassification//Nov 2020 Filtered Data//5s//Spectograms//CLOSE//FW_T76 Close (valve) - Spec Coefs'\n",
            " '/content/EEGClassification//Feb 2021 Filtered Data//5s//Spectograms//OPEN//JP_T7 Open (valve) - Spec Coefs'\n",
            " '/content/EEGClassification//Feb 2021 Filtered Data//5s//Spectograms//OPEN//FW2_T25 Open (valve) - Spec Coefs'\n",
            " '/content/EEGClassification//Feb 2021 Filtered Data//5s//Spectograms//CLOSE//FW2_T30 Close (valve) - Spec Coefs'\n",
            " '/content/EEGClassification//Feb 2021 Filtered Data//5s//Spectograms//OPEN//CJ_T35 Open (valve) - Spec Coefs'\n",
            " '/content/EEGClassification//Feb 2021 Filtered Data//5s//Spectograms//CLOSE//FW3_T34 Close (valve) - Spec Coefs'\n",
            " '/content/EEGClassification//Nov 2020 Filtered Data//5s//Spectograms//OPEN//FW_T37 Open (valve) - Spec Coefs'\n",
            " '/content/EEGClassification//Nov 2020 Filtered Data//5s//Spectograms//CLOSE//AZ_T61 Close (valve) - Spec Coefs'\n",
            " '/content/EEGClassification//Nov 2020 Filtered Data//5s//Spectograms//CLOSE//FW_T51 Close (valve) - Spec Coefs'\n",
            " '/content/EEGClassification//Feb 2021 Filtered Data//5s//Spectograms//OPEN//CJ2_T11 Open (valve) - Spec Coefs'\n",
            " '/content/EEGClassification//Feb 2021 Filtered Data//5s//Spectograms//CLOSE//FW_T30 Close (valve) - Spec Coefs']\n"
          ],
          "name": "stdout"
        }
      ]
    },
    {
      "cell_type": "markdown",
      "metadata": {
        "id": "KhAvP5Rc733B"
      },
      "source": [
        "## 3. Testing"
      ]
    },
    {
      "cell_type": "markdown",
      "metadata": {
        "id": "M0LG01hjpkNw"
      },
      "source": [
        "### Test the baseline SVM"
      ]
    },
    {
      "cell_type": "code",
      "metadata": {
        "id": "GQ1lhUJ8P4DX"
      },
      "source": [
        "def get_accuracy_svm(model, X, y):\r\n",
        "    predictions = model.predict(X)\r\n",
        "    num_correct = np.sum((predictions - y) == 0)\r\n",
        "    n = X.shape[0]\r\n",
        "    accuracy = num_correct/n\r\n",
        "    print(\"The number of correct predictions is: \", num_correct)\r\n",
        "    print(\"The number of files is: \", n)\r\n",
        "    print(\"The accuracy is: \", accuracy)"
      ],
      "execution_count": 12,
      "outputs": []
    },
    {
      "cell_type": "code",
      "metadata": {
        "id": "yfnKwy1OP41m"
      },
      "source": [
        "#Flatten channels to single vector for SVM\r\n",
        "X_train_svm = X_train.reshape(X_train.shape[0], 4*(256*5))\r\n",
        "X_val_svm = X_val.reshape(X_val.shape[0], 4*(256*5))\r\n",
        "X_test_svm = X_test.reshape(X_test.shape[0], 4*(256*5))"
      ],
      "execution_count": 13,
      "outputs": []
    },
    {
      "cell_type": "code",
      "metadata": {
        "id": "EsChbJqm8Ong"
      },
      "source": [
        "filename = 'Trained Model Weights/svm_kernel-sigmoid_C-100_5s.sav'\r\n",
        "model = pickle.load(open(filename, 'rb'))"
      ],
      "execution_count": 14,
      "outputs": []
    },
    {
      "cell_type": "code",
      "metadata": {
        "colab": {
          "base_uri": "https://localhost:8080/"
        },
        "id": "jhlXRz4kQ9kW",
        "outputId": "6f0ae0e7-d3c0-4024-d419-6c3a897e6cac"
      },
      "source": [
        "print(\"Training Accuracy\")\r\n",
        "get_accuracy_svm(model, X_train_svm, y_train)\r\n",
        "print(\"\\nValidation Accuracy\")\r\n",
        "get_accuracy_svm(model, X_val_svm, y_val)"
      ],
      "execution_count": 15,
      "outputs": [
        {
          "output_type": "stream",
          "text": [
            "Training Accuracy\n",
            "The number of correct predictions is:  240\n",
            "The number of files is:  350\n",
            "The accuracy is:  0.6857142857142857\n",
            "\n",
            "Validation Accuracy\n",
            "The number of correct predictions is:  58\n",
            "The number of files is:  75\n",
            "The accuracy is:  0.7733333333333333\n"
          ],
          "name": "stdout"
        }
      ]
    },
    {
      "cell_type": "code",
      "metadata": {
        "colab": {
          "base_uri": "https://localhost:8080/"
        },
        "id": "p6XliSziQJJv",
        "outputId": "9edeafff-a8bd-4d9a-fc30-5734cee0db88"
      },
      "source": [
        "print(\"Test Accuracy\")\r\n",
        "get_accuracy_svm(model, X_test_svm, y_test)"
      ],
      "execution_count": 16,
      "outputs": [
        {
          "output_type": "stream",
          "text": [
            "Test Accuracy\n",
            "The number of correct predictions is:  49\n",
            "The number of files is:  75\n",
            "The accuracy is:  0.6533333333333333\n"
          ],
          "name": "stdout"
        }
      ]
    },
    {
      "cell_type": "markdown",
      "metadata": {
        "id": "TxRR0ShhpZOh"
      },
      "source": [
        "### Test the ANN models"
      ]
    },
    {
      "cell_type": "code",
      "metadata": {
        "id": "SyUVDxZcqOs4"
      },
      "source": [
        "def createTensorDataset(data, labels):\r\n",
        "    # Returns a tensor dataset object given np arrays of the data and labels\r\n",
        "    data_tensor = torch.tensor(data)\r\n",
        "    labels_tensor = torch.tensor(labels)\r\n",
        "    dataset = TensorDataset(data_tensor, labels_tensor)\r\n",
        "    return dataset\r\n",
        "\r\n",
        "def get_accuracy(model, data_loader, train=False, use_cuda=True):\r\n",
        "    correct = 0\r\n",
        "    total = 0\r\n",
        "    for file, labels in iter(data_loader):\r\n",
        "        file = file.float()\r\n",
        "        labels = labels.long()\r\n",
        "        if use_cuda and torch.cuda.is_available():\r\n",
        "            file = file.cuda()\r\n",
        "            labels = labels.cuda()\r\n",
        "        output = model(file)\r\n",
        "        pred = output.max(1, keepdim=True)[1]\r\n",
        "        correct += pred.eq(labels.view_as(pred)).sum().item()\r\n",
        "        total += file.shape[0]\r\n",
        "    return correct / total\r\n",
        "\r\n",
        "def print_model_predictions(model, data_loader, use_cuda=True):\r\n",
        "    #Use a batch size of 1 for the data_loader passed in\r\n",
        "    num_correct = 0\r\n",
        "    total = 0\r\n",
        "    for file, labels in iter(data_loader):\r\n",
        "        file = file.float()\r\n",
        "        labels = labels.long()\r\n",
        "        if use_cuda and torch.cuda.is_available():\r\n",
        "            file = file.cuda()\r\n",
        "            labels = labels.cuda()\r\n",
        "        output = model(file)\r\n",
        "        pred = output.max(1, keepdim=True)[1]\r\n",
        "        if pred.item() == labels.item():\r\n",
        "            status = \"Prediction Correct\"\r\n",
        "            num_correct += 1\r\n",
        "        else:\r\n",
        "            status = \"Prediction Incorrect\"\r\n",
        "        total += 1\r\n",
        "        print(\"Prediction: \", pred.item(), \" | Label: \", labels.item(), \" | Status: \", status)\r\n",
        "    print(\"Files classified correctly: \", num_correct)\r\n",
        "    print(\"Total files: \", total)\r\n",
        "    print(\"Accuracy: \", num_correct/total)"
      ],
      "execution_count": 17,
      "outputs": []
    },
    {
      "cell_type": "code",
      "metadata": {
        "id": "-JTl1jGmqhgA"
      },
      "source": [
        "class ANN_TS_2L(nn.Module):\r\n",
        "    def __init__(self):\r\n",
        "        super(ANN_TS_2L, self).__init__()\r\n",
        "        self.name = \"ANN_TS_2L\"\r\n",
        "        self.layer1 = nn.Linear((256*5)*4, 200)\r\n",
        "        self.layer2 = nn.Linear(200, 50)\r\n",
        "        self.layer3 = nn.Linear(50, 2)\r\n",
        "    def forward(self, img):\r\n",
        "        flattened = img.view(-1, (256*5)*4)\r\n",
        "        activation1 = F.relu(self.layer1(flattened))\r\n",
        "        activation2 = F.relu(self.layer2(activation1))\r\n",
        "        output = self.layer3(activation2)\r\n",
        "        return output\r\n",
        "\r\n",
        "class ANN_TS_3L(nn.Module):\r\n",
        "    def __init__(self):\r\n",
        "        super(ANN_TS_3L, self).__init__()\r\n",
        "        self.name = \"ANN_TS_3L\"\r\n",
        "        self.layer1 = nn.Linear((256*5)*4, 500)\r\n",
        "        self.layer2 = nn.Linear(500, 200)\r\n",
        "        self.layer3 = nn.Linear(200, 50)\r\n",
        "        self.layer4 = nn.Linear(50, 2)\r\n",
        "    def forward(self, img):\r\n",
        "        flattened = img.view(-1, (256*5)*4)\r\n",
        "        activation1 = F.relu(self.layer1(flattened))\r\n",
        "        activation2 = F.relu(self.layer2(activation1))\r\n",
        "        activation3 = F.relu(self.layer3(activation2))\r\n",
        "        output = self.layer4(activation3)\r\n",
        "        return output"
      ],
      "execution_count": 18,
      "outputs": []
    },
    {
      "cell_type": "markdown",
      "metadata": {
        "id": "tnDMTwN7y9bt"
      },
      "source": [
        "#### 2 Layer ANN on 5s Recordings"
      ]
    },
    {
      "cell_type": "markdown",
      "metadata": {
        "id": "k4wr3GEC8Eqp"
      },
      "source": [
        "##### Trained with batch_size=50"
      ]
    },
    {
      "cell_type": "code",
      "metadata": {
        "colab": {
          "base_uri": "https://localhost:8080/"
        },
        "id": "bZnUw7ZbqRXI",
        "outputId": "806208cb-409b-4b7b-8fc3-ddeb3f0ad346"
      },
      "source": [
        "pth = 'Trained Model Weights/ANN_TS_2L Weights 2021-03-14 20-28/model_ANN_TS_2L_bs50_lr0-01_epoch67_iteration475_val-acc62-6667.pth'\r\n",
        "model_2L = ANN_TS_2L()\r\n",
        "model_2L.load_state_dict(torch.load(pth))\r\n",
        "model_2L.eval()"
      ],
      "execution_count": 20,
      "outputs": [
        {
          "output_type": "execute_result",
          "data": {
            "text/plain": [
              "ANN_TS_2L(\n",
              "  (layer1): Linear(in_features=5120, out_features=200, bias=True)\n",
              "  (layer2): Linear(in_features=200, out_features=50, bias=True)\n",
              "  (layer3): Linear(in_features=50, out_features=2, bias=True)\n",
              ")"
            ]
          },
          "metadata": {
            "tags": []
          },
          "execution_count": 20
        }
      ]
    },
    {
      "cell_type": "code",
      "metadata": {
        "id": "sqnuOghFrjSD"
      },
      "source": [
        "batch_size = 1\r\n",
        "\r\n",
        "train_dataset = createTensorDataset(X_train, y_train)\r\n",
        "train_loader = torch.utils.data.DataLoader(train_dataset, batch_size=batch_size)\r\n",
        "\r\n",
        "val_dataset = createTensorDataset(X_val, y_val)\r\n",
        "val_loader = torch.utils.data.DataLoader(val_dataset, batch_size=batch_size)\r\n",
        "\r\n",
        "test_dataset = createTensorDataset(X_test, y_test)\r\n",
        "test_loader = torch.utils.data.DataLoader(test_dataset, batch_size=batch_size)"
      ],
      "execution_count": 21,
      "outputs": []
    },
    {
      "cell_type": "code",
      "metadata": {
        "colab": {
          "base_uri": "https://localhost:8080/"
        },
        "id": "x5isxDQastO4",
        "outputId": "b8f13422-7536-44f0-be0b-6869d4a219f5"
      },
      "source": [
        "print(\"Training Set Accuracy\")\r\n",
        "get_accuracy(model_2L, train_loader)"
      ],
      "execution_count": 22,
      "outputs": [
        {
          "output_type": "stream",
          "text": [
            "Training Set Accuracy\n"
          ],
          "name": "stdout"
        },
        {
          "output_type": "execute_result",
          "data": {
            "text/plain": [
              "0.8314285714285714"
            ]
          },
          "metadata": {
            "tags": []
          },
          "execution_count": 22
        }
      ]
    },
    {
      "cell_type": "code",
      "metadata": {
        "colab": {
          "base_uri": "https://localhost:8080/"
        },
        "id": "fttRXldastRX",
        "outputId": "2caa6666-972d-403f-8190-cfc65d898654"
      },
      "source": [
        "print(\"Validation Set Accuracy\")\r\n",
        "get_accuracy(model_2L, val_loader)"
      ],
      "execution_count": 23,
      "outputs": [
        {
          "output_type": "stream",
          "text": [
            "Validation Set Accuracy\n"
          ],
          "name": "stdout"
        },
        {
          "output_type": "execute_result",
          "data": {
            "text/plain": [
              "0.8133333333333334"
            ]
          },
          "metadata": {
            "tags": []
          },
          "execution_count": 23
        }
      ]
    },
    {
      "cell_type": "code",
      "metadata": {
        "colab": {
          "base_uri": "https://localhost:8080/"
        },
        "id": "KScvlFgvr6DA",
        "outputId": "b548f7f2-7a11-483f-aee9-089658013842"
      },
      "source": [
        "print(\"Test Set Accuracy\")\r\n",
        "get_accuracy(model_2L, test_loader)"
      ],
      "execution_count": 24,
      "outputs": [
        {
          "output_type": "stream",
          "text": [
            "Test Set Accuracy\n"
          ],
          "name": "stdout"
        },
        {
          "output_type": "execute_result",
          "data": {
            "text/plain": [
              "0.9066666666666666"
            ]
          },
          "metadata": {
            "tags": []
          },
          "execution_count": 24
        }
      ]
    },
    {
      "cell_type": "code",
      "metadata": {
        "colab": {
          "base_uri": "https://localhost:8080/"
        },
        "id": "cjyZzSZqxUyO",
        "outputId": "6656d4ce-63d7-47b1-b28b-00ee5bdffd20"
      },
      "source": [
        "print_model_predictions(model_2L, test_loader)"
      ],
      "execution_count": 25,
      "outputs": [
        {
          "output_type": "stream",
          "text": [
            "Prediction:  0  | Label:  0  | Status:  Prediction Correct\n",
            "Prediction:  1  | Label:  1  | Status:  Prediction Correct\n",
            "Prediction:  1  | Label:  1  | Status:  Prediction Correct\n",
            "Prediction:  1  | Label:  1  | Status:  Prediction Correct\n",
            "Prediction:  0  | Label:  0  | Status:  Prediction Correct\n",
            "Prediction:  1  | Label:  1  | Status:  Prediction Correct\n",
            "Prediction:  0  | Label:  0  | Status:  Prediction Correct\n",
            "Prediction:  0  | Label:  0  | Status:  Prediction Correct\n",
            "Prediction:  1  | Label:  0  | Status:  Prediction Incorrect\n",
            "Prediction:  1  | Label:  1  | Status:  Prediction Correct\n",
            "Prediction:  0  | Label:  0  | Status:  Prediction Correct\n",
            "Prediction:  0  | Label:  0  | Status:  Prediction Correct\n",
            "Prediction:  1  | Label:  0  | Status:  Prediction Incorrect\n",
            "Prediction:  0  | Label:  0  | Status:  Prediction Correct\n",
            "Prediction:  0  | Label:  1  | Status:  Prediction Incorrect\n",
            "Prediction:  1  | Label:  1  | Status:  Prediction Correct\n",
            "Prediction:  0  | Label:  0  | Status:  Prediction Correct\n",
            "Prediction:  0  | Label:  0  | Status:  Prediction Correct\n",
            "Prediction:  0  | Label:  0  | Status:  Prediction Correct\n",
            "Prediction:  0  | Label:  0  | Status:  Prediction Correct\n",
            "Prediction:  1  | Label:  1  | Status:  Prediction Correct\n",
            "Prediction:  1  | Label:  1  | Status:  Prediction Correct\n",
            "Prediction:  0  | Label:  0  | Status:  Prediction Correct\n",
            "Prediction:  0  | Label:  0  | Status:  Prediction Correct\n",
            "Prediction:  0  | Label:  0  | Status:  Prediction Correct\n",
            "Prediction:  0  | Label:  0  | Status:  Prediction Correct\n",
            "Prediction:  0  | Label:  0  | Status:  Prediction Correct\n",
            "Prediction:  0  | Label:  0  | Status:  Prediction Correct\n",
            "Prediction:  0  | Label:  0  | Status:  Prediction Correct\n",
            "Prediction:  0  | Label:  0  | Status:  Prediction Correct\n",
            "Prediction:  0  | Label:  0  | Status:  Prediction Correct\n",
            "Prediction:  0  | Label:  0  | Status:  Prediction Correct\n",
            "Prediction:  1  | Label:  1  | Status:  Prediction Correct\n",
            "Prediction:  0  | Label:  0  | Status:  Prediction Correct\n",
            "Prediction:  0  | Label:  0  | Status:  Prediction Correct\n",
            "Prediction:  0  | Label:  0  | Status:  Prediction Correct\n",
            "Prediction:  1  | Label:  1  | Status:  Prediction Correct\n",
            "Prediction:  0  | Label:  0  | Status:  Prediction Correct\n",
            "Prediction:  1  | Label:  1  | Status:  Prediction Correct\n",
            "Prediction:  0  | Label:  0  | Status:  Prediction Correct\n",
            "Prediction:  0  | Label:  0  | Status:  Prediction Correct\n",
            "Prediction:  1  | Label:  1  | Status:  Prediction Correct\n",
            "Prediction:  1  | Label:  1  | Status:  Prediction Correct\n",
            "Prediction:  1  | Label:  1  | Status:  Prediction Correct\n",
            "Prediction:  1  | Label:  1  | Status:  Prediction Correct\n",
            "Prediction:  1  | Label:  1  | Status:  Prediction Correct\n",
            "Prediction:  0  | Label:  0  | Status:  Prediction Correct\n",
            "Prediction:  1  | Label:  1  | Status:  Prediction Correct\n",
            "Prediction:  0  | Label:  0  | Status:  Prediction Correct\n",
            "Prediction:  1  | Label:  1  | Status:  Prediction Correct\n",
            "Prediction:  0  | Label:  0  | Status:  Prediction Correct\n",
            "Prediction:  1  | Label:  1  | Status:  Prediction Correct\n",
            "Prediction:  0  | Label:  0  | Status:  Prediction Correct\n",
            "Prediction:  1  | Label:  1  | Status:  Prediction Correct\n",
            "Prediction:  0  | Label:  0  | Status:  Prediction Correct\n",
            "Prediction:  0  | Label:  0  | Status:  Prediction Correct\n",
            "Prediction:  1  | Label:  1  | Status:  Prediction Correct\n",
            "Prediction:  1  | Label:  0  | Status:  Prediction Incorrect\n",
            "Prediction:  0  | Label:  0  | Status:  Prediction Correct\n",
            "Prediction:  0  | Label:  0  | Status:  Prediction Correct\n",
            "Prediction:  1  | Label:  0  | Status:  Prediction Incorrect\n",
            "Prediction:  1  | Label:  1  | Status:  Prediction Correct\n",
            "Prediction:  0  | Label:  0  | Status:  Prediction Correct\n",
            "Prediction:  1  | Label:  1  | Status:  Prediction Correct\n",
            "Prediction:  1  | Label:  0  | Status:  Prediction Incorrect\n",
            "Prediction:  1  | Label:  1  | Status:  Prediction Correct\n",
            "Prediction:  1  | Label:  1  | Status:  Prediction Correct\n",
            "Prediction:  0  | Label:  0  | Status:  Prediction Correct\n",
            "Prediction:  0  | Label:  1  | Status:  Prediction Incorrect\n",
            "Prediction:  0  | Label:  0  | Status:  Prediction Correct\n",
            "Prediction:  1  | Label:  1  | Status:  Prediction Correct\n",
            "Prediction:  0  | Label:  0  | Status:  Prediction Correct\n",
            "Prediction:  0  | Label:  0  | Status:  Prediction Correct\n",
            "Prediction:  1  | Label:  1  | Status:  Prediction Correct\n",
            "Prediction:  0  | Label:  0  | Status:  Prediction Correct\n",
            "Files classified correctly:  68\n",
            "Total files:  75\n",
            "Accuracy:  0.9066666666666666\n"
          ],
          "name": "stdout"
        }
      ]
    },
    {
      "cell_type": "markdown",
      "metadata": {
        "id": "B6uHKJqp8LMS"
      },
      "source": [
        "##### Trained with batch_size=75"
      ]
    },
    {
      "cell_type": "code",
      "metadata": {
        "colab": {
          "base_uri": "https://localhost:8080/"
        },
        "id": "mGnnQN7v8LwG",
        "outputId": "8203e969-231b-44de-fb12-e8c640b82423"
      },
      "source": [
        "pth = 'Trained Model Weights/ANN_TS_2L Weights 2021-03-14 20-46/model_ANN_TS_2L_bs75_lr0-01_epoch93_iteration466_val-acc62-6667.pth'\r\n",
        "model_2L_bs75 = ANN_TS_2L()\r\n",
        "model_2L_bs75.load_state_dict(torch.load(pth))\r\n",
        "model_2L_bs75.eval()"
      ],
      "execution_count": 26,
      "outputs": [
        {
          "output_type": "execute_result",
          "data": {
            "text/plain": [
              "ANN_TS_2L(\n",
              "  (layer1): Linear(in_features=5120, out_features=200, bias=True)\n",
              "  (layer2): Linear(in_features=200, out_features=50, bias=True)\n",
              "  (layer3): Linear(in_features=50, out_features=2, bias=True)\n",
              ")"
            ]
          },
          "metadata": {
            "tags": []
          },
          "execution_count": 26
        }
      ]
    },
    {
      "cell_type": "code",
      "metadata": {
        "colab": {
          "base_uri": "https://localhost:8080/"
        },
        "id": "FkQz2EOL8kjA",
        "outputId": "8169f93e-ff79-4da1-f645-a75203da136e"
      },
      "source": [
        "print(\"Training Set Accuracy\")\r\n",
        "get_accuracy(model_2L_bs75, train_loader)"
      ],
      "execution_count": 27,
      "outputs": [
        {
          "output_type": "stream",
          "text": [
            "Training Set Accuracy\n"
          ],
          "name": "stdout"
        },
        {
          "output_type": "execute_result",
          "data": {
            "text/plain": [
              "0.8314285714285714"
            ]
          },
          "metadata": {
            "tags": []
          },
          "execution_count": 27
        }
      ]
    },
    {
      "cell_type": "code",
      "metadata": {
        "colab": {
          "base_uri": "https://localhost:8080/"
        },
        "id": "YDQHRtwt8kv-",
        "outputId": "d40b6949-acf6-4986-a483-4612aff1c85a"
      },
      "source": [
        "print(\"Validation Set Accuracy\")\r\n",
        "get_accuracy(model_2L_bs75, val_loader)"
      ],
      "execution_count": 28,
      "outputs": [
        {
          "output_type": "stream",
          "text": [
            "Validation Set Accuracy\n"
          ],
          "name": "stdout"
        },
        {
          "output_type": "execute_result",
          "data": {
            "text/plain": [
              "0.7866666666666666"
            ]
          },
          "metadata": {
            "tags": []
          },
          "execution_count": 28
        }
      ]
    },
    {
      "cell_type": "code",
      "metadata": {
        "colab": {
          "base_uri": "https://localhost:8080/"
        },
        "id": "hPaejze78k2P",
        "outputId": "3d736866-2bc4-4731-8f16-7fc3e869ca95"
      },
      "source": [
        "print(\"Testing Set Accuracy\")\r\n",
        "get_accuracy(model_2L_bs75, test_loader)"
      ],
      "execution_count": 29,
      "outputs": [
        {
          "output_type": "stream",
          "text": [
            "Testing Set Accuracy\n"
          ],
          "name": "stdout"
        },
        {
          "output_type": "execute_result",
          "data": {
            "text/plain": [
              "0.84"
            ]
          },
          "metadata": {
            "tags": []
          },
          "execution_count": 29
        }
      ]
    },
    {
      "cell_type": "code",
      "metadata": {
        "colab": {
          "base_uri": "https://localhost:8080/"
        },
        "id": "U7lZYGCx8k89",
        "outputId": "b2ef19b9-bf86-42ac-b63d-32d49769d630"
      },
      "source": [
        "print_model_predictions(model_2L_bs75, test_loader)"
      ],
      "execution_count": 30,
      "outputs": [
        {
          "output_type": "stream",
          "text": [
            "Prediction:  0  | Label:  0  | Status:  Prediction Correct\n",
            "Prediction:  1  | Label:  1  | Status:  Prediction Correct\n",
            "Prediction:  1  | Label:  1  | Status:  Prediction Correct\n",
            "Prediction:  1  | Label:  1  | Status:  Prediction Correct\n",
            "Prediction:  0  | Label:  0  | Status:  Prediction Correct\n",
            "Prediction:  1  | Label:  1  | Status:  Prediction Correct\n",
            "Prediction:  0  | Label:  0  | Status:  Prediction Correct\n",
            "Prediction:  0  | Label:  0  | Status:  Prediction Correct\n",
            "Prediction:  1  | Label:  0  | Status:  Prediction Incorrect\n",
            "Prediction:  1  | Label:  1  | Status:  Prediction Correct\n",
            "Prediction:  1  | Label:  0  | Status:  Prediction Incorrect\n",
            "Prediction:  0  | Label:  0  | Status:  Prediction Correct\n",
            "Prediction:  1  | Label:  0  | Status:  Prediction Incorrect\n",
            "Prediction:  0  | Label:  0  | Status:  Prediction Correct\n",
            "Prediction:  1  | Label:  1  | Status:  Prediction Correct\n",
            "Prediction:  1  | Label:  1  | Status:  Prediction Correct\n",
            "Prediction:  0  | Label:  0  | Status:  Prediction Correct\n",
            "Prediction:  0  | Label:  0  | Status:  Prediction Correct\n",
            "Prediction:  0  | Label:  0  | Status:  Prediction Correct\n",
            "Prediction:  0  | Label:  0  | Status:  Prediction Correct\n",
            "Prediction:  1  | Label:  1  | Status:  Prediction Correct\n",
            "Prediction:  1  | Label:  1  | Status:  Prediction Correct\n",
            "Prediction:  0  | Label:  0  | Status:  Prediction Correct\n",
            "Prediction:  0  | Label:  0  | Status:  Prediction Correct\n",
            "Prediction:  0  | Label:  0  | Status:  Prediction Correct\n",
            "Prediction:  0  | Label:  0  | Status:  Prediction Correct\n",
            "Prediction:  0  | Label:  0  | Status:  Prediction Correct\n",
            "Prediction:  0  | Label:  0  | Status:  Prediction Correct\n",
            "Prediction:  0  | Label:  0  | Status:  Prediction Correct\n",
            "Prediction:  1  | Label:  0  | Status:  Prediction Incorrect\n",
            "Prediction:  0  | Label:  0  | Status:  Prediction Correct\n",
            "Prediction:  0  | Label:  0  | Status:  Prediction Correct\n",
            "Prediction:  1  | Label:  1  | Status:  Prediction Correct\n",
            "Prediction:  0  | Label:  0  | Status:  Prediction Correct\n",
            "Prediction:  0  | Label:  0  | Status:  Prediction Correct\n",
            "Prediction:  0  | Label:  0  | Status:  Prediction Correct\n",
            "Prediction:  1  | Label:  1  | Status:  Prediction Correct\n",
            "Prediction:  0  | Label:  0  | Status:  Prediction Correct\n",
            "Prediction:  1  | Label:  1  | Status:  Prediction Correct\n",
            "Prediction:  0  | Label:  0  | Status:  Prediction Correct\n",
            "Prediction:  0  | Label:  0  | Status:  Prediction Correct\n",
            "Prediction:  1  | Label:  1  | Status:  Prediction Correct\n",
            "Prediction:  1  | Label:  1  | Status:  Prediction Correct\n",
            "Prediction:  1  | Label:  1  | Status:  Prediction Correct\n",
            "Prediction:  1  | Label:  1  | Status:  Prediction Correct\n",
            "Prediction:  1  | Label:  1  | Status:  Prediction Correct\n",
            "Prediction:  0  | Label:  0  | Status:  Prediction Correct\n",
            "Prediction:  1  | Label:  1  | Status:  Prediction Correct\n",
            "Prediction:  0  | Label:  0  | Status:  Prediction Correct\n",
            "Prediction:  1  | Label:  1  | Status:  Prediction Correct\n",
            "Prediction:  1  | Label:  0  | Status:  Prediction Incorrect\n",
            "Prediction:  1  | Label:  1  | Status:  Prediction Correct\n",
            "Prediction:  0  | Label:  0  | Status:  Prediction Correct\n",
            "Prediction:  1  | Label:  1  | Status:  Prediction Correct\n",
            "Prediction:  0  | Label:  0  | Status:  Prediction Correct\n",
            "Prediction:  0  | Label:  0  | Status:  Prediction Correct\n",
            "Prediction:  1  | Label:  1  | Status:  Prediction Correct\n",
            "Prediction:  1  | Label:  0  | Status:  Prediction Incorrect\n",
            "Prediction:  1  | Label:  0  | Status:  Prediction Incorrect\n",
            "Prediction:  0  | Label:  0  | Status:  Prediction Correct\n",
            "Prediction:  1  | Label:  0  | Status:  Prediction Incorrect\n",
            "Prediction:  1  | Label:  1  | Status:  Prediction Correct\n",
            "Prediction:  0  | Label:  0  | Status:  Prediction Correct\n",
            "Prediction:  1  | Label:  1  | Status:  Prediction Correct\n",
            "Prediction:  1  | Label:  0  | Status:  Prediction Incorrect\n",
            "Prediction:  1  | Label:  1  | Status:  Prediction Correct\n",
            "Prediction:  1  | Label:  1  | Status:  Prediction Correct\n",
            "Prediction:  0  | Label:  0  | Status:  Prediction Correct\n",
            "Prediction:  0  | Label:  1  | Status:  Prediction Incorrect\n",
            "Prediction:  0  | Label:  0  | Status:  Prediction Correct\n",
            "Prediction:  1  | Label:  1  | Status:  Prediction Correct\n",
            "Prediction:  1  | Label:  0  | Status:  Prediction Incorrect\n",
            "Prediction:  0  | Label:  0  | Status:  Prediction Correct\n",
            "Prediction:  1  | Label:  1  | Status:  Prediction Correct\n",
            "Prediction:  1  | Label:  0  | Status:  Prediction Incorrect\n",
            "Files classified correctly:  63\n",
            "Total files:  75\n",
            "Accuracy:  0.84\n"
          ],
          "name": "stdout"
        }
      ]
    },
    {
      "cell_type": "markdown",
      "metadata": {
        "id": "kV8ffy-FzES7"
      },
      "source": [
        "#### 3 Layer ANN on 5s Recordings"
      ]
    },
    {
      "cell_type": "code",
      "metadata": {
        "colab": {
          "base_uri": "https://localhost:8080/"
        },
        "id": "Jf5W7nQCzHqc",
        "outputId": "283f4baa-da04-440b-dc85-1a4513522b3e"
      },
      "source": [
        "pth = 'Trained Model Weights/ANN_TS_3L Weights 2021-03-14 20-38/model_ANN_TS_3L_bs50_lr0-001_epoch72_iteration509_val-acc65-3333.pth'\r\n",
        "model_3L = ANN_TS_3L()\r\n",
        "model_3L.load_state_dict(torch.load(pth))\r\n",
        "model_3L.eval()"
      ],
      "execution_count": 31,
      "outputs": [
        {
          "output_type": "execute_result",
          "data": {
            "text/plain": [
              "ANN_TS_3L(\n",
              "  (layer1): Linear(in_features=5120, out_features=500, bias=True)\n",
              "  (layer2): Linear(in_features=500, out_features=200, bias=True)\n",
              "  (layer3): Linear(in_features=200, out_features=50, bias=True)\n",
              "  (layer4): Linear(in_features=50, out_features=2, bias=True)\n",
              ")"
            ]
          },
          "metadata": {
            "tags": []
          },
          "execution_count": 31
        }
      ]
    },
    {
      "cell_type": "code",
      "metadata": {
        "colab": {
          "base_uri": "https://localhost:8080/"
        },
        "id": "w0KEcY7FzVwk",
        "outputId": "650f3719-8a4e-4979-8c37-d11cceb04d46"
      },
      "source": [
        "print(\"Training Set Accuracy\")\r\n",
        "get_accuracy(model_3L, train_loader)"
      ],
      "execution_count": 32,
      "outputs": [
        {
          "output_type": "stream",
          "text": [
            "Training Set Accuracy\n"
          ],
          "name": "stdout"
        },
        {
          "output_type": "execute_result",
          "data": {
            "text/plain": [
              "0.8542857142857143"
            ]
          },
          "metadata": {
            "tags": []
          },
          "execution_count": 32
        }
      ]
    },
    {
      "cell_type": "code",
      "metadata": {
        "colab": {
          "base_uri": "https://localhost:8080/"
        },
        "id": "skT4Qq6xzWdm",
        "outputId": "cb678c17-2acb-4830-9983-32df49f3d6aa"
      },
      "source": [
        "print(\"Validation Set Accuracy\")\r\n",
        "get_accuracy(model_3L, val_loader)"
      ],
      "execution_count": 33,
      "outputs": [
        {
          "output_type": "stream",
          "text": [
            "Validation Set Accuracy\n"
          ],
          "name": "stdout"
        },
        {
          "output_type": "execute_result",
          "data": {
            "text/plain": [
              "0.8266666666666667"
            ]
          },
          "metadata": {
            "tags": []
          },
          "execution_count": 33
        }
      ]
    },
    {
      "cell_type": "code",
      "metadata": {
        "colab": {
          "base_uri": "https://localhost:8080/"
        },
        "id": "3vXahI32zWgP",
        "outputId": "12dbe66e-d443-439b-865a-fb5965d86df3"
      },
      "source": [
        "print(\"Test Set Accuracy\")\r\n",
        "get_accuracy(model_3L, test_loader)"
      ],
      "execution_count": 34,
      "outputs": [
        {
          "output_type": "stream",
          "text": [
            "Test Set Accuracy\n"
          ],
          "name": "stdout"
        },
        {
          "output_type": "execute_result",
          "data": {
            "text/plain": [
              "0.8666666666666667"
            ]
          },
          "metadata": {
            "tags": []
          },
          "execution_count": 34
        }
      ]
    },
    {
      "cell_type": "code",
      "metadata": {
        "colab": {
          "base_uri": "https://localhost:8080/"
        },
        "id": "FGGmGhHvzhqc",
        "outputId": "6a326bd0-a1bb-4434-8e32-f96d2abb065b"
      },
      "source": [
        "print_model_predictions(model_3L, test_loader)"
      ],
      "execution_count": 35,
      "outputs": [
        {
          "output_type": "stream",
          "text": [
            "Prediction:  0  | Label:  0  | Status:  Prediction Correct\n",
            "Prediction:  1  | Label:  1  | Status:  Prediction Correct\n",
            "Prediction:  1  | Label:  1  | Status:  Prediction Correct\n",
            "Prediction:  1  | Label:  1  | Status:  Prediction Correct\n",
            "Prediction:  0  | Label:  0  | Status:  Prediction Correct\n",
            "Prediction:  1  | Label:  1  | Status:  Prediction Correct\n",
            "Prediction:  0  | Label:  0  | Status:  Prediction Correct\n",
            "Prediction:  0  | Label:  0  | Status:  Prediction Correct\n",
            "Prediction:  1  | Label:  0  | Status:  Prediction Incorrect\n",
            "Prediction:  1  | Label:  1  | Status:  Prediction Correct\n",
            "Prediction:  0  | Label:  0  | Status:  Prediction Correct\n",
            "Prediction:  0  | Label:  0  | Status:  Prediction Correct\n",
            "Prediction:  1  | Label:  0  | Status:  Prediction Incorrect\n",
            "Prediction:  0  | Label:  0  | Status:  Prediction Correct\n",
            "Prediction:  0  | Label:  1  | Status:  Prediction Incorrect\n",
            "Prediction:  1  | Label:  1  | Status:  Prediction Correct\n",
            "Prediction:  0  | Label:  0  | Status:  Prediction Correct\n",
            "Prediction:  0  | Label:  0  | Status:  Prediction Correct\n",
            "Prediction:  0  | Label:  0  | Status:  Prediction Correct\n",
            "Prediction:  0  | Label:  0  | Status:  Prediction Correct\n",
            "Prediction:  1  | Label:  1  | Status:  Prediction Correct\n",
            "Prediction:  1  | Label:  1  | Status:  Prediction Correct\n",
            "Prediction:  1  | Label:  0  | Status:  Prediction Incorrect\n",
            "Prediction:  0  | Label:  0  | Status:  Prediction Correct\n",
            "Prediction:  0  | Label:  0  | Status:  Prediction Correct\n",
            "Prediction:  0  | Label:  0  | Status:  Prediction Correct\n",
            "Prediction:  0  | Label:  0  | Status:  Prediction Correct\n",
            "Prediction:  0  | Label:  0  | Status:  Prediction Correct\n",
            "Prediction:  0  | Label:  0  | Status:  Prediction Correct\n",
            "Prediction:  0  | Label:  0  | Status:  Prediction Correct\n",
            "Prediction:  0  | Label:  0  | Status:  Prediction Correct\n",
            "Prediction:  0  | Label:  0  | Status:  Prediction Correct\n",
            "Prediction:  1  | Label:  1  | Status:  Prediction Correct\n",
            "Prediction:  0  | Label:  0  | Status:  Prediction Correct\n",
            "Prediction:  0  | Label:  0  | Status:  Prediction Correct\n",
            "Prediction:  0  | Label:  0  | Status:  Prediction Correct\n",
            "Prediction:  1  | Label:  1  | Status:  Prediction Correct\n",
            "Prediction:  0  | Label:  0  | Status:  Prediction Correct\n",
            "Prediction:  1  | Label:  1  | Status:  Prediction Correct\n",
            "Prediction:  0  | Label:  0  | Status:  Prediction Correct\n",
            "Prediction:  0  | Label:  0  | Status:  Prediction Correct\n",
            "Prediction:  0  | Label:  1  | Status:  Prediction Incorrect\n",
            "Prediction:  1  | Label:  1  | Status:  Prediction Correct\n",
            "Prediction:  1  | Label:  1  | Status:  Prediction Correct\n",
            "Prediction:  1  | Label:  1  | Status:  Prediction Correct\n",
            "Prediction:  1  | Label:  1  | Status:  Prediction Correct\n",
            "Prediction:  0  | Label:  0  | Status:  Prediction Correct\n",
            "Prediction:  1  | Label:  1  | Status:  Prediction Correct\n",
            "Prediction:  0  | Label:  0  | Status:  Prediction Correct\n",
            "Prediction:  1  | Label:  1  | Status:  Prediction Correct\n",
            "Prediction:  0  | Label:  0  | Status:  Prediction Correct\n",
            "Prediction:  1  | Label:  1  | Status:  Prediction Correct\n",
            "Prediction:  0  | Label:  0  | Status:  Prediction Correct\n",
            "Prediction:  1  | Label:  1  | Status:  Prediction Correct\n",
            "Prediction:  0  | Label:  0  | Status:  Prediction Correct\n",
            "Prediction:  0  | Label:  0  | Status:  Prediction Correct\n",
            "Prediction:  1  | Label:  1  | Status:  Prediction Correct\n",
            "Prediction:  1  | Label:  0  | Status:  Prediction Incorrect\n",
            "Prediction:  0  | Label:  0  | Status:  Prediction Correct\n",
            "Prediction:  0  | Label:  0  | Status:  Prediction Correct\n",
            "Prediction:  1  | Label:  0  | Status:  Prediction Incorrect\n",
            "Prediction:  1  | Label:  1  | Status:  Prediction Correct\n",
            "Prediction:  0  | Label:  0  | Status:  Prediction Correct\n",
            "Prediction:  1  | Label:  1  | Status:  Prediction Correct\n",
            "Prediction:  1  | Label:  0  | Status:  Prediction Incorrect\n",
            "Prediction:  1  | Label:  1  | Status:  Prediction Correct\n",
            "Prediction:  1  | Label:  1  | Status:  Prediction Correct\n",
            "Prediction:  1  | Label:  0  | Status:  Prediction Incorrect\n",
            "Prediction:  0  | Label:  1  | Status:  Prediction Incorrect\n",
            "Prediction:  0  | Label:  0  | Status:  Prediction Correct\n",
            "Prediction:  1  | Label:  1  | Status:  Prediction Correct\n",
            "Prediction:  0  | Label:  0  | Status:  Prediction Correct\n",
            "Prediction:  0  | Label:  0  | Status:  Prediction Correct\n",
            "Prediction:  1  | Label:  1  | Status:  Prediction Correct\n",
            "Prediction:  0  | Label:  0  | Status:  Prediction Correct\n",
            "Files classified correctly:  65\n",
            "Total files:  75\n",
            "Accuracy:  0.8666666666666667\n"
          ],
          "name": "stdout"
        }
      ]
    },
    {
      "cell_type": "markdown",
      "metadata": {
        "id": "7G3qbpSx2Fzb"
      },
      "source": [
        "### Test the CNN model"
      ]
    },
    {
      "cell_type": "code",
      "metadata": {
        "colab": {
          "resources": {
            "http://localhost:8080/nbextensions/google.colab/files.js": {
              "data": "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",
              "ok": true,
              "headers": [
                [
                  "content-type",
                  "application/javascript"
                ]
              ],
              "status": 200,
              "status_text": ""
            }
          },
          "base_uri": "https://localhost:8080/",
          "height": 71
        },
        "id": "GDlLuKoH_JX_",
        "outputId": "b4f04463-80d1-4898-95ae-7ee0c61cc08c"
      },
      "source": [
        "# Upload the file manually since it is too large to store on GitHub\r\n",
        "#from google.colab import files\r\n",
        "#uploaded = files.upload()"
      ],
      "execution_count": 36,
      "outputs": [
        {
          "output_type": "display_data",
          "data": {
            "text/html": [
              "\n",
              "     <input type=\"file\" id=\"files-ad6b4f6e-5757-419e-8002-c7f8e4ca4acf\" name=\"files[]\" multiple disabled\n",
              "        style=\"border:none\" />\n",
              "     <output id=\"result-ad6b4f6e-5757-419e-8002-c7f8e4ca4acf\">\n",
              "      Upload widget is only available when the cell has been executed in the\n",
              "      current browser session. Please rerun this cell to enable.\n",
              "      </output>\n",
              "      <script src=\"/nbextensions/google.colab/files.js\"></script> "
            ],
            "text/plain": [
              "<IPython.core.display.HTML object>"
            ]
          },
          "metadata": {
            "tags": []
          }
        },
        {
          "output_type": "stream",
          "text": [
            "Saving model_CNN_WV_bs20_lr0-00025_epoch3_iteration58_val-acc64-0.pth to model_CNN_WV_bs20_lr0-00025_epoch3_iteration58_val-acc64-0.pth\n"
          ],
          "name": "stdout"
        }
      ]
    },
    {
      "cell_type": "code",
      "metadata": {
        "id": "EBwbESUe38Uw"
      },
      "source": [
        "def downsampleTensorHW(dataset, factor):\r\n",
        "    # Given a tensor dataset of data, labels, takes data of shape [N, C, H, W]\r\n",
        "    # Returns the dataset, but with data of shape [N, C, H/factor, W/factor]\r\n",
        "    data = dataset.tensors[0]\r\n",
        "    labels = dataset.tensors[1]\r\n",
        "    data_new = F.interpolate(data, size=(int(data.shape[-2] /factor), int(data.shape[-1] /factor)), mode='bicubic', align_corners=False)\r\n",
        "    return TensorDataset(data_new, labels)"
      ],
      "execution_count": 37,
      "outputs": []
    },
    {
      "cell_type": "code",
      "metadata": {
        "id": "WdZoA48UJv1T"
      },
      "source": [
        "class CNN_WV(nn.Module):\r\n",
        "    def __init__(self):\r\n",
        "        super(CNN_WV, self).__init__()\r\n",
        "        self.name = \"CNN_WV\"\r\n",
        "        \r\n",
        "        self.conv1 = nn.Conv2d(4, 8, 4) #in_channels, out_channels (# of kernels to try), kernel_size. Size in is 4x30x640\r\n",
        "        self.pool = nn.MaxPool2d(2, 2) #kernel_size (for the pool), stride. Size in should be 8x26x636 \r\n",
        "        self.conv2 = nn.Conv2d(8, 16, 4) #size in should be 8x13x318\r\n",
        "        self.pool = nn.MaxPool2d(2, 2) # size in should be 16x9x314\r\n",
        "        \r\n",
        "        self.fc1 = nn.Linear(16*5*157, 2500) #size in should be 16x5x157\r\n",
        "        self.fc2 = nn.Linear(2500, 500)\r\n",
        "        self.fc3 = nn.Linear(500, 50)\r\n",
        "        self.fc4 = nn.Linear(50, 2)\r\n",
        " \r\n",
        "    def forward(self, x):\r\n",
        "        x = self.pool(F.relu(self.conv1(x)))\r\n",
        "        x = self.pool(F.relu(self.conv2(x)))\r\n",
        "        x = x.view(x.size(0), -1) #flatten the input\r\n",
        "\r\n",
        "        x = F.relu(self.fc1(x))\r\n",
        "        x = F.relu(self.fc2(x))\r\n",
        "        x = F.relu(self.fc3(x)) \r\n",
        "        x = self.fc4(x)\r\n",
        "        x = x.squeeze(1)\r\n",
        "        return x"
      ],
      "execution_count": 38,
      "outputs": []
    },
    {
      "cell_type": "code",
      "metadata": {
        "colab": {
          "base_uri": "https://localhost:8080/"
        },
        "id": "BjGTAXZI2I1j",
        "outputId": "92502cd0-ea24-441a-cb3b-f7718afceaf9"
      },
      "source": [
        "#pth = 'model_CNN_WV_bs20_lr0-00025_epoch3_iteration58_val-acc64-0.pth'\r\n",
        "#model_CNN = CNN_WV()\r\n",
        "#model_CNN.load_state_dict(torch.load(pth))\r\n",
        "#model_CNN.eval()"
      ],
      "execution_count": 39,
      "outputs": [
        {
          "output_type": "execute_result",
          "data": {
            "text/plain": [
              "CNN_WV(\n",
              "  (conv1): Conv2d(4, 8, kernel_size=(4, 4), stride=(1, 1))\n",
              "  (pool): MaxPool2d(kernel_size=2, stride=2, padding=0, dilation=1, ceil_mode=False)\n",
              "  (conv2): Conv2d(8, 16, kernel_size=(4, 4), stride=(1, 1))\n",
              "  (fc1): Linear(in_features=12560, out_features=2500, bias=True)\n",
              "  (fc2): Linear(in_features=2500, out_features=500, bias=True)\n",
              "  (fc3): Linear(in_features=500, out_features=50, bias=True)\n",
              "  (fc4): Linear(in_features=50, out_features=2, bias=True)\n",
              ")"
            ]
          },
          "metadata": {
            "tags": []
          },
          "execution_count": 39
        }
      ]
    },
    {
      "cell_type": "code",
      "metadata": {
        "id": "-Fph7SAd3BDV"
      },
      "source": [
        "#batch_size = 1\r\n",
        "\r\n",
        "#train_dataset = createTensorDataset(X_train_wv, y_train_wv)\r\n",
        "#train_dataset = downsampleTensorHW(train_dataset, 2)\r\n",
        "#train_loader = torch.utils.data.DataLoader(train_dataset, batch_size=batch_size)\r\n",
        "\r\n",
        "#val_dataset = createTensorDataset(X_val_wv, y_val_wv)\r\n",
        "#val_dataset = downsampleTensorHW(val_dataset, 2)\r\n",
        "#val_loader = torch.utils.data.DataLoader(val_dataset, batch_size=batch_size)\r\n",
        "\r\n",
        "#test_dataset = createTensorDataset(X_test_wv, y_test_wv)\r\n",
        "#test_dataset = downsampleTensorHW(test_dataset, 2)\r\n",
        "#test_loader = torch.utils.data.DataLoader(test_dataset, batch_size=batch_size)"
      ],
      "execution_count": 40,
      "outputs": []
    },
    {
      "cell_type": "code",
      "metadata": {
        "colab": {
          "base_uri": "https://localhost:8080/"
        },
        "id": "aHJNhlhw2wWj",
        "outputId": "b1c66bfa-7c09-4d3f-83f1-1f072003af5f"
      },
      "source": [
        "#print(\"Training Set Accuracy\")\r\n",
        "#get_accuracy(model_CNN, train_loader)"
      ],
      "execution_count": 41,
      "outputs": [
        {
          "output_type": "stream",
          "text": [
            "Training Set Accuracy\n"
          ],
          "name": "stdout"
        },
        {
          "output_type": "execute_result",
          "data": {
            "text/plain": [
              "0.6628571428571428"
            ]
          },
          "metadata": {
            "tags": []
          },
          "execution_count": 41
        }
      ]
    },
    {
      "cell_type": "code",
      "metadata": {
        "colab": {
          "base_uri": "https://localhost:8080/"
        },
        "id": "WJ6Uc0t62wcY",
        "outputId": "389825e9-56f5-4fa7-b6cd-e0672906ad9f"
      },
      "source": [
        "#print(\"Validation Set Accuracy\")\r\n",
        "#get_accuracy(model_CNN, val_loader)"
      ],
      "execution_count": 42,
      "outputs": [
        {
          "output_type": "stream",
          "text": [
            "Validation Set Accuracy\n"
          ],
          "name": "stdout"
        },
        {
          "output_type": "execute_result",
          "data": {
            "text/plain": [
              "0.56"
            ]
          },
          "metadata": {
            "tags": []
          },
          "execution_count": 42
        }
      ]
    },
    {
      "cell_type": "code",
      "metadata": {
        "colab": {
          "base_uri": "https://localhost:8080/"
        },
        "id": "EzTlPrMP2win",
        "outputId": "6970b408-4cd9-42fa-f48f-458fb3ac6253"
      },
      "source": [
        "#print(\"Test Set Accuracy\")\r\n",
        "#get_accuracy(model_CNN, test_loader)"
      ],
      "execution_count": 43,
      "outputs": [
        {
          "output_type": "stream",
          "text": [
            "Test Set Accuracy\n"
          ],
          "name": "stdout"
        },
        {
          "output_type": "execute_result",
          "data": {
            "text/plain": [
              "0.6"
            ]
          },
          "metadata": {
            "tags": []
          },
          "execution_count": 43
        }
      ]
    },
    {
      "cell_type": "code",
      "metadata": {
        "colab": {
          "base_uri": "https://localhost:8080/"
        },
        "id": "_uDgG9uG2wy6",
        "outputId": "e9a494c9-4f9d-41ac-b1ad-615caba9ac2c"
      },
      "source": [
        "#print_model_predictions(model_CNN, test_loader)"
      ],
      "execution_count": 44,
      "outputs": [
        {
          "output_type": "stream",
          "text": [
            "Prediction:  1  | Label:  0  | Status:  Prediction Incorrect\n",
            "Prediction:  1  | Label:  1  | Status:  Prediction Correct\n",
            "Prediction:  0  | Label:  1  | Status:  Prediction Incorrect\n",
            "Prediction:  1  | Label:  1  | Status:  Prediction Correct\n",
            "Prediction:  0  | Label:  0  | Status:  Prediction Correct\n",
            "Prediction:  0  | Label:  1  | Status:  Prediction Incorrect\n",
            "Prediction:  0  | Label:  0  | Status:  Prediction Correct\n",
            "Prediction:  0  | Label:  0  | Status:  Prediction Correct\n",
            "Prediction:  1  | Label:  0  | Status:  Prediction Incorrect\n",
            "Prediction:  0  | Label:  1  | Status:  Prediction Incorrect\n",
            "Prediction:  1  | Label:  0  | Status:  Prediction Incorrect\n",
            "Prediction:  0  | Label:  0  | Status:  Prediction Correct\n",
            "Prediction:  0  | Label:  0  | Status:  Prediction Correct\n",
            "Prediction:  0  | Label:  0  | Status:  Prediction Correct\n",
            "Prediction:  0  | Label:  1  | Status:  Prediction Incorrect\n",
            "Prediction:  0  | Label:  1  | Status:  Prediction Incorrect\n",
            "Prediction:  1  | Label:  0  | Status:  Prediction Incorrect\n",
            "Prediction:  0  | Label:  0  | Status:  Prediction Correct\n",
            "Prediction:  0  | Label:  0  | Status:  Prediction Correct\n",
            "Prediction:  0  | Label:  0  | Status:  Prediction Correct\n",
            "Prediction:  1  | Label:  1  | Status:  Prediction Correct\n",
            "Prediction:  0  | Label:  1  | Status:  Prediction Incorrect\n",
            "Prediction:  0  | Label:  0  | Status:  Prediction Correct\n",
            "Prediction:  1  | Label:  0  | Status:  Prediction Incorrect\n",
            "Prediction:  0  | Label:  0  | Status:  Prediction Correct\n",
            "Prediction:  0  | Label:  0  | Status:  Prediction Correct\n",
            "Prediction:  0  | Label:  0  | Status:  Prediction Correct\n",
            "Prediction:  0  | Label:  0  | Status:  Prediction Correct\n",
            "Prediction:  0  | Label:  0  | Status:  Prediction Correct\n",
            "Prediction:  0  | Label:  0  | Status:  Prediction Correct\n",
            "Prediction:  0  | Label:  0  | Status:  Prediction Correct\n",
            "Prediction:  0  | Label:  0  | Status:  Prediction Correct\n",
            "Prediction:  0  | Label:  1  | Status:  Prediction Incorrect\n",
            "Prediction:  1  | Label:  0  | Status:  Prediction Incorrect\n",
            "Prediction:  1  | Label:  0  | Status:  Prediction Incorrect\n",
            "Prediction:  0  | Label:  0  | Status:  Prediction Correct\n",
            "Prediction:  1  | Label:  1  | Status:  Prediction Correct\n",
            "Prediction:  1  | Label:  0  | Status:  Prediction Incorrect\n",
            "Prediction:  0  | Label:  1  | Status:  Prediction Incorrect\n",
            "Prediction:  1  | Label:  0  | Status:  Prediction Incorrect\n",
            "Prediction:  1  | Label:  0  | Status:  Prediction Incorrect\n",
            "Prediction:  0  | Label:  1  | Status:  Prediction Incorrect\n",
            "Prediction:  1  | Label:  1  | Status:  Prediction Correct\n",
            "Prediction:  1  | Label:  1  | Status:  Prediction Correct\n",
            "Prediction:  1  | Label:  1  | Status:  Prediction Correct\n",
            "Prediction:  0  | Label:  1  | Status:  Prediction Incorrect\n",
            "Prediction:  0  | Label:  0  | Status:  Prediction Correct\n",
            "Prediction:  0  | Label:  1  | Status:  Prediction Incorrect\n",
            "Prediction:  0  | Label:  0  | Status:  Prediction Correct\n",
            "Prediction:  0  | Label:  1  | Status:  Prediction Incorrect\n",
            "Prediction:  0  | Label:  0  | Status:  Prediction Correct\n",
            "Prediction:  0  | Label:  1  | Status:  Prediction Incorrect\n",
            "Prediction:  0  | Label:  0  | Status:  Prediction Correct\n",
            "Prediction:  1  | Label:  1  | Status:  Prediction Correct\n",
            "Prediction:  0  | Label:  0  | Status:  Prediction Correct\n",
            "Prediction:  0  | Label:  0  | Status:  Prediction Correct\n",
            "Prediction:  1  | Label:  1  | Status:  Prediction Correct\n",
            "Prediction:  1  | Label:  0  | Status:  Prediction Incorrect\n",
            "Prediction:  0  | Label:  0  | Status:  Prediction Correct\n",
            "Prediction:  0  | Label:  0  | Status:  Prediction Correct\n",
            "Prediction:  0  | Label:  0  | Status:  Prediction Correct\n",
            "Prediction:  0  | Label:  1  | Status:  Prediction Incorrect\n",
            "Prediction:  0  | Label:  0  | Status:  Prediction Correct\n",
            "Prediction:  0  | Label:  1  | Status:  Prediction Incorrect\n",
            "Prediction:  0  | Label:  0  | Status:  Prediction Correct\n",
            "Prediction:  1  | Label:  1  | Status:  Prediction Correct\n",
            "Prediction:  1  | Label:  1  | Status:  Prediction Correct\n",
            "Prediction:  0  | Label:  0  | Status:  Prediction Correct\n",
            "Prediction:  0  | Label:  1  | Status:  Prediction Incorrect\n",
            "Prediction:  0  | Label:  0  | Status:  Prediction Correct\n",
            "Prediction:  1  | Label:  1  | Status:  Prediction Correct\n",
            "Prediction:  0  | Label:  0  | Status:  Prediction Correct\n",
            "Prediction:  1  | Label:  0  | Status:  Prediction Incorrect\n",
            "Prediction:  0  | Label:  1  | Status:  Prediction Incorrect\n",
            "Prediction:  1  | Label:  0  | Status:  Prediction Incorrect\n",
            "Files classified correctly:  45\n",
            "Total files:  75\n",
            "Accuracy:  0.6\n"
          ],
          "name": "stdout"
        }
      ]
    },
    {
      "cell_type": "markdown",
      "metadata": {
        "id": "fDVTZBaL4avy"
      },
      "source": [
        "## 4. Discussion"
      ]
    },
    {
      "cell_type": "markdown",
      "metadata": {
        "id": "veYc9chg4gHp"
      },
      "source": [
        "The table below summarizes the accuracy of each model on the training, validation, and testing sets:\r\n",
        "\r\n",
        "|                          |Training|Validation|Testing  |       \r\n",
        "|--------------------------|--------|----------|---------|\r\n",
        "|Baseline SVM              |68.6%   |77.3%     |65.3%    |\r\n",
        "|2 Layer ANN, 50 batch size|83.1%   |81.3%     |**90.7%**|\r\n",
        "|2 Layer ANN, 75 batch size|83.1%   |78.7%     |**84.0%**|\r\n",
        "|3 Layer ANN               |85.4%   |82.7%     |**86.7%**|\r\n",
        "|CNN                       |66.3%   |56.0%     |60.0%    |\r\n",
        "\r\n",
        "\r\n"
      ]
    }
  ]
}